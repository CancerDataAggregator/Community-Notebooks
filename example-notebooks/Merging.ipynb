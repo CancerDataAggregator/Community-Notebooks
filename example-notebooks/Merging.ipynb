{
 "cells": [
  {
   "cell_type": "markdown",
   "id": "1635ca42",
   "metadata": {},
   "source": [
    "# Merging Results\n",
    "---"
   ]
  },
  {
   "cell_type": "markdown",
   "id": "14ec15a1",
   "metadata": {},
   "source": [
    "Before we do any work, we need to import several functions from cdapython:\n",
    "- `Q` and `query` which power the search\n",
    "- `columns` which lets us view entity field names\n",
    "- `unique_terms` which lets view entity field contents\n",
    "\n",
    "To get the data into mergeable dataframes, we need to import [pandas](https://pandas.pydata.org/).\n",
    "We're also asking cdapython to report it's version so we can be sure we're using the one we mean to."
   ]
  },
  {
   "cell_type": "code",
   "execution_count": 2,
   "id": "5c53b31b",
   "metadata": {},
   "outputs": [
    {
     "name": "stdout",
     "output_type": "stream",
     "text": [
      "2022.6.28\n"
     ]
    }
   ],
   "source": [
    "from cdapython import Q, columns, unique_terms, query\n",
    "import pandas as pd\n",
    "print(Q.get_version())"
   ]
  },
  {
   "cell_type": "code",
   "execution_count": 3,
   "id": "4ffc000a",
   "metadata": {},
   "outputs": [],
   "source": [
    "myquery = Q('ResearchSubject.primary_diagnosis_site = \"brain\" AND ResearchSubject.primary_diagnosis_condition = \"Pediatric/AYA Brain Tumors\"')\n"
   ]
  },
  {
   "cell_type": "code",
   "execution_count": 4,
   "id": "ff53a1e3",
   "metadata": {},
   "outputs": [
    {
     "data": {
      "text/html": [
       "<pre style=\"white-space:pre;overflow-x:auto;line-height:normal;font-family:Menlo,'DejaVu Sans Mono',consolas,'Courier New',monospace\">Getting results from database\n",
       "\n",
       "</pre>\n"
      ],
      "text/plain": [
       "Getting results from database\n",
       "\n"
      ]
     },
     "metadata": {},
     "output_type": "display_data"
    },
    {
     "name": "stdout",
     "output_type": "stream",
     "text": [
      "Total execution time: 7230 ms\n"
     ]
    },
    {
     "data": {
      "text/html": [
       "<pre style=\"white-space:pre;overflow-x:auto;line-height:normal;font-family:Menlo,'DejaVu Sans Mono',consolas,'Courier New',monospace\">    total : <span style=\"color: #008080; text-decoration-color: #008080; font-weight: bold\">199</span>     \n",
       "</pre>\n"
      ],
      "text/plain": [
       "    total : \u001b[1;36m199\u001b[0m     \n"
      ]
     },
     "metadata": {},
     "output_type": "display_data"
    },
    {
     "data": {
      "text/html": [
       "<pre style=\"white-space:pre;overflow-x:auto;line-height:normal;font-family:Menlo,'DejaVu Sans Mono',consolas,'Courier New',monospace\">    files : <span style=\"color: #008080; text-decoration-color: #008080; font-weight: bold\">1288</span>    \n",
       "</pre>\n"
      ],
      "text/plain": [
       "    files : \u001b[1;36m1288\u001b[0m    \n"
      ]
     },
     "metadata": {},
     "output_type": "display_data"
    },
    {
     "data": {
      "text/html": [
       "<style type=\"text/css\">\n",
       "#T_a419f_ th {\n",
       "  background-color: #000066;\n",
       "  color: white;\n",
       "  text-align: left;\n",
       "}\n",
       "#T_a419f_ td {\n",
       "  text-align: left;\n",
       "  border-bottom: 1px solid black;\n",
       "}\n",
       "</style>\n",
       "<table id=\"T_a419f_\" style='display:inline'>\n",
       "  <thead>\n",
       "    <tr>\n",
       "      <th class=\"col_heading level0 col0\" >system</th>\n",
       "      <th class=\"col_heading level0 col1\" >count</th>\n",
       "    </tr>\n",
       "  </thead>\n",
       "  <tbody>\n",
       "    <tr>\n",
       "      <td id=\"T_a419f_row0_col0\" class=\"data row0 col0\" >PDC</td>\n",
       "      <td id=\"T_a419f_row0_col1\" class=\"data row0 col1\" >199</td>\n",
       "    </tr>\n",
       "  </tbody>\n",
       "</table>\n",
       "<style type=\"text/css\">\n",
       "#T_c0529_ th {\n",
       "  background-color: #000066;\n",
       "  color: white;\n",
       "  text-align: left;\n",
       "}\n",
       "#T_c0529_ td {\n",
       "  text-align: left;\n",
       "  border-bottom: 1px solid black;\n",
       "}\n",
       "</style>\n",
       "<table id=\"T_c0529_\" style='display:inline'>\n",
       "  <thead>\n",
       "    <tr>\n",
       "      <th class=\"col_heading level0 col0\" >primary_diagnosis_condition</th>\n",
       "      <th class=\"col_heading level0 col1\" >count</th>\n",
       "    </tr>\n",
       "  </thead>\n",
       "  <tbody>\n",
       "    <tr>\n",
       "      <td id=\"T_c0529_row0_col0\" class=\"data row0 col0\" >Pediatric/AYA Brain Tumors</td>\n",
       "      <td id=\"T_c0529_row0_col1\" class=\"data row0 col1\" >199</td>\n",
       "    </tr>\n",
       "  </tbody>\n",
       "</table>\n",
       "<style type=\"text/css\">\n",
       "#T_7e7dc_ th {\n",
       "  background-color: #000066;\n",
       "  color: white;\n",
       "  text-align: left;\n",
       "}\n",
       "#T_7e7dc_ td {\n",
       "  text-align: left;\n",
       "  border-bottom: 1px solid black;\n",
       "}\n",
       "</style>\n",
       "<table id=\"T_7e7dc_\" style='display:inline'>\n",
       "  <thead>\n",
       "    <tr>\n",
       "      <th class=\"col_heading level0 col0\" >primary_diagnosis_site</th>\n",
       "      <th class=\"col_heading level0 col1\" >count</th>\n",
       "    </tr>\n",
       "  </thead>\n",
       "  <tbody>\n",
       "    <tr>\n",
       "      <td id=\"T_7e7dc_row0_col0\" class=\"data row0 col0\" >Brain</td>\n",
       "      <td id=\"T_7e7dc_row0_col1\" class=\"data row0 col1\" >199</td>\n",
       "    </tr>\n",
       "  </tbody>\n",
       "</table>\n"
      ]
     },
     "metadata": {},
     "output_type": "display_data"
    },
    {
     "data": {
      "text/plain": []
     },
     "execution_count": 4,
     "metadata": {},
     "output_type": "execute_result"
    }
   ],
   "source": [
    " myquery.researchsubject.count.run()"
   ]
  },
  {
   "cell_type": "code",
   "execution_count": 5,
   "id": "877d0d8d",
   "metadata": {
    "scrolled": true
   },
   "outputs": [
    {
     "data": {
      "text/html": [
       "<pre style=\"white-space:pre;overflow-x:auto;line-height:normal;font-family:Menlo,'DejaVu Sans Mono',consolas,'Courier New',monospace\">Getting results from database\n",
       "\n",
       "</pre>\n"
      ],
      "text/plain": [
       "Getting results from database\n",
       "\n"
      ]
     },
     "metadata": {},
     "output_type": "display_data"
    },
    {
     "name": "stdout",
     "output_type": "stream",
     "text": [
      "Total execution time: 5020 ms\n"
     ]
    },
    {
     "data": {
      "text/html": [
       "<pre style=\"white-space:pre;overflow-x:auto;line-height:normal;font-family:Menlo,'DejaVu Sans Mono',consolas,'Courier New',monospace\">    total : <span style=\"color: #008080; text-decoration-color: #008080; font-weight: bold\">219</span>     \n",
       "</pre>\n"
      ],
      "text/plain": [
       "    total : \u001b[1;36m219\u001b[0m     \n"
      ]
     },
     "metadata": {},
     "output_type": "display_data"
    },
    {
     "data": {
      "text/html": [
       "<style type=\"text/css\">\n",
       "#T_01848_ th {\n",
       "  background-color: #000066;\n",
       "  color: white;\n",
       "  text-align: left;\n",
       "}\n",
       "#T_01848_ td {\n",
       "  text-align: left;\n",
       "  border-bottom: 1px solid black;\n",
       "}\n",
       "</style>\n",
       "<table id=\"T_01848_\" style='display:inline'>\n",
       "  <thead>\n",
       "    <tr>\n",
       "      <th class=\"col_heading level0 col0\" >system</th>\n",
       "      <th class=\"col_heading level0 col1\" >count</th>\n",
       "    </tr>\n",
       "  </thead>\n",
       "  <tbody>\n",
       "    <tr>\n",
       "      <td id=\"T_01848_row0_col0\" class=\"data row0 col0\" >PDC</td>\n",
       "      <td id=\"T_01848_row0_col1\" class=\"data row0 col1\" >219</td>\n",
       "    </tr>\n",
       "  </tbody>\n",
       "</table>\n",
       "<style type=\"text/css\">\n",
       "#T_d4b88_ th {\n",
       "  background-color: #000066;\n",
       "  color: white;\n",
       "  text-align: left;\n",
       "}\n",
       "#T_d4b88_ td {\n",
       "  text-align: left;\n",
       "  border-bottom: 1px solid black;\n",
       "}\n",
       "</style>\n",
       "<table id=\"T_d4b88_\" style='display:inline'>\n",
       "  <thead>\n",
       "    <tr>\n",
       "      <th class=\"col_heading level0 col0\" >primary_diagnosis</th>\n",
       "      <th class=\"col_heading level0 col1\" >count</th>\n",
       "    </tr>\n",
       "  </thead>\n",
       "  <tbody>\n",
       "    <tr>\n",
       "      <td id=\"T_d4b88_row0_col0\" class=\"data row0 col0\" >Glioma, NOS</td>\n",
       "      <td id=\"T_d4b88_row0_col1\" class=\"data row0 col1\" >93</td>\n",
       "    </tr>\n",
       "    <tr>\n",
       "      <td id=\"T_d4b88_row1_col0\" class=\"data row1 col0\" >Ependymoma, NOS</td>\n",
       "      <td id=\"T_d4b88_row1_col1\" class=\"data row1 col1\" >32</td>\n",
       "    </tr>\n",
       "    <tr>\n",
       "      <td id=\"T_d4b88_row2_col0\" class=\"data row2 col0\" >Craniopharyngioma</td>\n",
       "      <td id=\"T_d4b88_row2_col1\" class=\"data row2 col1\" >16</td>\n",
       "    </tr>\n",
       "    <tr>\n",
       "      <td id=\"T_d4b88_row3_col0\" class=\"data row3 col0\" >Medulloblastoma, NOS</td>\n",
       "      <td id=\"T_d4b88_row3_col1\" class=\"data row3 col1\" >22</td>\n",
       "    </tr>\n",
       "    <tr>\n",
       "      <td id=\"T_d4b88_row4_col0\" class=\"data row4 col0\" >Glioma, malignant</td>\n",
       "      <td id=\"T_d4b88_row4_col1\" class=\"data row4 col1\" >26</td>\n",
       "    </tr>\n",
       "    <tr>\n",
       "      <td id=\"T_d4b88_row5_col0\" class=\"data row5 col0\" >Ganglioglioma, NOS</td>\n",
       "      <td id=\"T_d4b88_row5_col1\" class=\"data row5 col1\" >18</td>\n",
       "    </tr>\n",
       "    <tr>\n",
       "      <td id=\"T_d4b88_row6_col0\" class=\"data row6 col0\" >Atypical teratoid/rhabdoid tumor</td>\n",
       "      <td id=\"T_d4b88_row6_col1\" class=\"data row6 col1\" >12</td>\n",
       "    </tr>\n",
       "  </tbody>\n",
       "</table>\n",
       "<style type=\"text/css\">\n",
       "#T_8b670_ th {\n",
       "  background-color: #000066;\n",
       "  color: white;\n",
       "  text-align: left;\n",
       "}\n",
       "#T_8b670_ td {\n",
       "  text-align: left;\n",
       "  border-bottom: 1px solid black;\n",
       "}\n",
       "</style>\n",
       "<table id=\"T_8b670_\" style='display:inline'>\n",
       "  <thead>\n",
       "    <tr>\n",
       "      <th class=\"col_heading level0 col0\" >stage</th>\n",
       "      <th class=\"col_heading level0 col1\" >count</th>\n",
       "    </tr>\n",
       "  </thead>\n",
       "  <tbody>\n",
       "    <tr>\n",
       "      <td id=\"T_8b670_row0_col0\" class=\"data row0 col0\" >Unknown</td>\n",
       "      <td id=\"T_8b670_row0_col1\" class=\"data row0 col1\" >219</td>\n",
       "    </tr>\n",
       "  </tbody>\n",
       "</table>\n",
       "<style type=\"text/css\">\n",
       "#T_7f91d_ th {\n",
       "  background-color: #000066;\n",
       "  color: white;\n",
       "  text-align: left;\n",
       "}\n",
       "#T_7f91d_ td {\n",
       "  text-align: left;\n",
       "  border-bottom: 1px solid black;\n",
       "}\n",
       "</style>\n",
       "<table id=\"T_7f91d_\" style='display:inline'>\n",
       "  <thead>\n",
       "    <tr>\n",
       "      <th class=\"col_heading level0 col0\" >grade</th>\n",
       "      <th class=\"col_heading level0 col1\" >count</th>\n",
       "    </tr>\n",
       "  </thead>\n",
       "  <tbody>\n",
       "    <tr>\n",
       "      <td id=\"T_7f91d_row0_col0\" class=\"data row0 col0\" >G4</td>\n",
       "      <td id=\"T_7f91d_row0_col1\" class=\"data row0 col1\" >34</td>\n",
       "    </tr>\n",
       "    <tr>\n",
       "      <td id=\"T_7f91d_row1_col0\" class=\"data row1 col0\" >G1</td>\n",
       "      <td id=\"T_7f91d_row1_col1\" class=\"data row1 col1\" >98</td>\n",
       "    </tr>\n",
       "    <tr>\n",
       "      <td id=\"T_7f91d_row2_col0\" class=\"data row2 col0\" >G2</td>\n",
       "      <td id=\"T_7f91d_row2_col1\" class=\"data row2 col1\" >52</td>\n",
       "    </tr>\n",
       "    <tr>\n",
       "      <td id=\"T_7f91d_row3_col0\" class=\"data row3 col0\" >High Grade</td>\n",
       "      <td id=\"T_7f91d_row3_col1\" class=\"data row3 col1\" >26</td>\n",
       "    </tr>\n",
       "    <tr>\n",
       "      <td id=\"T_7f91d_row4_col0\" class=\"data row4 col0\" >Low Grade</td>\n",
       "      <td id=\"T_7f91d_row4_col1\" class=\"data row4 col1\" >9</td>\n",
       "    </tr>\n",
       "  </tbody>\n",
       "</table>\n"
      ]
     },
     "metadata": {},
     "output_type": "display_data"
    },
    {
     "data": {
      "text/plain": []
     },
     "execution_count": 5,
     "metadata": {},
     "output_type": "execute_result"
    }
   ],
   "source": [
    "myquery.diagnosis.count.run()\n"
   ]
  },
  {
   "cell_type": "code",
   "execution_count": 6,
   "id": "60af6613",
   "metadata": {},
   "outputs": [
    {
     "data": {
      "text/html": [
       "<pre style=\"white-space:pre;overflow-x:auto;line-height:normal;font-family:Menlo,'DejaVu Sans Mono',consolas,'Courier New',monospace\">Getting results from database\n",
       "\n",
       "</pre>\n"
      ],
      "text/plain": [
       "Getting results from database\n",
       "\n"
      ]
     },
     "metadata": {},
     "output_type": "display_data"
    },
    {
     "name": "stdout",
     "output_type": "stream",
     "text": [
      "Total execution time: 9916 ms\n"
     ]
    },
    {
     "data": {
      "text/html": [
       "<pre style=\"white-space:pre;overflow-x:auto;line-height:normal;font-family:Menlo,'DejaVu Sans Mono',consolas,'Courier New',monospace\">    total : <span style=\"color: #008080; text-decoration-color: #008080; font-weight: bold\">1288</span>    \n",
       "</pre>\n"
      ],
      "text/plain": [
       "    total : \u001b[1;36m1288\u001b[0m    \n"
      ]
     },
     "metadata": {},
     "output_type": "display_data"
    },
    {
     "data": {
      "text/html": [
       "<style type=\"text/css\">\n",
       "#T_731a4_ th {\n",
       "  background-color: #000066;\n",
       "  color: white;\n",
       "  text-align: left;\n",
       "}\n",
       "#T_731a4_ td {\n",
       "  text-align: left;\n",
       "  border-bottom: 1px solid black;\n",
       "}\n",
       "</style>\n",
       "<table id=\"T_731a4_\" style='display:inline'>\n",
       "  <thead>\n",
       "    <tr>\n",
       "      <th class=\"col_heading level0 col0\" >system</th>\n",
       "      <th class=\"col_heading level0 col1\" >count</th>\n",
       "    </tr>\n",
       "  </thead>\n",
       "  <tbody>\n",
       "    <tr>\n",
       "      <td id=\"T_731a4_row0_col0\" class=\"data row0 col0\" >PDC</td>\n",
       "      <td id=\"T_731a4_row0_col1\" class=\"data row0 col1\" >1288</td>\n",
       "    </tr>\n",
       "  </tbody>\n",
       "</table>\n",
       "<style type=\"text/css\">\n",
       "#T_8c40d_ th {\n",
       "  background-color: #000066;\n",
       "  color: white;\n",
       "  text-align: left;\n",
       "}\n",
       "#T_8c40d_ td {\n",
       "  text-align: left;\n",
       "  border-bottom: 1px solid black;\n",
       "}\n",
       "</style>\n",
       "<table id=\"T_8c40d_\" style='display:inline'>\n",
       "  <thead>\n",
       "    <tr>\n",
       "      <th class=\"col_heading level0 col0\" >data_category</th>\n",
       "      <th class=\"col_heading level0 col1\" >count</th>\n",
       "    </tr>\n",
       "  </thead>\n",
       "  <tbody>\n",
       "    <tr>\n",
       "      <td id=\"T_8c40d_row0_col0\" class=\"data row0 col0\" >Raw Mass Spectra</td>\n",
       "      <td id=\"T_8c40d_row0_col1\" class=\"data row0 col1\" >322</td>\n",
       "    </tr>\n",
       "    <tr>\n",
       "      <td id=\"T_8c40d_row1_col0\" class=\"data row1 col0\" >Peptide Spectral Matches</td>\n",
       "      <td id=\"T_8c40d_row1_col1\" class=\"data row1 col1\" >644</td>\n",
       "    </tr>\n",
       "    <tr>\n",
       "      <td id=\"T_8c40d_row2_col0\" class=\"data row2 col0\" >Processed Mass Spectra</td>\n",
       "      <td id=\"T_8c40d_row2_col1\" class=\"data row2 col1\" >322</td>\n",
       "    </tr>\n",
       "  </tbody>\n",
       "</table>\n",
       "<style type=\"text/css\">\n",
       "#T_9c2d1_ th {\n",
       "  background-color: #000066;\n",
       "  color: white;\n",
       "  text-align: left;\n",
       "}\n",
       "#T_9c2d1_ td {\n",
       "  text-align: left;\n",
       "  border-bottom: 1px solid black;\n",
       "}\n",
       "</style>\n",
       "<table id=\"T_9c2d1_\" style='display:inline'>\n",
       "  <thead>\n",
       "    <tr>\n",
       "      <th class=\"col_heading level0 col0\" >file_format</th>\n",
       "      <th class=\"col_heading level0 col1\" >count</th>\n",
       "    </tr>\n",
       "  </thead>\n",
       "  <tbody>\n",
       "    <tr>\n",
       "      <td id=\"T_9c2d1_row0_col0\" class=\"data row0 col0\" >mzML</td>\n",
       "      <td id=\"T_9c2d1_row0_col1\" class=\"data row0 col1\" >322</td>\n",
       "    </tr>\n",
       "    <tr>\n",
       "      <td id=\"T_9c2d1_row1_col0\" class=\"data row1 col0\" >mzIdentML</td>\n",
       "      <td id=\"T_9c2d1_row1_col1\" class=\"data row1 col1\" >322</td>\n",
       "    </tr>\n",
       "    <tr>\n",
       "      <td id=\"T_9c2d1_row2_col0\" class=\"data row2 col0\" >tsv</td>\n",
       "      <td id=\"T_9c2d1_row2_col1\" class=\"data row2 col1\" >322</td>\n",
       "    </tr>\n",
       "    <tr>\n",
       "      <td id=\"T_9c2d1_row3_col0\" class=\"data row3 col0\" >vendor-specific</td>\n",
       "      <td id=\"T_9c2d1_row3_col1\" class=\"data row3 col1\" >322</td>\n",
       "    </tr>\n",
       "  </tbody>\n",
       "</table>\n",
       "<style type=\"text/css\">\n",
       "#T_d6afb_ th {\n",
       "  background-color: #000066;\n",
       "  color: white;\n",
       "  text-align: left;\n",
       "}\n",
       "#T_d6afb_ td {\n",
       "  text-align: left;\n",
       "  border-bottom: 1px solid black;\n",
       "}\n",
       "</style>\n",
       "<table id=\"T_d6afb_\" style='display:inline'>\n",
       "  <thead>\n",
       "    <tr>\n",
       "      <th class=\"col_heading level0 col0\" >data_type</th>\n",
       "      <th class=\"col_heading level0 col1\" >count</th>\n",
       "    </tr>\n",
       "  </thead>\n",
       "  <tbody>\n",
       "    <tr>\n",
       "      <td id=\"T_d6afb_row0_col0\" class=\"data row0 col0\" >Proprietary</td>\n",
       "      <td id=\"T_d6afb_row0_col1\" class=\"data row0 col1\" >322</td>\n",
       "    </tr>\n",
       "    <tr>\n",
       "      <td id=\"T_d6afb_row1_col0\" class=\"data row1 col0\" >Text</td>\n",
       "      <td id=\"T_d6afb_row1_col1\" class=\"data row1 col1\" >322</td>\n",
       "    </tr>\n",
       "    <tr>\n",
       "      <td id=\"T_d6afb_row2_col0\" class=\"data row2 col0\" >Open Standard</td>\n",
       "      <td id=\"T_d6afb_row2_col1\" class=\"data row2 col1\" >644</td>\n",
       "    </tr>\n",
       "  </tbody>\n",
       "</table>\n"
      ]
     },
     "metadata": {},
     "output_type": "display_data"
    },
    {
     "data": {
      "text/plain": []
     },
     "execution_count": 6,
     "metadata": {},
     "output_type": "execute_result"
    }
   ],
   "source": [
    "myquery.researchsubject.file.count.run()"
   ]
  },
  {
   "cell_type": "code",
   "execution_count": 7,
   "id": "fd0e3315",
   "metadata": {},
   "outputs": [
    {
     "data": {
      "text/html": [
       "<pre style=\"white-space:pre;overflow-x:auto;line-height:normal;font-family:Menlo,'DejaVu Sans Mono',consolas,'Courier New',monospace\">Getting results from database\n",
       "\n",
       "</pre>\n"
      ],
      "text/plain": [
       "Getting results from database\n",
       "\n"
      ]
     },
     "metadata": {},
     "output_type": "display_data"
    },
    {
     "name": "stdout",
     "output_type": "stream",
     "text": [
      "Total execution time: 4026 ms\n"
     ]
    }
   ],
   "source": [
    "researchsubjectresults = pd.DataFrame()\n",
    "for i in myquery.researchsubject.run().paginator(to_df=True):\n",
    "    researchsubjectresults = pd.concat([researchsubjectresults, i])"
   ]
  },
  {
   "cell_type": "code",
   "execution_count": 9,
   "id": "00a2f476",
   "metadata": {},
   "outputs": [
    {
     "data": {
      "text/html": [
       "<pre style=\"white-space:pre;overflow-x:auto;line-height:normal;font-family:Menlo,'DejaVu Sans Mono',consolas,'Courier New',monospace\">Getting results from database\n",
       "\n",
       "</pre>\n"
      ],
      "text/plain": [
       "Getting results from database\n",
       "\n"
      ]
     },
     "metadata": {},
     "output_type": "display_data"
    },
    {
     "name": "stdout",
     "output_type": "stream",
     "text": [
      "Total execution time: 3970 ms\n"
     ]
    }
   ],
   "source": [
    "diagnosisresults = pd.DataFrame()\n",
    "for i in myquery.diagnosis.run().paginator(to_df=True):\n",
    "    diagnosisresults = pd.concat([diagnosisresults, i])"
   ]
  },
  {
   "cell_type": "code",
   "execution_count": 10,
   "id": "be563537",
   "metadata": {},
   "outputs": [
    {
     "data": {
      "text/html": [
       "<pre style=\"white-space:pre;overflow-x:auto;line-height:normal;font-family:Menlo,'DejaVu Sans Mono',consolas,'Courier New',monospace\">Getting results from database\n",
       "\n",
       "</pre>\n"
      ],
      "text/plain": [
       "Getting results from database\n",
       "\n"
      ]
     },
     "metadata": {},
     "output_type": "display_data"
    },
    {
     "name": "stdout",
     "output_type": "stream",
     "text": [
      "Total execution time: 7305 ms\n"
     ]
    }
   ],
   "source": [
    "fileresults = pd.DataFrame()\n",
    "for i in myquery.researchsubject.file.run().paginator(to_df=True):\n",
    "    fileresults = pd.concat([fileresults, i])"
   ]
  },
  {
   "cell_type": "code",
   "execution_count": 8,
   "id": "00e2d0e9",
   "metadata": {},
   "outputs": [
    {
     "data": {
      "text/html": [
       "<div>\n",
       "<style scoped>\n",
       "    .dataframe tbody tr th:only-of-type {\n",
       "        vertical-align: middle;\n",
       "    }\n",
       "\n",
       "    .dataframe tbody tr th {\n",
       "        vertical-align: top;\n",
       "    }\n",
       "\n",
       "    .dataframe thead th {\n",
       "        text-align: right;\n",
       "    }\n",
       "</style>\n",
       "<table border=\"1\" class=\"dataframe\">\n",
       "  <thead>\n",
       "    <tr style=\"text-align: right;\">\n",
       "      <th></th>\n",
       "      <th>id</th>\n",
       "      <th>identifier</th>\n",
       "      <th>member_of_research_project</th>\n",
       "      <th>primary_diagnosis_condition</th>\n",
       "      <th>primary_diagnosis_site</th>\n",
       "      <th>subject_id</th>\n",
       "    </tr>\n",
       "  </thead>\n",
       "  <tbody>\n",
       "    <tr>\n",
       "      <th>0</th>\n",
       "      <td>d08d5d7d-ff5e-11e9-9a07-0a80fada099c</td>\n",
       "      <td>[{'system': 'PDC', 'value': 'd08d5d7d-ff5e-11e...</td>\n",
       "      <td>Proteogenomic Analysis of Pediatric Brain Canc...</td>\n",
       "      <td>Pediatric/AYA Brain Tumors</td>\n",
       "      <td>Brain</td>\n",
       "      <td>C21771</td>\n",
       "    </tr>\n",
       "    <tr>\n",
       "      <th>1</th>\n",
       "      <td>d08d607d-ff5e-11e9-9a07-0a80fada099c</td>\n",
       "      <td>[{'system': 'PDC', 'value': 'd08d607d-ff5e-11e...</td>\n",
       "      <td>Proteogenomic Analysis of Pediatric Brain Canc...</td>\n",
       "      <td>Pediatric/AYA Brain Tumors</td>\n",
       "      <td>Brain</td>\n",
       "      <td>C22509</td>\n",
       "    </tr>\n",
       "    <tr>\n",
       "      <th>2</th>\n",
       "      <td>d08dd6d3-ff5e-11e9-9a07-0a80fada099c</td>\n",
       "      <td>[{'system': 'PDC', 'value': 'd08dd6d3-ff5e-11e...</td>\n",
       "      <td>Proteogenomic Analysis of Pediatric Brain Canc...</td>\n",
       "      <td>Pediatric/AYA Brain Tumors</td>\n",
       "      <td>Brain</td>\n",
       "      <td>C717336</td>\n",
       "    </tr>\n",
       "    <tr>\n",
       "      <th>3</th>\n",
       "      <td>d08d263d-ff5e-11e9-9a07-0a80fada099c</td>\n",
       "      <td>[{'system': 'PDC', 'value': 'd08d263d-ff5e-11e...</td>\n",
       "      <td>Proteogenomic Analysis of Pediatric Brain Canc...</td>\n",
       "      <td>Pediatric/AYA Brain Tumors</td>\n",
       "      <td>Brain</td>\n",
       "      <td>C102459</td>\n",
       "    </tr>\n",
       "    <tr>\n",
       "      <th>4</th>\n",
       "      <td>d08d365c-ff5e-11e9-9a07-0a80fada099c</td>\n",
       "      <td>[{'system': 'PDC', 'value': 'd08d365c-ff5e-11e...</td>\n",
       "      <td>Proteogenomic Analysis of Pediatric Brain Canc...</td>\n",
       "      <td>Pediatric/AYA Brain Tumors</td>\n",
       "      <td>Brain</td>\n",
       "      <td>C136284</td>\n",
       "    </tr>\n",
       "    <tr>\n",
       "      <th>...</th>\n",
       "      <td>...</td>\n",
       "      <td>...</td>\n",
       "      <td>...</td>\n",
       "      <td>...</td>\n",
       "      <td>...</td>\n",
       "      <td>...</td>\n",
       "    </tr>\n",
       "    <tr>\n",
       "      <th>94</th>\n",
       "      <td>d08d4587-ff5e-11e9-9a07-0a80fada099c</td>\n",
       "      <td>[{'system': 'PDC', 'value': 'd08d4587-ff5e-11e...</td>\n",
       "      <td>Proteogenomic Analysis of Pediatric Brain Canc...</td>\n",
       "      <td>Pediatric/AYA Brain Tumors</td>\n",
       "      <td>Brain</td>\n",
       "      <td>C15744</td>\n",
       "    </tr>\n",
       "    <tr>\n",
       "      <th>95</th>\n",
       "      <td>d08d59eb-ff5e-11e9-9a07-0a80fada099c</td>\n",
       "      <td>[{'system': 'PDC', 'value': 'd08d59eb-ff5e-11e...</td>\n",
       "      <td>Proteogenomic Analysis of Pediatric Brain Canc...</td>\n",
       "      <td>Pediatric/AYA Brain Tumors</td>\n",
       "      <td>Brain</td>\n",
       "      <td>C21402</td>\n",
       "    </tr>\n",
       "    <tr>\n",
       "      <th>96</th>\n",
       "      <td>d08d7a66-ff5e-11e9-9a07-0a80fada099c</td>\n",
       "      <td>[{'system': 'PDC', 'value': 'd08d7a66-ff5e-11e...</td>\n",
       "      <td>Proteogenomic Analysis of Pediatric Brain Canc...</td>\n",
       "      <td>Pediatric/AYA Brain Tumors</td>\n",
       "      <td>Brain</td>\n",
       "      <td>C308853</td>\n",
       "    </tr>\n",
       "    <tr>\n",
       "      <th>97</th>\n",
       "      <td>d08d4a5d-ff5e-11e9-9a07-0a80fada099c</td>\n",
       "      <td>[{'system': 'PDC', 'value': 'd08d4a5d-ff5e-11e...</td>\n",
       "      <td>Proteogenomic Analysis of Pediatric Brain Canc...</td>\n",
       "      <td>Pediatric/AYA Brain Tumors</td>\n",
       "      <td>Brain</td>\n",
       "      <td>C17466</td>\n",
       "    </tr>\n",
       "    <tr>\n",
       "      <th>98</th>\n",
       "      <td>d08d57dc-ff5e-11e9-9a07-0a80fada099c</td>\n",
       "      <td>[{'system': 'PDC', 'value': 'd08d57dc-ff5e-11e...</td>\n",
       "      <td>Proteogenomic Analysis of Pediatric Brain Canc...</td>\n",
       "      <td>Pediatric/AYA Brain Tumors</td>\n",
       "      <td>Brain</td>\n",
       "      <td>C20541</td>\n",
       "    </tr>\n",
       "  </tbody>\n",
       "</table>\n",
       "<p>199 rows × 6 columns</p>\n",
       "</div>"
      ],
      "text/plain": [
       "                                      id  \\\n",
       "0   d08d5d7d-ff5e-11e9-9a07-0a80fada099c   \n",
       "1   d08d607d-ff5e-11e9-9a07-0a80fada099c   \n",
       "2   d08dd6d3-ff5e-11e9-9a07-0a80fada099c   \n",
       "3   d08d263d-ff5e-11e9-9a07-0a80fada099c   \n",
       "4   d08d365c-ff5e-11e9-9a07-0a80fada099c   \n",
       "..                                   ...   \n",
       "94  d08d4587-ff5e-11e9-9a07-0a80fada099c   \n",
       "95  d08d59eb-ff5e-11e9-9a07-0a80fada099c   \n",
       "96  d08d7a66-ff5e-11e9-9a07-0a80fada099c   \n",
       "97  d08d4a5d-ff5e-11e9-9a07-0a80fada099c   \n",
       "98  d08d57dc-ff5e-11e9-9a07-0a80fada099c   \n",
       "\n",
       "                                           identifier  \\\n",
       "0   [{'system': 'PDC', 'value': 'd08d5d7d-ff5e-11e...   \n",
       "1   [{'system': 'PDC', 'value': 'd08d607d-ff5e-11e...   \n",
       "2   [{'system': 'PDC', 'value': 'd08dd6d3-ff5e-11e...   \n",
       "3   [{'system': 'PDC', 'value': 'd08d263d-ff5e-11e...   \n",
       "4   [{'system': 'PDC', 'value': 'd08d365c-ff5e-11e...   \n",
       "..                                                ...   \n",
       "94  [{'system': 'PDC', 'value': 'd08d4587-ff5e-11e...   \n",
       "95  [{'system': 'PDC', 'value': 'd08d59eb-ff5e-11e...   \n",
       "96  [{'system': 'PDC', 'value': 'd08d7a66-ff5e-11e...   \n",
       "97  [{'system': 'PDC', 'value': 'd08d4a5d-ff5e-11e...   \n",
       "98  [{'system': 'PDC', 'value': 'd08d57dc-ff5e-11e...   \n",
       "\n",
       "                           member_of_research_project  \\\n",
       "0   Proteogenomic Analysis of Pediatric Brain Canc...   \n",
       "1   Proteogenomic Analysis of Pediatric Brain Canc...   \n",
       "2   Proteogenomic Analysis of Pediatric Brain Canc...   \n",
       "3   Proteogenomic Analysis of Pediatric Brain Canc...   \n",
       "4   Proteogenomic Analysis of Pediatric Brain Canc...   \n",
       "..                                                ...   \n",
       "94  Proteogenomic Analysis of Pediatric Brain Canc...   \n",
       "95  Proteogenomic Analysis of Pediatric Brain Canc...   \n",
       "96  Proteogenomic Analysis of Pediatric Brain Canc...   \n",
       "97  Proteogenomic Analysis of Pediatric Brain Canc...   \n",
       "98  Proteogenomic Analysis of Pediatric Brain Canc...   \n",
       "\n",
       "   primary_diagnosis_condition primary_diagnosis_site subject_id  \n",
       "0   Pediatric/AYA Brain Tumors                  Brain     C21771  \n",
       "1   Pediatric/AYA Brain Tumors                  Brain     C22509  \n",
       "2   Pediatric/AYA Brain Tumors                  Brain    C717336  \n",
       "3   Pediatric/AYA Brain Tumors                  Brain    C102459  \n",
       "4   Pediatric/AYA Brain Tumors                  Brain    C136284  \n",
       "..                         ...                    ...        ...  \n",
       "94  Pediatric/AYA Brain Tumors                  Brain     C15744  \n",
       "95  Pediatric/AYA Brain Tumors                  Brain     C21402  \n",
       "96  Pediatric/AYA Brain Tumors                  Brain    C308853  \n",
       "97  Pediatric/AYA Brain Tumors                  Brain     C17466  \n",
       "98  Pediatric/AYA Brain Tumors                  Brain     C20541  \n",
       "\n",
       "[199 rows x 6 columns]"
      ]
     },
     "execution_count": 8,
     "metadata": {},
     "output_type": "execute_result"
    }
   ],
   "source": [
    "researchsubjectresults"
   ]
  },
  {
   "cell_type": "code",
   "execution_count": null,
   "id": "29c591f5",
   "metadata": {},
   "outputs": [],
   "source": [
    "resubdiagnosis = researchsubjectresults.set_index(\"id\").join(diagnosisresults.set_index(\"researchsubject_id\"), lsuffix='resub', rsuffix=\"diag\")\n",
    "diagnosistreatment = diagnosisresults.set_index(\"researchsubject_id\").join(treatmentresults.set_index(\"researchsubject_id\"), lsuffix='diag', rsuffix=\"treat\")\n",
    "brainall = resubdiagnosis.set_index(\"id\").join(diagnosistreatment.set_index(\"iddiag\"), lsuffix='rd', rsuffix='dt')"
   ]
  },
  {
   "cell_type": "code",
   "execution_count": null,
   "id": "f5d8dd3d",
   "metadata": {},
   "outputs": [],
   "source": [
    "resubdiagnosis.to_csv(\"brainRSdiagnosis.csv\")\n",
    "researchsubjectresults.to_csv(\"brainRS.csv\")\n",
    "diagnosisresults.to_csv(\"braindiagnosis.csv\")\n",
    "treatmentresults.to_csv(\"braindiagnosis.csv\")\n",
    "diagnosistreatment.to_csv(\"braindiagnosistreatment.csv\")\n",
    "brainall.to_csv(\"brainall.csv\")"
   ]
  },
  {
   "cell_type": "code",
   "execution_count": null,
   "id": "3ee3cc6b",
   "metadata": {},
   "outputs": [],
   "source": [
    "brainall"
   ]
  },
  {
   "cell_type": "code",
   "execution_count": null,
   "id": "07f2b4d8",
   "metadata": {},
   "outputs": [],
   "source": [
    "brainall[brainall['subject_idresub'].str.contains(\"ACRIN-DSC-MR-Brain-102\", case=False, na=False)]\n",
    "\n"
   ]
  },
  {
   "cell_type": "code",
   "execution_count": null,
   "id": "242b7737",
   "metadata": {},
   "outputs": [],
   "source": [
    "columns().to_list()\n"
   ]
  },
  {
   "cell_type": "code",
   "execution_count": null,
   "id": "e571487c",
   "metadata": {},
   "outputs": [],
   "source": [
    "unique_terms(\"ResearchSubject.Diagnosis.id\")\n",
    "\n"
   ]
  },
  {
   "cell_type": "code",
   "execution_count": null,
   "id": "f7b468d4",
   "metadata": {},
   "outputs": [],
   "source": [
    "myquery.researchsubject.run(limit=30)[0]"
   ]
  }
 ],
 "metadata": {
  "kernelspec": {
   "display_name": "Python 3 (ipykernel)",
   "language": "python",
   "name": "python3"
  },
  "language_info": {
   "codemirror_mode": {
    "name": "ipython",
    "version": 3
   },
   "file_extension": ".py",
   "mimetype": "text/x-python",
   "name": "python",
   "nbconvert_exporter": "python",
   "pygments_lexer": "ipython3",
   "version": "3.7.13"
  }
 },
 "nbformat": 4,
 "nbformat_minor": 5
}
