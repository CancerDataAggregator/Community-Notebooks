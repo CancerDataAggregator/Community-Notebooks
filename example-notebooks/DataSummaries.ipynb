{
 "cells": [
  {
   "cell_type": "markdown",
   "id": "8a16a9fe",
   "metadata": {},
   "source": [
    "# Summarize Search Results"
   ]
  },
  {
   "cell_type": "markdown",
   "id": "4f90b531",
   "metadata": {},
   "source": [
    "The CDA provides a custom python tool for searching CDA data. [`Q`](usage/#q) (short for Query) offers several ways to search and filter data, and several input modes:\n",
    "\n",
    "---\n",
    "- **<a href=\"../../QuickStart/usage/#q\">Q.()</a>** builds a query that can be used by `run()` or `count()`\n",
    "- **<a href=\"../../QuickStart/usage/#qrun\">Q.run()</a>** returns data for the specified search \n",
    "- **<a href=\"../../QuickStart/usage/#qcount\">Q.count()</a>** returns summary information (counts) data that fit the specified search\n",
    "- **<a href=\"../../QuickStart/usage/#columns\">columns()</a>** returns entity field names\n",
    "- **<a href=\"../../QuickStart/usage/#unique_terms\">unique_terms()</a>** returns entity field contents\n",
    "\n",
    "---\n",
    "                                                                    \n",
    "Before we do any work, we needs to import these functions cdapython.\n",
    "We're also telling cdapython to report it's version so we can be sure we're using the one we mean to:"
   ]
  },
  {
   "cell_type": "code",
   "execution_count": 1,
   "id": "5245b7b0",
   "metadata": {
    "scrolled": false
   },
   "outputs": [
    {
     "data": {
      "text/html": [
       "<pre style=\"white-space:pre;overflow-x:auto;line-height:normal;font-family:Menlo,'DejaVu Sans Mono',consolas,'Courier New',monospace\"><span style=\"color: #008080; text-decoration-color: #008080; font-weight: bold\">2022.8</span>.<span style=\"color: #008080; text-decoration-color: #008080; font-weight: bold\">29</span>\n",
       "</pre>\n"
      ],
      "text/plain": [
       "\u001b[1;36m2022.8\u001b[0m.\u001b[1;36m29\u001b[0m\n"
      ]
     },
     "metadata": {},
     "output_type": "display_data"
    }
   ],
   "source": [
    "from cdapython import Q, columns, unique_terms, query\n",
    "import numpy as np\n",
    "import pandas as pd\n",
    "from itables import init_notebook_mode, show\n",
    "init_notebook_mode(all_interactive=True)\n",
    "import itables.options as opt\n",
    "opt.maxBytes=0\n",
    "opt.scrollX=\"200px\"\n",
    "opt.scrollCollapse=True\n",
    "opt.paging=True\n",
    "opt.maxColumns=0\n",
    "print(Q.get_version())"
   ]
  },
  {
   "cell_type": "markdown",
   "id": "d538da92",
   "metadata": {},
   "source": [
    "<div class=\"cdanote\" style=\"background-color:#b3e5d5;color:black;padding:20px;\">\n",
    "    \n",
    "CDA data comes from three sources:\n",
    "<ul>\n",
    "<li><b>The <a href=\"https://proteomic.datacommons.cancer.gov/pdc/\"> Proteomic Data Commons</a> (PDC)</b></li>\n",
    "<li><b>The <a href=\"https://gdc.cancer.gov/\">Genomic Data Commons</a> (GDC)</b></li>\n",
    "<li><b>The <a href=\"https://datacommons.cancer.gov/repository/imaging-data-commons\">Imaging Data Commons</a> (IDC)</b></li>\n",
    "</ul> \n",
    "    \n",
    "The CDA makes this data searchable in four main endpoints:\n",
    "\n",
    "<ul>\n",
    "<li><b>subject:</b> A patient entity captures the study-independent metadata for research subjects. Human research subjects are usually not traceable to a particular person to protect the subjects privacy.</li>\n",
    "<li><b>researchsubject:</b> A research subject is the entity of interest in a specific research study or project, typically a human being or an animal, but can also be a device, group of humans or animals, or a tissue sample. Human research subjects are usually not traceable to a particular person to protect the subjects privacy. This entity plays the role of the case_id in existing data. An individual who participates in 3 studies will have 3 researchsubject IDs</li>\n",
    "<li><b>specimen:</b> Any material taken as a sample from a biological entity (living or dead), or from a physical object or the environment. Specimens are usually collected as an example of their kind, often for use in some investigation.</li>\n",
    "<li><b>file:</b> A unit of data about subjects, researchsubjects, specimens, or their associated information</li>\n",
    "</ul>\n",
    "    \n",
    "And two endpoints that offer deeper information about data in the researchsubject endpoint:\n",
    "<ul>\n",
    "<li><b>diagnosis:</b> A collection of characteristics that describe an abnormal condition of the body as assessed at a point in time. May be used to capture information about neoplastic and non-neoplastic conditions.</li>\n",
    "<li><b>treatment:</b> Represent medication administration or other treatment types.</li>\n",
    "</ul>\n",
    "Any metadata field can be searched from any endpoint, the only difference between search types is what type of data is returned by default. This means that you can think of the CDA as a really, really enormous spreadsheet full of data. To search this enormous spreadsheet, you'd want select columns, and then filter rows.\n",
    "</div>\n",
    "\n",
    "\n",
    "If you are looking to build a cohort of distinct individuals who meet some criteria, search by `subject`. If you want to build a cohort, but are particularly interested in studies rather than the participates per se, search by `researchsubject`. If you are looking for biosamples that can be ordered or a specific format of information (for e.g. histological slides) start with `specimen`. If you are primarily looking for files you can reuse for your own analysis, start with `file`.\n",
    "\n",
    "In CDA search, these concepts can also be chained together, so you can look specifically for specimen subjects, or researchsubject diagnoses. In the four 'main' tables, all of the rows will have one or more files associated with them that can be directly found by chaining, as in specimen files. Diagnosis and treatment do not have files directly associated with them and so can only be used to find files in conjunction with the other searches.\n",
    "\n",
    "In all cases, any search can use any metadata field, the only difference between search types is what type of data you return by default. \n",
    "\n"
   ]
  },
  {
   "cell_type": "markdown",
   "id": "f76026a3",
   "metadata": {},
   "source": [
    "## Getting simple summary data\n",
    "\n",
    "Let's try a broad search of the CDA to see what information exists about cancers that were first diagnosed in the brain. To run this simple search, we would first construct a query in `Q` and save it to a variable `myquery`. This is the same query we ran in the <a href=\"../BasicSearch\">Basic Search</a> notebook:"
   ]
  },
  {
   "cell_type": "code",
   "execution_count": 2,
   "id": "c92a98ba",
   "metadata": {
    "scrolled": true
   },
   "outputs": [],
   "source": [
    "myquery = Q('primary_diagnosis_site = \"brain\"')"
   ]
  },
  {
   "cell_type": "markdown",
   "id": "6e855573",
   "metadata": {
    "tags": [
     "Help!"
    ]
   },
   "source": [
    "\n",
    "<div class=\"cdawarn\" style=\"background-color:#f9cfbf;color:black;padding:20px;\">\n",
    "<h3>Where did those terms come from?</h3>\n",
    "    \n",
    "If you aren't sure how we knew what terms to put in our search, please refer back to the <a href=\"../SearchTerms\">What search terms are available?</a> notebook. \n",
    "</div>"
   ]
  },
  {
   "cell_type": "markdown",
   "id": "4e492876",
   "metadata": {},
   "source": [
    "### Overall summary\n",
    "\n",
    "You can get a quick summary of how many unique specimens, treatments, diagnoses, researchsubjects and subjects meet your search criteria by chaining a `count` command into the basic `run` call. "
   ]
  },
  {
   "cell_type": "code",
   "execution_count": 3,
   "id": "c8e3599f",
   "metadata": {
    "scrolled": true
   },
   "outputs": [
    {
     "data": {
      "text/html": [
       "<pre style=\"white-space:pre;overflow-x:auto;line-height:normal;font-family:Menlo,'DejaVu Sans Mono',consolas,'Courier New',monospace\">Getting results from database\n",
       "\n",
       "</pre>\n"
      ],
      "text/plain": [
       "Getting results from database\n",
       "\n"
      ]
     },
     "metadata": {},
     "output_type": "display_data"
    },
    {
     "data": {
      "text/html": [
       "<pre style=\"white-space:pre;overflow-x:auto;line-height:normal;font-family:Menlo,'DejaVu Sans Mono',consolas,'Courier New',monospace\">Waiting for results\n",
       "</pre>\n"
      ],
      "text/plain": [
       "Waiting for results\n"
      ]
     },
     "metadata": {},
     "output_type": "display_data"
    },
    {
     "data": {
      "text/html": [
       "<pre style=\"white-space:pre;overflow-x:auto;line-height:normal;font-family:Menlo,'DejaVu Sans Mono',consolas,'Courier New',monospace\">\n",
       "                        Total execution time: <span style=\"color: #008080; text-decoration-color: #008080; font-weight: bold\">0</span>\n",
       "                        min <span style=\"color: #008080; text-decoration-color: #008080; font-weight: bold\">3.752</span> sec <span style=\"color: #008080; text-decoration-color: #008080; font-weight: bold\">3752</span> ms\n",
       "                        \n",
       "</pre>\n"
      ],
      "text/plain": [
       "\n",
       "                        Total execution time: \u001b[1;36m0\u001b[0m\n",
       "                        min \u001b[1;36m3.752\u001b[0m sec \u001b[1;36m3752\u001b[0m ms\n",
       "                        \n"
      ]
     },
     "metadata": {},
     "output_type": "display_data"
    },
    {
     "data": {
      "text/html": [
       "<pre style=\"white-space:pre;overflow-x:auto;line-height:normal;font-family:Menlo,'DejaVu Sans Mono',consolas,'Courier New',monospace\">specimen_count : <span style=\"color: #008080; text-decoration-color: #008080; font-weight: bold\">39201</span>\n",
       "</pre>\n"
      ],
      "text/plain": [
       "specimen_count : \u001b[1;36m39201\u001b[0m\n"
      ]
     },
     "metadata": {},
     "output_type": "display_data"
    },
    {
     "data": {
      "text/html": [
       "<pre style=\"white-space:pre;overflow-x:auto;line-height:normal;font-family:Menlo,'DejaVu Sans Mono',consolas,'Courier New',monospace\">treatment_count : <span style=\"color: #008080; text-decoration-color: #008080; font-weight: bold\">2386</span>\n",
       "</pre>\n"
      ],
      "text/plain": [
       "treatment_count : \u001b[1;36m2386\u001b[0m\n"
      ]
     },
     "metadata": {},
     "output_type": "display_data"
    },
    {
     "data": {
      "text/html": [
       "<pre style=\"white-space:pre;overflow-x:auto;line-height:normal;font-family:Menlo,'DejaVu Sans Mono',consolas,'Courier New',monospace\">diagnosis_count : <span style=\"color: #008080; text-decoration-color: #008080; font-weight: bold\">1756</span>\n",
       "</pre>\n"
      ],
      "text/plain": [
       "diagnosis_count : \u001b[1;36m1756\u001b[0m\n"
      ]
     },
     "metadata": {},
     "output_type": "display_data"
    },
    {
     "data": {
      "text/html": [
       "<pre style=\"white-space:pre;overflow-x:auto;line-height:normal;font-family:Menlo,'DejaVu Sans Mono',consolas,'Courier New',monospace\">mutation_count : <span style=\"color: #008080; text-decoration-color: #008080; font-weight: bold\">904</span>\n",
       "</pre>\n"
      ],
      "text/plain": [
       "mutation_count : \u001b[1;36m904\u001b[0m\n"
      ]
     },
     "metadata": {},
     "output_type": "display_data"
    },
    {
     "data": {
      "text/html": [
       "<pre style=\"white-space:pre;overflow-x:auto;line-height:normal;font-family:Menlo,'DejaVu Sans Mono',consolas,'Courier New',monospace\">researchsubject_count : <span style=\"color: #008080; text-decoration-color: #008080; font-weight: bold\">3716</span>\n",
       "</pre>\n"
      ],
      "text/plain": [
       "researchsubject_count : \u001b[1;36m3716\u001b[0m\n"
      ]
     },
     "metadata": {},
     "output_type": "display_data"
    },
    {
     "data": {
      "text/html": [
       "<pre style=\"white-space:pre;overflow-x:auto;line-height:normal;font-family:Menlo,'DejaVu Sans Mono',consolas,'Courier New',monospace\">subject_count : <span style=\"color: #008080; text-decoration-color: #008080; font-weight: bold\">2384</span>\n",
       "</pre>\n"
      ],
      "text/plain": [
       "subject_count : \u001b[1;36m2384\u001b[0m\n"
      ]
     },
     "metadata": {},
     "output_type": "display_data"
    },
    {
     "data": {
      "text/html": []
     },
     "metadata": {},
     "output_type": "display_data"
    },
    {
     "data": {
      "text/plain": []
     },
     "execution_count": 3,
     "metadata": {},
     "output_type": "execute_result"
    }
   ],
   "source": [
    "myquery.count.run()"
   ]
  },
  {
   "cell_type": "markdown",
   "id": "d483e944",
   "metadata": {},
   "source": [
    "These numbers are how many total rows of data will come back when querying the various endpoints.\n",
    "\n",
    "\n",
    "\n",
    "### subject summary\n",
    "\n",
    "We can also add `count`to the other run calls we did in the <a href=\"../BasicSearch\">Basic Search</a> notebook to get more detailed summaries:"
   ]
  },
  {
   "cell_type": "code",
   "execution_count": 4,
   "id": "6d9137aa",
   "metadata": {
    "scrolled": false
   },
   "outputs": [
    {
     "data": {
      "text/html": [
       "<pre style=\"white-space:pre;overflow-x:auto;line-height:normal;font-family:Menlo,'DejaVu Sans Mono',consolas,'Courier New',monospace\">Getting results from database\n",
       "\n",
       "</pre>\n"
      ],
      "text/plain": [
       "Getting results from database\n",
       "\n"
      ]
     },
     "metadata": {},
     "output_type": "display_data"
    },
    {
     "data": {
      "text/html": [
       "<pre style=\"white-space:pre;overflow-x:auto;line-height:normal;font-family:Menlo,'DejaVu Sans Mono',consolas,'Courier New',monospace\">Waiting for results\n",
       "</pre>\n"
      ],
      "text/plain": [
       "Waiting for results\n"
      ]
     },
     "metadata": {},
     "output_type": "display_data"
    },
    {
     "data": {
      "text/html": [
       "<pre style=\"white-space:pre;overflow-x:auto;line-height:normal;font-family:Menlo,'DejaVu Sans Mono',consolas,'Courier New',monospace\">\n",
       "                        Total execution time: <span style=\"color: #008080; text-decoration-color: #008080; font-weight: bold\">0</span>\n",
       "                        min <span style=\"color: #008080; text-decoration-color: #008080; font-weight: bold\">3.74</span> sec <span style=\"color: #008080; text-decoration-color: #008080; font-weight: bold\">3740</span> ms\n",
       "                        \n",
       "</pre>\n"
      ],
      "text/plain": [
       "\n",
       "                        Total execution time: \u001b[1;36m0\u001b[0m\n",
       "                        min \u001b[1;36m3.74\u001b[0m sec \u001b[1;36m3740\u001b[0m ms\n",
       "                        \n"
      ]
     },
     "metadata": {},
     "output_type": "display_data"
    }
   ],
   "source": [
    "subjectresults = myquery.subject.count.run()"
   ]
  },
  {
   "cell_type": "code",
   "execution_count": 5,
   "id": "4d0501a2",
   "metadata": {},
   "outputs": [
    {
     "data": {
      "text/html": [
       "<pre style=\"white-space:pre;overflow-x:auto;line-height:normal;font-family:Menlo,'DejaVu Sans Mono',consolas,'Courier New',monospace\">Getting results from database\n",
       "\n",
       "</pre>\n"
      ],
      "text/plain": [
       "Getting results from database\n",
       "\n"
      ]
     },
     "metadata": {},
     "output_type": "display_data"
    },
    {
     "data": {
      "text/html": [
       "<pre style=\"white-space:pre;overflow-x:auto;line-height:normal;font-family:Menlo,'DejaVu Sans Mono',consolas,'Courier New',monospace\">Waiting for results\n",
       "</pre>\n"
      ],
      "text/plain": [
       "Waiting for results\n"
      ]
     },
     "metadata": {},
     "output_type": "display_data"
    },
    {
     "data": {
      "text/html": [
       "<pre style=\"white-space:pre;overflow-x:auto;line-height:normal;font-family:Menlo,'DejaVu Sans Mono',consolas,'Courier New',monospace\">\n",
       "                        Total execution time: <span style=\"color: #008080; text-decoration-color: #008080; font-weight: bold\">0</span>\n",
       "                        min <span style=\"color: #008080; text-decoration-color: #008080; font-weight: bold\">3.525</span> sec <span style=\"color: #008080; text-decoration-color: #008080; font-weight: bold\">3525</span> ms\n",
       "                        \n",
       "</pre>\n"
      ],
      "text/plain": [
       "\n",
       "                        Total execution time: \u001b[1;36m0\u001b[0m\n",
       "                        min \u001b[1;36m3.525\u001b[0m sec \u001b[1;36m3525\u001b[0m ms\n",
       "                        \n"
      ]
     },
     "metadata": {},
     "output_type": "display_data"
    },
    {
     "data": {
      "text/html": [
       "<pre style=\"white-space:pre;overflow-x:auto;line-height:normal;font-family:Menlo,'DejaVu Sans Mono',consolas,'Courier New',monospace\">    total : <span style=\"color: #008080; text-decoration-color: #008080; font-weight: bold\">2384</span>    \n",
       "</pre>\n"
      ],
      "text/plain": [
       "    total : \u001b[1;36m2384\u001b[0m    \n"
      ]
     },
     "metadata": {},
     "output_type": "display_data"
    },
    {
     "data": {
      "text/html": [
       "<pre style=\"white-space:pre;overflow-x:auto;line-height:normal;font-family:Menlo,'DejaVu Sans Mono',consolas,'Courier New',monospace\">  files : <span style=\"color: #008080; text-decoration-color: #008080; font-weight: bold\">4099497</span>   \n",
       "</pre>\n"
      ],
      "text/plain": [
       "  files : \u001b[1;36m4099497\u001b[0m   \n"
      ]
     },
     "metadata": {},
     "output_type": "display_data"
    },
    {
     "data": {
      "text/html": [
       "<style type=\"text/css\">\n",
       "#T_9b0e1_ th {\n",
       "  background-color: #000066;\n",
       "  color: white;\n",
       "  text-align: left;\n",
       "}\n",
       "#T_9b0e1_ td {\n",
       "  text-align: left;\n",
       "  border-bottom: 1px solid black;\n",
       "}\n",
       "</style>\n",
       "<table id=\"T_9b0e1_\" style='display:inline'>\n",
       "  <thead>\n",
       "    <tr>\n",
       "      <th class=\"col_heading level0 col0\" >subject_identifier_system</th>\n",
       "      <th class=\"col_heading level0 col1\" >count</th>\n",
       "    </tr>\n",
       "  </thead>\n",
       "  <tbody>\n",
       "    <tr>\n",
       "      <td id=\"T_9b0e1_row0_col0\" class=\"data row0 col0\" >IDC</td>\n",
       "      <td id=\"T_9b0e1_row0_col1\" class=\"data row0 col1\" >1955</td>\n",
       "    </tr>\n",
       "    <tr>\n",
       "      <td id=\"T_9b0e1_row1_col0\" class=\"data row1 col0\" >PDC</td>\n",
       "      <td id=\"T_9b0e1_row1_col1\" class=\"data row1 col1\" >309</td>\n",
       "    </tr>\n",
       "    <tr>\n",
       "      <td id=\"T_9b0e1_row2_col0\" class=\"data row2 col0\" >GDC</td>\n",
       "      <td id=\"T_9b0e1_row2_col1\" class=\"data row2 col1\" >1454</td>\n",
       "    </tr>\n",
       "  </tbody>\n",
       "</table>\n",
       "<style type=\"text/css\">\n",
       "#T_6eb6f_ th {\n",
       "  background-color: #000066;\n",
       "  color: white;\n",
       "  text-align: left;\n",
       "}\n",
       "#T_6eb6f_ td {\n",
       "  text-align: left;\n",
       "  border-bottom: 1px solid black;\n",
       "}\n",
       "</style>\n",
       "<table id=\"T_6eb6f_\" style='display:inline'>\n",
       "  <thead>\n",
       "    <tr>\n",
       "      <th class=\"col_heading level0 col0\" >sex</th>\n",
       "      <th class=\"col_heading level0 col1\" >count</th>\n",
       "    </tr>\n",
       "  </thead>\n",
       "  <tbody>\n",
       "    <tr>\n",
       "      <td id=\"T_6eb6f_row0_col0\" class=\"data row0 col0\" >None</td>\n",
       "      <td id=\"T_6eb6f_row0_col1\" class=\"data row0 col1\" >748</td>\n",
       "    </tr>\n",
       "    <tr>\n",
       "      <td id=\"T_6eb6f_row1_col0\" class=\"data row1 col0\" >male</td>\n",
       "      <td id=\"T_6eb6f_row1_col1\" class=\"data row1 col1\" >980</td>\n",
       "    </tr>\n",
       "    <tr>\n",
       "      <td id=\"T_6eb6f_row2_col0\" class=\"data row2 col0\" >female</td>\n",
       "      <td id=\"T_6eb6f_row2_col1\" class=\"data row2 col1\" >653</td>\n",
       "    </tr>\n",
       "    <tr>\n",
       "      <td id=\"T_6eb6f_row3_col0\" class=\"data row3 col0\" >not reported</td>\n",
       "      <td id=\"T_6eb6f_row3_col1\" class=\"data row3 col1\" >3</td>\n",
       "    </tr>\n",
       "  </tbody>\n",
       "</table>\n",
       "<style type=\"text/css\">\n",
       "#T_8ac8e_ th {\n",
       "  background-color: #000066;\n",
       "  color: white;\n",
       "  text-align: left;\n",
       "}\n",
       "#T_8ac8e_ td {\n",
       "  text-align: left;\n",
       "  border-bottom: 1px solid black;\n",
       "}\n",
       "</style>\n",
       "<table id=\"T_8ac8e_\" style='display:inline'>\n",
       "  <thead>\n",
       "    <tr>\n",
       "      <th class=\"col_heading level0 col0\" >race</th>\n",
       "      <th class=\"col_heading level0 col1\" >count</th>\n",
       "    </tr>\n",
       "  </thead>\n",
       "  <tbody>\n",
       "    <tr>\n",
       "      <td id=\"T_8ac8e_row0_col0\" class=\"data row0 col0\" >None</td>\n",
       "      <td id=\"T_8ac8e_row0_col1\" class=\"data row0 col1\" >748</td>\n",
       "    </tr>\n",
       "    <tr>\n",
       "      <td id=\"T_8ac8e_row1_col0\" class=\"data row1 col0\" >white</td>\n",
       "      <td id=\"T_8ac8e_row1_col1\" class=\"data row1 col1\" >1311</td>\n",
       "    </tr>\n",
       "    <tr>\n",
       "      <td id=\"T_8ac8e_row2_col0\" class=\"data row2 col0\" >not reported</td>\n",
       "      <td id=\"T_8ac8e_row2_col1\" class=\"data row2 col1\" >136</td>\n",
       "    </tr>\n",
       "    <tr>\n",
       "      <td id=\"T_8ac8e_row3_col0\" class=\"data row3 col0\" >Unknown</td>\n",
       "      <td id=\"T_8ac8e_row3_col1\" class=\"data row3 col1\" >21</td>\n",
       "    </tr>\n",
       "    <tr>\n",
       "      <td id=\"T_8ac8e_row4_col0\" class=\"data row4 col0\" >black or african american</td>\n",
       "      <td id=\"T_8ac8e_row4_col1\" class=\"data row4 col1\" >96</td>\n",
       "    </tr>\n",
       "    <tr>\n",
       "      <td id=\"T_8ac8e_row5_col0\" class=\"data row5 col0\" >asian</td>\n",
       "      <td id=\"T_8ac8e_row5_col1\" class=\"data row5 col1\" >33</td>\n",
       "    </tr>\n",
       "    <tr>\n",
       "      <td id=\"T_8ac8e_row6_col0\" class=\"data row6 col0\" >not allowed to collect</td>\n",
       "      <td id=\"T_8ac8e_row6_col1\" class=\"data row6 col1\" >25</td>\n",
       "    </tr>\n",
       "    <tr>\n",
       "      <td id=\"T_8ac8e_row7_col0\" class=\"data row7 col0\" >other</td>\n",
       "      <td id=\"T_8ac8e_row7_col1\" class=\"data row7 col1\" >9</td>\n",
       "    </tr>\n",
       "    <tr>\n",
       "      <td id=\"T_8ac8e_row8_col0\" class=\"data row8 col0\" >american indian or alaska native</td>\n",
       "      <td id=\"T_8ac8e_row8_col1\" class=\"data row8 col1\" >4</td>\n",
       "    </tr>\n",
       "    <tr>\n",
       "      <td id=\"T_8ac8e_row9_col0\" class=\"data row9 col0\" >native hawaiian or other pacific islander</td>\n",
       "      <td id=\"T_8ac8e_row9_col1\" class=\"data row9 col1\" >1</td>\n",
       "    </tr>\n",
       "  </tbody>\n",
       "</table>\n",
       "<style type=\"text/css\">\n",
       "#T_831cc_ th {\n",
       "  background-color: #000066;\n",
       "  color: white;\n",
       "  text-align: left;\n",
       "}\n",
       "#T_831cc_ td {\n",
       "  text-align: left;\n",
       "  border-bottom: 1px solid black;\n",
       "}\n",
       "</style>\n",
       "<table id=\"T_831cc_\" style='display:inline'>\n",
       "  <thead>\n",
       "    <tr>\n",
       "      <th class=\"col_heading level0 col0\" >ethnicity</th>\n",
       "      <th class=\"col_heading level0 col1\" >count</th>\n",
       "    </tr>\n",
       "  </thead>\n",
       "  <tbody>\n",
       "    <tr>\n",
       "      <td id=\"T_831cc_row0_col0\" class=\"data row0 col0\" >None</td>\n",
       "      <td id=\"T_831cc_row0_col1\" class=\"data row0 col1\" >748</td>\n",
       "    </tr>\n",
       "    <tr>\n",
       "      <td id=\"T_831cc_row1_col0\" class=\"data row1 col0\" >not hispanic or latino</td>\n",
       "      <td id=\"T_831cc_row1_col1\" class=\"data row1 col1\" >1285</td>\n",
       "    </tr>\n",
       "    <tr>\n",
       "      <td id=\"T_831cc_row2_col0\" class=\"data row2 col0\" >not reported</td>\n",
       "      <td id=\"T_831cc_row2_col1\" class=\"data row2 col1\" >219</td>\n",
       "    </tr>\n",
       "    <tr>\n",
       "      <td id=\"T_831cc_row3_col0\" class=\"data row3 col0\" >Unknown</td>\n",
       "      <td id=\"T_831cc_row3_col1\" class=\"data row3 col1\" >22</td>\n",
       "    </tr>\n",
       "    <tr>\n",
       "      <td id=\"T_831cc_row4_col0\" class=\"data row4 col0\" >hispanic or latino</td>\n",
       "      <td id=\"T_831cc_row4_col1\" class=\"data row4 col1\" >85</td>\n",
       "    </tr>\n",
       "    <tr>\n",
       "      <td id=\"T_831cc_row5_col0\" class=\"data row5 col0\" >not allowed to collect</td>\n",
       "      <td id=\"T_831cc_row5_col1\" class=\"data row5 col1\" >25</td>\n",
       "    </tr>\n",
       "  </tbody>\n",
       "</table>\n",
       "<style type=\"text/css\">\n",
       "#T_4dd33_ th {\n",
       "  background-color: #000066;\n",
       "  color: white;\n",
       "  text-align: left;\n",
       "}\n",
       "#T_4dd33_ td {\n",
       "  text-align: left;\n",
       "  border-bottom: 1px solid black;\n",
       "}\n",
       "</style>\n",
       "<table id=\"T_4dd33_\" style='display:inline'>\n",
       "  <thead>\n",
       "    <tr>\n",
       "      <th class=\"col_heading level0 col0\" >cause_of_death</th>\n",
       "      <th class=\"col_heading level0 col1\" >count</th>\n",
       "    </tr>\n",
       "  </thead>\n",
       "  <tbody>\n",
       "    <tr>\n",
       "      <td id=\"T_4dd33_row0_col0\" class=\"data row0 col0\" >None</td>\n",
       "      <td id=\"T_4dd33_row0_col1\" class=\"data row0 col1\" >2098</td>\n",
       "    </tr>\n",
       "    <tr>\n",
       "      <td id=\"T_4dd33_row1_col0\" class=\"data row1 col0\" >Not Reported</td>\n",
       "      <td id=\"T_4dd33_row1_col1\" class=\"data row1 col1\" >200</td>\n",
       "    </tr>\n",
       "    <tr>\n",
       "      <td id=\"T_4dd33_row2_col0\" class=\"data row2 col0\" >Cancer Related</td>\n",
       "      <td id=\"T_4dd33_row2_col1\" class=\"data row2 col1\" >63</td>\n",
       "    </tr>\n",
       "    <tr>\n",
       "      <td id=\"T_4dd33_row3_col0\" class=\"data row3 col0\" >Infection</td>\n",
       "      <td id=\"T_4dd33_row3_col1\" class=\"data row3 col1\" >3</td>\n",
       "    </tr>\n",
       "    <tr>\n",
       "      <td id=\"T_4dd33_row4_col0\" class=\"data row4 col0\" >Not Cancer Related</td>\n",
       "      <td id=\"T_4dd33_row4_col1\" class=\"data row4 col1\" >9</td>\n",
       "    </tr>\n",
       "    <tr>\n",
       "      <td id=\"T_4dd33_row5_col0\" class=\"data row5 col0\" >Unknown</td>\n",
       "      <td id=\"T_4dd33_row5_col1\" class=\"data row5 col1\" >9</td>\n",
       "    </tr>\n",
       "    <tr>\n",
       "      <td id=\"T_4dd33_row6_col0\" class=\"data row6 col0\" >Surgical Complications</td>\n",
       "      <td id=\"T_4dd33_row6_col1\" class=\"data row6 col1\" >2</td>\n",
       "    </tr>\n",
       "  </tbody>\n",
       "</table>\n"
      ]
     },
     "metadata": {},
     "output_type": "display_data"
    },
    {
     "data": {
      "text/plain": []
     },
     "execution_count": 5,
     "metadata": {},
     "output_type": "execute_result"
    }
   ],
   "source": [
    "myquery.subject.count.run()"
   ]
  },
  {
   "cell_type": "markdown",
   "id": "dff2da08",
   "metadata": {},
   "source": [
    "Since we save the output as a variable, we need to look at the variable to see the results:"
   ]
  },
  {
   "cell_type": "code",
   "execution_count": 6,
   "id": "993479db",
   "metadata": {
    "scrolled": false
   },
   "outputs": [
    {
     "data": {
      "text/html": [
       "<pre style=\"white-space:pre;overflow-x:auto;line-height:normal;font-family:Menlo,'DejaVu Sans Mono',consolas,'Courier New',monospace\">    total : <span style=\"color: #008080; text-decoration-color: #008080; font-weight: bold\">2384</span>    \n",
       "</pre>\n"
      ],
      "text/plain": [
       "    total : \u001b[1;36m2384\u001b[0m    \n"
      ]
     },
     "metadata": {},
     "output_type": "display_data"
    },
    {
     "data": {
      "text/html": [
       "<pre style=\"white-space:pre;overflow-x:auto;line-height:normal;font-family:Menlo,'DejaVu Sans Mono',consolas,'Courier New',monospace\">  files : <span style=\"color: #008080; text-decoration-color: #008080; font-weight: bold\">4099497</span>   \n",
       "</pre>\n"
      ],
      "text/plain": [
       "  files : \u001b[1;36m4099497\u001b[0m   \n"
      ]
     },
     "metadata": {},
     "output_type": "display_data"
    },
    {
     "data": {
      "text/html": [
       "<style type=\"text/css\">\n",
       "#T_724e6_ th {\n",
       "  background-color: #000066;\n",
       "  color: white;\n",
       "  text-align: left;\n",
       "}\n",
       "#T_724e6_ td {\n",
       "  text-align: left;\n",
       "  border-bottom: 1px solid black;\n",
       "}\n",
       "</style>\n",
       "<table id=\"T_724e6_\" style='display:inline'>\n",
       "  <thead>\n",
       "    <tr>\n",
       "      <th class=\"col_heading level0 col0\" >subject_identifier_system</th>\n",
       "      <th class=\"col_heading level0 col1\" >count</th>\n",
       "    </tr>\n",
       "  </thead>\n",
       "  <tbody>\n",
       "    <tr>\n",
       "      <td id=\"T_724e6_row0_col0\" class=\"data row0 col0\" >IDC</td>\n",
       "      <td id=\"T_724e6_row0_col1\" class=\"data row0 col1\" >1955</td>\n",
       "    </tr>\n",
       "    <tr>\n",
       "      <td id=\"T_724e6_row1_col0\" class=\"data row1 col0\" >PDC</td>\n",
       "      <td id=\"T_724e6_row1_col1\" class=\"data row1 col1\" >309</td>\n",
       "    </tr>\n",
       "    <tr>\n",
       "      <td id=\"T_724e6_row2_col0\" class=\"data row2 col0\" >GDC</td>\n",
       "      <td id=\"T_724e6_row2_col1\" class=\"data row2 col1\" >1454</td>\n",
       "    </tr>\n",
       "  </tbody>\n",
       "</table>\n",
       "<style type=\"text/css\">\n",
       "#T_0c923_ th {\n",
       "  background-color: #000066;\n",
       "  color: white;\n",
       "  text-align: left;\n",
       "}\n",
       "#T_0c923_ td {\n",
       "  text-align: left;\n",
       "  border-bottom: 1px solid black;\n",
       "}\n",
       "</style>\n",
       "<table id=\"T_0c923_\" style='display:inline'>\n",
       "  <thead>\n",
       "    <tr>\n",
       "      <th class=\"col_heading level0 col0\" >sex</th>\n",
       "      <th class=\"col_heading level0 col1\" >count</th>\n",
       "    </tr>\n",
       "  </thead>\n",
       "  <tbody>\n",
       "    <tr>\n",
       "      <td id=\"T_0c923_row0_col0\" class=\"data row0 col0\" >None</td>\n",
       "      <td id=\"T_0c923_row0_col1\" class=\"data row0 col1\" >748</td>\n",
       "    </tr>\n",
       "    <tr>\n",
       "      <td id=\"T_0c923_row1_col0\" class=\"data row1 col0\" >male</td>\n",
       "      <td id=\"T_0c923_row1_col1\" class=\"data row1 col1\" >980</td>\n",
       "    </tr>\n",
       "    <tr>\n",
       "      <td id=\"T_0c923_row2_col0\" class=\"data row2 col0\" >female</td>\n",
       "      <td id=\"T_0c923_row2_col1\" class=\"data row2 col1\" >653</td>\n",
       "    </tr>\n",
       "    <tr>\n",
       "      <td id=\"T_0c923_row3_col0\" class=\"data row3 col0\" >not reported</td>\n",
       "      <td id=\"T_0c923_row3_col1\" class=\"data row3 col1\" >3</td>\n",
       "    </tr>\n",
       "  </tbody>\n",
       "</table>\n",
       "<style type=\"text/css\">\n",
       "#T_9176f_ th {\n",
       "  background-color: #000066;\n",
       "  color: white;\n",
       "  text-align: left;\n",
       "}\n",
       "#T_9176f_ td {\n",
       "  text-align: left;\n",
       "  border-bottom: 1px solid black;\n",
       "}\n",
       "</style>\n",
       "<table id=\"T_9176f_\" style='display:inline'>\n",
       "  <thead>\n",
       "    <tr>\n",
       "      <th class=\"col_heading level0 col0\" >race</th>\n",
       "      <th class=\"col_heading level0 col1\" >count</th>\n",
       "    </tr>\n",
       "  </thead>\n",
       "  <tbody>\n",
       "    <tr>\n",
       "      <td id=\"T_9176f_row0_col0\" class=\"data row0 col0\" >None</td>\n",
       "      <td id=\"T_9176f_row0_col1\" class=\"data row0 col1\" >748</td>\n",
       "    </tr>\n",
       "    <tr>\n",
       "      <td id=\"T_9176f_row1_col0\" class=\"data row1 col0\" >white</td>\n",
       "      <td id=\"T_9176f_row1_col1\" class=\"data row1 col1\" >1311</td>\n",
       "    </tr>\n",
       "    <tr>\n",
       "      <td id=\"T_9176f_row2_col0\" class=\"data row2 col0\" >not reported</td>\n",
       "      <td id=\"T_9176f_row2_col1\" class=\"data row2 col1\" >136</td>\n",
       "    </tr>\n",
       "    <tr>\n",
       "      <td id=\"T_9176f_row3_col0\" class=\"data row3 col0\" >Unknown</td>\n",
       "      <td id=\"T_9176f_row3_col1\" class=\"data row3 col1\" >21</td>\n",
       "    </tr>\n",
       "    <tr>\n",
       "      <td id=\"T_9176f_row4_col0\" class=\"data row4 col0\" >black or african american</td>\n",
       "      <td id=\"T_9176f_row4_col1\" class=\"data row4 col1\" >96</td>\n",
       "    </tr>\n",
       "    <tr>\n",
       "      <td id=\"T_9176f_row5_col0\" class=\"data row5 col0\" >asian</td>\n",
       "      <td id=\"T_9176f_row5_col1\" class=\"data row5 col1\" >33</td>\n",
       "    </tr>\n",
       "    <tr>\n",
       "      <td id=\"T_9176f_row6_col0\" class=\"data row6 col0\" >not allowed to collect</td>\n",
       "      <td id=\"T_9176f_row6_col1\" class=\"data row6 col1\" >25</td>\n",
       "    </tr>\n",
       "    <tr>\n",
       "      <td id=\"T_9176f_row7_col0\" class=\"data row7 col0\" >other</td>\n",
       "      <td id=\"T_9176f_row7_col1\" class=\"data row7 col1\" >9</td>\n",
       "    </tr>\n",
       "    <tr>\n",
       "      <td id=\"T_9176f_row8_col0\" class=\"data row8 col0\" >american indian or alaska native</td>\n",
       "      <td id=\"T_9176f_row8_col1\" class=\"data row8 col1\" >4</td>\n",
       "    </tr>\n",
       "    <tr>\n",
       "      <td id=\"T_9176f_row9_col0\" class=\"data row9 col0\" >native hawaiian or other pacific islander</td>\n",
       "      <td id=\"T_9176f_row9_col1\" class=\"data row9 col1\" >1</td>\n",
       "    </tr>\n",
       "  </tbody>\n",
       "</table>\n",
       "<style type=\"text/css\">\n",
       "#T_f9337_ th {\n",
       "  background-color: #000066;\n",
       "  color: white;\n",
       "  text-align: left;\n",
       "}\n",
       "#T_f9337_ td {\n",
       "  text-align: left;\n",
       "  border-bottom: 1px solid black;\n",
       "}\n",
       "</style>\n",
       "<table id=\"T_f9337_\" style='display:inline'>\n",
       "  <thead>\n",
       "    <tr>\n",
       "      <th class=\"col_heading level0 col0\" >ethnicity</th>\n",
       "      <th class=\"col_heading level0 col1\" >count</th>\n",
       "    </tr>\n",
       "  </thead>\n",
       "  <tbody>\n",
       "    <tr>\n",
       "      <td id=\"T_f9337_row0_col0\" class=\"data row0 col0\" >None</td>\n",
       "      <td id=\"T_f9337_row0_col1\" class=\"data row0 col1\" >748</td>\n",
       "    </tr>\n",
       "    <tr>\n",
       "      <td id=\"T_f9337_row1_col0\" class=\"data row1 col0\" >not hispanic or latino</td>\n",
       "      <td id=\"T_f9337_row1_col1\" class=\"data row1 col1\" >1285</td>\n",
       "    </tr>\n",
       "    <tr>\n",
       "      <td id=\"T_f9337_row2_col0\" class=\"data row2 col0\" >not reported</td>\n",
       "      <td id=\"T_f9337_row2_col1\" class=\"data row2 col1\" >219</td>\n",
       "    </tr>\n",
       "    <tr>\n",
       "      <td id=\"T_f9337_row3_col0\" class=\"data row3 col0\" >Unknown</td>\n",
       "      <td id=\"T_f9337_row3_col1\" class=\"data row3 col1\" >22</td>\n",
       "    </tr>\n",
       "    <tr>\n",
       "      <td id=\"T_f9337_row4_col0\" class=\"data row4 col0\" >hispanic or latino</td>\n",
       "      <td id=\"T_f9337_row4_col1\" class=\"data row4 col1\" >85</td>\n",
       "    </tr>\n",
       "    <tr>\n",
       "      <td id=\"T_f9337_row5_col0\" class=\"data row5 col0\" >not allowed to collect</td>\n",
       "      <td id=\"T_f9337_row5_col1\" class=\"data row5 col1\" >25</td>\n",
       "    </tr>\n",
       "  </tbody>\n",
       "</table>\n",
       "<style type=\"text/css\">\n",
       "#T_6ad7a_ th {\n",
       "  background-color: #000066;\n",
       "  color: white;\n",
       "  text-align: left;\n",
       "}\n",
       "#T_6ad7a_ td {\n",
       "  text-align: left;\n",
       "  border-bottom: 1px solid black;\n",
       "}\n",
       "</style>\n",
       "<table id=\"T_6ad7a_\" style='display:inline'>\n",
       "  <thead>\n",
       "    <tr>\n",
       "      <th class=\"col_heading level0 col0\" >cause_of_death</th>\n",
       "      <th class=\"col_heading level0 col1\" >count</th>\n",
       "    </tr>\n",
       "  </thead>\n",
       "  <tbody>\n",
       "    <tr>\n",
       "      <td id=\"T_6ad7a_row0_col0\" class=\"data row0 col0\" >None</td>\n",
       "      <td id=\"T_6ad7a_row0_col1\" class=\"data row0 col1\" >2098</td>\n",
       "    </tr>\n",
       "    <tr>\n",
       "      <td id=\"T_6ad7a_row1_col0\" class=\"data row1 col0\" >Not Reported</td>\n",
       "      <td id=\"T_6ad7a_row1_col1\" class=\"data row1 col1\" >200</td>\n",
       "    </tr>\n",
       "    <tr>\n",
       "      <td id=\"T_6ad7a_row2_col0\" class=\"data row2 col0\" >Cancer Related</td>\n",
       "      <td id=\"T_6ad7a_row2_col1\" class=\"data row2 col1\" >63</td>\n",
       "    </tr>\n",
       "    <tr>\n",
       "      <td id=\"T_6ad7a_row3_col0\" class=\"data row3 col0\" >Infection</td>\n",
       "      <td id=\"T_6ad7a_row3_col1\" class=\"data row3 col1\" >3</td>\n",
       "    </tr>\n",
       "    <tr>\n",
       "      <td id=\"T_6ad7a_row4_col0\" class=\"data row4 col0\" >Not Cancer Related</td>\n",
       "      <td id=\"T_6ad7a_row4_col1\" class=\"data row4 col1\" >9</td>\n",
       "    </tr>\n",
       "    <tr>\n",
       "      <td id=\"T_6ad7a_row5_col0\" class=\"data row5 col0\" >Unknown</td>\n",
       "      <td id=\"T_6ad7a_row5_col1\" class=\"data row5 col1\" >9</td>\n",
       "    </tr>\n",
       "    <tr>\n",
       "      <td id=\"T_6ad7a_row6_col0\" class=\"data row6 col0\" >Surgical Complications</td>\n",
       "      <td id=\"T_6ad7a_row6_col1\" class=\"data row6 col1\" >2</td>\n",
       "    </tr>\n",
       "  </tbody>\n",
       "</table>\n"
      ]
     },
     "metadata": {},
     "output_type": "display_data"
    },
    {
     "data": {
      "text/plain": []
     },
     "execution_count": 6,
     "metadata": {},
     "output_type": "execute_result"
    }
   ],
   "source": [
    "subjectresults"
   ]
  },
  {
   "cell_type": "markdown",
   "id": "e7e6d522",
   "metadata": {},
   "source": [
    "By default, the results are displayed as a table for easy previewing of the data. Since we queried the `subject` endpoint, our default results tell us `subject` level information, that is, information about unique individuals: their sex, race, age, species, etc. Using counts gives us back a nice pivot table type summary of the countable fields for Subjects. Note that above the table it also tells you the total subject count, as well as how many files are associated with those subjects."
   ]
  },
  {
   "cell_type": "markdown",
   "id": "05e52f3f",
   "metadata": {},
   "source": [
    "\n",
    "---\n",
    "\n",
    "<div class=\"cdadefine\" style=\"background-color:#add9e5;color:black;padding:20px;\">\n",
    "\n",
    "<h3>Subject Field Definitions</h3>\n",
    "\n",
    "<i>A patient entity captures the study-independent metadata for research subjects. Human research subjects are usually not traceable to a particular person to protect the subjects privacy.</i>\n",
    "    \n",
    "    \n",
    "    \n",
    "<style type=\"text/css\">\n",
    ".tg  {border-collapse:collapse;border-spacing:0;margin:0px auto;}\n",
    ".tg td{border-color:black;border-style:solid;border-width:1px;font-family:noto sans, sans-serif;font-size:14px;\n",
    "  overflow:hidden;padding:10px 5px;word-break:normal;}\n",
    ".tg th{border-color:black;border-style:solid;border-width:1px;font-family:noto sans, sans-serif;font-size:14px;\n",
    "  font-weight:normal;overflow:hidden;padding:10px 5px;word-break:normal;}\n",
    ".tg .tg-7zrl{text-align:left;vertical-align:bottom}\n",
    ".tg .tg-0lax{text-align:left;vertical-align:top}\n",
    "</style>\n",
    "<table class=\"tg\">\n",
    "<tbody>\n",
    "  <tr>\n",
    "    <td class=\"tg-0lax\"> id (`total`)</td>\n",
    "    <td class=\"tg-0lax\"> The overall number of subjects returned.</td>\n",
    "  </tr>\n",
    "  <tr>\n",
    "    <td class=\"tg-0lax\"> files</td>\n",
    "    <td class=\"tg-0lax\"> The number of files that match this search.</td>\n",
    "  </tr>\n",
    "  <tr>\n",
    "    <td class=\"tg-7zrl\">identifier.value(`system`)</td>\n",
    "    <td class=\"tg-0lax\"> The identifier for the data provider.</td>\n",
    "  </tr>\n",
    "  <tr>\n",
    "    <td class=\"tg-7zrl\">species</td>\n",
    "    <td class=\"tg-0lax\"> The taxonomic group (e.g. species) of the subject.</td>\n",
    "  </tr>\n",
    "  <tr>\n",
    "    <td class=\"tg-7zrl\">sex</td>\n",
    "    <td class=\"tg-0lax\">  The biologic character or quality that distinguishes male and female from one another as expressed by analysis of the person's gonadal, morphologic (internal and external), chromosomal, and hormonal characteristics. </td>\n",
    "  </tr>\n",
    "  <tr>\n",
    "    <td class=\"tg-7zrl\">race</td>\n",
    "    <td class=\"tg-0lax\"> An arbitrary classification of a taxonomic group that is a division of a species.</td>\n",
    "  </tr>\n",
    "  <tr>\n",
    "    <td class=\"tg-7zrl\">ethnicity</td>\n",
    "    <td class=\"tg-0lax\"> An individual's self-described social and cultural grouping.</td>\n",
    "  </tr>\n",
    "  <tr>\n",
    "    <td class=\"tg-0lax\"> cause_of_death</td>\n",
    "    <td class=\"tg-0lax\"> The cause of death, if known</td>\n",
    "  </tr>\n",
    "</tbody>\n",
    "</table>\n",
    "\n",
    "</div>\n",
    "    \n",
    "---"
   ]
  },
  {
   "cell_type": "markdown",
   "id": "5356bf41",
   "metadata": {},
   "source": [
    "This gives you a quick way to assess whether the full search results will have the data fields you require. But if you want to get the underlying data for your own downstream applications, you can also get the raw numbers by calling the zeroth value of the variable:"
   ]
  },
  {
   "cell_type": "code",
   "execution_count": 7,
   "id": "869dfd5d",
   "metadata": {
    "scrolled": true
   },
   "outputs": [
    {
     "data": {
      "text/plain": [
       "{'total': 2384,\n",
       " 'files': 4099497,\n",
       " 'subject_identifier_system': [{'subject_identifier_system': 'IDC',\n",
       "   'count': 1955},\n",
       "  {'subject_identifier_system': 'PDC', 'count': 309},\n",
       "  {'subject_identifier_system': 'GDC', 'count': 1454}],\n",
       " 'sex': [{'sex': 'null', 'count': 748},\n",
       "  {'sex': 'male', 'count': 980},\n",
       "  {'sex': 'female', 'count': 653},\n",
       "  {'sex': 'not reported', 'count': 3}],\n",
       " 'race': [{'race': 'null', 'count': 748},\n",
       "  {'race': 'white', 'count': 1311},\n",
       "  {'race': 'not reported', 'count': 136},\n",
       "  {'race': 'Unknown', 'count': 21},\n",
       "  {'race': 'black or african american', 'count': 96},\n",
       "  {'race': 'asian', 'count': 33},\n",
       "  {'race': 'not allowed to collect', 'count': 25},\n",
       "  {'race': 'other', 'count': 9},\n",
       "  {'race': 'american indian or alaska native', 'count': 4},\n",
       "  {'race': 'native hawaiian or other pacific islander', 'count': 1}],\n",
       " 'ethnicity': [{'ethnicity': 'null', 'count': 748},\n",
       "  {'ethnicity': 'not hispanic or latino', 'count': 1285},\n",
       "  {'ethnicity': 'not reported', 'count': 219},\n",
       "  {'ethnicity': 'Unknown', 'count': 22},\n",
       "  {'ethnicity': 'hispanic or latino', 'count': 85},\n",
       "  {'ethnicity': 'not allowed to collect', 'count': 25}],\n",
       " 'cause_of_death': [{'cause_of_death': 'null', 'count': 2098},\n",
       "  {'cause_of_death': 'Not Reported', 'count': 200},\n",
       "  {'cause_of_death': 'Cancer Related', 'count': 63},\n",
       "  {'cause_of_death': 'Infection', 'count': 3},\n",
       "  {'cause_of_death': 'Not Cancer Related', 'count': 9},\n",
       "  {'cause_of_death': 'Unknown', 'count': 9},\n",
       "  {'cause_of_death': 'Surgical Complications', 'count': 2}]}"
      ]
     },
     "execution_count": 7,
     "metadata": {},
     "output_type": "execute_result"
    }
   ],
   "source": [
    "subjectresults[0]"
   ]
  },
  {
   "cell_type": "markdown",
   "id": "73745aa6",
   "metadata": {},
   "source": [
    "### researchsubject\n",
    "\n",
    "If we're interested in what researchsubjects meet our criteria, we can also run our query against the researchsubject endpoint. Lets run it without saving to a variable this time to make it a bit quicker:"
   ]
  },
  {
   "cell_type": "code",
   "execution_count": 8,
   "id": "a2d8c874",
   "metadata": {
    "scrolled": false
   },
   "outputs": [
    {
     "data": {
      "text/html": [
       "<pre style=\"white-space:pre;overflow-x:auto;line-height:normal;font-family:Menlo,'DejaVu Sans Mono',consolas,'Courier New',monospace\">Getting results from database\n",
       "\n",
       "</pre>\n"
      ],
      "text/plain": [
       "Getting results from database\n",
       "\n"
      ]
     },
     "metadata": {},
     "output_type": "display_data"
    },
    {
     "data": {
      "text/html": [
       "<pre style=\"white-space:pre;overflow-x:auto;line-height:normal;font-family:Menlo,'DejaVu Sans Mono',consolas,'Courier New',monospace\">Waiting for results\n",
       "</pre>\n"
      ],
      "text/plain": [
       "Waiting for results\n"
      ]
     },
     "metadata": {},
     "output_type": "display_data"
    },
    {
     "data": {
      "text/html": [
       "<pre style=\"white-space:pre;overflow-x:auto;line-height:normal;font-family:Menlo,'DejaVu Sans Mono',consolas,'Courier New',monospace\">\n",
       "                        Total execution time: <span style=\"color: #008080; text-decoration-color: #008080; font-weight: bold\">0</span>\n",
       "                        min <span style=\"color: #008080; text-decoration-color: #008080; font-weight: bold\">3.638</span> sec <span style=\"color: #008080; text-decoration-color: #008080; font-weight: bold\">3638</span> ms\n",
       "                        \n",
       "</pre>\n"
      ],
      "text/plain": [
       "\n",
       "                        Total execution time: \u001b[1;36m0\u001b[0m\n",
       "                        min \u001b[1;36m3.638\u001b[0m sec \u001b[1;36m3638\u001b[0m ms\n",
       "                        \n"
      ]
     },
     "metadata": {},
     "output_type": "display_data"
    },
    {
     "data": {
      "text/html": [
       "<pre style=\"white-space:pre;overflow-x:auto;line-height:normal;font-family:Menlo,'DejaVu Sans Mono',consolas,'Courier New',monospace\">    total : <span style=\"color: #008080; text-decoration-color: #008080; font-weight: bold\">3716</span>    \n",
       "</pre>\n"
      ],
      "text/plain": [
       "    total : \u001b[1;36m3716\u001b[0m    \n"
      ]
     },
     "metadata": {},
     "output_type": "display_data"
    },
    {
     "data": {
      "text/html": [
       "<pre style=\"white-space:pre;overflow-x:auto;line-height:normal;font-family:Menlo,'DejaVu Sans Mono',consolas,'Courier New',monospace\">  files : <span style=\"color: #008080; text-decoration-color: #008080; font-weight: bold\">4099477</span>   \n",
       "</pre>\n"
      ],
      "text/plain": [
       "  files : \u001b[1;36m4099477\u001b[0m   \n"
      ]
     },
     "metadata": {},
     "output_type": "display_data"
    },
    {
     "data": {
      "text/html": [
       "<style type=\"text/css\">\n",
       "#T_7b199_ th {\n",
       "  background-color: #000066;\n",
       "  color: white;\n",
       "  text-align: left;\n",
       "}\n",
       "#T_7b199_ td {\n",
       "  text-align: left;\n",
       "  border-bottom: 1px solid black;\n",
       "}\n",
       "</style>\n",
       "<table id=\"T_7b199_\" style='display:inline'>\n",
       "  <thead>\n",
       "    <tr>\n",
       "      <th class=\"col_heading level0 col0\" >researchsubject_identifier_system</th>\n",
       "      <th class=\"col_heading level0 col1\" >count</th>\n",
       "    </tr>\n",
       "  </thead>\n",
       "  <tbody>\n",
       "    <tr>\n",
       "      <td id=\"T_7b199_row0_col0\" class=\"data row0 col0\" >GDC</td>\n",
       "      <td id=\"T_7b199_row0_col1\" class=\"data row0 col1\" >1454</td>\n",
       "    </tr>\n",
       "    <tr>\n",
       "      <td id=\"T_7b199_row1_col0\" class=\"data row1 col0\" >PDC</td>\n",
       "      <td id=\"T_7b199_row1_col1\" class=\"data row1 col1\" >309</td>\n",
       "    </tr>\n",
       "    <tr>\n",
       "      <td id=\"T_7b199_row2_col0\" class=\"data row2 col0\" >IDC</td>\n",
       "      <td id=\"T_7b199_row2_col1\" class=\"data row2 col1\" >1953</td>\n",
       "    </tr>\n",
       "  </tbody>\n",
       "</table>\n",
       "<style type=\"text/css\">\n",
       "#T_0ca69_ th {\n",
       "  background-color: #000066;\n",
       "  color: white;\n",
       "  text-align: left;\n",
       "}\n",
       "#T_0ca69_ td {\n",
       "  text-align: left;\n",
       "  border-bottom: 1px solid black;\n",
       "}\n",
       "</style>\n",
       "<table id=\"T_0ca69_\" style='display:inline'>\n",
       "  <thead>\n",
       "    <tr>\n",
       "      <th class=\"col_heading level0 col0\" >primary_diagnosis_condition</th>\n",
       "      <th class=\"col_heading level0 col1\" >count</th>\n",
       "    </tr>\n",
       "  </thead>\n",
       "  <tbody>\n",
       "    <tr>\n",
       "      <td id=\"T_0ca69_row0_col0\" class=\"data row0 col0\" >Gliomas</td>\n",
       "      <td id=\"T_0ca69_row0_col1\" class=\"data row0 col1\" >1246</td>\n",
       "    </tr>\n",
       "    <tr>\n",
       "      <td id=\"T_0ca69_row1_col0\" class=\"data row1 col0\" >Glioblastoma</td>\n",
       "      <td id=\"T_0ca69_row1_col1\" class=\"data row1 col1\" >100</td>\n",
       "    </tr>\n",
       "    <tr>\n",
       "      <td id=\"T_0ca69_row2_col0\" class=\"data row2 col0\" >None</td>\n",
       "      <td id=\"T_0ca69_row2_col1\" class=\"data row2 col1\" >1953</td>\n",
       "    </tr>\n",
       "    <tr>\n",
       "      <td id=\"T_0ca69_row3_col0\" class=\"data row3 col0\" >Pediatric/AYA Brain Tumors</td>\n",
       "      <td id=\"T_0ca69_row3_col1\" class=\"data row3 col1\" >199</td>\n",
       "    </tr>\n",
       "    <tr>\n",
       "      <td id=\"T_0ca69_row4_col0\" class=\"data row4 col0\" >Not Applicable</td>\n",
       "      <td id=\"T_0ca69_row4_col1\" class=\"data row4 col1\" >9</td>\n",
       "    </tr>\n",
       "    <tr>\n",
       "      <td id=\"T_0ca69_row5_col0\" class=\"data row5 col0\" >Not Reported</td>\n",
       "      <td id=\"T_0ca69_row5_col1\" class=\"data row5 col1\" >11</td>\n",
       "    </tr>\n",
       "    <tr>\n",
       "      <td id=\"T_0ca69_row6_col0\" class=\"data row6 col0\" >Germ Cell Neoplasms</td>\n",
       "      <td id=\"T_0ca69_row6_col1\" class=\"data row6 col1\" >104</td>\n",
       "    </tr>\n",
       "    <tr>\n",
       "      <td id=\"T_0ca69_row7_col0\" class=\"data row7 col0\" >Neoplasms, NOS</td>\n",
       "      <td id=\"T_0ca69_row7_col1\" class=\"data row7 col1\" >66</td>\n",
       "    </tr>\n",
       "    <tr>\n",
       "      <td id=\"T_0ca69_row8_col0\" class=\"data row8 col0\" >Other</td>\n",
       "      <td id=\"T_0ca69_row8_col1\" class=\"data row8 col1\" >10</td>\n",
       "    </tr>\n",
       "    <tr>\n",
       "      <td id=\"T_0ca69_row9_col0\" class=\"data row9 col0\" >Mature B-Cell Lymphomas</td>\n",
       "      <td id=\"T_0ca69_row9_col1\" class=\"data row9 col1\" >2</td>\n",
       "    </tr>\n",
       "    <tr>\n",
       "      <td id=\"T_0ca69_row10_col0\" class=\"data row10 col0\" >Malignant Lymphomas, NOS or Diffuse</td>\n",
       "      <td id=\"T_0ca69_row10_col1\" class=\"data row10 col1\" >14</td>\n",
       "    </tr>\n",
       "    <tr>\n",
       "      <td id=\"T_0ca69_row11_col0\" class=\"data row11 col0\" >Neuroepitheliomatous Neoplasms</td>\n",
       "      <td id=\"T_0ca69_row11_col1\" class=\"data row11 col1\" >2</td>\n",
       "    </tr>\n",
       "  </tbody>\n",
       "</table>\n",
       "<style type=\"text/css\">\n",
       "#T_b08f5_ th {\n",
       "  background-color: #000066;\n",
       "  color: white;\n",
       "  text-align: left;\n",
       "}\n",
       "#T_b08f5_ td {\n",
       "  text-align: left;\n",
       "  border-bottom: 1px solid black;\n",
       "}\n",
       "</style>\n",
       "<table id=\"T_b08f5_\" style='display:inline'>\n",
       "  <thead>\n",
       "    <tr>\n",
       "      <th class=\"col_heading level0 col0\" >primary_diagnosis_site</th>\n",
       "      <th class=\"col_heading level0 col1\" >count</th>\n",
       "    </tr>\n",
       "  </thead>\n",
       "  <tbody>\n",
       "    <tr>\n",
       "      <td id=\"T_b08f5_row0_col0\" class=\"data row0 col0\" >Brain</td>\n",
       "      <td id=\"T_b08f5_row0_col1\" class=\"data row0 col1\" >3716</td>\n",
       "    </tr>\n",
       "  </tbody>\n",
       "</table>\n"
      ]
     },
     "metadata": {},
     "output_type": "display_data"
    },
    {
     "data": {
      "text/plain": []
     },
     "execution_count": 8,
     "metadata": {},
     "output_type": "execute_result"
    }
   ],
   "source": [
    "myquery.researchsubject.count.run()"
   ]
  },
  {
   "cell_type": "markdown",
   "id": "4564beee",
   "metadata": {},
   "source": [
    "\n",
    "\n",
    "\n",
    "---\n",
    "\n",
    "<div class=\"cdadefine\" style=\"background-color:#add9e5;color:black;padding:20px;\">\n",
    "\n",
    "<h3>ResearchSubject Field Definitions</h3>\n",
    "\n",
    "<i>A research subject is the entity of interest in a specific research study or project, typically a human being or an animal, but can also be a device, group of humans or animals, or a tissue sample. Human research subjects are usually not traceable to a particular person to protect the subjects privacy. This entity plays the role of the case_id in existing data. An individual who participates in 3 studies will have 3 researchsubject IDs</i>\n",
    "    \n",
    "<style type=\"text/css\">\n",
    ".tg  {border-collapse:collapse;border-spacing:0;margin:0px auto;}\n",
    ".tg td{border-color:black;border-style:solid;border-width:1px;font-family:noto sans, sans-serif;font-size:14px;\n",
    "  overflow:hidden;padding:10px 5px;word-break:normal;}\n",
    ".tg th{border-color:black;border-style:solid;border-width:1px;font-family:noto sans, sans-serif;font-size:14px;\n",
    "  font-weight:normal;overflow:hidden;padding:10px 5px;word-break:normal;}\n",
    ".tg .tg-7zrl{text-align:left;vertical-align:bottom}\n",
    ".tg .tg-0lax{text-align:left;vertical-align:top}\n",
    "</style>\n",
    "<table class=\"tg\">\n",
    "<tbody>\n",
    "  <tr>\n",
    "    <td class=\"tg-0lax\"> id (`total`)</td>\n",
    "    <td class=\"tg-0lax\"> The overall number of researchsubjects returned.</td>\n",
    "  </tr>\n",
    "  <tr>\n",
    "    <td class=\"tg-0lax\"> files</td>\n",
    "    <td class=\"tg-0lax\"> The number of files that match this search.</td>\n",
    "  </tr>\n",
    "  <tr>\n",
    "    <td class=\"tg-7zrl\">identifier.value(`system`)</td>\n",
    "    <td class=\"tg-0lax\"> The identifier for the data provider.</td>\n",
    "  </tr>\n",
    "  <tr>\n",
    "    <td class=\"tg-7zrl\">primary_diagnosis_condition</td>\n",
    "    <td class=\"tg-0lax\"> The text term used to describe the type of malignant disease.</td>\n",
    "  </tr>\n",
    "  <tr>\n",
    "    <td class=\"tg-7zrl\">primary_diagnosis_site</td>\n",
    "    <td class=\"tg-0lax\"> The text term used to describe the primary site of disease.</td>\n",
    "  </tr>\n",
    "</tbody>\n",
    "</table>\n",
    "</div>\n",
    "    \n",
    "---"
   ]
  },
  {
   "cell_type": "markdown",
   "id": "8a67cf09",
   "metadata": {},
   "source": [
    "### diagnosis\n",
    "\n",
    "The diagnosis endpoint is an extension of the researchsubject endpoint, and returns information about researchsubjects that have a diagnosis that meets our search criteria. :"
   ]
  },
  {
   "cell_type": "code",
   "execution_count": 9,
   "id": "7770d68c",
   "metadata": {
    "scrolled": false
   },
   "outputs": [
    {
     "data": {
      "text/html": [
       "<pre style=\"white-space:pre;overflow-x:auto;line-height:normal;font-family:Menlo,'DejaVu Sans Mono',consolas,'Courier New',monospace\">Getting results from database\n",
       "\n",
       "</pre>\n"
      ],
      "text/plain": [
       "Getting results from database\n",
       "\n"
      ]
     },
     "metadata": {},
     "output_type": "display_data"
    },
    {
     "data": {
      "text/html": [
       "<pre style=\"white-space:pre;overflow-x:auto;line-height:normal;font-family:Menlo,'DejaVu Sans Mono',consolas,'Courier New',monospace\">Waiting for results\n",
       "</pre>\n"
      ],
      "text/plain": [
       "Waiting for results\n"
      ]
     },
     "metadata": {},
     "output_type": "display_data"
    },
    {
     "data": {
      "text/html": [
       "<pre style=\"white-space:pre;overflow-x:auto;line-height:normal;font-family:Menlo,'DejaVu Sans Mono',consolas,'Courier New',monospace\">\n",
       "                        Total execution time: <span style=\"color: #008080; text-decoration-color: #008080; font-weight: bold\">0</span>\n",
       "                        min <span style=\"color: #008080; text-decoration-color: #008080; font-weight: bold\">3.71</span> sec <span style=\"color: #008080; text-decoration-color: #008080; font-weight: bold\">3710</span> ms\n",
       "                        \n",
       "</pre>\n"
      ],
      "text/plain": [
       "\n",
       "                        Total execution time: \u001b[1;36m0\u001b[0m\n",
       "                        min \u001b[1;36m3.71\u001b[0m sec \u001b[1;36m3710\u001b[0m ms\n",
       "                        \n"
      ]
     },
     "metadata": {},
     "output_type": "display_data"
    },
    {
     "data": {
      "text/html": [
       "<pre style=\"white-space:pre;overflow-x:auto;line-height:normal;font-family:Menlo,'DejaVu Sans Mono',consolas,'Courier New',monospace\">    total : <span style=\"color: #008080; text-decoration-color: #008080; font-weight: bold\">1756</span>    \n",
       "</pre>\n"
      ],
      "text/plain": [
       "    total : \u001b[1;36m1756\u001b[0m    \n"
      ]
     },
     "metadata": {},
     "output_type": "display_data"
    },
    {
     "data": {
      "text/html": [
       "<style type=\"text/css\">\n",
       "#T_bbdeb_ th {\n",
       "  background-color: #000066;\n",
       "  color: white;\n",
       "  text-align: left;\n",
       "}\n",
       "#T_bbdeb_ td {\n",
       "  text-align: left;\n",
       "  border-bottom: 1px solid black;\n",
       "}\n",
       "</style>\n",
       "<table id=\"T_bbdeb_\" style='display:inline'>\n",
       "  <thead>\n",
       "    <tr>\n",
       "      <th class=\"col_heading level0 col0\" >diagnosis_identifier_system</th>\n",
       "      <th class=\"col_heading level0 col1\" >count</th>\n",
       "    </tr>\n",
       "  </thead>\n",
       "  <tbody>\n",
       "    <tr>\n",
       "      <td id=\"T_bbdeb_row0_col0\" class=\"data row0 col0\" >GDC</td>\n",
       "      <td id=\"T_bbdeb_row0_col1\" class=\"data row0 col1\" >1427</td>\n",
       "    </tr>\n",
       "    <tr>\n",
       "      <td id=\"T_bbdeb_row1_col0\" class=\"data row1 col0\" >PDC</td>\n",
       "      <td id=\"T_bbdeb_row1_col1\" class=\"data row1 col1\" >329</td>\n",
       "    </tr>\n",
       "  </tbody>\n",
       "</table>\n",
       "<style type=\"text/css\">\n",
       "#T_7be30_ th {\n",
       "  background-color: #000066;\n",
       "  color: white;\n",
       "  text-align: left;\n",
       "}\n",
       "#T_7be30_ td {\n",
       "  text-align: left;\n",
       "  border-bottom: 1px solid black;\n",
       "}\n",
       "</style>\n",
       "<table id=\"T_7be30_\" style='display:inline'>\n",
       "  <thead>\n",
       "    <tr>\n",
       "      <th class=\"col_heading level0 col0\" >primary_diagnosis</th>\n",
       "      <th class=\"col_heading level0 col1\" >count</th>\n",
       "    </tr>\n",
       "  </thead>\n",
       "  <tbody>\n",
       "    <tr>\n",
       "      <td id=\"T_7be30_row0_col0\" class=\"data row0 col0\" >Glioblastoma</td>\n",
       "      <td id=\"T_7be30_row0_col1\" class=\"data row0 col1\" >821</td>\n",
       "    </tr>\n",
       "    <tr>\n",
       "      <td id=\"T_7be30_row1_col0\" class=\"data row1 col0\" >Oligodendroglioma, NOS</td>\n",
       "      <td id=\"T_7be30_row1_col1\" class=\"data row1 col1\" >112</td>\n",
       "    </tr>\n",
       "    <tr>\n",
       "      <td id=\"T_7be30_row2_col0\" class=\"data row2 col0\" >Mixed glioma</td>\n",
       "      <td id=\"T_7be30_row2_col1\" class=\"data row2 col1\" >131</td>\n",
       "    </tr>\n",
       "    <tr>\n",
       "      <td id=\"T_7be30_row3_col0\" class=\"data row3 col0\" >Glioma, NOS</td>\n",
       "      <td id=\"T_7be30_row3_col1\" class=\"data row3 col1\" >93</td>\n",
       "    </tr>\n",
       "    <tr>\n",
       "      <td id=\"T_7be30_row4_col0\" class=\"data row4 col0\" >Astrocytoma, anaplastic</td>\n",
       "      <td id=\"T_7be30_row4_col1\" class=\"data row4 col1\" >130</td>\n",
       "    </tr>\n",
       "    <tr>\n",
       "      <td id=\"T_7be30_row5_col0\" class=\"data row5 col0\" >Ganglioglioma, NOS</td>\n",
       "      <td id=\"T_7be30_row5_col1\" class=\"data row5 col1\" >18</td>\n",
       "    </tr>\n",
       "    <tr>\n",
       "      <td id=\"T_7be30_row6_col0\" class=\"data row6 col0\" >Neoplasm, uncertain whether benign or malignant</td>\n",
       "      <td id=\"T_7be30_row6_col1\" class=\"data row6 col1\" >13</td>\n",
       "    </tr>\n",
       "    <tr>\n",
       "      <td id=\"T_7be30_row7_col0\" class=\"data row7 col0\" >Oligodendroglioma, anaplastic</td>\n",
       "      <td id=\"T_7be30_row7_col1\" class=\"data row7 col1\" >78</td>\n",
       "    </tr>\n",
       "    <tr>\n",
       "      <td id=\"T_7be30_row8_col0\" class=\"data row8 col0\" >Mixed germ cell tumor</td>\n",
       "      <td id=\"T_7be30_row8_col1\" class=\"data row8 col1\" >79</td>\n",
       "    </tr>\n",
       "    <tr>\n",
       "      <td id=\"T_7be30_row9_col0\" class=\"data row9 col0\" >Glioma, malignant</td>\n",
       "      <td id=\"T_7be30_row9_col1\" class=\"data row9 col1\" >26</td>\n",
       "    </tr>\n",
       "    <tr>\n",
       "      <td id=\"T_7be30_row10_col0\" class=\"data row10 col0\" >Astrocytoma, NOS</td>\n",
       "      <td id=\"T_7be30_row10_col1\" class=\"data row10 col1\" >64</td>\n",
       "    </tr>\n",
       "    <tr>\n",
       "      <td id=\"T_7be30_row11_col0\" class=\"data row11 col0\" >Neoplasm, malignant</td>\n",
       "      <td id=\"T_7be30_row11_col1\" class=\"data row11 col1\" >50</td>\n",
       "    </tr>\n",
       "    <tr>\n",
       "      <td id=\"T_7be30_row12_col0\" class=\"data row12 col0\" >Ependymoma, NOS</td>\n",
       "      <td id=\"T_7be30_row12_col1\" class=\"data row12 col1\" >32</td>\n",
       "    </tr>\n",
       "    <tr>\n",
       "      <td id=\"T_7be30_row13_col0\" class=\"data row13 col0\" >Malignant lymphoma, NOS</td>\n",
       "      <td id=\"T_7be30_row13_col1\" class=\"data row13 col1\" >14</td>\n",
       "    </tr>\n",
       "    <tr>\n",
       "      <td id=\"T_7be30_row14_col0\" class=\"data row14 col0\" >Malignant lymphoma, large B-cell, diffuse, NOS</td>\n",
       "      <td id=\"T_7be30_row14_col1\" class=\"data row14 col1\" >2</td>\n",
       "    </tr>\n",
       "    <tr>\n",
       "      <td id=\"T_7be30_row15_col0\" class=\"data row15 col0\" >Not Reported</td>\n",
       "      <td id=\"T_7be30_row15_col1\" class=\"data row15 col1\" >10</td>\n",
       "    </tr>\n",
       "    <tr>\n",
       "      <td id=\"T_7be30_row16_col0\" class=\"data row16 col0\" >Craniopharyngioma</td>\n",
       "      <td id=\"T_7be30_row16_col1\" class=\"data row16 col1\" >16</td>\n",
       "    </tr>\n",
       "    <tr>\n",
       "      <td id=\"T_7be30_row17_col0\" class=\"data row17 col0\" >Germinoma</td>\n",
       "      <td id=\"T_7be30_row17_col1\" class=\"data row17 col1\" >4</td>\n",
       "    </tr>\n",
       "    <tr>\n",
       "      <td id=\"T_7be30_row18_col0\" class=\"data row18 col0\" >Embryonal carcinoma, NOS</td>\n",
       "      <td id=\"T_7be30_row18_col1\" class=\"data row18 col1\" >8</td>\n",
       "    </tr>\n",
       "    <tr>\n",
       "      <td id=\"T_7be30_row19_col0\" class=\"data row19 col0\" >Medulloblastoma, NOS</td>\n",
       "      <td id=\"T_7be30_row19_col1\" class=\"data row19 col1\" >22</td>\n",
       "    </tr>\n",
       "    <tr>\n",
       "      <td id=\"T_7be30_row20_col0\" class=\"data row20 col0\" >Teratoma, benign</td>\n",
       "      <td id=\"T_7be30_row20_col1\" class=\"data row20 col1\" >3</td>\n",
       "    </tr>\n",
       "    <tr>\n",
       "      <td id=\"T_7be30_row21_col0\" class=\"data row21 col0\" >Yolk sac tumor</td>\n",
       "      <td id=\"T_7be30_row21_col1\" class=\"data row21 col1\" >8</td>\n",
       "    </tr>\n",
       "    <tr>\n",
       "      <td id=\"T_7be30_row22_col0\" class=\"data row22 col0\" >Atypical teratoid/rhabdoid tumor</td>\n",
       "      <td id=\"T_7be30_row22_col1\" class=\"data row22 col1\" >12</td>\n",
       "    </tr>\n",
       "    <tr>\n",
       "      <td id=\"T_7be30_row23_col0\" class=\"data row23 col0\" >Teratoma, malignant, NOS</td>\n",
       "      <td id=\"T_7be30_row23_col1\" class=\"data row23 col1\" >2</td>\n",
       "    </tr>\n",
       "    <tr>\n",
       "      <td id=\"T_7be30_row24_col0\" class=\"data row24 col0\" >Glioblastoma multiforme</td>\n",
       "      <td id=\"T_7be30_row24_col1\" class=\"data row24 col1\" >4</td>\n",
       "    </tr>\n",
       "    <tr>\n",
       "      <td id=\"T_7be30_row25_col0\" class=\"data row25 col0\" >Gliosarcoma</td>\n",
       "      <td id=\"T_7be30_row25_col1\" class=\"data row25 col1\" >1</td>\n",
       "    </tr>\n",
       "    <tr>\n",
       "      <td id=\"T_7be30_row26_col0\" class=\"data row26 col0\" >Papillary glioneuronal tumor</td>\n",
       "      <td id=\"T_7be30_row26_col1\" class=\"data row26 col1\" >2</td>\n",
       "    </tr>\n",
       "    <tr>\n",
       "      <td id=\"T_7be30_row27_col0\" class=\"data row27 col0\" >Oligoastrocytoma</td>\n",
       "      <td id=\"T_7be30_row27_col1\" class=\"data row27 col1\" >1</td>\n",
       "    </tr>\n",
       "  </tbody>\n",
       "</table>\n",
       "<style type=\"text/css\">\n",
       "#T_f25cb_ th {\n",
       "  background-color: #000066;\n",
       "  color: white;\n",
       "  text-align: left;\n",
       "}\n",
       "#T_f25cb_ td {\n",
       "  text-align: left;\n",
       "  border-bottom: 1px solid black;\n",
       "}\n",
       "</style>\n",
       "<table id=\"T_f25cb_\" style='display:inline'>\n",
       "  <thead>\n",
       "    <tr>\n",
       "      <th class=\"col_heading level0 col0\" >stage</th>\n",
       "      <th class=\"col_heading level0 col1\" >count</th>\n",
       "    </tr>\n",
       "  </thead>\n",
       "  <tbody>\n",
       "    <tr>\n",
       "      <td id=\"T_f25cb_row0_col0\" class=\"data row0 col0\" >None</td>\n",
       "      <td id=\"T_f25cb_row0_col1\" class=\"data row0 col1\" >1427</td>\n",
       "    </tr>\n",
       "    <tr>\n",
       "      <td id=\"T_f25cb_row1_col0\" class=\"data row1 col0\" >Not Reported</td>\n",
       "      <td id=\"T_f25cb_row1_col1\" class=\"data row1 col1\" >110</td>\n",
       "    </tr>\n",
       "    <tr>\n",
       "      <td id=\"T_f25cb_row2_col0\" class=\"data row2 col0\" >Unknown</td>\n",
       "      <td id=\"T_f25cb_row2_col1\" class=\"data row2 col1\" >219</td>\n",
       "    </tr>\n",
       "  </tbody>\n",
       "</table>\n",
       "<style type=\"text/css\">\n",
       "#T_0664b_ th {\n",
       "  background-color: #000066;\n",
       "  color: white;\n",
       "  text-align: left;\n",
       "}\n",
       "#T_0664b_ td {\n",
       "  text-align: left;\n",
       "  border-bottom: 1px solid black;\n",
       "}\n",
       "</style>\n",
       "<table id=\"T_0664b_\" style='display:inline'>\n",
       "  <thead>\n",
       "    <tr>\n",
       "      <th class=\"col_heading level0 col0\" >grade</th>\n",
       "      <th class=\"col_heading level0 col1\" >count</th>\n",
       "    </tr>\n",
       "  </thead>\n",
       "  <tbody>\n",
       "    <tr>\n",
       "      <td id=\"T_0664b_row0_col0\" class=\"data row0 col0\" >Not Reported</td>\n",
       "      <td id=\"T_0664b_row0_col1\" class=\"data row0 col1\" >392</td>\n",
       "    </tr>\n",
       "    <tr>\n",
       "      <td id=\"T_0664b_row1_col0\" class=\"data row1 col0\" >G1</td>\n",
       "      <td id=\"T_0664b_row1_col1\" class=\"data row1 col1\" >98</td>\n",
       "    </tr>\n",
       "    <tr>\n",
       "      <td id=\"T_0664b_row2_col0\" class=\"data row2 col0\" >not reported</td>\n",
       "      <td id=\"T_0664b_row2_col1\" class=\"data row2 col1\" >1116</td>\n",
       "    </tr>\n",
       "    <tr>\n",
       "      <td id=\"T_0664b_row3_col0\" class=\"data row3 col0\" >G2</td>\n",
       "      <td id=\"T_0664b_row3_col1\" class=\"data row3 col1\" >52</td>\n",
       "    </tr>\n",
       "    <tr>\n",
       "      <td id=\"T_0664b_row4_col0\" class=\"data row4 col0\" >G4</td>\n",
       "      <td id=\"T_0664b_row4_col1\" class=\"data row4 col1\" >36</td>\n",
       "    </tr>\n",
       "    <tr>\n",
       "      <td id=\"T_0664b_row5_col0\" class=\"data row5 col0\" >Low Grade</td>\n",
       "      <td id=\"T_0664b_row5_col1\" class=\"data row5 col1\" >9</td>\n",
       "    </tr>\n",
       "    <tr>\n",
       "      <td id=\"T_0664b_row6_col0\" class=\"data row6 col0\" >None</td>\n",
       "      <td id=\"T_0664b_row6_col1\" class=\"data row6 col1\" >27</td>\n",
       "    </tr>\n",
       "    <tr>\n",
       "      <td id=\"T_0664b_row7_col0\" class=\"data row7 col0\" >High Grade</td>\n",
       "      <td id=\"T_0664b_row7_col1\" class=\"data row7 col1\" >26</td>\n",
       "    </tr>\n",
       "  </tbody>\n",
       "</table>\n"
      ]
     },
     "metadata": {},
     "output_type": "display_data"
    },
    {
     "data": {
      "text/plain": []
     },
     "execution_count": 9,
     "metadata": {},
     "output_type": "execute_result"
    }
   ],
   "source": [
    "myquery.diagnosis.count.run()"
   ]
  },
  {
   "cell_type": "markdown",
   "id": "eb73357c",
   "metadata": {},
   "source": [
    "---\n",
    "\n",
    "<div class=\"cdadefine\" style=\"background-color:#add9e5;color:black;padding:20px;\">\n",
    "\n",
    "<h3>Diagnosis Field Definitions</h3>\n",
    "\n",
    "<i>A collection of characteristics that describe an abnormal condition of the body as assessed at a point in time. May be used to capture information about neoplastic and non-neoplastic conditions.</i>\n",
    "\n",
    "<style type=\"text/css\">\n",
    ".tg  {border-collapse:collapse;border-spacing:0;margin:0px auto;}\n",
    ".tg td{border-color:black;border-style:solid;border-width:1px;font-family:noto sans, sans-serif;font-size:14px;\n",
    "  overflow:hidden;padding:10px 5px;word-break:normal;}\n",
    ".tg th{border-color:black;border-style:solid;border-width:1px;font-family:noto sans, sans-serif;font-size:14px;\n",
    "  font-weight:normal;overflow:hidden;padding:10px 5px;word-break:normal;}\n",
    ".tg .tg-za14{border-color:inherit;text-align:left;vertical-align:bottom}\n",
    ".tg .tg-0pky{border-color:inherit;text-align:left;vertical-align:top}\n",
    ".tg .tg-7zrl{text-align:left;vertical-align:bottom}\n",
    ".tg .tg-0lax{text-align:left;vertical-align:top}\n",
    "</style>\n",
    "<table class=\"tg\">\n",
    "<tbody>\n",
    "  <tr>\n",
    "    <td class=\"tg-0lax\"> id (`total`)</td>\n",
    "    <td class=\"tg-0lax\"> The overall number of diagnoses returned.</td>\n",
    "  </tr>\n",
    "  <tr>\n",
    "    <td class=\"tg-7zrl\">identifier.value(`system`)</td>\n",
    "    <td class=\"tg-0lax\"> The identifier for the data provider.</td>\n",
    "  </tr>\n",
    "  <tr>\n",
    "    <td class=\"tg-za14\">primary_diagnosis</td>\n",
    "    <td class=\"tg-0pky\"> The diagnosis instance that qualified a subject for inclusion on a ResearchProject.</td>\n",
    "  </tr>\n",
    "  <tr>\n",
    "    <td class=\"tg-za14\">stage</td>\n",
    "    <td class=\"tg-0pky\"> The extent of a cancer in the body.</td>\n",
    "  </tr>\n",
    "  <tr>\n",
    "    <td class=\"tg-7zrl\">grade</td>\n",
    "    <td class=\"tg-0lax\"> The degree of abnormality of cancer cells.</td>\n",
    "  </tr>\n",
    "</tbody>\n",
    "</table>\n",
    "\n",
    "\n",
    "</div>\n",
    "    \n",
    "---\n"
   ]
  },
  {
   "cell_type": "markdown",
   "id": "97442718",
   "metadata": {},
   "source": [
    "### treatment\n",
    "\n",
    "The treatment endpoint is an extension of diagnosis and returns information about treatments undertaken on research subjects that have a given diagnosis that meets our search criteria:"
   ]
  },
  {
   "cell_type": "code",
   "execution_count": 10,
   "id": "be1ac64f",
   "metadata": {
    "scrolled": true
   },
   "outputs": [
    {
     "data": {
      "text/html": [
       "<pre style=\"white-space:pre;overflow-x:auto;line-height:normal;font-family:Menlo,'DejaVu Sans Mono',consolas,'Courier New',monospace\">Getting results from database\n",
       "\n",
       "</pre>\n"
      ],
      "text/plain": [
       "Getting results from database\n",
       "\n"
      ]
     },
     "metadata": {},
     "output_type": "display_data"
    },
    {
     "data": {
      "text/html": [
       "<pre style=\"white-space:pre;overflow-x:auto;line-height:normal;font-family:Menlo,'DejaVu Sans Mono',consolas,'Courier New',monospace\">Waiting for results\n",
       "</pre>\n"
      ],
      "text/plain": [
       "Waiting for results\n"
      ]
     },
     "metadata": {},
     "output_type": "display_data"
    },
    {
     "data": {
      "text/html": [
       "<pre style=\"white-space:pre;overflow-x:auto;line-height:normal;font-family:Menlo,'DejaVu Sans Mono',consolas,'Courier New',monospace\">\n",
       "                        Total execution time: <span style=\"color: #008080; text-decoration-color: #008080; font-weight: bold\">0</span>\n",
       "                        min <span style=\"color: #008080; text-decoration-color: #008080; font-weight: bold\">3.588</span> sec <span style=\"color: #008080; text-decoration-color: #008080; font-weight: bold\">3588</span> ms\n",
       "                        \n",
       "</pre>\n"
      ],
      "text/plain": [
       "\n",
       "                        Total execution time: \u001b[1;36m0\u001b[0m\n",
       "                        min \u001b[1;36m3.588\u001b[0m sec \u001b[1;36m3588\u001b[0m ms\n",
       "                        \n"
      ]
     },
     "metadata": {},
     "output_type": "display_data"
    },
    {
     "data": {
      "text/html": [
       "<pre style=\"white-space:pre;overflow-x:auto;line-height:normal;font-family:Menlo,'DejaVu Sans Mono',consolas,'Courier New',monospace\">    total : <span style=\"color: #008080; text-decoration-color: #008080; font-weight: bold\">2386</span>    \n",
       "</pre>\n"
      ],
      "text/plain": [
       "    total : \u001b[1;36m2386\u001b[0m    \n"
      ]
     },
     "metadata": {},
     "output_type": "display_data"
    },
    {
     "data": {
      "text/html": [
       "<style type=\"text/css\">\n",
       "#T_11bee_ th {\n",
       "  background-color: #000066;\n",
       "  color: white;\n",
       "  text-align: left;\n",
       "}\n",
       "#T_11bee_ td {\n",
       "  text-align: left;\n",
       "  border-bottom: 1px solid black;\n",
       "}\n",
       "</style>\n",
       "<table id=\"T_11bee_\" style='display:inline'>\n",
       "  <thead>\n",
       "    <tr>\n",
       "      <th class=\"col_heading level0 col0\" >treatment_identifier_system</th>\n",
       "      <th class=\"col_heading level0 col1\" >count</th>\n",
       "    </tr>\n",
       "  </thead>\n",
       "  <tbody>\n",
       "    <tr>\n",
       "      <td id=\"T_11bee_row0_col0\" class=\"data row0 col0\" >GDC</td>\n",
       "      <td id=\"T_11bee_row0_col1\" class=\"data row0 col1\" >2386</td>\n",
       "    </tr>\n",
       "  </tbody>\n",
       "</table>\n",
       "<style type=\"text/css\">\n",
       "#T_bdb4e_ th {\n",
       "  background-color: #000066;\n",
       "  color: white;\n",
       "  text-align: left;\n",
       "}\n",
       "#T_bdb4e_ td {\n",
       "  text-align: left;\n",
       "  border-bottom: 1px solid black;\n",
       "}\n",
       "</style>\n",
       "<table id=\"T_bdb4e_\" style='display:inline'>\n",
       "  <thead>\n",
       "    <tr>\n",
       "      <th class=\"col_heading level0 col0\" >treatment_type</th>\n",
       "      <th class=\"col_heading level0 col1\" >count</th>\n",
       "    </tr>\n",
       "  </thead>\n",
       "  <tbody>\n",
       "    <tr>\n",
       "      <td id=\"T_bdb4e_row0_col0\" class=\"data row0 col0\" >Radiation Therapy, NOS</td>\n",
       "      <td id=\"T_bdb4e_row0_col1\" class=\"data row0 col1\" >1139</td>\n",
       "    </tr>\n",
       "    <tr>\n",
       "      <td id=\"T_bdb4e_row1_col0\" class=\"data row1 col0\" >Pharmaceutical Therapy, NOS</td>\n",
       "      <td id=\"T_bdb4e_row1_col1\" class=\"data row1 col1\" >1117</td>\n",
       "    </tr>\n",
       "    <tr>\n",
       "      <td id=\"T_bdb4e_row2_col0\" class=\"data row2 col0\" >None</td>\n",
       "      <td id=\"T_bdb4e_row2_col1\" class=\"data row2 col1\" >30</td>\n",
       "    </tr>\n",
       "    <tr>\n",
       "      <td id=\"T_bdb4e_row3_col0\" class=\"data row3 col0\" >Surgery</td>\n",
       "      <td id=\"T_bdb4e_row3_col1\" class=\"data row3 col1\" >23</td>\n",
       "    </tr>\n",
       "    <tr>\n",
       "      <td id=\"T_bdb4e_row4_col0\" class=\"data row4 col0\" >Immunotherapy (Including Vaccines)</td>\n",
       "      <td id=\"T_bdb4e_row4_col1\" class=\"data row4 col1\" >23</td>\n",
       "    </tr>\n",
       "    <tr>\n",
       "      <td id=\"T_bdb4e_row5_col0\" class=\"data row5 col0\" >Targeted Molecular Therapy</td>\n",
       "      <td id=\"T_bdb4e_row5_col1\" class=\"data row5 col1\" >23</td>\n",
       "    </tr>\n",
       "    <tr>\n",
       "      <td id=\"T_bdb4e_row6_col0\" class=\"data row6 col0\" >Chemotherapy</td>\n",
       "      <td id=\"T_bdb4e_row6_col1\" class=\"data row6 col1\" >30</td>\n",
       "    </tr>\n",
       "    <tr>\n",
       "      <td id=\"T_bdb4e_row7_col0\" class=\"data row7 col0\" >Radiation, Proton Beam</td>\n",
       "      <td id=\"T_bdb4e_row7_col1\" class=\"data row7 col1\" >1</td>\n",
       "    </tr>\n",
       "  </tbody>\n",
       "</table>\n",
       "<style type=\"text/css\">\n",
       "#T_de29a_ th {\n",
       "  background-color: #000066;\n",
       "  color: white;\n",
       "  text-align: left;\n",
       "}\n",
       "#T_de29a_ td {\n",
       "  text-align: left;\n",
       "  border-bottom: 1px solid black;\n",
       "}\n",
       "</style>\n",
       "<table id=\"T_de29a_\" style='display:inline'>\n",
       "  <thead>\n",
       "    <tr>\n",
       "      <th class=\"col_heading level0 col0\" >treatment_effect</th>\n",
       "      <th class=\"col_heading level0 col1\" >count</th>\n",
       "    </tr>\n",
       "  </thead>\n",
       "  <tbody>\n",
       "    <tr>\n",
       "      <td id=\"T_de29a_row0_col0\" class=\"data row0 col0\" >None</td>\n",
       "      <td id=\"T_de29a_row0_col1\" class=\"data row0 col1\" >2386</td>\n",
       "    </tr>\n",
       "  </tbody>\n",
       "</table>\n"
      ]
     },
     "metadata": {},
     "output_type": "display_data"
    },
    {
     "data": {
      "text/plain": []
     },
     "execution_count": 10,
     "metadata": {},
     "output_type": "execute_result"
    }
   ],
   "source": [
    "myquery.treatment.count.run()"
   ]
  },
  {
   "cell_type": "markdown",
   "id": "ec5dda7f",
   "metadata": {},
   "source": [
    "\n",
    "---\n",
    "\n",
    "<div class=\"cdadefine\" style=\"background-color:#add9e5;color:black;padding:20px;\">\n",
    "\n",
    "<h3>Treatment Field Definitions</h3>\n",
    "\n",
    "<i><i> Medication administration or other treatment types. A single research subject may have multiple treatments for a single diagnosis, and/or different diagnoses, and different treatments, across different studies</i></i>\n",
    "    \n",
    "<style type=\"text/css\">\n",
    ".tg  {border-collapse:collapse;border-spacing:0;margin:0px auto;}\n",
    ".tg td{border-color:black;border-style:solid;border-width:1px;font-family:noto sans, sans-serif;font-size:14px;\n",
    "  overflow:hidden;padding:10px 5px;word-break:normal;}\n",
    ".tg th{border-color:black;border-style:solid;border-width:1px;font-family:noto sans, sans-serif;font-size:14px;\n",
    "  font-weight:normal;overflow:hidden;padding:10px 5px;word-break:normal;}\n",
    ".tg .tg-za14{border-color:inherit;text-align:left;vertical-align:bottom}\n",
    ".tg .tg-0pky{border-color:inherit;text-align:left;vertical-align:top}\n",
    ".tg .tg-7zrl{text-align:left;vertical-align:bottom}\n",
    ".tg .tg-0lax{text-align:left;vertical-align:top}\n",
    "</style>\n",
    "<table class=\"tg\">\n",
    "<tbody>\n",
    "  <tr>\n",
    "    <td class=\"tg-0lax\"> id (`total`)</td>\n",
    "    <td class=\"tg-0lax\"> The overall number of treatments returned.</td>\n",
    "  </tr>\n",
    "  <tr>\n",
    "    <td class=\"tg-7zrl\">identifier.value(`system`)</td>\n",
    "    <td class=\"tg-0lax\"> The identifier for the data provider.</td>\n",
    "  </tr>\n",
    "  <tr>\n",
    "    <td class=\"tg-za14\">treatment_type</td>\n",
    "    <td class=\"tg-0pky\"> The treatment type including medication/therapeutics or other procedures.</td>\n",
    "  </tr>\n",
    "  <tr>\n",
    "    <td class=\"tg-7zrl\">treatment_effect</td>\n",
    "    <td class=\"tg-0lax\">The effect of a treatment on the diagnosis or tumor. </td>\n",
    "  </tr>\n",
    "</tbody>\n",
    "</table>\n",
    " \n",
    "\n",
    "</div>\n",
    "    \n",
    "---\n",
    "\n",
    "\n"
   ]
  },
  {
   "cell_type": "markdown",
   "id": "9c00bec8",
   "metadata": {},
   "source": [
    "### specimens\n",
    "\n",
    "We can use this same query to see what specimens are available for brain tissue at the CDA:"
   ]
  },
  {
   "cell_type": "code",
   "execution_count": 11,
   "id": "51960eed",
   "metadata": {
    "scrolled": true
   },
   "outputs": [
    {
     "data": {
      "text/html": [
       "<pre style=\"white-space:pre;overflow-x:auto;line-height:normal;font-family:Menlo,'DejaVu Sans Mono',consolas,'Courier New',monospace\">Getting results from database\n",
       "\n",
       "</pre>\n"
      ],
      "text/plain": [
       "Getting results from database\n",
       "\n"
      ]
     },
     "metadata": {},
     "output_type": "display_data"
    },
    {
     "data": {
      "text/html": [
       "<pre style=\"white-space:pre;overflow-x:auto;line-height:normal;font-family:Menlo,'DejaVu Sans Mono',consolas,'Courier New',monospace\">Waiting for results\n",
       "</pre>\n"
      ],
      "text/plain": [
       "Waiting for results\n"
      ]
     },
     "metadata": {},
     "output_type": "display_data"
    },
    {
     "data": {
      "text/html": [
       "<pre style=\"white-space:pre;overflow-x:auto;line-height:normal;font-family:Menlo,'DejaVu Sans Mono',consolas,'Courier New',monospace\">\n",
       "                        Total execution time: <span style=\"color: #008080; text-decoration-color: #008080; font-weight: bold\">0</span>\n",
       "                        min <span style=\"color: #008080; text-decoration-color: #008080; font-weight: bold\">3.675</span> sec <span style=\"color: #008080; text-decoration-color: #008080; font-weight: bold\">3675</span> ms\n",
       "                        \n",
       "</pre>\n"
      ],
      "text/plain": [
       "\n",
       "                        Total execution time: \u001b[1;36m0\u001b[0m\n",
       "                        min \u001b[1;36m3.675\u001b[0m sec \u001b[1;36m3675\u001b[0m ms\n",
       "                        \n"
      ]
     },
     "metadata": {},
     "output_type": "display_data"
    },
    {
     "data": {
      "text/html": [
       "<pre style=\"white-space:pre;overflow-x:auto;line-height:normal;font-family:Menlo,'DejaVu Sans Mono',consolas,'Courier New',monospace\">   total : <span style=\"color: #008080; text-decoration-color: #008080; font-weight: bold\">39201</span>    \n",
       "</pre>\n"
      ],
      "text/plain": [
       "   total : \u001b[1;36m39201\u001b[0m    \n"
      ]
     },
     "metadata": {},
     "output_type": "display_data"
    },
    {
     "data": {
      "text/html": [
       "<pre style=\"white-space:pre;overflow-x:auto;line-height:normal;font-family:Menlo,'DejaVu Sans Mono',consolas,'Courier New',monospace\">   files : <span style=\"color: #008080; text-decoration-color: #008080; font-weight: bold\">50541</span>    \n",
       "</pre>\n"
      ],
      "text/plain": [
       "   files : \u001b[1;36m50541\u001b[0m    \n"
      ]
     },
     "metadata": {},
     "output_type": "display_data"
    },
    {
     "data": {
      "text/html": [
       "<style type=\"text/css\">\n",
       "#T_78e9d_ th {\n",
       "  background-color: #000066;\n",
       "  color: white;\n",
       "  text-align: left;\n",
       "}\n",
       "#T_78e9d_ td {\n",
       "  text-align: left;\n",
       "  border-bottom: 1px solid black;\n",
       "}\n",
       "</style>\n",
       "<table id=\"T_78e9d_\" style='display:inline'>\n",
       "  <thead>\n",
       "    <tr>\n",
       "      <th class=\"col_heading level0 col0\" >specimen_identifier_system</th>\n",
       "      <th class=\"col_heading level0 col1\" >count</th>\n",
       "    </tr>\n",
       "  </thead>\n",
       "  <tbody>\n",
       "    <tr>\n",
       "      <td id=\"T_78e9d_row0_col0\" class=\"data row0 col0\" >GDC</td>\n",
       "      <td id=\"T_78e9d_row0_col1\" class=\"data row0 col1\" >38543</td>\n",
       "    </tr>\n",
       "    <tr>\n",
       "      <td id=\"T_78e9d_row1_col0\" class=\"data row1 col0\" >PDC</td>\n",
       "      <td id=\"T_78e9d_row1_col1\" class=\"data row1 col1\" >658</td>\n",
       "    </tr>\n",
       "  </tbody>\n",
       "</table>\n",
       "<style type=\"text/css\">\n",
       "#T_78d1e_ th {\n",
       "  background-color: #000066;\n",
       "  color: white;\n",
       "  text-align: left;\n",
       "}\n",
       "#T_78d1e_ td {\n",
       "  text-align: left;\n",
       "  border-bottom: 1px solid black;\n",
       "}\n",
       "</style>\n",
       "<table id=\"T_78d1e_\" style='display:inline'>\n",
       "  <thead>\n",
       "    <tr>\n",
       "      <th class=\"col_heading level0 col0\" >primary_disease_type</th>\n",
       "      <th class=\"col_heading level0 col1\" >count</th>\n",
       "    </tr>\n",
       "  </thead>\n",
       "  <tbody>\n",
       "    <tr>\n",
       "      <td id=\"T_78d1e_row0_col0\" class=\"data row0 col0\" >Gliomas</td>\n",
       "      <td id=\"T_78d1e_row0_col1\" class=\"data row0 col1\" >37567</td>\n",
       "    </tr>\n",
       "    <tr>\n",
       "      <td id=\"T_78d1e_row1_col0\" class=\"data row1 col0\" >Glioblastoma</td>\n",
       "      <td id=\"T_78d1e_row1_col1\" class=\"data row1 col1\" >200</td>\n",
       "    </tr>\n",
       "    <tr>\n",
       "      <td id=\"T_78d1e_row2_col0\" class=\"data row2 col0\" >Other</td>\n",
       "      <td id=\"T_78d1e_row2_col1\" class=\"data row2 col1\" >20</td>\n",
       "    </tr>\n",
       "    <tr>\n",
       "      <td id=\"T_78d1e_row3_col0\" class=\"data row3 col0\" >Pediatric/AYA Brain Tumors</td>\n",
       "      <td id=\"T_78d1e_row3_col1\" class=\"data row3 col1\" >438</td>\n",
       "    </tr>\n",
       "    <tr>\n",
       "      <td id=\"T_78d1e_row4_col0\" class=\"data row4 col0\" >Malignant Lymphomas, NOS or Diffuse</td>\n",
       "      <td id=\"T_78d1e_row4_col1\" class=\"data row4 col1\" >56</td>\n",
       "    </tr>\n",
       "    <tr>\n",
       "      <td id=\"T_78d1e_row5_col0\" class=\"data row5 col0\" >Mature B-Cell Lymphomas</td>\n",
       "      <td id=\"T_78d1e_row5_col1\" class=\"data row5 col1\" >54</td>\n",
       "    </tr>\n",
       "    <tr>\n",
       "      <td id=\"T_78d1e_row6_col0\" class=\"data row6 col0\" >Germ Cell Neoplasms</td>\n",
       "      <td id=\"T_78d1e_row6_col1\" class=\"data row6 col1\" >416</td>\n",
       "    </tr>\n",
       "    <tr>\n",
       "      <td id=\"T_78d1e_row7_col0\" class=\"data row7 col0\" >Neoplasms, NOS</td>\n",
       "      <td id=\"T_78d1e_row7_col1\" class=\"data row7 col1\" >285</td>\n",
       "    </tr>\n",
       "    <tr>\n",
       "      <td id=\"T_78d1e_row8_col0\" class=\"data row8 col0\" >Not Reported</td>\n",
       "      <td id=\"T_78d1e_row8_col1\" class=\"data row8 col1\" >121</td>\n",
       "    </tr>\n",
       "    <tr>\n",
       "      <td id=\"T_78d1e_row9_col0\" class=\"data row9 col0\" >Neuroepitheliomatous Neoplasms</td>\n",
       "      <td id=\"T_78d1e_row9_col1\" class=\"data row9 col1\" >8</td>\n",
       "    </tr>\n",
       "    <tr>\n",
       "      <td id=\"T_78d1e_row10_col0\" class=\"data row10 col0\" >Not Applicable</td>\n",
       "      <td id=\"T_78d1e_row10_col1\" class=\"data row10 col1\" >36</td>\n",
       "    </tr>\n",
       "  </tbody>\n",
       "</table>\n",
       "<style type=\"text/css\">\n",
       "#T_1833d_ th {\n",
       "  background-color: #000066;\n",
       "  color: white;\n",
       "  text-align: left;\n",
       "}\n",
       "#T_1833d_ td {\n",
       "  text-align: left;\n",
       "  border-bottom: 1px solid black;\n",
       "}\n",
       "</style>\n",
       "<table id=\"T_1833d_\" style='display:inline'>\n",
       "  <thead>\n",
       "    <tr>\n",
       "      <th class=\"col_heading level0 col0\" >source_material_type</th>\n",
       "      <th class=\"col_heading level0 col1\" >count</th>\n",
       "    </tr>\n",
       "  </thead>\n",
       "  <tbody>\n",
       "    <tr>\n",
       "      <td id=\"T_1833d_row0_col0\" class=\"data row0 col0\" >Primary Tumor</td>\n",
       "      <td id=\"T_1833d_row0_col1\" class=\"data row0 col1\" >27570</td>\n",
       "    </tr>\n",
       "    <tr>\n",
       "      <td id=\"T_1833d_row1_col0\" class=\"data row1 col0\" >Solid Tissue Normal</td>\n",
       "      <td id=\"T_1833d_row1_col1\" class=\"data row1 col1\" >538</td>\n",
       "    </tr>\n",
       "    <tr>\n",
       "      <td id=\"T_1833d_row2_col0\" class=\"data row2 col0\" >Blood Derived Normal</td>\n",
       "      <td id=\"T_1833d_row2_col1\" class=\"data row2 col1\" >10074</td>\n",
       "    </tr>\n",
       "    <tr>\n",
       "      <td id=\"T_1833d_row3_col0\" class=\"data row3 col0\" >Next Generation Cancer Model</td>\n",
       "      <td id=\"T_1833d_row3_col1\" class=\"data row3 col1\" >169</td>\n",
       "    </tr>\n",
       "    <tr>\n",
       "      <td id=\"T_1833d_row4_col0\" class=\"data row4 col0\" >Recurrent Tumor</td>\n",
       "      <td id=\"T_1833d_row4_col1\" class=\"data row4 col1\" >513</td>\n",
       "    </tr>\n",
       "    <tr>\n",
       "      <td id=\"T_1833d_row5_col0\" class=\"data row5 col0\" >Metastatic</td>\n",
       "      <td id=\"T_1833d_row5_col1\" class=\"data row5 col1\" >252</td>\n",
       "    </tr>\n",
       "    <tr>\n",
       "      <td id=\"T_1833d_row6_col0\" class=\"data row6 col0\" >Expanded Next Generation Cancer Model</td>\n",
       "      <td id=\"T_1833d_row6_col1\" class=\"data row6 col1\" >35</td>\n",
       "    </tr>\n",
       "    <tr>\n",
       "      <td id=\"T_1833d_row7_col0\" class=\"data row7 col0\" >Not Reported</td>\n",
       "      <td id=\"T_1833d_row7_col1\" class=\"data row7 col1\" >36</td>\n",
       "    </tr>\n",
       "    <tr>\n",
       "      <td id=\"T_1833d_row8_col0\" class=\"data row8 col0\" >Buccal Cell Normal</td>\n",
       "      <td id=\"T_1833d_row8_col1\" class=\"data row8 col1\" >14</td>\n",
       "    </tr>\n",
       "  </tbody>\n",
       "</table>\n",
       "<style type=\"text/css\">\n",
       "#T_93fe6_ th {\n",
       "  background-color: #000066;\n",
       "  color: white;\n",
       "  text-align: left;\n",
       "}\n",
       "#T_93fe6_ td {\n",
       "  text-align: left;\n",
       "  border-bottom: 1px solid black;\n",
       "}\n",
       "</style>\n",
       "<table id=\"T_93fe6_\" style='display:inline'>\n",
       "  <thead>\n",
       "    <tr>\n",
       "      <th class=\"col_heading level0 col0\" >specimen_type</th>\n",
       "      <th class=\"col_heading level0 col1\" >count</th>\n",
       "    </tr>\n",
       "  </thead>\n",
       "  <tbody>\n",
       "    <tr>\n",
       "      <td id=\"T_93fe6_row0_col0\" class=\"data row0 col0\" >aliquot</td>\n",
       "      <td id=\"T_93fe6_row0_col1\" class=\"data row0 col1\" >18696</td>\n",
       "    </tr>\n",
       "    <tr>\n",
       "      <td id=\"T_93fe6_row1_col0\" class=\"data row1 col0\" >portion</td>\n",
       "      <td id=\"T_93fe6_row1_col1\" class=\"data row1 col1\" >5992</td>\n",
       "    </tr>\n",
       "    <tr>\n",
       "      <td id=\"T_93fe6_row2_col0\" class=\"data row2 col0\" >sample</td>\n",
       "      <td id=\"T_93fe6_row2_col1\" class=\"data row2 col1\" >4090</td>\n",
       "    </tr>\n",
       "    <tr>\n",
       "      <td id=\"T_93fe6_row3_col0\" class=\"data row3 col0\" >slide</td>\n",
       "      <td id=\"T_93fe6_row3_col1\" class=\"data row3 col1\" >3752</td>\n",
       "    </tr>\n",
       "    <tr>\n",
       "      <td id=\"T_93fe6_row4_col0\" class=\"data row4 col0\" >analyte</td>\n",
       "      <td id=\"T_93fe6_row4_col1\" class=\"data row4 col1\" >6671</td>\n",
       "    </tr>\n",
       "  </tbody>\n",
       "</table>\n"
      ]
     },
     "metadata": {},
     "output_type": "display_data"
    },
    {
     "data": {
      "text/plain": []
     },
     "execution_count": 11,
     "metadata": {},
     "output_type": "execute_result"
    }
   ],
   "source": [
    "myquery.specimen.count.run()"
   ]
  },
  {
   "cell_type": "markdown",
   "id": "7f254547",
   "metadata": {},
   "source": [
    "Nearly 40,000 specimens with over 50,000 files meet our search criteria! We would typically expect this number to be much larger than our number of subjects or research_subjects. First because studies will often take more than one sample per subject, and second because any given specimen might be aliquoted out to be used in multiple tests. "
   ]
  },
  {
   "cell_type": "markdown",
   "id": "b3ed75e5",
   "metadata": {},
   "source": [
    "<div class=\"cdadefine\" style=\"background-color:#add9e5;color:black;padding:20px;\">\n",
    "\n",
    "<h3>Specimen Field Definitions</h3>\n",
    "\n",
    "<i><i>Any material taken as a sample from a biological entity (living or dead), or from a physical object or the environment. Specimens are usually collected as an example of their kind, often for use in some investigation.</i>\n",
    " A given specimen will have only a single subject ID and a single research subject ID</i>\n",
    "    \n",
    "    \n",
    "<style type=\"text/css\">\n",
    ".tg  {border-collapse:collapse;border-spacing:0;margin:0px auto;}\n",
    ".tg td{border-color:black;border-style:solid;border-width:1px;font-family:noto sans, sans-serif;font-size:14px;\n",
    "  overflow:hidden;padding:10px 5px;word-break:normal;}\n",
    ".tg th{border-color:black;border-style:solid;border-width:1px;font-family:noto sans, sans-serif;font-size:14px;\n",
    "  font-weight:normal;overflow:hidden;padding:10px 5px;word-break:normal;}\n",
    ".tg .tg-za14{border-color:inherit;text-align:left;vertical-align:bottom}\n",
    ".tg .tg-0pky{border-color:inherit;text-align:left;vertical-align:top}\n",
    ".tg .tg-7zrl{text-align:left;vertical-align:bottom}\n",
    ".tg .tg-0lax{text-align:left;vertical-align:top}\n",
    "</style>\n",
    "    \n",
    "<table class=\"tg\">\n",
    "<tbody>\n",
    "  <tr>\n",
    "    <td class=\"tg-0lax\"> id (`total`)</td>\n",
    "    <td class=\"tg-0lax\"> The overall number of specimens returned.</td>\n",
    "  </tr>\n",
    "  <tr>\n",
    "    <td class=\"tg-0lax\"> files</td>\n",
    "    <td class=\"tg-0lax\"> The number of files that match this search.</td>\n",
    "  </tr>\n",
    "  <tr>\n",
    "    <td class=\"tg-7zrl\">identifier.value(`system`)</td>\n",
    "    <td class=\"tg-0lax\"> The identifier for the data provider.</td>\n",
    "  </tr>\n",
    "  <tr>\n",
    "    <td class=\"tg-za14\">primary_disease_type</td>\n",
    "    <td class=\"tg-0pky\"> The text term used to describe the type of malignant disease.</td>\n",
    "  </tr>\n",
    "  <tr>\n",
    "    <td class=\"tg-7zrl\">source_material_type</td>\n",
    "    <td class=\"tg-0lax\"> The general kind of material from which the specimen was derived.</td>\n",
    "  </tr>\n",
    "  <tr>\n",
    "    <td class=\"tg-7zrl\">specimen_type</td>\n",
    "    <td class=\"tg-0lax\"> The high-level type of the specimen, based on its how it has been derived from the original extracted sample. One of: analyte, aliquot, portion, sample, or slide.</td>\n",
    "  </tr>\n",
    "</tbody>\n",
    "</table>\n",
    "</div>"
   ]
  },
  {
   "cell_type": "markdown",
   "id": "5ccb0f1c",
   "metadata": {},
   "source": [
    "### file\n",
    "\n",
    "The file endpoint returns all files that match our query:"
   ]
  },
  {
   "cell_type": "code",
   "execution_count": 12,
   "id": "d6e0639a",
   "metadata": {},
   "outputs": [
    {
     "data": {
      "text/html": [
       "<pre style=\"white-space:pre;overflow-x:auto;line-height:normal;font-family:Menlo,'DejaVu Sans Mono',consolas,'Courier New',monospace\">Getting results from database\n",
       "\n",
       "</pre>\n"
      ],
      "text/plain": [
       "Getting results from database\n",
       "\n"
      ]
     },
     "metadata": {},
     "output_type": "display_data"
    },
    {
     "data": {
      "text/html": [
       "<pre style=\"white-space:pre;overflow-x:auto;line-height:normal;font-family:Menlo,'DejaVu Sans Mono',consolas,'Courier New',monospace\">Waiting for results\n",
       "</pre>\n"
      ],
      "text/plain": [
       "Waiting for results\n"
      ]
     },
     "metadata": {},
     "output_type": "display_data"
    },
    {
     "data": {
      "text/html": [
       "<pre style=\"white-space:pre;overflow-x:auto;line-height:normal;font-family:Menlo,'DejaVu Sans Mono',consolas,'Courier New',monospace\">\n",
       "                        Total execution time: <span style=\"color: #008080; text-decoration-color: #008080; font-weight: bold\">0</span>\n",
       "                        min <span style=\"color: #008080; text-decoration-color: #008080; font-weight: bold\">3.65</span> sec <span style=\"color: #008080; text-decoration-color: #008080; font-weight: bold\">3650</span> ms\n",
       "                        \n",
       "</pre>\n"
      ],
      "text/plain": [
       "\n",
       "                        Total execution time: \u001b[1;36m0\u001b[0m\n",
       "                        min \u001b[1;36m3.65\u001b[0m sec \u001b[1;36m3650\u001b[0m ms\n",
       "                        \n"
      ]
     },
     "metadata": {},
     "output_type": "display_data"
    },
    {
     "data": {
      "text/html": [
       "<pre style=\"white-space:pre;overflow-x:auto;line-height:normal;font-family:Menlo,'DejaVu Sans Mono',consolas,'Courier New',monospace\">  total : <span style=\"color: #008080; text-decoration-color: #008080; font-weight: bold\">4099497</span>   \n",
       "</pre>\n"
      ],
      "text/plain": [
       "  total : \u001b[1;36m4099497\u001b[0m   \n"
      ]
     },
     "metadata": {},
     "output_type": "display_data"
    },
    {
     "data": {
      "text/html": [
       "<style type=\"text/css\">\n",
       "#T_ddf28_ th {\n",
       "  background-color: #000066;\n",
       "  color: white;\n",
       "  text-align: left;\n",
       "}\n",
       "#T_ddf28_ td {\n",
       "  text-align: left;\n",
       "  border-bottom: 1px solid black;\n",
       "}\n",
       "</style>\n",
       "<table id=\"T_ddf28_\" style='display:inline'>\n",
       "  <thead>\n",
       "    <tr>\n",
       "      <th class=\"col_heading level0 col0\" >file_identifier_system</th>\n",
       "      <th class=\"col_heading level0 col1\" >count</th>\n",
       "    </tr>\n",
       "  </thead>\n",
       "  <tbody>\n",
       "    <tr>\n",
       "      <td id=\"T_ddf28_row0_col0\" class=\"data row0 col0\" >IDC</td>\n",
       "      <td id=\"T_ddf28_row0_col1\" class=\"data row0 col1\" >4045816</td>\n",
       "    </tr>\n",
       "    <tr>\n",
       "      <td id=\"T_ddf28_row1_col0\" class=\"data row1 col0\" >GDC</td>\n",
       "      <td id=\"T_ddf28_row1_col1\" class=\"data row1 col1\" >50633</td>\n",
       "    </tr>\n",
       "    <tr>\n",
       "      <td id=\"T_ddf28_row2_col0\" class=\"data row2 col0\" >PDC</td>\n",
       "      <td id=\"T_ddf28_row2_col1\" class=\"data row2 col1\" >3048</td>\n",
       "    </tr>\n",
       "  </tbody>\n",
       "</table>\n",
       "<style type=\"text/css\">\n",
       "#T_37d5d_ th {\n",
       "  background-color: #000066;\n",
       "  color: white;\n",
       "  text-align: left;\n",
       "}\n",
       "#T_37d5d_ td {\n",
       "  text-align: left;\n",
       "  border-bottom: 1px solid black;\n",
       "}\n",
       "</style>\n",
       "<table id=\"T_37d5d_\" style='display:inline'>\n",
       "  <thead>\n",
       "    <tr>\n",
       "      <th class=\"col_heading level0 col0\" >data_category</th>\n",
       "      <th class=\"col_heading level0 col1\" >count</th>\n",
       "    </tr>\n",
       "  </thead>\n",
       "  <tbody>\n",
       "    <tr>\n",
       "      <td id=\"T_37d5d_row0_col0\" class=\"data row0 col0\" >Imaging</td>\n",
       "      <td id=\"T_37d5d_row0_col1\" class=\"data row0 col1\" >4045816</td>\n",
       "    </tr>\n",
       "    <tr>\n",
       "      <td id=\"T_37d5d_row1_col0\" class=\"data row1 col0\" >Simple Nucleotide Variation</td>\n",
       "      <td id=\"T_37d5d_row1_col1\" class=\"data row1 col1\" >20481</td>\n",
       "    </tr>\n",
       "    <tr>\n",
       "      <td id=\"T_37d5d_row2_col0\" class=\"data row2 col0\" >Clinical</td>\n",
       "      <td id=\"T_37d5d_row2_col1\" class=\"data row2 col1\" >1187</td>\n",
       "    </tr>\n",
       "    <tr>\n",
       "      <td id=\"T_37d5d_row3_col0\" class=\"data row3 col0\" >Structural Variation</td>\n",
       "      <td id=\"T_37d5d_row3_col1\" class=\"data row3 col1\" >3160</td>\n",
       "    </tr>\n",
       "    <tr>\n",
       "      <td id=\"T_37d5d_row4_col0\" class=\"data row4 col0\" >Peptide Spectral Matches</td>\n",
       "      <td id=\"T_37d5d_row4_col1\" class=\"data row4 col1\" >1524</td>\n",
       "    </tr>\n",
       "    <tr>\n",
       "      <td id=\"T_37d5d_row5_col0\" class=\"data row5 col0\" >Raw Mass Spectra</td>\n",
       "      <td id=\"T_37d5d_row5_col1\" class=\"data row5 col1\" >762</td>\n",
       "    </tr>\n",
       "    <tr>\n",
       "      <td id=\"T_37d5d_row6_col0\" class=\"data row6 col0\" >DNA Methylation</td>\n",
       "      <td id=\"T_37d5d_row6_col1\" class=\"data row6 col1\" >3339</td>\n",
       "    </tr>\n",
       "    <tr>\n",
       "      <td id=\"T_37d5d_row7_col0\" class=\"data row7 col0\" >Sequencing Reads</td>\n",
       "      <td id=\"T_37d5d_row7_col1\" class=\"data row7 col1\" >5885</td>\n",
       "    </tr>\n",
       "    <tr>\n",
       "      <td id=\"T_37d5d_row8_col0\" class=\"data row8 col0\" >Copy Number Variation</td>\n",
       "      <td id=\"T_37d5d_row8_col1\" class=\"data row8 col1\" >6909</td>\n",
       "    </tr>\n",
       "    <tr>\n",
       "      <td id=\"T_37d5d_row9_col0\" class=\"data row9 col0\" >Transcriptome Profiling</td>\n",
       "      <td id=\"T_37d5d_row9_col1\" class=\"data row9 col1\" >3112</td>\n",
       "    </tr>\n",
       "    <tr>\n",
       "      <td id=\"T_37d5d_row10_col0\" class=\"data row10 col0\" >Processed Mass Spectra</td>\n",
       "      <td id=\"T_37d5d_row10_col1\" class=\"data row10 col1\" >762</td>\n",
       "    </tr>\n",
       "    <tr>\n",
       "      <td id=\"T_37d5d_row11_col0\" class=\"data row11 col0\" >Biospecimen</td>\n",
       "      <td id=\"T_37d5d_row11_col1\" class=\"data row11 col1\" >5582</td>\n",
       "    </tr>\n",
       "    <tr>\n",
       "      <td id=\"T_37d5d_row12_col0\" class=\"data row12 col0\" >Proteome Profiling</td>\n",
       "      <td id=\"T_37d5d_row12_col1\" class=\"data row12 col1\" >679</td>\n",
       "    </tr>\n",
       "    <tr>\n",
       "      <td id=\"T_37d5d_row13_col0\" class=\"data row13 col0\" >Somatic Structural Variation</td>\n",
       "      <td id=\"T_37d5d_row13_col1\" class=\"data row13 col1\" >299</td>\n",
       "    </tr>\n",
       "  </tbody>\n",
       "</table>\n",
       "<style type=\"text/css\">\n",
       "#T_1257f_ th {\n",
       "  background-color: #000066;\n",
       "  color: white;\n",
       "  text-align: left;\n",
       "}\n",
       "#T_1257f_ td {\n",
       "  text-align: left;\n",
       "  border-bottom: 1px solid black;\n",
       "}\n",
       "</style>\n",
       "<table id=\"T_1257f_\" style='display:inline'>\n",
       "  <thead>\n",
       "    <tr>\n",
       "      <th class=\"col_heading level0 col0\" >file_format</th>\n",
       "      <th class=\"col_heading level0 col1\" >count</th>\n",
       "    </tr>\n",
       "  </thead>\n",
       "  <tbody>\n",
       "    <tr>\n",
       "      <td id=\"T_1257f_row0_col0\" class=\"data row0 col0\" >DICOM</td>\n",
       "      <td id=\"T_1257f_row0_col1\" class=\"data row0 col1\" >4045816</td>\n",
       "    </tr>\n",
       "    <tr>\n",
       "      <td id=\"T_1257f_row1_col0\" class=\"data row1 col0\" >BAM</td>\n",
       "      <td id=\"T_1257f_row1_col1\" class=\"data row1 col1\" >5885</td>\n",
       "    </tr>\n",
       "    <tr>\n",
       "      <td id=\"T_1257f_row2_col0\" class=\"data row2 col0\" >mzIdentML</td>\n",
       "      <td id=\"T_1257f_row2_col1\" class=\"data row2 col1\" >762</td>\n",
       "    </tr>\n",
       "    <tr>\n",
       "      <td id=\"T_1257f_row3_col0\" class=\"data row3 col0\" >MAF</td>\n",
       "      <td id=\"T_1257f_row3_col1\" class=\"data row3 col1\" >8375</td>\n",
       "    </tr>\n",
       "    <tr>\n",
       "      <td id=\"T_1257f_row4_col0\" class=\"data row4 col0\" >mzML</td>\n",
       "      <td id=\"T_1257f_row4_col1\" class=\"data row4 col1\" >762</td>\n",
       "    </tr>\n",
       "    <tr>\n",
       "      <td id=\"T_1257f_row5_col0\" class=\"data row5 col0\" >VCF</td>\n",
       "      <td id=\"T_1257f_row5_col1\" class=\"data row5 col1\" >12255</td>\n",
       "    </tr>\n",
       "    <tr>\n",
       "      <td id=\"T_1257f_row6_col0\" class=\"data row6 col0\" >BCR XML</td>\n",
       "      <td id=\"T_1257f_row6_col1\" class=\"data row6 col1\" >2281</td>\n",
       "    </tr>\n",
       "    <tr>\n",
       "      <td id=\"T_1257f_row7_col0\" class=\"data row7 col0\" >TSV</td>\n",
       "      <td id=\"T_1257f_row7_col1\" class=\"data row7 col1\" >4335</td>\n",
       "    </tr>\n",
       "    <tr>\n",
       "      <td id=\"T_1257f_row8_col0\" class=\"data row8 col0\" >TXT</td>\n",
       "      <td id=\"T_1257f_row8_col1\" class=\"data row8 col1\" >8848</td>\n",
       "    </tr>\n",
       "    <tr>\n",
       "      <td id=\"T_1257f_row9_col0\" class=\"data row9 col0\" >vendor-specific</td>\n",
       "      <td id=\"T_1257f_row9_col1\" class=\"data row9 col1\" >762</td>\n",
       "    </tr>\n",
       "    <tr>\n",
       "      <td id=\"T_1257f_row10_col0\" class=\"data row10 col0\" >tsv</td>\n",
       "      <td id=\"T_1257f_row10_col1\" class=\"data row10 col1\" >762</td>\n",
       "    </tr>\n",
       "    <tr>\n",
       "      <td id=\"T_1257f_row11_col0\" class=\"data row11 col0\" >SVS</td>\n",
       "      <td id=\"T_1257f_row11_col1\" class=\"data row11 col1\" >3629</td>\n",
       "    </tr>\n",
       "    <tr>\n",
       "      <td id=\"T_1257f_row12_col0\" class=\"data row12 col0\" >BCR SSF XML</td>\n",
       "      <td id=\"T_1257f_row12_col1\" class=\"data row12 col1\" >758</td>\n",
       "    </tr>\n",
       "    <tr>\n",
       "      <td id=\"T_1257f_row13_col0\" class=\"data row13 col0\" >IDAT</td>\n",
       "      <td id=\"T_1257f_row13_col1\" class=\"data row13 col1\" >2226</td>\n",
       "    </tr>\n",
       "    <tr>\n",
       "      <td id=\"T_1257f_row14_col0\" class=\"data row14 col0\" >BCR Biotab</td>\n",
       "      <td id=\"T_1257f_row14_col1\" class=\"data row14 col1\" >49</td>\n",
       "    </tr>\n",
       "    <tr>\n",
       "      <td id=\"T_1257f_row15_col0\" class=\"data row15 col0\" >BEDPE</td>\n",
       "      <td id=\"T_1257f_row15_col1\" class=\"data row15 col1\" >1886</td>\n",
       "    </tr>\n",
       "    <tr>\n",
       "      <td id=\"T_1257f_row16_col0\" class=\"data row16 col0\" >CDC JSON</td>\n",
       "      <td id=\"T_1257f_row16_col1\" class=\"data row16 col1\" >28</td>\n",
       "    </tr>\n",
       "    <tr>\n",
       "      <td id=\"T_1257f_row17_col0\" class=\"data row17 col0\" >MEX</td>\n",
       "      <td id=\"T_1257f_row17_col1\" class=\"data row17 col1\" >36</td>\n",
       "    </tr>\n",
       "    <tr>\n",
       "      <td id=\"T_1257f_row18_col0\" class=\"data row18 col0\" >HDF5</td>\n",
       "      <td id=\"T_1257f_row18_col1\" class=\"data row18 col1\" >18</td>\n",
       "    </tr>\n",
       "    <tr>\n",
       "      <td id=\"T_1257f_row19_col0\" class=\"data row19 col0\" >BCR OMF XML</td>\n",
       "      <td id=\"T_1257f_row19_col1\" class=\"data row19 col1\" >19</td>\n",
       "    </tr>\n",
       "    <tr>\n",
       "      <td id=\"T_1257f_row20_col0\" class=\"data row20 col0\" >PDF</td>\n",
       "      <td id=\"T_1257f_row20_col1\" class=\"data row20 col1\" >5</td>\n",
       "    </tr>\n",
       "  </tbody>\n",
       "</table>\n",
       "<style type=\"text/css\">\n",
       "#T_fb3df_ th {\n",
       "  background-color: #000066;\n",
       "  color: white;\n",
       "  text-align: left;\n",
       "}\n",
       "#T_fb3df_ td {\n",
       "  text-align: left;\n",
       "  border-bottom: 1px solid black;\n",
       "}\n",
       "</style>\n",
       "<table id=\"T_fb3df_\" style='display:inline'>\n",
       "  <thead>\n",
       "    <tr>\n",
       "      <th class=\"col_heading level0 col0\" >data_type</th>\n",
       "      <th class=\"col_heading level0 col1\" >count</th>\n",
       "    </tr>\n",
       "  </thead>\n",
       "  <tbody>\n",
       "    <tr>\n",
       "      <td id=\"T_fb3df_row0_col0\" class=\"data row0 col0\" >None</td>\n",
       "      <td id=\"T_fb3df_row0_col1\" class=\"data row0 col1\" >4045816</td>\n",
       "    </tr>\n",
       "    <tr>\n",
       "      <td id=\"T_fb3df_row1_col0\" class=\"data row1 col0\" >Clinical Supplement</td>\n",
       "      <td id=\"T_fb3df_row1_col1\" class=\"data row1 col1\" >1182</td>\n",
       "    </tr>\n",
       "    <tr>\n",
       "      <td id=\"T_fb3df_row2_col0\" class=\"data row2 col0\" >Annotated Somatic Mutation</td>\n",
       "      <td id=\"T_fb3df_row2_col1\" class=\"data row2 col1\" >11808</td>\n",
       "    </tr>\n",
       "    <tr>\n",
       "      <td id=\"T_fb3df_row3_col0\" class=\"data row3 col0\" >Aligned Reads</td>\n",
       "      <td id=\"T_fb3df_row3_col1\" class=\"data row3 col1\" >5885</td>\n",
       "    </tr>\n",
       "    <tr>\n",
       "      <td id=\"T_fb3df_row4_col0\" class=\"data row4 col0\" >Biospecimen Supplement</td>\n",
       "      <td id=\"T_fb3df_row4_col1\" class=\"data row4 col1\" >1953</td>\n",
       "    </tr>\n",
       "    <tr>\n",
       "      <td id=\"T_fb3df_row5_col0\" class=\"data row5 col0\" >Proprietary</td>\n",
       "      <td id=\"T_fb3df_row5_col1\" class=\"data row5 col1\" >762</td>\n",
       "    </tr>\n",
       "    <tr>\n",
       "      <td id=\"T_fb3df_row6_col0\" class=\"data row6 col0\" >Open Standard</td>\n",
       "      <td id=\"T_fb3df_row6_col1\" class=\"data row6 col1\" >1524</td>\n",
       "    </tr>\n",
       "    <tr>\n",
       "      <td id=\"T_fb3df_row7_col0\" class=\"data row7 col0\" >Methylation Beta Value</td>\n",
       "      <td id=\"T_fb3df_row7_col1\" class=\"data row7 col1\" >1113</td>\n",
       "    </tr>\n",
       "    <tr>\n",
       "      <td id=\"T_fb3df_row8_col0\" class=\"data row8 col0\" >Text</td>\n",
       "      <td id=\"T_fb3df_row8_col1\" class=\"data row8 col1\" >762</td>\n",
       "    </tr>\n",
       "    <tr>\n",
       "      <td id=\"T_fb3df_row9_col0\" class=\"data row9 col0\" >Gene Expression Quantification</td>\n",
       "      <td id=\"T_fb3df_row9_col1\" class=\"data row9 col1\" >904</td>\n",
       "    </tr>\n",
       "    <tr>\n",
       "      <td id=\"T_fb3df_row10_col0\" class=\"data row10 col0\" >Gene Level Copy Number</td>\n",
       "      <td id=\"T_fb3df_row10_col1\" class=\"data row10 col1\" >1220</td>\n",
       "    </tr>\n",
       "    <tr>\n",
       "      <td id=\"T_fb3df_row11_col0\" class=\"data row11 col0\" >Raw Simple Somatic Mutation</td>\n",
       "      <td id=\"T_fb3df_row11_col1\" class=\"data row11 col1\" >6202</td>\n",
       "    </tr>\n",
       "    <tr>\n",
       "      <td id=\"T_fb3df_row12_col0\" class=\"data row12 col0\" >Masked Somatic Mutation</td>\n",
       "      <td id=\"T_fb3df_row12_col1\" class=\"data row12 col1\" >1144</td>\n",
       "    </tr>\n",
       "    <tr>\n",
       "      <td id=\"T_fb3df_row13_col0\" class=\"data row13 col0\" >Isoform Expression Quantification</td>\n",
       "      <td id=\"T_fb3df_row13_col1\" class=\"data row13 col1\" >643</td>\n",
       "    </tr>\n",
       "    <tr>\n",
       "      <td id=\"T_fb3df_row14_col0\" class=\"data row14 col0\" >Splice Junction Quantification</td>\n",
       "      <td id=\"T_fb3df_row14_col1\" class=\"data row14 col1\" >868</td>\n",
       "    </tr>\n",
       "    <tr>\n",
       "      <td id=\"T_fb3df_row15_col0\" class=\"data row15 col0\" >Masked Copy Number Segment</td>\n",
       "      <td id=\"T_fb3df_row15_col1\" class=\"data row15 col1\" >2185</td>\n",
       "    </tr>\n",
       "    <tr>\n",
       "      <td id=\"T_fb3df_row16_col0\" class=\"data row16 col0\" >Copy Number Segment</td>\n",
       "      <td id=\"T_fb3df_row16_col1\" class=\"data row16 col1\" >2334</td>\n",
       "    </tr>\n",
       "    <tr>\n",
       "      <td id=\"T_fb3df_row17_col0\" class=\"data row17 col0\" >Masked Intensities</td>\n",
       "      <td id=\"T_fb3df_row17_col1\" class=\"data row17 col1\" >2226</td>\n",
       "    </tr>\n",
       "    <tr>\n",
       "      <td id=\"T_fb3df_row18_col0\" class=\"data row18 col0\" >Allele-specific Copy Number Segment</td>\n",
       "      <td id=\"T_fb3df_row18_col1\" class=\"data row18 col1\" >1071</td>\n",
       "    </tr>\n",
       "    <tr>\n",
       "      <td id=\"T_fb3df_row19_col0\" class=\"data row19 col0\" >Slide Image</td>\n",
       "      <td id=\"T_fb3df_row19_col1\" class=\"data row19 col1\" >3629</td>\n",
       "    </tr>\n",
       "    <tr>\n",
       "      <td id=\"T_fb3df_row20_col0\" class=\"data row20 col0\" >Transcript Fusion</td>\n",
       "      <td id=\"T_fb3df_row20_col1\" class=\"data row20 col1\" >3161</td>\n",
       "    </tr>\n",
       "    <tr>\n",
       "      <td id=\"T_fb3df_row21_col0\" class=\"data row21 col0\" >Aggregated Somatic Mutation</td>\n",
       "      <td id=\"T_fb3df_row21_col1\" class=\"data row21 col1\" >1144</td>\n",
       "    </tr>\n",
       "    <tr>\n",
       "      <td id=\"T_fb3df_row22_col0\" class=\"data row22 col0\" >miRNA Expression Quantification</td>\n",
       "      <td id=\"T_fb3df_row22_col1\" class=\"data row22 col1\" >643</td>\n",
       "    </tr>\n",
       "    <tr>\n",
       "      <td id=\"T_fb3df_row23_col0\" class=\"data row23 col0\" >Protein Expression Quantification</td>\n",
       "      <td id=\"T_fb3df_row23_col1\" class=\"data row23 col1\" >679</td>\n",
       "    </tr>\n",
       "    <tr>\n",
       "      <td id=\"T_fb3df_row24_col0\" class=\"data row24 col0\" >Structural Rearrangement</td>\n",
       "      <td id=\"T_fb3df_row24_col1\" class=\"data row24 col1\" >298</td>\n",
       "    </tr>\n",
       "    <tr>\n",
       "      <td id=\"T_fb3df_row25_col0\" class=\"data row25 col0\" >Single Cell Analysis</td>\n",
       "      <td id=\"T_fb3df_row25_col1\" class=\"data row25 col1\" >36</td>\n",
       "    </tr>\n",
       "    <tr>\n",
       "      <td id=\"T_fb3df_row26_col0\" class=\"data row26 col0\" >Differential Gene Expression</td>\n",
       "      <td id=\"T_fb3df_row26_col1\" class=\"data row26 col1\" >18</td>\n",
       "    </tr>\n",
       "    <tr>\n",
       "      <td id=\"T_fb3df_row27_col0\" class=\"data row27 col0\" >Masked Annotated Somatic Mutation</td>\n",
       "      <td id=\"T_fb3df_row27_col1\" class=\"data row27 col1\" >183</td>\n",
       "    </tr>\n",
       "    <tr>\n",
       "      <td id=\"T_fb3df_row28_col0\" class=\"data row28 col0\" >Gene Level Copy Number Scores</td>\n",
       "      <td id=\"T_fb3df_row28_col1\" class=\"data row28 col1\" >99</td>\n",
       "    </tr>\n",
       "    <tr>\n",
       "      <td id=\"T_fb3df_row29_col0\" class=\"data row29 col0\" >Pathology Report</td>\n",
       "      <td id=\"T_fb3df_row29_col1\" class=\"data row29 col1\" >5</td>\n",
       "    </tr>\n",
       "  </tbody>\n",
       "</table>\n"
      ]
     },
     "metadata": {},
     "output_type": "display_data"
    },
    {
     "data": {
      "text/plain": []
     },
     "execution_count": 12,
     "metadata": {},
     "output_type": "execute_result"
    }
   ],
   "source": [
    "myquery.file.count.run()"
   ]
  },
  {
   "cell_type": "markdown",
   "id": "e34044c9",
   "metadata": {},
   "source": [
    "There are a huge number of files (4099497) that match our search. Likely we would want to additionally filter the results by file format or data type to get only files we can use. See all the ways you can filter and refine searches  with more search terms in the <a href=\"../Operators\">Operators</a> notebook.\n",
    "\n",
    "\n",
    "<div class=\"cdadefine\" style=\"background-color:#add9e5;color:black;padding:20px;\">\n",
    "\n",
    "<h3>File Field Definitions</h3>\n",
    "\n",
    "<i>A file is an information-bearing electronic object that contains a physical embodiment of some information using a particular character encoding.</i>\n",
    "\n",
    "    \n",
    "<style type=\"text/css\">\n",
    ".tg  {border-collapse:collapse;border-spacing:0;}\n",
    ".tg td{border-color:black;border-style:solid;border-width:1px;font-family:noto sans, sans-serif;font-size:14px;\n",
    "  overflow:hidden;padding:10px 5px;word-break:normal;}\n",
    ".tg th{border-color:black;border-style:solid;border-width:1px;font-family:noto sans, sans-serif;font-size:14px;\n",
    "  font-weight:normal;overflow:hidden;padding:10px 5px;word-break:normal;}\n",
    ".tg .tg-7zrl{text-align:left;vertical-align:bottom}\n",
    "</style>\n",
    "<table class=\"tg\">\n",
    "<tbody>\n",
    "  <tr>\n",
    "    <td class=\"tg-0lax\"> id (`total`)</td>\n",
    "    <td class=\"tg-0lax\"> The overall number of files returned.</td>\n",
    "  </tr>\n",
    "  <tr>\n",
    "    <td class=\"tg-7zrl\">identifier.value(`system`)</td>\n",
    "    <td class=\"tg-0lax\"> The identifier for the data provider.</td>\n",
    "  </tr>\n",
    "  <tr>\n",
    "    <td class=\"tg-7zrl\">data_catagory</td>\n",
    "    <td class=\"tg-7zrl\">Broad categorization of the contents of the data file.</td>\n",
    "  </tr>\n",
    "  <tr>\n",
    "    <td class=\"tg-7zrl\">data_type</td>\n",
    "    <td class=\"tg-7zrl\">Specific content type of the data file.</td>\n",
    "  </tr>\n",
    "  <tr>\n",
    "    <td class=\"tg-7zrl\">file_format</td>\n",
    "    <td class=\"tg-7zrl\">Format of the data files.</td>\n",
    "  </tr>\n",
    "</tbody>\n",
    "</table>\n",
    "\n",
    "</div>"
   ]
  },
  {
   "cell_type": "markdown",
   "id": "d3de2391",
   "metadata": {},
   "source": [
    "### mutation\n",
    "\n",
    "The mutation endpoint returns all mutations that match our query:"
   ]
  },
  {
   "cell_type": "code",
   "execution_count": 13,
   "id": "c89ac53f",
   "metadata": {},
   "outputs": [
    {
     "data": {
      "text/html": [
       "<pre style=\"white-space:pre;overflow-x:auto;line-height:normal;font-family:Menlo,'DejaVu Sans Mono',consolas,'Courier New',monospace\">Getting results from database\n",
       "\n",
       "</pre>\n"
      ],
      "text/plain": [
       "Getting results from database\n",
       "\n"
      ]
     },
     "metadata": {},
     "output_type": "display_data"
    },
    {
     "data": {
      "text/html": [
       "<pre style=\"white-space:pre;overflow-x:auto;line-height:normal;font-family:Menlo,'DejaVu Sans Mono',consolas,'Courier New',monospace\">Waiting for results\n",
       "</pre>\n"
      ],
      "text/plain": [
       "Waiting for results\n"
      ]
     },
     "metadata": {},
     "output_type": "display_data"
    },
    {
     "data": {
      "text/html": [
       "<pre style=\"white-space:pre;overflow-x:auto;line-height:normal;font-family:Menlo,'DejaVu Sans Mono',consolas,'Courier New',monospace\">\n",
       "                        Total execution time: <span style=\"color: #008080; text-decoration-color: #008080; font-weight: bold\">0</span>\n",
       "                        min <span style=\"color: #008080; text-decoration-color: #008080; font-weight: bold\">3.532</span> sec <span style=\"color: #008080; text-decoration-color: #008080; font-weight: bold\">3532</span> ms\n",
       "                        \n",
       "</pre>\n"
      ],
      "text/plain": [
       "\n",
       "                        Total execution time: \u001b[1;36m0\u001b[0m\n",
       "                        min \u001b[1;36m3.532\u001b[0m sec \u001b[1;36m3532\u001b[0m ms\n",
       "                        \n"
      ]
     },
     "metadata": {},
     "output_type": "display_data"
    },
    {
     "data": {
      "text/html": [
       "<pre style=\"white-space:pre;overflow-x:auto;line-height:normal;font-family:Menlo,'DejaVu Sans Mono',consolas,'Courier New',monospace\">    total : <span style=\"color: #008080; text-decoration-color: #008080; font-weight: bold\">904</span>     \n",
       "</pre>\n"
      ],
      "text/plain": [
       "    total : \u001b[1;36m904\u001b[0m     \n"
      ]
     },
     "metadata": {},
     "output_type": "display_data"
    },
    {
     "ename": "KeyError",
     "evalue": "'ncbi_build'",
     "output_type": "error",
     "traceback": [
      "\u001b[0;31m---------------------------------------------------------------------------\u001b[0m",
      "\u001b[0;31mKeyError\u001b[0m                                  Traceback (most recent call last)",
      "File \u001b[0;32m~/mambaforge/envs/faster_Q/lib/python3.9/site-packages/IPython/core/formatters.py:707\u001b[0m, in \u001b[0;36mPlainTextFormatter.__call__\u001b[0;34m(self, obj)\u001b[0m\n\u001b[1;32m    700\u001b[0m stream \u001b[38;5;241m=\u001b[39m StringIO()\n\u001b[1;32m    701\u001b[0m printer \u001b[38;5;241m=\u001b[39m pretty\u001b[38;5;241m.\u001b[39mRepresentationPrinter(stream, \u001b[38;5;28mself\u001b[39m\u001b[38;5;241m.\u001b[39mverbose,\n\u001b[1;32m    702\u001b[0m     \u001b[38;5;28mself\u001b[39m\u001b[38;5;241m.\u001b[39mmax_width, \u001b[38;5;28mself\u001b[39m\u001b[38;5;241m.\u001b[39mnewline,\n\u001b[1;32m    703\u001b[0m     max_seq_length\u001b[38;5;241m=\u001b[39m\u001b[38;5;28mself\u001b[39m\u001b[38;5;241m.\u001b[39mmax_seq_length,\n\u001b[1;32m    704\u001b[0m     singleton_pprinters\u001b[38;5;241m=\u001b[39m\u001b[38;5;28mself\u001b[39m\u001b[38;5;241m.\u001b[39msingleton_printers,\n\u001b[1;32m    705\u001b[0m     type_pprinters\u001b[38;5;241m=\u001b[39m\u001b[38;5;28mself\u001b[39m\u001b[38;5;241m.\u001b[39mtype_printers,\n\u001b[1;32m    706\u001b[0m     deferred_pprinters\u001b[38;5;241m=\u001b[39m\u001b[38;5;28mself\u001b[39m\u001b[38;5;241m.\u001b[39mdeferred_printers)\n\u001b[0;32m--> 707\u001b[0m \u001b[43mprinter\u001b[49m\u001b[38;5;241;43m.\u001b[39;49m\u001b[43mpretty\u001b[49m\u001b[43m(\u001b[49m\u001b[43mobj\u001b[49m\u001b[43m)\u001b[49m\n\u001b[1;32m    708\u001b[0m printer\u001b[38;5;241m.\u001b[39mflush()\n\u001b[1;32m    709\u001b[0m \u001b[38;5;28;01mreturn\u001b[39;00m stream\u001b[38;5;241m.\u001b[39mgetvalue()\n",
      "File \u001b[0;32m~/mambaforge/envs/faster_Q/lib/python3.9/site-packages/IPython/lib/pretty.py:410\u001b[0m, in \u001b[0;36mRepresentationPrinter.pretty\u001b[0;34m(self, obj)\u001b[0m\n\u001b[1;32m    407\u001b[0m                         \u001b[38;5;28;01mreturn\u001b[39;00m meth(obj, \u001b[38;5;28mself\u001b[39m, cycle)\n\u001b[1;32m    408\u001b[0m                 \u001b[38;5;28;01mif\u001b[39;00m \u001b[38;5;28mcls\u001b[39m \u001b[38;5;129;01mis\u001b[39;00m \u001b[38;5;129;01mnot\u001b[39;00m \u001b[38;5;28mobject\u001b[39m \\\n\u001b[1;32m    409\u001b[0m                         \u001b[38;5;129;01mand\u001b[39;00m callable(\u001b[38;5;28mcls\u001b[39m\u001b[38;5;241m.\u001b[39m\u001b[38;5;18m__dict__\u001b[39m\u001b[38;5;241m.\u001b[39mget(\u001b[38;5;124m'\u001b[39m\u001b[38;5;124m__repr__\u001b[39m\u001b[38;5;124m'\u001b[39m)):\n\u001b[0;32m--> 410\u001b[0m                     \u001b[38;5;28;01mreturn\u001b[39;00m \u001b[43m_repr_pprint\u001b[49m\u001b[43m(\u001b[49m\u001b[43mobj\u001b[49m\u001b[43m,\u001b[49m\u001b[43m \u001b[49m\u001b[38;5;28;43mself\u001b[39;49m\u001b[43m,\u001b[49m\u001b[43m \u001b[49m\u001b[43mcycle\u001b[49m\u001b[43m)\u001b[49m\n\u001b[1;32m    412\u001b[0m     \u001b[38;5;28;01mreturn\u001b[39;00m _default_pprint(obj, \u001b[38;5;28mself\u001b[39m, cycle)\n\u001b[1;32m    413\u001b[0m \u001b[38;5;28;01mfinally\u001b[39;00m:\n",
      "File \u001b[0;32m~/mambaforge/envs/faster_Q/lib/python3.9/site-packages/IPython/lib/pretty.py:778\u001b[0m, in \u001b[0;36m_repr_pprint\u001b[0;34m(obj, p, cycle)\u001b[0m\n\u001b[1;32m    776\u001b[0m \u001b[38;5;124;03m\"\"\"A pprint that just redirects to the normal repr function.\"\"\"\u001b[39;00m\n\u001b[1;32m    777\u001b[0m \u001b[38;5;66;03m# Find newlines and replace them with p.break_()\u001b[39;00m\n\u001b[0;32m--> 778\u001b[0m output \u001b[38;5;241m=\u001b[39m \u001b[38;5;28;43mrepr\u001b[39;49m\u001b[43m(\u001b[49m\u001b[43mobj\u001b[49m\u001b[43m)\u001b[49m\n\u001b[1;32m    779\u001b[0m lines \u001b[38;5;241m=\u001b[39m output\u001b[38;5;241m.\u001b[39msplitlines()\n\u001b[1;32m    780\u001b[0m \u001b[38;5;28;01mwith\u001b[39;00m p\u001b[38;5;241m.\u001b[39mgroup():\n",
      "File \u001b[0;32m~/mambaforge/envs/faster_Q/lib/python3.9/site-packages/cdapython/results/result.py:89\u001b[0m, in \u001b[0;36mResult.__repr__\u001b[0;34m(self)\u001b[0m\n\u001b[1;32m     88\u001b[0m \u001b[38;5;28;01mdef\u001b[39;00m \u001b[38;5;21m__repr__\u001b[39m(\u001b[38;5;28mself\u001b[39m) \u001b[38;5;241m-\u001b[39m\u001b[38;5;241m>\u001b[39m \u001b[38;5;28mstr\u001b[39m:\n\u001b[0;32m---> 89\u001b[0m     \u001b[38;5;28;01mreturn\u001b[39;00m \u001b[38;5;28;43mself\u001b[39;49m\u001b[38;5;241;43m.\u001b[39;49m\u001b[43m_repr_value\u001b[49m\u001b[43m(\u001b[49m\u001b[43mshow_value\u001b[49m\u001b[38;5;241;43m=\u001b[39;49m\u001b[38;5;28;43mself\u001b[39;49m\u001b[38;5;241;43m.\u001b[39;49m\u001b[43mshow_sql\u001b[49m\u001b[43m)\u001b[49m\n",
      "File \u001b[0;32m~/mambaforge/envs/faster_Q/lib/python3.9/site-packages/cdapython/results/count_result.py:45\u001b[0m, in \u001b[0;36mCountResult._repr_value\u001b[0;34m(self, show_value)\u001b[0m\n\u001b[1;32m     42\u001b[0m table\u001b[38;5;241m.\u001b[39madd_column(\u001b[38;5;124m\"\u001b[39m\u001b[38;5;124mcount\u001b[39m\u001b[38;5;124m\"\u001b[39m)\n\u001b[1;32m     44\u001b[0m \u001b[38;5;28;01mfor\u001b[39;00m item \u001b[38;5;129;01min\u001b[39;00m value:\n\u001b[0;32m---> 45\u001b[0m     \u001b[38;5;28;01mif\u001b[39;00m \u001b[43mitem\u001b[49m\u001b[43m[\u001b[49m\u001b[43mkey\u001b[49m\u001b[43m]\u001b[49m \u001b[38;5;129;01mis\u001b[39;00m \u001b[38;5;28;01mNone\u001b[39;00m:\n\u001b[1;32m     46\u001b[0m         item[key] \u001b[38;5;241m=\u001b[39m \u001b[38;5;124m\"\u001b[39m\u001b[38;5;124mnull\u001b[39m\u001b[38;5;124m\"\u001b[39m\n\u001b[1;32m     48\u001b[0m     table\u001b[38;5;241m.\u001b[39madd_row(item[key], \u001b[38;5;28mstr\u001b[39m(item[\u001b[38;5;124m\"\u001b[39m\u001b[38;5;124mcount\u001b[39m\u001b[38;5;124m\"\u001b[39m]))\n",
      "\u001b[0;31mKeyError\u001b[0m: 'ncbi_build'"
     ]
    }
   ],
   "source": [
    "myquery.mutation.count.run()"
   ]
  },
  {
   "cell_type": "markdown",
   "id": "6a4fd46e",
   "metadata": {},
   "source": [
    "## Files from a single endpoint (endpoint chaining)\n",
    "\n",
    "If you want all file formats and data types, but only from a specific endpoint, you can also filter the file results by chaining endpoints together. This will return all the files that match our search AND that are specifically from specimens:"
   ]
  },
  {
   "cell_type": "code",
   "execution_count": 14,
   "id": "2cfb2582",
   "metadata": {},
   "outputs": [
    {
     "data": {
      "text/html": [
       "<pre style=\"white-space:pre;overflow-x:auto;line-height:normal;font-family:Menlo,'DejaVu Sans Mono',consolas,'Courier New',monospace\">Getting results from database\n",
       "\n",
       "</pre>\n"
      ],
      "text/plain": [
       "Getting results from database\n",
       "\n"
      ]
     },
     "metadata": {},
     "output_type": "display_data"
    },
    {
     "data": {
      "text/html": [
       "<pre style=\"white-space:pre;overflow-x:auto;line-height:normal;font-family:Menlo,'DejaVu Sans Mono',consolas,'Courier New',monospace\">Waiting for results\n",
       "</pre>\n"
      ],
      "text/plain": [
       "Waiting for results\n"
      ]
     },
     "metadata": {},
     "output_type": "display_data"
    },
    {
     "data": {
      "text/html": [
       "<pre style=\"white-space:pre;overflow-x:auto;line-height:normal;font-family:Menlo,'DejaVu Sans Mono',consolas,'Courier New',monospace\">\n",
       "                        Total execution time: <span style=\"color: #008080; text-decoration-color: #008080; font-weight: bold\">0</span>\n",
       "                        min <span style=\"color: #008080; text-decoration-color: #008080; font-weight: bold\">3.544</span> sec <span style=\"color: #008080; text-decoration-color: #008080; font-weight: bold\">3544</span> ms\n",
       "                        \n",
       "</pre>\n"
      ],
      "text/plain": [
       "\n",
       "                        Total execution time: \u001b[1;36m0\u001b[0m\n",
       "                        min \u001b[1;36m3.544\u001b[0m sec \u001b[1;36m3544\u001b[0m ms\n",
       "                        \n"
      ]
     },
     "metadata": {},
     "output_type": "display_data"
    },
    {
     "data": {
      "text/html": [
       "<pre style=\"white-space:pre;overflow-x:auto;line-height:normal;font-family:Menlo,'DejaVu Sans Mono',consolas,'Courier New',monospace\">   total : <span style=\"color: #008080; text-decoration-color: #008080; font-weight: bold\">50541</span>    \n",
       "</pre>\n"
      ],
      "text/plain": [
       "   total : \u001b[1;36m50541\u001b[0m    \n"
      ]
     },
     "metadata": {},
     "output_type": "display_data"
    },
    {
     "data": {
      "text/html": [
       "<style type=\"text/css\">\n",
       "#T_370fa_ th {\n",
       "  background-color: #000066;\n",
       "  color: white;\n",
       "  text-align: left;\n",
       "}\n",
       "#T_370fa_ td {\n",
       "  text-align: left;\n",
       "  border-bottom: 1px solid black;\n",
       "}\n",
       "</style>\n",
       "<table id=\"T_370fa_\" style='display:inline'>\n",
       "  <thead>\n",
       "    <tr>\n",
       "      <th class=\"col_heading level0 col0\" >file_identifier_system</th>\n",
       "      <th class=\"col_heading level0 col1\" >count</th>\n",
       "    </tr>\n",
       "  </thead>\n",
       "  <tbody>\n",
       "    <tr>\n",
       "      <td id=\"T_370fa_row0_col0\" class=\"data row0 col0\" >GDC</td>\n",
       "      <td id=\"T_370fa_row0_col1\" class=\"data row0 col1\" >47493</td>\n",
       "    </tr>\n",
       "    <tr>\n",
       "      <td id=\"T_370fa_row1_col0\" class=\"data row1 col0\" >PDC</td>\n",
       "      <td id=\"T_370fa_row1_col1\" class=\"data row1 col1\" >3048</td>\n",
       "    </tr>\n",
       "  </tbody>\n",
       "</table>\n",
       "<style type=\"text/css\">\n",
       "#T_30ffb_ th {\n",
       "  background-color: #000066;\n",
       "  color: white;\n",
       "  text-align: left;\n",
       "}\n",
       "#T_30ffb_ td {\n",
       "  text-align: left;\n",
       "  border-bottom: 1px solid black;\n",
       "}\n",
       "</style>\n",
       "<table id=\"T_30ffb_\" style='display:inline'>\n",
       "  <thead>\n",
       "    <tr>\n",
       "      <th class=\"col_heading level0 col0\" >data_category</th>\n",
       "      <th class=\"col_heading level0 col1\" >count</th>\n",
       "    </tr>\n",
       "  </thead>\n",
       "  <tbody>\n",
       "    <tr>\n",
       "      <td id=\"T_30ffb_row0_col0\" class=\"data row0 col0\" >Peptide Spectral Matches</td>\n",
       "      <td id=\"T_30ffb_row0_col1\" class=\"data row0 col1\" >1524</td>\n",
       "    </tr>\n",
       "    <tr>\n",
       "      <td id=\"T_30ffb_row1_col0\" class=\"data row1 col0\" >Simple Nucleotide Variation</td>\n",
       "      <td id=\"T_30ffb_row1_col1\" class=\"data row1 col1\" >20481</td>\n",
       "    </tr>\n",
       "    <tr>\n",
       "      <td id=\"T_30ffb_row2_col0\" class=\"data row2 col0\" >Sequencing Reads</td>\n",
       "      <td id=\"T_30ffb_row2_col1\" class=\"data row2 col1\" >5885</td>\n",
       "    </tr>\n",
       "    <tr>\n",
       "      <td id=\"T_30ffb_row3_col0\" class=\"data row3 col0\" >Processed Mass Spectra</td>\n",
       "      <td id=\"T_30ffb_row3_col1\" class=\"data row3 col1\" >762</td>\n",
       "    </tr>\n",
       "    <tr>\n",
       "      <td id=\"T_30ffb_row4_col0\" class=\"data row4 col0\" >Raw Mass Spectra</td>\n",
       "      <td id=\"T_30ffb_row4_col1\" class=\"data row4 col1\" >762</td>\n",
       "    </tr>\n",
       "    <tr>\n",
       "      <td id=\"T_30ffb_row5_col0\" class=\"data row5 col0\" >Copy Number Variation</td>\n",
       "      <td id=\"T_30ffb_row5_col1\" class=\"data row5 col1\" >6909</td>\n",
       "    </tr>\n",
       "    <tr>\n",
       "      <td id=\"T_30ffb_row6_col0\" class=\"data row6 col0\" >DNA Methylation</td>\n",
       "      <td id=\"T_30ffb_row6_col1\" class=\"data row6 col1\" >3339</td>\n",
       "    </tr>\n",
       "    <tr>\n",
       "      <td id=\"T_30ffb_row7_col0\" class=\"data row7 col0\" >Biospecimen</td>\n",
       "      <td id=\"T_30ffb_row7_col1\" class=\"data row7 col1\" >3629</td>\n",
       "    </tr>\n",
       "    <tr>\n",
       "      <td id=\"T_30ffb_row8_col0\" class=\"data row8 col0\" >Transcriptome Profiling</td>\n",
       "      <td id=\"T_30ffb_row8_col1\" class=\"data row8 col1\" >3112</td>\n",
       "    </tr>\n",
       "    <tr>\n",
       "      <td id=\"T_30ffb_row9_col0\" class=\"data row9 col0\" >Structural Variation</td>\n",
       "      <td id=\"T_30ffb_row9_col1\" class=\"data row9 col1\" >3160</td>\n",
       "    </tr>\n",
       "    <tr>\n",
       "      <td id=\"T_30ffb_row10_col0\" class=\"data row10 col0\" >Proteome Profiling</td>\n",
       "      <td id=\"T_30ffb_row10_col1\" class=\"data row10 col1\" >679</td>\n",
       "    </tr>\n",
       "    <tr>\n",
       "      <td id=\"T_30ffb_row11_col0\" class=\"data row11 col0\" >Somatic Structural Variation</td>\n",
       "      <td id=\"T_30ffb_row11_col1\" class=\"data row11 col1\" >299</td>\n",
       "    </tr>\n",
       "  </tbody>\n",
       "</table>\n",
       "<style type=\"text/css\">\n",
       "#T_dc8f6_ th {\n",
       "  background-color: #000066;\n",
       "  color: white;\n",
       "  text-align: left;\n",
       "}\n",
       "#T_dc8f6_ td {\n",
       "  text-align: left;\n",
       "  border-bottom: 1px solid black;\n",
       "}\n",
       "</style>\n",
       "<table id=\"T_dc8f6_\" style='display:inline'>\n",
       "  <thead>\n",
       "    <tr>\n",
       "      <th class=\"col_heading level0 col0\" >file_format</th>\n",
       "      <th class=\"col_heading level0 col1\" >count</th>\n",
       "    </tr>\n",
       "  </thead>\n",
       "  <tbody>\n",
       "    <tr>\n",
       "      <td id=\"T_dc8f6_row0_col0\" class=\"data row0 col0\" >BEDPE</td>\n",
       "      <td id=\"T_dc8f6_row0_col1\" class=\"data row0 col1\" >1886</td>\n",
       "    </tr>\n",
       "    <tr>\n",
       "      <td id=\"T_dc8f6_row1_col0\" class=\"data row1 col0\" >mzIdentML</td>\n",
       "      <td id=\"T_dc8f6_row1_col1\" class=\"data row1 col1\" >762</td>\n",
       "    </tr>\n",
       "    <tr>\n",
       "      <td id=\"T_dc8f6_row2_col0\" class=\"data row2 col0\" >MAF</td>\n",
       "      <td id=\"T_dc8f6_row2_col1\" class=\"data row2 col1\" >8375</td>\n",
       "    </tr>\n",
       "    <tr>\n",
       "      <td id=\"T_dc8f6_row3_col0\" class=\"data row3 col0\" >mzML</td>\n",
       "      <td id=\"T_dc8f6_row3_col1\" class=\"data row3 col1\" >762</td>\n",
       "    </tr>\n",
       "    <tr>\n",
       "      <td id=\"T_dc8f6_row4_col0\" class=\"data row4 col0\" >VCF</td>\n",
       "      <td id=\"T_dc8f6_row4_col1\" class=\"data row4 col1\" >12255</td>\n",
       "    </tr>\n",
       "    <tr>\n",
       "      <td id=\"T_dc8f6_row5_col0\" class=\"data row5 col0\" >TXT</td>\n",
       "      <td id=\"T_dc8f6_row5_col1\" class=\"data row5 col1\" >8848</td>\n",
       "    </tr>\n",
       "    <tr>\n",
       "      <td id=\"T_dc8f6_row6_col0\" class=\"data row6 col0\" >tsv</td>\n",
       "      <td id=\"T_dc8f6_row6_col1\" class=\"data row6 col1\" >762</td>\n",
       "    </tr>\n",
       "    <tr>\n",
       "      <td id=\"T_dc8f6_row7_col0\" class=\"data row7 col0\" >vendor-specific</td>\n",
       "      <td id=\"T_dc8f6_row7_col1\" class=\"data row7 col1\" >762</td>\n",
       "    </tr>\n",
       "    <tr>\n",
       "      <td id=\"T_dc8f6_row8_col0\" class=\"data row8 col0\" >SVS</td>\n",
       "      <td id=\"T_dc8f6_row8_col1\" class=\"data row8 col1\" >3629</td>\n",
       "    </tr>\n",
       "    <tr>\n",
       "      <td id=\"T_dc8f6_row9_col0\" class=\"data row9 col0\" >TSV</td>\n",
       "      <td id=\"T_dc8f6_row9_col1\" class=\"data row9 col1\" >4335</td>\n",
       "    </tr>\n",
       "    <tr>\n",
       "      <td id=\"T_dc8f6_row10_col0\" class=\"data row10 col0\" >BAM</td>\n",
       "      <td id=\"T_dc8f6_row10_col1\" class=\"data row10 col1\" >5885</td>\n",
       "    </tr>\n",
       "    <tr>\n",
       "      <td id=\"T_dc8f6_row11_col0\" class=\"data row11 col0\" >IDAT</td>\n",
       "      <td id=\"T_dc8f6_row11_col1\" class=\"data row11 col1\" >2226</td>\n",
       "    </tr>\n",
       "    <tr>\n",
       "      <td id=\"T_dc8f6_row12_col0\" class=\"data row12 col0\" >HDF5</td>\n",
       "      <td id=\"T_dc8f6_row12_col1\" class=\"data row12 col1\" >18</td>\n",
       "    </tr>\n",
       "    <tr>\n",
       "      <td id=\"T_dc8f6_row13_col0\" class=\"data row13 col0\" >MEX</td>\n",
       "      <td id=\"T_dc8f6_row13_col1\" class=\"data row13 col1\" >36</td>\n",
       "    </tr>\n",
       "  </tbody>\n",
       "</table>\n",
       "<style type=\"text/css\">\n",
       "#T_aea2b_ th {\n",
       "  background-color: #000066;\n",
       "  color: white;\n",
       "  text-align: left;\n",
       "}\n",
       "#T_aea2b_ td {\n",
       "  text-align: left;\n",
       "  border-bottom: 1px solid black;\n",
       "}\n",
       "</style>\n",
       "<table id=\"T_aea2b_\" style='display:inline'>\n",
       "  <thead>\n",
       "    <tr>\n",
       "      <th class=\"col_heading level0 col0\" >data_type</th>\n",
       "      <th class=\"col_heading level0 col1\" >count</th>\n",
       "    </tr>\n",
       "  </thead>\n",
       "  <tbody>\n",
       "    <tr>\n",
       "      <td id=\"T_aea2b_row0_col0\" class=\"data row0 col0\" >Raw Simple Somatic Mutation</td>\n",
       "      <td id=\"T_aea2b_row0_col1\" class=\"data row0 col1\" >6202</td>\n",
       "    </tr>\n",
       "    <tr>\n",
       "      <td id=\"T_aea2b_row1_col0\" class=\"data row1 col0\" >Masked Intensities</td>\n",
       "      <td id=\"T_aea2b_row1_col1\" class=\"data row1 col1\" >2226</td>\n",
       "    </tr>\n",
       "    <tr>\n",
       "      <td id=\"T_aea2b_row2_col0\" class=\"data row2 col0\" >Open Standard</td>\n",
       "      <td id=\"T_aea2b_row2_col1\" class=\"data row2 col1\" >1524</td>\n",
       "    </tr>\n",
       "    <tr>\n",
       "      <td id=\"T_aea2b_row3_col0\" class=\"data row3 col0\" >Masked Copy Number Segment</td>\n",
       "      <td id=\"T_aea2b_row3_col1\" class=\"data row3 col1\" >2185</td>\n",
       "    </tr>\n",
       "    <tr>\n",
       "      <td id=\"T_aea2b_row4_col0\" class=\"data row4 col0\" >Proprietary</td>\n",
       "      <td id=\"T_aea2b_row4_col1\" class=\"data row4 col1\" >762</td>\n",
       "    </tr>\n",
       "    <tr>\n",
       "      <td id=\"T_aea2b_row5_col0\" class=\"data row5 col0\" >Annotated Somatic Mutation</td>\n",
       "      <td id=\"T_aea2b_row5_col1\" class=\"data row5 col1\" >11808</td>\n",
       "    </tr>\n",
       "    <tr>\n",
       "      <td id=\"T_aea2b_row6_col0\" class=\"data row6 col0\" >Structural Rearrangement</td>\n",
       "      <td id=\"T_aea2b_row6_col1\" class=\"data row6 col1\" >298</td>\n",
       "    </tr>\n",
       "    <tr>\n",
       "      <td id=\"T_aea2b_row7_col0\" class=\"data row7 col0\" >Text</td>\n",
       "      <td id=\"T_aea2b_row7_col1\" class=\"data row7 col1\" >762</td>\n",
       "    </tr>\n",
       "    <tr>\n",
       "      <td id=\"T_aea2b_row8_col0\" class=\"data row8 col0\" >Masked Somatic Mutation</td>\n",
       "      <td id=\"T_aea2b_row8_col1\" class=\"data row8 col1\" >1144</td>\n",
       "    </tr>\n",
       "    <tr>\n",
       "      <td id=\"T_aea2b_row9_col0\" class=\"data row9 col0\" >Aligned Reads</td>\n",
       "      <td id=\"T_aea2b_row9_col1\" class=\"data row9 col1\" >5885</td>\n",
       "    </tr>\n",
       "    <tr>\n",
       "      <td id=\"T_aea2b_row10_col0\" class=\"data row10 col0\" >Allele-specific Copy Number Segment</td>\n",
       "      <td id=\"T_aea2b_row10_col1\" class=\"data row10 col1\" >1071</td>\n",
       "    </tr>\n",
       "    <tr>\n",
       "      <td id=\"T_aea2b_row11_col0\" class=\"data row11 col0\" >Slide Image</td>\n",
       "      <td id=\"T_aea2b_row11_col1\" class=\"data row11 col1\" >3629</td>\n",
       "    </tr>\n",
       "    <tr>\n",
       "      <td id=\"T_aea2b_row12_col0\" class=\"data row12 col0\" >Isoform Expression Quantification</td>\n",
       "      <td id=\"T_aea2b_row12_col1\" class=\"data row12 col1\" >643</td>\n",
       "    </tr>\n",
       "    <tr>\n",
       "      <td id=\"T_aea2b_row13_col0\" class=\"data row13 col0\" >Transcript Fusion</td>\n",
       "      <td id=\"T_aea2b_row13_col1\" class=\"data row13 col1\" >3161</td>\n",
       "    </tr>\n",
       "    <tr>\n",
       "      <td id=\"T_aea2b_row14_col0\" class=\"data row14 col0\" >Splice Junction Quantification</td>\n",
       "      <td id=\"T_aea2b_row14_col1\" class=\"data row14 col1\" >868</td>\n",
       "    </tr>\n",
       "    <tr>\n",
       "      <td id=\"T_aea2b_row15_col0\" class=\"data row15 col0\" >Copy Number Segment</td>\n",
       "      <td id=\"T_aea2b_row15_col1\" class=\"data row15 col1\" >2334</td>\n",
       "    </tr>\n",
       "    <tr>\n",
       "      <td id=\"T_aea2b_row16_col0\" class=\"data row16 col0\" >Aggregated Somatic Mutation</td>\n",
       "      <td id=\"T_aea2b_row16_col1\" class=\"data row16 col1\" >1144</td>\n",
       "    </tr>\n",
       "    <tr>\n",
       "      <td id=\"T_aea2b_row17_col0\" class=\"data row17 col0\" >Protein Expression Quantification</td>\n",
       "      <td id=\"T_aea2b_row17_col1\" class=\"data row17 col1\" >679</td>\n",
       "    </tr>\n",
       "    <tr>\n",
       "      <td id=\"T_aea2b_row18_col0\" class=\"data row18 col0\" >Gene Expression Quantification</td>\n",
       "      <td id=\"T_aea2b_row18_col1\" class=\"data row18 col1\" >904</td>\n",
       "    </tr>\n",
       "    <tr>\n",
       "      <td id=\"T_aea2b_row19_col0\" class=\"data row19 col0\" >Methylation Beta Value</td>\n",
       "      <td id=\"T_aea2b_row19_col1\" class=\"data row19 col1\" >1113</td>\n",
       "    </tr>\n",
       "    <tr>\n",
       "      <td id=\"T_aea2b_row20_col0\" class=\"data row20 col0\" >Gene Level Copy Number</td>\n",
       "      <td id=\"T_aea2b_row20_col1\" class=\"data row20 col1\" >1220</td>\n",
       "    </tr>\n",
       "    <tr>\n",
       "      <td id=\"T_aea2b_row21_col0\" class=\"data row21 col0\" >Masked Annotated Somatic Mutation</td>\n",
       "      <td id=\"T_aea2b_row21_col1\" class=\"data row21 col1\" >183</td>\n",
       "    </tr>\n",
       "    <tr>\n",
       "      <td id=\"T_aea2b_row22_col0\" class=\"data row22 col0\" >miRNA Expression Quantification</td>\n",
       "      <td id=\"T_aea2b_row22_col1\" class=\"data row22 col1\" >643</td>\n",
       "    </tr>\n",
       "    <tr>\n",
       "      <td id=\"T_aea2b_row23_col0\" class=\"data row23 col0\" >Differential Gene Expression</td>\n",
       "      <td id=\"T_aea2b_row23_col1\" class=\"data row23 col1\" >18</td>\n",
       "    </tr>\n",
       "    <tr>\n",
       "      <td id=\"T_aea2b_row24_col0\" class=\"data row24 col0\" >Gene Level Copy Number Scores</td>\n",
       "      <td id=\"T_aea2b_row24_col1\" class=\"data row24 col1\" >99</td>\n",
       "    </tr>\n",
       "    <tr>\n",
       "      <td id=\"T_aea2b_row25_col0\" class=\"data row25 col0\" >Single Cell Analysis</td>\n",
       "      <td id=\"T_aea2b_row25_col1\" class=\"data row25 col1\" >36</td>\n",
       "    </tr>\n",
       "  </tbody>\n",
       "</table>\n"
      ]
     },
     "metadata": {},
     "output_type": "display_data"
    },
    {
     "data": {
      "text/plain": []
     },
     "execution_count": 14,
     "metadata": {},
     "output_type": "execute_result"
    }
   ],
   "source": [
    "myquery.specimen.file.count.run()"
   ]
  },
  {
   "cell_type": "markdown",
   "id": "6994e312",
   "metadata": {},
   "source": [
    "Learn more about chaining endpoints in the [Chaining endpoints](\"../AdvancedSearch-Chaining\") notebook."
   ]
  }
 ],
 "metadata": {
  "interpreter": {
   "hash": "5c867d1980d5b66d2bfc8a5903dcee074b4b68f3917a4f27f8a310cab24e9f1b"
  },
  "kernelspec": {
   "display_name": "Python 3 (ipykernel)",
   "language": "python",
   "name": "python3"
  },
  "language_info": {
   "codemirror_mode": {
    "name": "ipython",
    "version": 3
   },
   "file_extension": ".py",
   "mimetype": "text/x-python",
   "name": "python",
   "nbconvert_exporter": "python",
   "pygments_lexer": "ipython3",
   "version": "3.9.12"
  },
  "metadata": {
   "interpreter": {
    "hash": "5c867d1980d5b66d2bfc8a5903dcee074b4b68f3917a4f27f8a310cab24e9f1b"
   }
  }
 },
 "nbformat": 4,
 "nbformat_minor": 5
}
