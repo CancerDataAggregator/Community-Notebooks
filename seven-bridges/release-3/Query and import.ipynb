{
 "cells": [
  {
   "cell_type": "markdown",
   "id": "154cf932-b26a-44aa-b6de-20e34643c224",
   "metadata": {},
   "source": [
    "# CDA Release 3 Query and Import Notebook\n",
    "\n",
    "This notebook demonstrates usage of CDA python API and importing resulting files into a project on CGC. This notebook utilizes python functions present in the *utilities.py* file which were developed specifically for this demo. Feel free to use the same functions in your projects. For questions, suggestions and bug reporting, feel free to contact Seven Bridges support.\n",
    "\n",
    "This notebook consists of several parts. First, necessary libraries are installed. In order to install libraries, the project in which the notebook is executed needs to have internet access. To check if your project has internet access, go to project settings (top right of the project page, or directly using https://cgc.sbgenomics.com/u/username/project-name/settings) -> *Execution settings* and select *Allow internet access*.\n",
    "\n",
    "In the second part, connection to the CDA is established and a query is run on six different endpoints. \n",
    "\n",
    "Finally, dataframes obtained from multiple endpoints are merged and files are imported using Seven Bridges API.\n",
    "\n",
    "The goal of this notebook is not data exploration. There are many [online examples](https://cda.readthedocs.io/en/latest/Examples/SearchTerms/) on how to explore CDA data. This notebook focuses on importing CDA files into your CGC project. Full functionality of CDA python can be explored in the [official documentation](https://github.com/CancerDataAggregator/readthedocs)"
   ]
  },
  {
   "cell_type": "markdown",
   "id": "445cbc5d-12a0-4262-90e4-b656e2f6fdb6",
   "metadata": {},
   "source": [
    "### Requirements installation\n",
    "\n",
    "When the following cell is run, required libraries will be installed. By default, installer is run quietly. To see what is going on behind the scenes, just remove -qq flag. It is possible that running the cell will return a dependancy conflict. If the conflict only contains scipy and numba, feel free to ignore the error. CDA python is still under development, and it clashes with other libraries present in this environment. Seven Bridges is working on a separate environment just for CDA."
   ]
  },
  {
   "cell_type": "code",
   "execution_count": 1,
   "id": "0796a169-669e-43a3-8620-a49938fcac2d",
   "metadata": {},
   "outputs": [
    {
     "name": "stdout",
     "output_type": "stream",
     "text": [
      "\u001b[31mERROR: pip's dependency resolver does not currently take into account all the packages that are installed. This behaviour is the source of the following dependency conflicts.\n",
      "scipy 1.7.1 requires numpy<1.23.0,>=1.16.5, but you have numpy 1.23.4 which is incompatible.\n",
      "numba 0.54.0 requires numpy<1.21,>=1.17, but you have numpy 1.23.4 which is incompatible.\u001b[0m\n"
     ]
    }
   ],
   "source": [
    "! pip install -r requirements.txt -qq"
   ]
  },
  {
   "cell_type": "markdown",
   "id": "c005c9f2-6cf9-4942-ac58-adac40ef050e",
   "metadata": {},
   "source": [
    "### Importing cda python\n",
    "\n",
    "CDA python comes with a tool **Q** which handles the interaction with the database. Additionaly, structure of the dataframe can be seen using the _columns_ function.\n"
   ]
  },
  {
   "cell_type": "code",
   "execution_count": 2,
   "id": "37bc9e7a-7522-4f87-9f42-f59ec38e4af9",
   "metadata": {},
   "outputs": [
    {
     "data": {
      "text/html": [
       "<pre style=\"white-space:pre;overflow-x:auto;line-height:normal;font-family:Menlo,'DejaVu Sans Mono',consolas,'Courier New',monospace\"><span style=\"color: #800080; text-decoration-color: #800080\">/opt/conda/lib/python3.9/site-packages/cdapython/</span><span style=\"color: #ff00ff; text-decoration-color: #ff00ff\">__init__.py</span>\n",
       "</pre>\n"
      ],
      "text/plain": [
       "\u001b[35m/opt/conda/lib/python3.9/site-packages/cdapython/\u001b[0m\u001b[95m__init__.py\u001b[0m\n"
      ]
     },
     "metadata": {},
     "output_type": "display_data"
    },
    {
     "data": {
      "text/html": [
       "<pre style=\"white-space:pre;overflow-x:auto;line-height:normal;font-family:Menlo,'DejaVu Sans Mono',consolas,'Courier New',monospace\"><span style=\"color: #008080; text-decoration-color: #008080; font-weight: bold\">2022.9</span>.<span style=\"color: #008080; text-decoration-color: #008080; font-weight: bold\">15</span>\n",
       "</pre>\n"
      ],
      "text/plain": [
       "\u001b[1;36m2022.9\u001b[0m.\u001b[1;36m15\u001b[0m\n"
      ]
     },
     "metadata": {},
     "output_type": "display_data"
    }
   ],
   "source": [
    "from cdapython import Q, columns\n",
    "import cdapython\n",
    "\n",
    "print(cdapython.__file__)\n",
    "print(cdapython.__version__)"
   ]
  },
  {
   "cell_type": "markdown",
   "id": "8a0c7eae-18b0-44fd-926a-62b5ec15753e",
   "metadata": {},
   "source": [
    "### Writing a query\n",
    "\n",
    "Lets get all files with subject_id = TCGA-E2-A10A"
   ]
  },
  {
   "cell_type": "code",
   "execution_count": 5,
   "id": "0ac95e57-ffc5-4b34-ad69-396460b42a6b",
   "metadata": {},
   "outputs": [],
   "source": [
    "q = Q('subject_id = \"TCGA-E2-A10A\"')"
   ]
  },
  {
   "cell_type": "markdown",
   "id": "e0e30b9e-dbe9-48a5-acd8-a762b8f3921b",
   "metadata": {},
   "source": [
    "## Querying CDA\n",
    "\n",
    "CDA consists of multiple endpoints. By using each endpoint a certain subset of Data can be accessed. Since the goal of this notebook is to get files, first endpoint is the files endpoint.\n",
    "\n",
    "For transforming data into dataframes, _iter_pages()_ function is defined in the _utilities.py_. This function iterates over response's pages and gets all data into a single dataframe. There are approaches to transforming query results into a dataframe. For other approaches, feel free to explore the [Pagination notebook](https://github.com/CancerDataAggregator/readthedocs/blob/main/docs/Examples/Pagination.ipynb).\n",
    "\n",
    "Depending on the query, the following cell can take a couple of minutes to execute.\n",
    "\n",
    "### Querying files endpoint"
   ]
  },
  {
   "cell_type": "code",
   "execution_count": 6,
   "id": "c77b9def-9267-498c-91b8-522b9fe2371f",
   "metadata": {},
   "outputs": [
    {
     "data": {
      "text/html": [
       "<pre style=\"white-space:pre;overflow-x:auto;line-height:normal;font-family:Menlo,'DejaVu Sans Mono',consolas,'Courier New',monospace\">Getting results from database\n",
       "\n",
       "</pre>\n"
      ],
      "text/plain": [
       "Getting results from database\n",
       "\n"
      ]
     },
     "metadata": {},
     "output_type": "display_data"
    },
    {
     "data": {
      "text/html": [
       "<pre style=\"white-space:pre;overflow-x:auto;line-height:normal;font-family:Menlo,'DejaVu Sans Mono',consolas,'Courier New',monospace\">\n",
       "                        Total execution time: <span style=\"color: #008080; text-decoration-color: #008080; font-weight: bold\">0</span>\n",
       "                        min <span style=\"color: #008080; text-decoration-color: #008080; font-weight: bold\">3.777</span> sec <span style=\"color: #008080; text-decoration-color: #008080; font-weight: bold\">3777</span> ms\n",
       "                        \n",
       "</pre>\n"
      ],
      "text/plain": [
       "\n",
       "                        Total execution time: \u001b[1;36m0\u001b[0m\n",
       "                        min \u001b[1;36m3.777\u001b[0m sec \u001b[1;36m3777\u001b[0m ms\n",
       "                        \n"
      ]
     },
     "metadata": {},
     "output_type": "display_data"
    }
   ],
   "source": [
    "from utilities import iter_pages\n",
    "files_of_interest = q.file.run()\n",
    "\n",
    "files_df = iter_pages(files_of_interest)"
   ]
  },
  {
   "cell_type": "markdown",
   "id": "8b9167f2-d7e7-4ebe-a20e-c2b61dcec843",
   "metadata": {},
   "source": [
    "Lets check out the format of the obtained dataframe:"
   ]
  },
  {
   "cell_type": "code",
   "execution_count": 7,
   "id": "688ad8ad-d3c1-4f76-96d2-892bc98a7e7e",
   "metadata": {},
   "outputs": [
    {
     "data": {
      "text/html": [
       "<div>\n",
       "<style scoped>\n",
       "    .dataframe tbody tr th:only-of-type {\n",
       "        vertical-align: middle;\n",
       "    }\n",
       "\n",
       "    .dataframe tbody tr th {\n",
       "        vertical-align: top;\n",
       "    }\n",
       "\n",
       "    .dataframe thead th {\n",
       "        text-align: right;\n",
       "    }\n",
       "</style>\n",
       "<table border=\"1\" class=\"dataframe\">\n",
       "  <thead>\n",
       "    <tr style=\"text-align: right;\">\n",
       "      <th></th>\n",
       "      <th>file_id</th>\n",
       "      <th>file_identifier</th>\n",
       "      <th>label</th>\n",
       "      <th>data_category</th>\n",
       "      <th>data_type</th>\n",
       "      <th>file_format</th>\n",
       "      <th>file_associated_project</th>\n",
       "      <th>drs_uri</th>\n",
       "      <th>byte_size</th>\n",
       "      <th>checksum</th>\n",
       "      <th>data_modality</th>\n",
       "      <th>imaging_modality</th>\n",
       "      <th>dbgap_accession_number</th>\n",
       "      <th>imaging_series</th>\n",
       "      <th>specimen_id</th>\n",
       "      <th>researchsubject_id</th>\n",
       "      <th>subject_id</th>\n",
       "    </tr>\n",
       "  </thead>\n",
       "  <tbody>\n",
       "    <tr>\n",
       "      <th>0</th>\n",
       "      <td>7af2c68c-6b5c-11e9-ab5c-005056921935</td>\n",
       "      <td>[{'system': 'PDC', 'value': '7af2c68c-6b5c-11e...</td>\n",
       "      <td>TCGA_E2-A10A_BH-A18Q_C8-A130_117C_W_BI_2013022...</td>\n",
       "      <td>Peptide Spectral Matches</td>\n",
       "      <td>Open Standard</td>\n",
       "      <td>mzIdentML</td>\n",
       "      <td>CPTAC-TCGA</td>\n",
       "      <td>drs://dg.4DFC:7af2c68c-6b5c-11e9-ab5c-00505692...</td>\n",
       "      <td>11371231.0</td>\n",
       "      <td>d77024459559eb31f4db5b32eae36813</td>\n",
       "      <td>Proteomic</td>\n",
       "      <td>None</td>\n",
       "      <td>None</td>\n",
       "      <td>None</td>\n",
       "      <td></td>\n",
       "      <td></td>\n",
       "      <td>TCGA-E2-A10A</td>\n",
       "    </tr>\n",
       "    <tr>\n",
       "      <th>1</th>\n",
       "      <td>4adca628-6b5e-11e9-9244-005056921935</td>\n",
       "      <td>[{'system': 'PDC', 'value': '4adca628-6b5e-11e...</td>\n",
       "      <td>TCGA_E2-A10A_BH-A18Q_C8-A130_117C_P_BI_2013022...</td>\n",
       "      <td>Peptide Spectral Matches</td>\n",
       "      <td>Text</td>\n",
       "      <td>tsv</td>\n",
       "      <td>CPTAC-TCGA</td>\n",
       "      <td>drs://dg.4DFC:4adca628-6b5e-11e9-9244-00505692...</td>\n",
       "      <td>3776441.0</td>\n",
       "      <td>919fdbf943adc46bbef970847cf2aa6f</td>\n",
       "      <td>Proteomic</td>\n",
       "      <td>None</td>\n",
       "      <td>None</td>\n",
       "      <td>None</td>\n",
       "      <td></td>\n",
       "      <td></td>\n",
       "      <td>TCGA-E2-A10A</td>\n",
       "    </tr>\n",
       "    <tr>\n",
       "      <th>2</th>\n",
       "      <td>6bf22560-6b5c-11e9-ab5c-005056921935</td>\n",
       "      <td>[{'system': 'PDC', 'value': '6bf22560-6b5c-11e...</td>\n",
       "      <td>TCGA_E2-A10A_BH-A18Q_C8-A130_117C_W_BI_2013022...</td>\n",
       "      <td>Peptide Spectral Matches</td>\n",
       "      <td>Text</td>\n",
       "      <td>tsv</td>\n",
       "      <td>CPTAC-TCGA</td>\n",
       "      <td>drs://dg.4DFC:6bf22560-6b5c-11e9-ab5c-00505692...</td>\n",
       "      <td>6847471.0</td>\n",
       "      <td>4c713108933f5b554a11d9acb4e340b3</td>\n",
       "      <td>Proteomic</td>\n",
       "      <td>None</td>\n",
       "      <td>None</td>\n",
       "      <td>None</td>\n",
       "      <td></td>\n",
       "      <td></td>\n",
       "      <td>TCGA-E2-A10A</td>\n",
       "    </tr>\n",
       "  </tbody>\n",
       "</table>\n",
       "</div>"
      ],
      "text/plain": [
       "                                file_id  \\\n",
       "0  7af2c68c-6b5c-11e9-ab5c-005056921935   \n",
       "1  4adca628-6b5e-11e9-9244-005056921935   \n",
       "2  6bf22560-6b5c-11e9-ab5c-005056921935   \n",
       "\n",
       "                                     file_identifier  \\\n",
       "0  [{'system': 'PDC', 'value': '7af2c68c-6b5c-11e...   \n",
       "1  [{'system': 'PDC', 'value': '4adca628-6b5e-11e...   \n",
       "2  [{'system': 'PDC', 'value': '6bf22560-6b5c-11e...   \n",
       "\n",
       "                                               label  \\\n",
       "0  TCGA_E2-A10A_BH-A18Q_C8-A130_117C_W_BI_2013022...   \n",
       "1  TCGA_E2-A10A_BH-A18Q_C8-A130_117C_P_BI_2013022...   \n",
       "2  TCGA_E2-A10A_BH-A18Q_C8-A130_117C_W_BI_2013022...   \n",
       "\n",
       "              data_category      data_type file_format  \\\n",
       "0  Peptide Spectral Matches  Open Standard   mzIdentML   \n",
       "1  Peptide Spectral Matches           Text         tsv   \n",
       "2  Peptide Spectral Matches           Text         tsv   \n",
       "\n",
       "  file_associated_project                                            drs_uri  \\\n",
       "0              CPTAC-TCGA  drs://dg.4DFC:7af2c68c-6b5c-11e9-ab5c-00505692...   \n",
       "1              CPTAC-TCGA  drs://dg.4DFC:4adca628-6b5e-11e9-9244-00505692...   \n",
       "2              CPTAC-TCGA  drs://dg.4DFC:6bf22560-6b5c-11e9-ab5c-00505692...   \n",
       "\n",
       "    byte_size                          checksum data_modality  \\\n",
       "0  11371231.0  d77024459559eb31f4db5b32eae36813     Proteomic   \n",
       "1   3776441.0  919fdbf943adc46bbef970847cf2aa6f     Proteomic   \n",
       "2   6847471.0  4c713108933f5b554a11d9acb4e340b3     Proteomic   \n",
       "\n",
       "  imaging_modality dbgap_accession_number imaging_series specimen_id  \\\n",
       "0             None                   None           None               \n",
       "1             None                   None           None               \n",
       "2             None                   None           None               \n",
       "\n",
       "  researchsubject_id    subject_id  \n",
       "0                     TCGA-E2-A10A  \n",
       "1                     TCGA-E2-A10A  \n",
       "2                     TCGA-E2-A10A  "
      ]
     },
     "execution_count": 7,
     "metadata": {},
     "output_type": "execute_result"
    }
   ],
   "source": [
    "files_df.head(3)"
   ]
  },
  {
   "cell_type": "markdown",
   "id": "3640d51e-e7ef-4802-b409-4c103f9353e0",
   "metadata": {},
   "source": [
    "Dataframe contains all file-related information as well as ids of other endpoints it connects to. These ids will lated be useful for merging dataframes from multiple endpoints."
   ]
  },
  {
   "cell_type": "markdown",
   "id": "7789f6fe-731b-484e-b9c5-91d5cacbb65c",
   "metadata": {},
   "source": [
    "### Querying other endpoints\n",
    "\n",
    "When querying other endpoints, **id** column is renamed to properly reflect which id it is referring to. This is done so that merging dataframes can be performed using appropriate **id** columns. Depending on the query, the following cell can take a couple of minutes to execute."
   ]
  },
  {
   "cell_type": "code",
   "execution_count": 8,
   "id": "c7e5316f-6543-49a5-814f-774c5aaa765d",
   "metadata": {},
   "outputs": [
    {
     "data": {
      "text/html": [
       "<pre style=\"white-space:pre;overflow-x:auto;line-height:normal;font-family:Menlo,'DejaVu Sans Mono',consolas,'Courier New',monospace\">Getting results from database\n",
       "\n",
       "</pre>\n"
      ],
      "text/plain": [
       "Getting results from database\n",
       "\n"
      ]
     },
     "metadata": {},
     "output_type": "display_data"
    },
    {
     "data": {
      "text/html": [
       "<pre style=\"white-space:pre;overflow-x:auto;line-height:normal;font-family:Menlo,'DejaVu Sans Mono',consolas,'Courier New',monospace\">\n",
       "                        Total execution time: <span style=\"color: #008080; text-decoration-color: #008080; font-weight: bold\">0</span>\n",
       "                        min <span style=\"color: #008080; text-decoration-color: #008080; font-weight: bold\">3.689</span> sec <span style=\"color: #008080; text-decoration-color: #008080; font-weight: bold\">3689</span> ms\n",
       "                        \n",
       "</pre>\n"
      ],
      "text/plain": [
       "\n",
       "                        Total execution time: \u001b[1;36m0\u001b[0m\n",
       "                        min \u001b[1;36m3.689\u001b[0m sec \u001b[1;36m3689\u001b[0m ms\n",
       "                        \n"
      ]
     },
     "metadata": {},
     "output_type": "display_data"
    },
    {
     "data": {
      "text/html": [
       "<pre style=\"white-space:pre;overflow-x:auto;line-height:normal;font-family:Menlo,'DejaVu Sans Mono',consolas,'Courier New',monospace\">Getting results from database\n",
       "\n",
       "</pre>\n"
      ],
      "text/plain": [
       "Getting results from database\n",
       "\n"
      ]
     },
     "metadata": {},
     "output_type": "display_data"
    },
    {
     "data": {
      "text/html": [
       "<pre style=\"white-space:pre;overflow-x:auto;line-height:normal;font-family:Menlo,'DejaVu Sans Mono',consolas,'Courier New',monospace\">\n",
       "                        Total execution time: <span style=\"color: #008080; text-decoration-color: #008080; font-weight: bold\">0</span>\n",
       "                        min <span style=\"color: #008080; text-decoration-color: #008080; font-weight: bold\">3.598</span> sec <span style=\"color: #008080; text-decoration-color: #008080; font-weight: bold\">3598</span> ms\n",
       "                        \n",
       "</pre>\n"
      ],
      "text/plain": [
       "\n",
       "                        Total execution time: \u001b[1;36m0\u001b[0m\n",
       "                        min \u001b[1;36m3.598\u001b[0m sec \u001b[1;36m3598\u001b[0m ms\n",
       "                        \n"
      ]
     },
     "metadata": {},
     "output_type": "display_data"
    },
    {
     "data": {
      "text/html": [
       "<pre style=\"white-space:pre;overflow-x:auto;line-height:normal;font-family:Menlo,'DejaVu Sans Mono',consolas,'Courier New',monospace\">Getting results from database\n",
       "\n",
       "</pre>\n"
      ],
      "text/plain": [
       "Getting results from database\n",
       "\n"
      ]
     },
     "metadata": {},
     "output_type": "display_data"
    },
    {
     "data": {
      "text/html": [
       "<pre style=\"white-space:pre;overflow-x:auto;line-height:normal;font-family:Menlo,'DejaVu Sans Mono',consolas,'Courier New',monospace\">\n",
       "                        Total execution time: <span style=\"color: #008080; text-decoration-color: #008080; font-weight: bold\">0</span>\n",
       "                        min <span style=\"color: #008080; text-decoration-color: #008080; font-weight: bold\">3.727</span> sec <span style=\"color: #008080; text-decoration-color: #008080; font-weight: bold\">3727</span> ms\n",
       "                        \n",
       "</pre>\n"
      ],
      "text/plain": [
       "\n",
       "                        Total execution time: \u001b[1;36m0\u001b[0m\n",
       "                        min \u001b[1;36m3.727\u001b[0m sec \u001b[1;36m3727\u001b[0m ms\n",
       "                        \n"
      ]
     },
     "metadata": {},
     "output_type": "display_data"
    },
    {
     "data": {
      "text/html": [
       "<pre style=\"white-space:pre;overflow-x:auto;line-height:normal;font-family:Menlo,'DejaVu Sans Mono',consolas,'Courier New',monospace\">Getting results from database\n",
       "\n",
       "</pre>\n"
      ],
      "text/plain": [
       "Getting results from database\n",
       "\n"
      ]
     },
     "metadata": {},
     "output_type": "display_data"
    },
    {
     "data": {
      "text/html": [
       "<pre style=\"white-space:pre;overflow-x:auto;line-height:normal;font-family:Menlo,'DejaVu Sans Mono',consolas,'Courier New',monospace\">\n",
       "                        Total execution time: <span style=\"color: #008080; text-decoration-color: #008080; font-weight: bold\">0</span>\n",
       "                        min <span style=\"color: #008080; text-decoration-color: #008080; font-weight: bold\">3.605</span> sec <span style=\"color: #008080; text-decoration-color: #008080; font-weight: bold\">3605</span> ms\n",
       "                        \n",
       "</pre>\n"
      ],
      "text/plain": [
       "\n",
       "                        Total execution time: \u001b[1;36m0\u001b[0m\n",
       "                        min \u001b[1;36m3.605\u001b[0m sec \u001b[1;36m3605\u001b[0m ms\n",
       "                        \n"
      ]
     },
     "metadata": {},
     "output_type": "display_data"
    },
    {
     "data": {
      "text/html": [
       "<pre style=\"white-space:pre;overflow-x:auto;line-height:normal;font-family:Menlo,'DejaVu Sans Mono',consolas,'Courier New',monospace\">Getting results from database\n",
       "\n",
       "</pre>\n"
      ],
      "text/plain": [
       "Getting results from database\n",
       "\n"
      ]
     },
     "metadata": {},
     "output_type": "display_data"
    },
    {
     "data": {
      "text/html": [
       "<pre style=\"white-space:pre;overflow-x:auto;line-height:normal;font-family:Menlo,'DejaVu Sans Mono',consolas,'Courier New',monospace\">\n",
       "                        Total execution time: <span style=\"color: #008080; text-decoration-color: #008080; font-weight: bold\">0</span>\n",
       "                        min <span style=\"color: #008080; text-decoration-color: #008080; font-weight: bold\">4.031</span> sec <span style=\"color: #008080; text-decoration-color: #008080; font-weight: bold\">4031</span> ms\n",
       "                        \n",
       "</pre>\n"
      ],
      "text/plain": [
       "\n",
       "                        Total execution time: \u001b[1;36m0\u001b[0m\n",
       "                        min \u001b[1;36m4.031\u001b[0m sec \u001b[1;36m4031\u001b[0m ms\n",
       "                        \n"
      ]
     },
     "metadata": {},
     "output_type": "display_data"
    }
   ],
   "source": [
    "# Diagnosis\n",
    "diagnosis = q.diagnosis.run()\n",
    "diagnosis_df = iter_pages(diagnosis)\n",
    "\n",
    "# Treatment\n",
    "treatment = q.treatment.run()\n",
    "treatment_df = iter_pages(treatment)\n",
    "\n",
    "# Research subject\n",
    "research_subject_of_interest = q.researchsubject.run()\n",
    "rs_df = iter_pages(research_subject_of_interest)\n",
    "\n",
    "# Subject\n",
    "subject_of_interest = q.subject.run()\n",
    "subject_df = iter_pages(subject_of_interest)\n",
    "\n",
    "#Specimen\n",
    "specimen_of_interest = q.specimen.run()\n",
    "specimen_df = iter_pages(specimen_of_interest)"
   ]
  },
  {
   "cell_type": "markdown",
   "id": "6cf02fbb-6293-4f2c-a8ae-e1e162876a11",
   "metadata": {},
   "source": [
    "After obtaining dataframes, they can be merged into a single dataframe. Goal of querying and merging multiple dataframes is to be able to infer all metadata fields for files which are to be imported. In general, it is strongly suggested to explore the results and adjust the query before proceeding to dataframe merging and importing data to CGC.\n",
    "\n",
    "For dataframe manipulation, pandas must be imported:"
   ]
  },
  {
   "cell_type": "code",
   "execution_count": 9,
   "id": "41a47800-4d1a-4505-b123-4f71a9599bf8",
   "metadata": {},
   "outputs": [
    {
     "data": {
      "text/html": [
       "<div>\n",
       "<style scoped>\n",
       "    .dataframe tbody tr th:only-of-type {\n",
       "        vertical-align: middle;\n",
       "    }\n",
       "\n",
       "    .dataframe tbody tr th {\n",
       "        vertical-align: top;\n",
       "    }\n",
       "\n",
       "    .dataframe thead th {\n",
       "        text-align: right;\n",
       "    }\n",
       "</style>\n",
       "<table border=\"1\" class=\"dataframe\">\n",
       "  <thead>\n",
       "    <tr style=\"text-align: right;\">\n",
       "      <th></th>\n",
       "      <th>file_id</th>\n",
       "      <th>file_identifier</th>\n",
       "      <th>label</th>\n",
       "      <th>data_category</th>\n",
       "      <th>data_type</th>\n",
       "      <th>file_format</th>\n",
       "      <th>file_associated_project</th>\n",
       "      <th>drs_uri</th>\n",
       "      <th>byte_size</th>\n",
       "      <th>checksum</th>\n",
       "      <th>data_modality</th>\n",
       "      <th>imaging_modality</th>\n",
       "      <th>dbgap_accession_number</th>\n",
       "      <th>imaging_series</th>\n",
       "      <th>specimen_id</th>\n",
       "      <th>researchsubject_id</th>\n",
       "      <th>subject_id</th>\n",
       "      <th>researchsubject_identifier</th>\n",
       "      <th>member_of_research_project</th>\n",
       "      <th>primary_diagnosis_condition</th>\n",
       "      <th>primary_diagnosis_site</th>\n",
       "      <th>subject_id_rs</th>\n",
       "      <th>subject_identifier</th>\n",
       "      <th>species</th>\n",
       "      <th>sex</th>\n",
       "      <th>race</th>\n",
       "      <th>ethnicity</th>\n",
       "      <th>days_to_birth</th>\n",
       "      <th>subject_associated_project</th>\n",
       "      <th>vital_status</th>\n",
       "      <th>days_to_death</th>\n",
       "      <th>cause_of_death</th>\n",
       "      <th>specimen_identifier</th>\n",
       "      <th>specimen_associated_project</th>\n",
       "      <th>days_to_collection</th>\n",
       "      <th>primary_disease_type</th>\n",
       "      <th>anatomical_site</th>\n",
       "      <th>source_material_type</th>\n",
       "      <th>specimen_type</th>\n",
       "      <th>derived_from_specimen</th>\n",
       "      <th>subject_id_specimen</th>\n",
       "      <th>researchsubject_id_specimen</th>\n",
       "      <th>treatment_id</th>\n",
       "      <th>treatment_identifier</th>\n",
       "      <th>treatment_type</th>\n",
       "      <th>treatment_outcome</th>\n",
       "      <th>days_to_treatment_start</th>\n",
       "      <th>days_to_treatment_end</th>\n",
       "      <th>therapeutic_agent</th>\n",
       "      <th>treatment_anatomic_site</th>\n",
       "      <th>treatment_effect</th>\n",
       "      <th>treatment_end_reason</th>\n",
       "      <th>number_of_cycles</th>\n",
       "      <th>subject_id_treatment</th>\n",
       "      <th>diagnosis_id</th>\n",
       "      <th>diagnosis_id_diagnosis</th>\n",
       "      <th>diagnosis_identifier</th>\n",
       "      <th>primary_diagnosis</th>\n",
       "      <th>age_at_diagnosis</th>\n",
       "      <th>morphology</th>\n",
       "      <th>stage</th>\n",
       "      <th>grade</th>\n",
       "      <th>method_of_diagnosis</th>\n",
       "      <th>subject_id_diagnosis</th>\n",
       "    </tr>\n",
       "  </thead>\n",
       "  <tbody>\n",
       "    <tr>\n",
       "      <th>0</th>\n",
       "      <td>7af2c68c-6b5c-11e9-ab5c-005056921935</td>\n",
       "      <td>[{'system': 'PDC', 'value': '7af2c68c-6b5c-11e...</td>\n",
       "      <td>TCGA_E2-A10A_BH-A18Q_C8-A130_117C_W_BI_2013022...</td>\n",
       "      <td>Peptide Spectral Matches</td>\n",
       "      <td>Open Standard</td>\n",
       "      <td>mzIdentML</td>\n",
       "      <td>CPTAC-TCGA</td>\n",
       "      <td>drs://dg.4DFC:7af2c68c-6b5c-11e9-ab5c-00505692...</td>\n",
       "      <td>11371231.0</td>\n",
       "      <td>d77024459559eb31f4db5b32eae36813</td>\n",
       "      <td>Proteomic</td>\n",
       "      <td>None</td>\n",
       "      <td>None</td>\n",
       "      <td>None</td>\n",
       "      <td></td>\n",
       "      <td></td>\n",
       "      <td>TCGA-E2-A10A</td>\n",
       "      <td>NaN</td>\n",
       "      <td>NaN</td>\n",
       "      <td>NaN</td>\n",
       "      <td>NaN</td>\n",
       "      <td>NaN</td>\n",
       "      <td>[{'system': 'GDC', 'value': 'TCGA-E2-A10A'}, {...</td>\n",
       "      <td>homo sapiens</td>\n",
       "      <td>female</td>\n",
       "      <td>white</td>\n",
       "      <td>not hispanic or latino</td>\n",
       "      <td>-15085.0</td>\n",
       "      <td>[TCGA-BRCA, tcga_brca, CPTAC-TCGA]</td>\n",
       "      <td>Alive</td>\n",
       "      <td>None</td>\n",
       "      <td>None</td>\n",
       "      <td>NaN</td>\n",
       "      <td>NaN</td>\n",
       "      <td>NaN</td>\n",
       "      <td>NaN</td>\n",
       "      <td>NaN</td>\n",
       "      <td>NaN</td>\n",
       "      <td>NaN</td>\n",
       "      <td>NaN</td>\n",
       "      <td>NaN</td>\n",
       "      <td>NaN</td>\n",
       "      <td>NaN</td>\n",
       "      <td>NaN</td>\n",
       "      <td>NaN</td>\n",
       "      <td>NaN</td>\n",
       "      <td>NaN</td>\n",
       "      <td>NaN</td>\n",
       "      <td>NaN</td>\n",
       "      <td>NaN</td>\n",
       "      <td>NaN</td>\n",
       "      <td>NaN</td>\n",
       "      <td>NaN</td>\n",
       "      <td>NaN</td>\n",
       "      <td>NaN</td>\n",
       "      <td>NaN</td>\n",
       "      <td>NaN</td>\n",
       "      <td>NaN</td>\n",
       "      <td>NaN</td>\n",
       "      <td>NaN</td>\n",
       "      <td>NaN</td>\n",
       "      <td>NaN</td>\n",
       "      <td>NaN</td>\n",
       "      <td>NaN</td>\n",
       "    </tr>\n",
       "    <tr>\n",
       "      <th>1</th>\n",
       "      <td>4adca628-6b5e-11e9-9244-005056921935</td>\n",
       "      <td>[{'system': 'PDC', 'value': '4adca628-6b5e-11e...</td>\n",
       "      <td>TCGA_E2-A10A_BH-A18Q_C8-A130_117C_P_BI_2013022...</td>\n",
       "      <td>Peptide Spectral Matches</td>\n",
       "      <td>Text</td>\n",
       "      <td>tsv</td>\n",
       "      <td>CPTAC-TCGA</td>\n",
       "      <td>drs://dg.4DFC:4adca628-6b5e-11e9-9244-00505692...</td>\n",
       "      <td>3776441.0</td>\n",
       "      <td>919fdbf943adc46bbef970847cf2aa6f</td>\n",
       "      <td>Proteomic</td>\n",
       "      <td>None</td>\n",
       "      <td>None</td>\n",
       "      <td>None</td>\n",
       "      <td></td>\n",
       "      <td></td>\n",
       "      <td>TCGA-E2-A10A</td>\n",
       "      <td>NaN</td>\n",
       "      <td>NaN</td>\n",
       "      <td>NaN</td>\n",
       "      <td>NaN</td>\n",
       "      <td>NaN</td>\n",
       "      <td>[{'system': 'GDC', 'value': 'TCGA-E2-A10A'}, {...</td>\n",
       "      <td>homo sapiens</td>\n",
       "      <td>female</td>\n",
       "      <td>white</td>\n",
       "      <td>not hispanic or latino</td>\n",
       "      <td>-15085.0</td>\n",
       "      <td>[TCGA-BRCA, tcga_brca, CPTAC-TCGA]</td>\n",
       "      <td>Alive</td>\n",
       "      <td>None</td>\n",
       "      <td>None</td>\n",
       "      <td>NaN</td>\n",
       "      <td>NaN</td>\n",
       "      <td>NaN</td>\n",
       "      <td>NaN</td>\n",
       "      <td>NaN</td>\n",
       "      <td>NaN</td>\n",
       "      <td>NaN</td>\n",
       "      <td>NaN</td>\n",
       "      <td>NaN</td>\n",
       "      <td>NaN</td>\n",
       "      <td>NaN</td>\n",
       "      <td>NaN</td>\n",
       "      <td>NaN</td>\n",
       "      <td>NaN</td>\n",
       "      <td>NaN</td>\n",
       "      <td>NaN</td>\n",
       "      <td>NaN</td>\n",
       "      <td>NaN</td>\n",
       "      <td>NaN</td>\n",
       "      <td>NaN</td>\n",
       "      <td>NaN</td>\n",
       "      <td>NaN</td>\n",
       "      <td>NaN</td>\n",
       "      <td>NaN</td>\n",
       "      <td>NaN</td>\n",
       "      <td>NaN</td>\n",
       "      <td>NaN</td>\n",
       "      <td>NaN</td>\n",
       "      <td>NaN</td>\n",
       "      <td>NaN</td>\n",
       "      <td>NaN</td>\n",
       "      <td>NaN</td>\n",
       "    </tr>\n",
       "    <tr>\n",
       "      <th>2</th>\n",
       "      <td>6bf22560-6b5c-11e9-ab5c-005056921935</td>\n",
       "      <td>[{'system': 'PDC', 'value': '6bf22560-6b5c-11e...</td>\n",
       "      <td>TCGA_E2-A10A_BH-A18Q_C8-A130_117C_W_BI_2013022...</td>\n",
       "      <td>Peptide Spectral Matches</td>\n",
       "      <td>Text</td>\n",
       "      <td>tsv</td>\n",
       "      <td>CPTAC-TCGA</td>\n",
       "      <td>drs://dg.4DFC:6bf22560-6b5c-11e9-ab5c-00505692...</td>\n",
       "      <td>6847471.0</td>\n",
       "      <td>4c713108933f5b554a11d9acb4e340b3</td>\n",
       "      <td>Proteomic</td>\n",
       "      <td>None</td>\n",
       "      <td>None</td>\n",
       "      <td>None</td>\n",
       "      <td></td>\n",
       "      <td></td>\n",
       "      <td>TCGA-E2-A10A</td>\n",
       "      <td>NaN</td>\n",
       "      <td>NaN</td>\n",
       "      <td>NaN</td>\n",
       "      <td>NaN</td>\n",
       "      <td>NaN</td>\n",
       "      <td>[{'system': 'GDC', 'value': 'TCGA-E2-A10A'}, {...</td>\n",
       "      <td>homo sapiens</td>\n",
       "      <td>female</td>\n",
       "      <td>white</td>\n",
       "      <td>not hispanic or latino</td>\n",
       "      <td>-15085.0</td>\n",
       "      <td>[TCGA-BRCA, tcga_brca, CPTAC-TCGA]</td>\n",
       "      <td>Alive</td>\n",
       "      <td>None</td>\n",
       "      <td>None</td>\n",
       "      <td>NaN</td>\n",
       "      <td>NaN</td>\n",
       "      <td>NaN</td>\n",
       "      <td>NaN</td>\n",
       "      <td>NaN</td>\n",
       "      <td>NaN</td>\n",
       "      <td>NaN</td>\n",
       "      <td>NaN</td>\n",
       "      <td>NaN</td>\n",
       "      <td>NaN</td>\n",
       "      <td>NaN</td>\n",
       "      <td>NaN</td>\n",
       "      <td>NaN</td>\n",
       "      <td>NaN</td>\n",
       "      <td>NaN</td>\n",
       "      <td>NaN</td>\n",
       "      <td>NaN</td>\n",
       "      <td>NaN</td>\n",
       "      <td>NaN</td>\n",
       "      <td>NaN</td>\n",
       "      <td>NaN</td>\n",
       "      <td>NaN</td>\n",
       "      <td>NaN</td>\n",
       "      <td>NaN</td>\n",
       "      <td>NaN</td>\n",
       "      <td>NaN</td>\n",
       "      <td>NaN</td>\n",
       "      <td>NaN</td>\n",
       "      <td>NaN</td>\n",
       "      <td>NaN</td>\n",
       "      <td>NaN</td>\n",
       "      <td>NaN</td>\n",
       "    </tr>\n",
       "    <tr>\n",
       "      <th>3</th>\n",
       "      <td>d44ffd83-1b69-4fd3-9b67-51e16228820f</td>\n",
       "      <td>[{'system': 'GDC', 'value': 'd44ffd83-1b69-4fd...</td>\n",
       "      <td>8a540cec-e283-4a26-868e-a07c64fe3efb.mirbase21...</td>\n",
       "      <td>Transcriptome Profiling</td>\n",
       "      <td>miRNA Expression Quantification</td>\n",
       "      <td>TXT</td>\n",
       "      <td>TCGA-BRCA</td>\n",
       "      <td>drs://dg.4DFC:d44ffd83-1b69-4fd3-9b67-51e16228...</td>\n",
       "      <td>50169.0</td>\n",
       "      <td>ce4f99883fdca5372ea7793b484c1f6e</td>\n",
       "      <td>Genomic</td>\n",
       "      <td>None</td>\n",
       "      <td>None</td>\n",
       "      <td>None</td>\n",
       "      <td></td>\n",
       "      <td></td>\n",
       "      <td>TCGA-E2-A10A</td>\n",
       "      <td>NaN</td>\n",
       "      <td>NaN</td>\n",
       "      <td>NaN</td>\n",
       "      <td>NaN</td>\n",
       "      <td>NaN</td>\n",
       "      <td>[{'system': 'GDC', 'value': 'TCGA-E2-A10A'}, {...</td>\n",
       "      <td>homo sapiens</td>\n",
       "      <td>female</td>\n",
       "      <td>white</td>\n",
       "      <td>not hispanic or latino</td>\n",
       "      <td>-15085.0</td>\n",
       "      <td>[TCGA-BRCA, tcga_brca, CPTAC-TCGA]</td>\n",
       "      <td>Alive</td>\n",
       "      <td>None</td>\n",
       "      <td>None</td>\n",
       "      <td>NaN</td>\n",
       "      <td>NaN</td>\n",
       "      <td>NaN</td>\n",
       "      <td>NaN</td>\n",
       "      <td>NaN</td>\n",
       "      <td>NaN</td>\n",
       "      <td>NaN</td>\n",
       "      <td>NaN</td>\n",
       "      <td>NaN</td>\n",
       "      <td>NaN</td>\n",
       "      <td>NaN</td>\n",
       "      <td>NaN</td>\n",
       "      <td>NaN</td>\n",
       "      <td>NaN</td>\n",
       "      <td>NaN</td>\n",
       "      <td>NaN</td>\n",
       "      <td>NaN</td>\n",
       "      <td>NaN</td>\n",
       "      <td>NaN</td>\n",
       "      <td>NaN</td>\n",
       "      <td>NaN</td>\n",
       "      <td>NaN</td>\n",
       "      <td>NaN</td>\n",
       "      <td>NaN</td>\n",
       "      <td>NaN</td>\n",
       "      <td>NaN</td>\n",
       "      <td>NaN</td>\n",
       "      <td>NaN</td>\n",
       "      <td>NaN</td>\n",
       "      <td>NaN</td>\n",
       "      <td>NaN</td>\n",
       "      <td>NaN</td>\n",
       "    </tr>\n",
       "    <tr>\n",
       "      <th>4</th>\n",
       "      <td>2bd10176-6abd-11e9-884a-005056921935</td>\n",
       "      <td>[{'system': 'PDC', 'value': '2bd10176-6abd-11e...</td>\n",
       "      <td>TCGA_E2-A10A_BH-A18Q_C8-A130_117C_W_BI_2013022...</td>\n",
       "      <td>Processed Mass Spectra</td>\n",
       "      <td>Open Standard</td>\n",
       "      <td>mzML</td>\n",
       "      <td>CPTAC-TCGA</td>\n",
       "      <td>drs://dg.4DFC:2bd10176-6abd-11e9-884a-00505692...</td>\n",
       "      <td>179837609.0</td>\n",
       "      <td>ac1f36dd14c3c26598cb08e76746810b</td>\n",
       "      <td>Proteomic</td>\n",
       "      <td>None</td>\n",
       "      <td>None</td>\n",
       "      <td>None</td>\n",
       "      <td></td>\n",
       "      <td></td>\n",
       "      <td>TCGA-E2-A10A</td>\n",
       "      <td>NaN</td>\n",
       "      <td>NaN</td>\n",
       "      <td>NaN</td>\n",
       "      <td>NaN</td>\n",
       "      <td>NaN</td>\n",
       "      <td>[{'system': 'GDC', 'value': 'TCGA-E2-A10A'}, {...</td>\n",
       "      <td>homo sapiens</td>\n",
       "      <td>female</td>\n",
       "      <td>white</td>\n",
       "      <td>not hispanic or latino</td>\n",
       "      <td>-15085.0</td>\n",
       "      <td>[TCGA-BRCA, tcga_brca, CPTAC-TCGA]</td>\n",
       "      <td>Alive</td>\n",
       "      <td>None</td>\n",
       "      <td>None</td>\n",
       "      <td>NaN</td>\n",
       "      <td>NaN</td>\n",
       "      <td>NaN</td>\n",
       "      <td>NaN</td>\n",
       "      <td>NaN</td>\n",
       "      <td>NaN</td>\n",
       "      <td>NaN</td>\n",
       "      <td>NaN</td>\n",
       "      <td>NaN</td>\n",
       "      <td>NaN</td>\n",
       "      <td>NaN</td>\n",
       "      <td>NaN</td>\n",
       "      <td>NaN</td>\n",
       "      <td>NaN</td>\n",
       "      <td>NaN</td>\n",
       "      <td>NaN</td>\n",
       "      <td>NaN</td>\n",
       "      <td>NaN</td>\n",
       "      <td>NaN</td>\n",
       "      <td>NaN</td>\n",
       "      <td>NaN</td>\n",
       "      <td>NaN</td>\n",
       "      <td>NaN</td>\n",
       "      <td>NaN</td>\n",
       "      <td>NaN</td>\n",
       "      <td>NaN</td>\n",
       "      <td>NaN</td>\n",
       "      <td>NaN</td>\n",
       "      <td>NaN</td>\n",
       "      <td>NaN</td>\n",
       "      <td>NaN</td>\n",
       "      <td>NaN</td>\n",
       "    </tr>\n",
       "  </tbody>\n",
       "</table>\n",
       "</div>"
      ],
      "text/plain": [
       "                                file_id  \\\n",
       "0  7af2c68c-6b5c-11e9-ab5c-005056921935   \n",
       "1  4adca628-6b5e-11e9-9244-005056921935   \n",
       "2  6bf22560-6b5c-11e9-ab5c-005056921935   \n",
       "3  d44ffd83-1b69-4fd3-9b67-51e16228820f   \n",
       "4  2bd10176-6abd-11e9-884a-005056921935   \n",
       "\n",
       "                                     file_identifier  \\\n",
       "0  [{'system': 'PDC', 'value': '7af2c68c-6b5c-11e...   \n",
       "1  [{'system': 'PDC', 'value': '4adca628-6b5e-11e...   \n",
       "2  [{'system': 'PDC', 'value': '6bf22560-6b5c-11e...   \n",
       "3  [{'system': 'GDC', 'value': 'd44ffd83-1b69-4fd...   \n",
       "4  [{'system': 'PDC', 'value': '2bd10176-6abd-11e...   \n",
       "\n",
       "                                               label  \\\n",
       "0  TCGA_E2-A10A_BH-A18Q_C8-A130_117C_W_BI_2013022...   \n",
       "1  TCGA_E2-A10A_BH-A18Q_C8-A130_117C_P_BI_2013022...   \n",
       "2  TCGA_E2-A10A_BH-A18Q_C8-A130_117C_W_BI_2013022...   \n",
       "3  8a540cec-e283-4a26-868e-a07c64fe3efb.mirbase21...   \n",
       "4  TCGA_E2-A10A_BH-A18Q_C8-A130_117C_W_BI_2013022...   \n",
       "\n",
       "              data_category                        data_type file_format  \\\n",
       "0  Peptide Spectral Matches                    Open Standard   mzIdentML   \n",
       "1  Peptide Spectral Matches                             Text         tsv   \n",
       "2  Peptide Spectral Matches                             Text         tsv   \n",
       "3   Transcriptome Profiling  miRNA Expression Quantification         TXT   \n",
       "4    Processed Mass Spectra                    Open Standard        mzML   \n",
       "\n",
       "  file_associated_project                                            drs_uri  \\\n",
       "0              CPTAC-TCGA  drs://dg.4DFC:7af2c68c-6b5c-11e9-ab5c-00505692...   \n",
       "1              CPTAC-TCGA  drs://dg.4DFC:4adca628-6b5e-11e9-9244-00505692...   \n",
       "2              CPTAC-TCGA  drs://dg.4DFC:6bf22560-6b5c-11e9-ab5c-00505692...   \n",
       "3               TCGA-BRCA  drs://dg.4DFC:d44ffd83-1b69-4fd3-9b67-51e16228...   \n",
       "4              CPTAC-TCGA  drs://dg.4DFC:2bd10176-6abd-11e9-884a-00505692...   \n",
       "\n",
       "     byte_size                          checksum data_modality  \\\n",
       "0   11371231.0  d77024459559eb31f4db5b32eae36813     Proteomic   \n",
       "1    3776441.0  919fdbf943adc46bbef970847cf2aa6f     Proteomic   \n",
       "2    6847471.0  4c713108933f5b554a11d9acb4e340b3     Proteomic   \n",
       "3      50169.0  ce4f99883fdca5372ea7793b484c1f6e       Genomic   \n",
       "4  179837609.0  ac1f36dd14c3c26598cb08e76746810b     Proteomic   \n",
       "\n",
       "  imaging_modality dbgap_accession_number imaging_series specimen_id  \\\n",
       "0             None                   None           None               \n",
       "1             None                   None           None               \n",
       "2             None                   None           None               \n",
       "3             None                   None           None               \n",
       "4             None                   None           None               \n",
       "\n",
       "  researchsubject_id    subject_id researchsubject_identifier  \\\n",
       "0                     TCGA-E2-A10A                        NaN   \n",
       "1                     TCGA-E2-A10A                        NaN   \n",
       "2                     TCGA-E2-A10A                        NaN   \n",
       "3                     TCGA-E2-A10A                        NaN   \n",
       "4                     TCGA-E2-A10A                        NaN   \n",
       "\n",
       "  member_of_research_project primary_diagnosis_condition  \\\n",
       "0                        NaN                         NaN   \n",
       "1                        NaN                         NaN   \n",
       "2                        NaN                         NaN   \n",
       "3                        NaN                         NaN   \n",
       "4                        NaN                         NaN   \n",
       "\n",
       "  primary_diagnosis_site subject_id_rs  \\\n",
       "0                    NaN           NaN   \n",
       "1                    NaN           NaN   \n",
       "2                    NaN           NaN   \n",
       "3                    NaN           NaN   \n",
       "4                    NaN           NaN   \n",
       "\n",
       "                                  subject_identifier       species     sex  \\\n",
       "0  [{'system': 'GDC', 'value': 'TCGA-E2-A10A'}, {...  homo sapiens  female   \n",
       "1  [{'system': 'GDC', 'value': 'TCGA-E2-A10A'}, {...  homo sapiens  female   \n",
       "2  [{'system': 'GDC', 'value': 'TCGA-E2-A10A'}, {...  homo sapiens  female   \n",
       "3  [{'system': 'GDC', 'value': 'TCGA-E2-A10A'}, {...  homo sapiens  female   \n",
       "4  [{'system': 'GDC', 'value': 'TCGA-E2-A10A'}, {...  homo sapiens  female   \n",
       "\n",
       "    race               ethnicity  days_to_birth  \\\n",
       "0  white  not hispanic or latino       -15085.0   \n",
       "1  white  not hispanic or latino       -15085.0   \n",
       "2  white  not hispanic or latino       -15085.0   \n",
       "3  white  not hispanic or latino       -15085.0   \n",
       "4  white  not hispanic or latino       -15085.0   \n",
       "\n",
       "           subject_associated_project vital_status days_to_death  \\\n",
       "0  [TCGA-BRCA, tcga_brca, CPTAC-TCGA]        Alive          None   \n",
       "1  [TCGA-BRCA, tcga_brca, CPTAC-TCGA]        Alive          None   \n",
       "2  [TCGA-BRCA, tcga_brca, CPTAC-TCGA]        Alive          None   \n",
       "3  [TCGA-BRCA, tcga_brca, CPTAC-TCGA]        Alive          None   \n",
       "4  [TCGA-BRCA, tcga_brca, CPTAC-TCGA]        Alive          None   \n",
       "\n",
       "  cause_of_death specimen_identifier specimen_associated_project  \\\n",
       "0           None                 NaN                         NaN   \n",
       "1           None                 NaN                         NaN   \n",
       "2           None                 NaN                         NaN   \n",
       "3           None                 NaN                         NaN   \n",
       "4           None                 NaN                         NaN   \n",
       "\n",
       "   days_to_collection primary_disease_type anatomical_site  \\\n",
       "0                 NaN                  NaN             NaN   \n",
       "1                 NaN                  NaN             NaN   \n",
       "2                 NaN                  NaN             NaN   \n",
       "3                 NaN                  NaN             NaN   \n",
       "4                 NaN                  NaN             NaN   \n",
       "\n",
       "  source_material_type specimen_type derived_from_specimen  \\\n",
       "0                  NaN           NaN                   NaN   \n",
       "1                  NaN           NaN                   NaN   \n",
       "2                  NaN           NaN                   NaN   \n",
       "3                  NaN           NaN                   NaN   \n",
       "4                  NaN           NaN                   NaN   \n",
       "\n",
       "  subject_id_specimen researchsubject_id_specimen treatment_id  \\\n",
       "0                 NaN                         NaN          NaN   \n",
       "1                 NaN                         NaN          NaN   \n",
       "2                 NaN                         NaN          NaN   \n",
       "3                 NaN                         NaN          NaN   \n",
       "4                 NaN                         NaN          NaN   \n",
       "\n",
       "  treatment_identifier treatment_type treatment_outcome  \\\n",
       "0                  NaN            NaN               NaN   \n",
       "1                  NaN            NaN               NaN   \n",
       "2                  NaN            NaN               NaN   \n",
       "3                  NaN            NaN               NaN   \n",
       "4                  NaN            NaN               NaN   \n",
       "\n",
       "  days_to_treatment_start days_to_treatment_end therapeutic_agent  \\\n",
       "0                     NaN                   NaN               NaN   \n",
       "1                     NaN                   NaN               NaN   \n",
       "2                     NaN                   NaN               NaN   \n",
       "3                     NaN                   NaN               NaN   \n",
       "4                     NaN                   NaN               NaN   \n",
       "\n",
       "  treatment_anatomic_site treatment_effect treatment_end_reason  \\\n",
       "0                     NaN              NaN                  NaN   \n",
       "1                     NaN              NaN                  NaN   \n",
       "2                     NaN              NaN                  NaN   \n",
       "3                     NaN              NaN                  NaN   \n",
       "4                     NaN              NaN                  NaN   \n",
       "\n",
       "  number_of_cycles subject_id_treatment diagnosis_id diagnosis_id_diagnosis  \\\n",
       "0              NaN                  NaN          NaN                    NaN   \n",
       "1              NaN                  NaN          NaN                    NaN   \n",
       "2              NaN                  NaN          NaN                    NaN   \n",
       "3              NaN                  NaN          NaN                    NaN   \n",
       "4              NaN                  NaN          NaN                    NaN   \n",
       "\n",
       "  diagnosis_identifier primary_diagnosis  age_at_diagnosis morphology stage  \\\n",
       "0                  NaN               NaN               NaN        NaN   NaN   \n",
       "1                  NaN               NaN               NaN        NaN   NaN   \n",
       "2                  NaN               NaN               NaN        NaN   NaN   \n",
       "3                  NaN               NaN               NaN        NaN   NaN   \n",
       "4                  NaN               NaN               NaN        NaN   NaN   \n",
       "\n",
       "  grade method_of_diagnosis subject_id_diagnosis  \n",
       "0   NaN                 NaN                  NaN  \n",
       "1   NaN                 NaN                  NaN  \n",
       "2   NaN                 NaN                  NaN  \n",
       "3   NaN                 NaN                  NaN  \n",
       "4   NaN                 NaN                  NaN  "
      ]
     },
     "execution_count": 9,
     "metadata": {},
     "output_type": "execute_result"
    }
   ],
   "source": [
    "import pandas as pd\n",
    "\n",
    "# Merge files and research_subject\n",
    "combineddata = pd.merge(files_df, rs_df, on='researchsubject_id', how='outer', suffixes=(None, '_rs'))\n",
    "\n",
    "# Merge combined and subject\n",
    "combineddata = pd.merge(combineddata, subject_df, on='subject_id', how='outer', suffixes=(None, '_subject'))\n",
    "\n",
    "# Merge combined and specimen\n",
    "combineddata = pd.merge(combineddata, specimen_df, on='specimen_id', how='outer', suffixes=(None, '_specimen'))\n",
    "\n",
    "# Merge combined and treatment\n",
    "combineddata = pd.merge(combineddata, treatment_df, on='researchsubject_id', how='outer', suffixes=(None, '_treatment'))\n",
    "\n",
    "# Merge combined and diagnosis\n",
    "combineddata = pd.merge(combineddata, diagnosis_df, on='researchsubject_id', how='outer', suffixes=(None, '_diagnosis'))\n",
    "\n",
    "# See how the merged dataframe looks like:\n",
    "combineddata.head()"
   ]
  },
  {
   "cell_type": "markdown",
   "id": "6eaab826-8c01-44e4-a726-87bdc0ef34c5",
   "metadata": {},
   "source": [
    "We can also check the size of combined data and compare it to *files_df*. Notice that *combineddata* is much larger in both dimensions."
   ]
  },
  {
   "cell_type": "code",
   "execution_count": 10,
   "id": "fc710643-4dc6-4663-813e-cb848486b7fc",
   "metadata": {},
   "outputs": [
    {
     "data": {
      "text/html": [
       "<pre style=\"white-space:pre;overflow-x:auto;line-height:normal;font-family:Menlo,'DejaVu Sans Mono',consolas,'Courier New',monospace\">Dimensions of the files dataframe: <span style=\"font-weight: bold\">(</span><span style=\"color: #008080; text-decoration-color: #008080; font-weight: bold\">860</span>, <span style=\"color: #008080; text-decoration-color: #008080; font-weight: bold\">17</span><span style=\"font-weight: bold\">)</span>\n",
       "</pre>\n"
      ],
      "text/plain": [
       "Dimensions of the files dataframe: \u001b[1m(\u001b[0m\u001b[1;36m860\u001b[0m, \u001b[1;36m17\u001b[0m\u001b[1m)\u001b[0m\n"
      ]
     },
     "metadata": {},
     "output_type": "display_data"
    },
    {
     "data": {
      "text/html": [
       "<pre style=\"white-space:pre;overflow-x:auto;line-height:normal;font-family:Menlo,'DejaVu Sans Mono',consolas,'Courier New',monospace\">Dimensions of the combined dataframe: <span style=\"font-weight: bold\">(</span><span style=\"color: #008080; text-decoration-color: #008080; font-weight: bold\">1213</span>, <span style=\"color: #008080; text-decoration-color: #008080; font-weight: bold\">64</span><span style=\"font-weight: bold\">)</span>\n",
       "</pre>\n"
      ],
      "text/plain": [
       "Dimensions of the combined dataframe: \u001b[1m(\u001b[0m\u001b[1;36m1213\u001b[0m, \u001b[1;36m64\u001b[0m\u001b[1m)\u001b[0m\n"
      ]
     },
     "metadata": {},
     "output_type": "display_data"
    }
   ],
   "source": [
    "print('Dimensions of the files dataframe: {}'.format(files_df.shape))\n",
    "print('Dimensions of the combined dataframe: {}'.format(combineddata.shape))"
   ]
  },
  {
   "cell_type": "markdown",
   "id": "2c478adb-2045-446f-9fe8-46d1eb89452d",
   "metadata": {},
   "source": [
    "### Import data to CGC\n",
    "\n",
    "In order to import data to CGC, first the CGC authentication must be entered. Authentication token is available under the [**Developer->Authentication token**](https://cgc.sbgenomics.com/developer/token) menu. If you have not used an authentication token before, it will need to be generated first."
   ]
  },
  {
   "cell_type": "code",
   "execution_count": 9,
   "id": "77cecd80-ae4e-4a23-8c89-56697e5da474",
   "metadata": {},
   "outputs": [
    {
     "name": "stdin",
     "output_type": "stream",
     "text": [
      " ································\n"
     ]
    }
   ],
   "source": [
    "# Set your SBG API token\n",
    "\n",
    "import getpass\n",
    "token = getpass.getpass()"
   ]
  },
  {
   "cell_type": "markdown",
   "id": "b7b4fa65-ac2e-4446-bcc3-265ae0d8c411",
   "metadata": {},
   "source": [
    "Now, CDA files can be imported into a specified project. _process_and_upload_ function handles the bulk import. Files are imported in chunks of 100. Make sure to change the **project** variable to reflect your project. Project should be in format _username/project-name_.\n",
    "\n",
    "Note that a row in the _combineddata_ dataframe does not necessary equate to a single file as a single file might be described using multiple rows. In this example, although 200 rows are used for import, less than a 100 files will actually be imported. In general, you should import the whole dataframe (by removing _.head(200)_ from the function call). A subset is only used in order to make this demonstration faster and cheaper to execute."
   ]
  },
  {
   "cell_type": "code",
   "execution_count": 9,
   "id": "712759c9-1611-4c00-bb08-648fb0dcb40d",
   "metadata": {},
   "outputs": [
    {
     "data": {
      "text/html": [
       "<pre style=\"white-space:pre;overflow-x:auto;line-height:normal;font-family:Menlo,'DejaVu Sans Mono',consolas,'Courier New',monospace\">Submitting files in chunks of <span style=\"color: #008080; text-decoration-color: #008080; font-weight: bold\">100</span>.\n",
       "\n",
       "</pre>\n"
      ],
      "text/plain": [
       "Submitting files in chunks of \u001b[1;36m100\u001b[0m.\n",
       "\n"
      ]
     },
     "metadata": {},
     "output_type": "display_data"
    },
    {
     "data": {
      "text/html": [
       "<pre style=\"white-space:pre;overflow-x:auto;line-height:normal;font-family:Menlo,'DejaVu Sans Mono',consolas,'Courier New',monospace\">Importing chunk <span style=\"color: #008080; text-decoration-color: #008080; font-weight: bold\">1</span>/<span style=\"color: #008080; text-decoration-color: #008080; font-weight: bold\">3</span>\n",
       "</pre>\n"
      ],
      "text/plain": [
       "Importing chunk \u001b[1;36m1\u001b[0m/\u001b[1;36m3\u001b[0m\n"
      ]
     },
     "metadata": {},
     "output_type": "display_data"
    },
    {
     "data": {
      "text/html": [
       "<pre style=\"white-space:pre;overflow-x:auto;line-height:normal;font-family:Menlo,'DejaVu Sans Mono',consolas,'Courier New',monospace\">Importing chunk <span style=\"color: #008080; text-decoration-color: #008080; font-weight: bold\">2</span>/<span style=\"color: #008080; text-decoration-color: #008080; font-weight: bold\">3</span>\n",
       "</pre>\n"
      ],
      "text/plain": [
       "Importing chunk \u001b[1;36m2\u001b[0m/\u001b[1;36m3\u001b[0m\n"
      ]
     },
     "metadata": {},
     "output_type": "display_data"
    },
    {
     "data": {
      "text/html": [
       "<pre style=\"white-space:pre;overflow-x:auto;line-height:normal;font-family:Menlo,'DejaVu Sans Mono',consolas,'Courier New',monospace\">Importing chunk <span style=\"color: #008080; text-decoration-color: #008080; font-weight: bold\">3</span>/<span style=\"color: #008080; text-decoration-color: #008080; font-weight: bold\">3</span>\n",
       "</pre>\n"
      ],
      "text/plain": [
       "Importing chunk \u001b[1;36m3\u001b[0m/\u001b[1;36m3\u001b[0m\n"
      ]
     },
     "metadata": {},
     "output_type": "display_data"
    },
    {
     "data": {
      "text/html": [
       "<pre style=\"white-space:pre;overflow-x:auto;line-height:normal;font-family:Menlo,'DejaVu Sans Mono',consolas,'Courier New',monospace\">\n",
       "SUBMITTED: <span style=\"color: #008080; text-decoration-color: #008080; font-weight: bold\">0</span>\n",
       "</pre>\n"
      ],
      "text/plain": [
       "\n",
       "SUBMITTED: \u001b[1;36m0\u001b[0m\n"
      ]
     },
     "metadata": {},
     "output_type": "display_data"
    },
    {
     "data": {
      "text/html": [
       "<pre style=\"white-space:pre;overflow-x:auto;line-height:normal;font-family:Menlo,'DejaVu Sans Mono',consolas,'Courier New',monospace\">RUNNING: <span style=\"color: #008080; text-decoration-color: #008080; font-weight: bold\">0</span>\n",
       "</pre>\n"
      ],
      "text/plain": [
       "RUNNING: \u001b[1;36m0\u001b[0m\n"
      ]
     },
     "metadata": {},
     "output_type": "display_data"
    },
    {
     "data": {
      "text/html": [
       "<pre style=\"white-space:pre;overflow-x:auto;line-height:normal;font-family:Menlo,'DejaVu Sans Mono',consolas,'Courier New',monospace\">FINISHED: <span style=\"color: #008080; text-decoration-color: #008080; font-weight: bold\">1</span>/<span style=\"color: #008080; text-decoration-color: #008080; font-weight: bold\">3</span>\n",
       "</pre>\n"
      ],
      "text/plain": [
       "FINISHED: \u001b[1;36m1\u001b[0m/\u001b[1;36m3\u001b[0m\n"
      ]
     },
     "metadata": {},
     "output_type": "display_data"
    },
    {
     "data": {
      "text/html": [
       "<pre style=\"white-space:pre;overflow-x:auto;line-height:normal;font-family:Menlo,'DejaVu Sans Mono',consolas,'Courier New',monospace\">\n",
       "SUBMITTED: <span style=\"color: #008080; text-decoration-color: #008080; font-weight: bold\">0</span>\n",
       "</pre>\n"
      ],
      "text/plain": [
       "\n",
       "SUBMITTED: \u001b[1;36m0\u001b[0m\n"
      ]
     },
     "metadata": {},
     "output_type": "display_data"
    },
    {
     "data": {
      "text/html": [
       "<pre style=\"white-space:pre;overflow-x:auto;line-height:normal;font-family:Menlo,'DejaVu Sans Mono',consolas,'Courier New',monospace\">RUNNING: <span style=\"color: #008080; text-decoration-color: #008080; font-weight: bold\">0</span>\n",
       "</pre>\n"
      ],
      "text/plain": [
       "RUNNING: \u001b[1;36m0\u001b[0m\n"
      ]
     },
     "metadata": {},
     "output_type": "display_data"
    },
    {
     "data": {
      "text/html": [
       "<pre style=\"white-space:pre;overflow-x:auto;line-height:normal;font-family:Menlo,'DejaVu Sans Mono',consolas,'Courier New',monospace\">FINISHED: <span style=\"color: #008080; text-decoration-color: #008080; font-weight: bold\">3</span>/<span style=\"color: #008080; text-decoration-color: #008080; font-weight: bold\">3</span>\n",
       "</pre>\n"
      ],
      "text/plain": [
       "FINISHED: \u001b[1;36m3\u001b[0m/\u001b[1;36m3\u001b[0m\n"
      ]
     },
     "metadata": {},
     "output_type": "display_data"
    },
    {
     "data": {
      "text/html": [
       "<pre style=\"white-space:pre;overflow-x:auto;line-height:normal;font-family:Menlo,'DejaVu Sans Mono',consolas,'Courier New',monospace\">\n",
       "Import completed!\n",
       "</pre>\n"
      ],
      "text/plain": [
       "\n",
       "Import completed!\n"
      ]
     },
     "metadata": {},
     "output_type": "display_data"
    }
   ],
   "source": [
    "project = 'boris_majic/cda-test-project'\n",
    "\n",
    "# you can tag files with multiple labels\n",
    "tags = ['all_files', 'tcga_brca']\n",
    "\n",
    "# Import\n",
    "from utilities import process_and_upload\n",
    "\n",
    "import_jobs = process_and_upload(\n",
    "    df=combineddata,\n",
    "    token=token,\n",
    "    import_project=project,\n",
    "    tags=tags\n",
    ")\n",
    "\n"
   ]
  },
  {
   "cell_type": "markdown",
   "id": "933d04c2-3840-4594-8836-e14eac337250",
   "metadata": {},
   "source": [
    "### Additional dataframe filtering\n",
    "\n",
    "As result of merging dataframes is a _pandas.Dataframe_ object, dataframe can be further manipulated before file importing. Lets say that out of all the prepared files, we wish to import only files of a specific format. In this case, lets import all VCF files:"
   ]
  },
  {
   "cell_type": "code",
   "execution_count": 12,
   "id": "98e375e9-a69d-4ef8-a319-406d806c62ff",
   "metadata": {},
   "outputs": [
    {
     "data": {
      "text/html": [
       "<pre style=\"white-space:pre;overflow-x:auto;line-height:normal;font-family:Menlo,'DejaVu Sans Mono',consolas,'Courier New',monospace\">There are <span style=\"color: #008080; text-decoration-color: #008080; font-weight: bold\">10</span> VCF files\n",
       "</pre>\n"
      ],
      "text/plain": [
       "There are \u001b[1;36m10\u001b[0m VCF files\n"
      ]
     },
     "metadata": {},
     "output_type": "display_data"
    }
   ],
   "source": [
    "vcf_df = combineddata[combineddata.File_format == 'VCF']\n",
    "\n",
    "print('There are {} VCF files'.format(vcf_df.File_id.nunique()))"
   ]
  },
  {
   "cell_type": "markdown",
   "id": "cb95bce6-0962-4796-bdf3-15d2b9e9e68d",
   "metadata": {},
   "source": [
    "As format of filtered dataframe is still a dataframe, it can be used with the _process_and_upload()_ function."
   ]
  },
  {
   "cell_type": "code",
   "execution_count": 13,
   "id": "f99953a3-365f-4e9d-aa33-cb70aebd7d09",
   "metadata": {},
   "outputs": [
    {
     "data": {
      "text/html": [
       "<pre style=\"white-space:pre;overflow-x:auto;line-height:normal;font-family:Menlo,'DejaVu Sans Mono',consolas,'Courier New',monospace\">Submitting files in chunks of <span style=\"color: #008080; text-decoration-color: #008080; font-weight: bold\">100</span>.\n",
       "\n",
       "</pre>\n"
      ],
      "text/plain": [
       "Submitting files in chunks of \u001b[1;36m100\u001b[0m.\n",
       "\n"
      ]
     },
     "metadata": {},
     "output_type": "display_data"
    },
    {
     "data": {
      "text/html": [
       "<pre style=\"white-space:pre;overflow-x:auto;line-height:normal;font-family:Menlo,'DejaVu Sans Mono',consolas,'Courier New',monospace\">Importing chunk <span style=\"color: #008080; text-decoration-color: #008080; font-weight: bold\">1</span>/<span style=\"color: #008080; text-decoration-color: #008080; font-weight: bold\">1</span>\n",
       "</pre>\n"
      ],
      "text/plain": [
       "Importing chunk \u001b[1;36m1\u001b[0m/\u001b[1;36m1\u001b[0m\n"
      ]
     },
     "metadata": {},
     "output_type": "display_data"
    },
    {
     "data": {
      "text/html": [
       "<pre style=\"white-space:pre;overflow-x:auto;line-height:normal;font-family:Menlo,'DejaVu Sans Mono',consolas,'Courier New',monospace\">\n",
       "SUBMITTED: <span style=\"color: #008080; text-decoration-color: #008080; font-weight: bold\">0</span>\n",
       "</pre>\n"
      ],
      "text/plain": [
       "\n",
       "SUBMITTED: \u001b[1;36m0\u001b[0m\n"
      ]
     },
     "metadata": {},
     "output_type": "display_data"
    },
    {
     "data": {
      "text/html": [
       "<pre style=\"white-space:pre;overflow-x:auto;line-height:normal;font-family:Menlo,'DejaVu Sans Mono',consolas,'Courier New',monospace\">RUNNING: <span style=\"color: #008080; text-decoration-color: #008080; font-weight: bold\">0</span>\n",
       "</pre>\n"
      ],
      "text/plain": [
       "RUNNING: \u001b[1;36m0\u001b[0m\n"
      ]
     },
     "metadata": {},
     "output_type": "display_data"
    },
    {
     "data": {
      "text/html": [
       "<pre style=\"white-space:pre;overflow-x:auto;line-height:normal;font-family:Menlo,'DejaVu Sans Mono',consolas,'Courier New',monospace\">FINISHED: <span style=\"color: #008080; text-decoration-color: #008080; font-weight: bold\">0</span>/<span style=\"color: #008080; text-decoration-color: #008080; font-weight: bold\">1</span>\n",
       "</pre>\n"
      ],
      "text/plain": [
       "FINISHED: \u001b[1;36m0\u001b[0m/\u001b[1;36m1\u001b[0m\n"
      ]
     },
     "metadata": {},
     "output_type": "display_data"
    },
    {
     "data": {
      "text/html": [
       "<pre style=\"white-space:pre;overflow-x:auto;line-height:normal;font-family:Menlo,'DejaVu Sans Mono',consolas,'Courier New',monospace\">\n",
       "SUBMITTED: <span style=\"color: #008080; text-decoration-color: #008080; font-weight: bold\">0</span>\n",
       "</pre>\n"
      ],
      "text/plain": [
       "\n",
       "SUBMITTED: \u001b[1;36m0\u001b[0m\n"
      ]
     },
     "metadata": {},
     "output_type": "display_data"
    },
    {
     "data": {
      "text/html": [
       "<pre style=\"white-space:pre;overflow-x:auto;line-height:normal;font-family:Menlo,'DejaVu Sans Mono',consolas,'Courier New',monospace\">RUNNING: <span style=\"color: #008080; text-decoration-color: #008080; font-weight: bold\">0</span>\n",
       "</pre>\n"
      ],
      "text/plain": [
       "RUNNING: \u001b[1;36m0\u001b[0m\n"
      ]
     },
     "metadata": {},
     "output_type": "display_data"
    },
    {
     "data": {
      "text/html": [
       "<pre style=\"white-space:pre;overflow-x:auto;line-height:normal;font-family:Menlo,'DejaVu Sans Mono',consolas,'Courier New',monospace\">FINISHED: <span style=\"color: #008080; text-decoration-color: #008080; font-weight: bold\">1</span>/<span style=\"color: #008080; text-decoration-color: #008080; font-weight: bold\">1</span>\n",
       "</pre>\n"
      ],
      "text/plain": [
       "FINISHED: \u001b[1;36m1\u001b[0m/\u001b[1;36m1\u001b[0m\n"
      ]
     },
     "metadata": {},
     "output_type": "display_data"
    },
    {
     "data": {
      "text/html": [
       "<pre style=\"white-space:pre;overflow-x:auto;line-height:normal;font-family:Menlo,'DejaVu Sans Mono',consolas,'Courier New',monospace\">\n",
       "Import completed!\n",
       "</pre>\n"
      ],
      "text/plain": [
       "\n",
       "Import completed!\n"
      ]
     },
     "metadata": {},
     "output_type": "display_data"
    },
    {
     "data": {
      "text/plain": [
       "[<DRSBulkImport: id=190762152705986560>]"
      ]
     },
     "execution_count": 13,
     "metadata": {},
     "output_type": "execute_result"
    }
   ],
   "source": [
    "# Import\n",
    "from utilities import process_and_upload\n",
    "\n",
    "project = 'boris_majic/cda-test-project'\n",
    "\n",
    "# you can tag files with multiple labels\n",
    "tags = ['vcf files', 'tcga_brca']\n",
    "\n",
    "process_and_upload(\n",
    "    df=vcf_df,\n",
    "    token=token,\n",
    "    import_project=project,\n",
    "    tags=tags\n",
    ")\n"
   ]
  },
  {
   "cell_type": "markdown",
   "id": "37ac16f5-f7d9-4769-8d2f-8606b03eefc0",
   "metadata": {},
   "source": [
    "### Example of a more complex query\n",
    "\n",
    "CDA python supports creating a more complex query by using operators within the query language. More information on available operators and creating a more complex query can be found in the [Operators notebook](https://github.com/CancerDataAggregator/readthedocs/blob/main/docs/Examples/Operators.ipynb).\n",
    "\n",
    "Briefly, CDA python supports the following operators:\n",
    "* =\n",
    "* !=\n",
    "* AND\n",
    "* OR\n",
    "* IN and NOT IN\n",
    "* % pattern matching\n",
    "* IS and IS NOT\n",
    "* comparison operators \\>, <, >=, <=\n",
    "\n",
    "Here a query is built to obrain all data related to research subjects whose primary diagnosis site is uterus, and for patients who are younger than 40. Note that CDA uses negative numbers in days to describe age:"
   ]
  },
  {
   "cell_type": "code",
   "execution_count": 10,
   "id": "df66f35e-3571-494c-8f46-2aff2ad012a1",
   "metadata": {},
   "outputs": [],
   "source": [
    "q = Q('primary_diagnosis_site = \"uterus\" AND days_to_birth >= 40*-365')"
   ]
  },
  {
   "cell_type": "markdown",
   "id": "13def4bf-5213-4d61-a72d-3bc87f8e2b26",
   "metadata": {},
   "source": [
    "Before proceeding to querying all endpoints, lets check the results of the files enpoint:"
   ]
  },
  {
   "cell_type": "code",
   "execution_count": 11,
   "id": "2f3584ad-fb40-4255-8eb0-ec84aee80b4f",
   "metadata": {},
   "outputs": [
    {
     "data": {
      "text/html": [
       "<pre style=\"white-space:pre;overflow-x:auto;line-height:normal;font-family:Menlo,'DejaVu Sans Mono',consolas,'Courier New',monospace\">Getting results from database\n",
       "\n",
       "</pre>\n"
      ],
      "text/plain": [
       "Getting results from database\n",
       "\n"
      ]
     },
     "metadata": {},
     "output_type": "display_data"
    },
    {
     "data": {
      "text/html": [
       "<pre style=\"white-space:pre;overflow-x:auto;line-height:normal;font-family:Menlo,'DejaVu Sans Mono',consolas,'Courier New',monospace\">\n",
       "                        Total execution time: <span style=\"color: #008080; text-decoration-color: #008080; font-weight: bold\">0</span>\n",
       "                        min <span style=\"color: #008080; text-decoration-color: #008080; font-weight: bold\">3.684</span> sec <span style=\"color: #008080; text-decoration-color: #008080; font-weight: bold\">3684</span> ms\n",
       "                        \n",
       "</pre>\n"
      ],
      "text/plain": [
       "\n",
       "                        Total execution time: \u001b[1;36m0\u001b[0m\n",
       "                        min \u001b[1;36m3.684\u001b[0m sec \u001b[1;36m3684\u001b[0m ms\n",
       "                        \n"
      ]
     },
     "metadata": {},
     "output_type": "display_data"
    },
    {
     "data": {
      "text/plain": [
       "\n",
       "            \n",
       "            Offset: 0\n",
       "            Count: 100\n",
       "            Total Row Count: 5497\n",
       "            More pages: True\n",
       "            "
      ]
     },
     "execution_count": 11,
     "metadata": {},
     "output_type": "execute_result"
    }
   ],
   "source": [
    "files_of_interest = q.file.run()\n",
    "files_of_interest"
   ]
  },
  {
   "cell_type": "markdown",
   "id": "75b8b491-7eaf-407d-818a-41249306996e",
   "metadata": {},
   "source": [
    "Note that there are almost 5500 files! In rare cases, you might actually be interested in importing as many files, but generally, this is a sign that the query is too broad and it might make sense to add aditional conditions or to make the query more stict. Lets try again, but now lets only query for patients who are younger than 34:"
   ]
  },
  {
   "cell_type": "code",
   "execution_count": 12,
   "id": "31c8f3dc-13a6-4b1b-8d8d-6c171a3f1452",
   "metadata": {},
   "outputs": [
    {
     "data": {
      "text/html": [
       "<pre style=\"white-space:pre;overflow-x:auto;line-height:normal;font-family:Menlo,'DejaVu Sans Mono',consolas,'Courier New',monospace\">Getting results from database\n",
       "\n",
       "</pre>\n"
      ],
      "text/plain": [
       "Getting results from database\n",
       "\n"
      ]
     },
     "metadata": {},
     "output_type": "display_data"
    },
    {
     "data": {
      "text/html": [
       "<pre style=\"white-space:pre;overflow-x:auto;line-height:normal;font-family:Menlo,'DejaVu Sans Mono',consolas,'Courier New',monospace\">\n",
       "                        Total execution time: <span style=\"color: #008080; text-decoration-color: #008080; font-weight: bold\">0</span>\n",
       "                        min <span style=\"color: #008080; text-decoration-color: #008080; font-weight: bold\">3.743</span> sec <span style=\"color: #008080; text-decoration-color: #008080; font-weight: bold\">3743</span> ms\n",
       "                        \n",
       "</pre>\n"
      ],
      "text/plain": [
       "\n",
       "                        Total execution time: \u001b[1;36m0\u001b[0m\n",
       "                        min \u001b[1;36m3.743\u001b[0m sec \u001b[1;36m3743\u001b[0m ms\n",
       "                        \n"
      ]
     },
     "metadata": {},
     "output_type": "display_data"
    },
    {
     "data": {
      "text/plain": [
       "\n",
       "            \n",
       "            Offset: 0\n",
       "            Count: 100\n",
       "            Total Row Count: 218\n",
       "            More pages: True\n",
       "            "
      ]
     },
     "execution_count": 12,
     "metadata": {},
     "output_type": "execute_result"
    }
   ],
   "source": [
    "q = Q('primary_diagnosis_site = \"uterus\" AND days_to_birth >= 34*-365')\n",
    "files_of_interest = q.file.run()\n",
    "files_of_interest"
   ]
  },
  {
   "cell_type": "markdown",
   "id": "0a7dbc26-e014-469d-9fe8-3821c4e6368c",
   "metadata": {},
   "source": [
    "Now, we have 218 files to work with, which is a reasonable number for this demonstration.\n",
    "Lets convert the result to a dataframe and proceed to query other endpoints."
   ]
  },
  {
   "cell_type": "code",
   "execution_count": 13,
   "id": "e4de4677-a0d8-4fbb-95d8-6fa4ca8d3280",
   "metadata": {},
   "outputs": [
    {
     "data": {
      "text/html": [
       "<pre style=\"white-space:pre;overflow-x:auto;line-height:normal;font-family:Menlo,'DejaVu Sans Mono',consolas,'Courier New',monospace\">Getting results from database\n",
       "\n",
       "</pre>\n"
      ],
      "text/plain": [
       "Getting results from database\n",
       "\n"
      ]
     },
     "metadata": {},
     "output_type": "display_data"
    },
    {
     "data": {
      "text/html": [
       "<pre style=\"white-space:pre;overflow-x:auto;line-height:normal;font-family:Menlo,'DejaVu Sans Mono',consolas,'Courier New',monospace\">\n",
       "                        Total execution time: <span style=\"color: #008080; text-decoration-color: #008080; font-weight: bold\">0</span>\n",
       "                        min <span style=\"color: #008080; text-decoration-color: #008080; font-weight: bold\">3.267</span> sec <span style=\"color: #008080; text-decoration-color: #008080; font-weight: bold\">3267</span> ms\n",
       "                        \n",
       "</pre>\n"
      ],
      "text/plain": [
       "\n",
       "                        Total execution time: \u001b[1;36m0\u001b[0m\n",
       "                        min \u001b[1;36m3.267\u001b[0m sec \u001b[1;36m3267\u001b[0m ms\n",
       "                        \n"
      ]
     },
     "metadata": {},
     "output_type": "display_data"
    },
    {
     "data": {
      "text/html": [
       "<pre style=\"white-space:pre;overflow-x:auto;line-height:normal;font-family:Menlo,'DejaVu Sans Mono',consolas,'Courier New',monospace\">Getting results from database\n",
       "\n",
       "</pre>\n"
      ],
      "text/plain": [
       "Getting results from database\n",
       "\n"
      ]
     },
     "metadata": {},
     "output_type": "display_data"
    },
    {
     "data": {
      "text/html": [
       "<pre style=\"white-space:pre;overflow-x:auto;line-height:normal;font-family:Menlo,'DejaVu Sans Mono',consolas,'Courier New',monospace\">\n",
       "                        Total execution time: <span style=\"color: #008080; text-decoration-color: #008080; font-weight: bold\">0</span>\n",
       "                        min <span style=\"color: #008080; text-decoration-color: #008080; font-weight: bold\">3.439</span> sec <span style=\"color: #008080; text-decoration-color: #008080; font-weight: bold\">3439</span> ms\n",
       "                        \n",
       "</pre>\n"
      ],
      "text/plain": [
       "\n",
       "                        Total execution time: \u001b[1;36m0\u001b[0m\n",
       "                        min \u001b[1;36m3.439\u001b[0m sec \u001b[1;36m3439\u001b[0m ms\n",
       "                        \n"
      ]
     },
     "metadata": {},
     "output_type": "display_data"
    },
    {
     "data": {
      "text/html": [
       "<pre style=\"white-space:pre;overflow-x:auto;line-height:normal;font-family:Menlo,'DejaVu Sans Mono',consolas,'Courier New',monospace\">Getting results from database\n",
       "\n",
       "</pre>\n"
      ],
      "text/plain": [
       "Getting results from database\n",
       "\n"
      ]
     },
     "metadata": {},
     "output_type": "display_data"
    },
    {
     "data": {
      "text/html": [
       "<pre style=\"white-space:pre;overflow-x:auto;line-height:normal;font-family:Menlo,'DejaVu Sans Mono',consolas,'Courier New',monospace\">\n",
       "                        Total execution time: <span style=\"color: #008080; text-decoration-color: #008080; font-weight: bold\">0</span>\n",
       "                        min <span style=\"color: #008080; text-decoration-color: #008080; font-weight: bold\">3.545</span> sec <span style=\"color: #008080; text-decoration-color: #008080; font-weight: bold\">3545</span> ms\n",
       "                        \n",
       "</pre>\n"
      ],
      "text/plain": [
       "\n",
       "                        Total execution time: \u001b[1;36m0\u001b[0m\n",
       "                        min \u001b[1;36m3.545\u001b[0m sec \u001b[1;36m3545\u001b[0m ms\n",
       "                        \n"
      ]
     },
     "metadata": {},
     "output_type": "display_data"
    },
    {
     "data": {
      "text/html": [
       "<pre style=\"white-space:pre;overflow-x:auto;line-height:normal;font-family:Menlo,'DejaVu Sans Mono',consolas,'Courier New',monospace\">Getting results from database\n",
       "\n",
       "</pre>\n"
      ],
      "text/plain": [
       "Getting results from database\n",
       "\n"
      ]
     },
     "metadata": {},
     "output_type": "display_data"
    },
    {
     "data": {
      "text/html": [
       "<pre style=\"white-space:pre;overflow-x:auto;line-height:normal;font-family:Menlo,'DejaVu Sans Mono',consolas,'Courier New',monospace\">\n",
       "                        Total execution time: <span style=\"color: #008080; text-decoration-color: #008080; font-weight: bold\">0</span>\n",
       "                        min <span style=\"color: #008080; text-decoration-color: #008080; font-weight: bold\">3.408</span> sec <span style=\"color: #008080; text-decoration-color: #008080; font-weight: bold\">3408</span> ms\n",
       "                        \n",
       "</pre>\n"
      ],
      "text/plain": [
       "\n",
       "                        Total execution time: \u001b[1;36m0\u001b[0m\n",
       "                        min \u001b[1;36m3.408\u001b[0m sec \u001b[1;36m3408\u001b[0m ms\n",
       "                        \n"
      ]
     },
     "metadata": {},
     "output_type": "display_data"
    },
    {
     "data": {
      "text/html": [
       "<pre style=\"white-space:pre;overflow-x:auto;line-height:normal;font-family:Menlo,'DejaVu Sans Mono',consolas,'Courier New',monospace\">Getting results from database\n",
       "\n",
       "</pre>\n"
      ],
      "text/plain": [
       "Getting results from database\n",
       "\n"
      ]
     },
     "metadata": {},
     "output_type": "display_data"
    },
    {
     "data": {
      "text/html": [
       "<pre style=\"white-space:pre;overflow-x:auto;line-height:normal;font-family:Menlo,'DejaVu Sans Mono',consolas,'Courier New',monospace\">\n",
       "                        Total execution time: <span style=\"color: #008080; text-decoration-color: #008080; font-weight: bold\">0</span>\n",
       "                        min <span style=\"color: #008080; text-decoration-color: #008080; font-weight: bold\">3.431</span> sec <span style=\"color: #008080; text-decoration-color: #008080; font-weight: bold\">3431</span> ms\n",
       "                        \n",
       "</pre>\n"
      ],
      "text/plain": [
       "\n",
       "                        Total execution time: \u001b[1;36m0\u001b[0m\n",
       "                        min \u001b[1;36m3.431\u001b[0m sec \u001b[1;36m3431\u001b[0m ms\n",
       "                        \n"
      ]
     },
     "metadata": {},
     "output_type": "display_data"
    }
   ],
   "source": [
    "# Paginate the files query result:\n",
    "files_df = iter_pages(files_of_interest)\n",
    "\n",
    "# Query other endpoints:\n",
    "diagnosis = q.diagnosis.run()\n",
    "diagnosis_df = iter_pages(diagnosis)\n",
    "treatment = q.treatment.run()\n",
    "treatment_df = iter_pages(treatment)\n",
    "research_subject_of_interest = q.researchsubject.run()\n",
    "rs_df = iter_pages(research_subject_of_interest)\n",
    "subject_of_interest = q.subject.run()\n",
    "subject_df = iter_pages(subject_of_interest)\n",
    "specimen_of_interest = q.specimen.run()\n",
    "specimen_df = iter_pages(specimen_of_interest)"
   ]
  },
  {
   "cell_type": "markdown",
   "id": "7606fc7d-9804-4000-8313-4fe7bde23780",
   "metadata": {},
   "source": [
    "It is important to note that some queries might return no results. In our query, treatment, diagnosis and specimen enpoints have returned **0 results**. This highlights the importance of checking the results before proceeding to merging dataframe and importing data:"
   ]
  },
  {
   "cell_type": "code",
   "execution_count": 14,
   "id": "1fb8570f-7918-47ed-951c-0c1d597d5f5b",
   "metadata": {},
   "outputs": [
    {
     "data": {
      "text/plain": [
       "0"
      ]
     },
     "execution_count": 14,
     "metadata": {},
     "output_type": "execute_result"
    }
   ],
   "source": [
    "diagnosis.count"
   ]
  },
  {
   "cell_type": "markdown",
   "id": "4060ba37-60c4-4388-9907-bc30889c1b8e",
   "metadata": {},
   "source": [
    "To avoid issues when merging dataframes, each result is checked before performing mergers:"
   ]
  },
  {
   "cell_type": "code",
   "execution_count": 15,
   "id": "aa020843-a375-4771-8f4e-ade5a71b9e1f",
   "metadata": {},
   "outputs": [
    {
     "data": {
      "text/html": [
       "<div>\n",
       "<style scoped>\n",
       "    .dataframe tbody tr th:only-of-type {\n",
       "        vertical-align: middle;\n",
       "    }\n",
       "\n",
       "    .dataframe tbody tr th {\n",
       "        vertical-align: top;\n",
       "    }\n",
       "\n",
       "    .dataframe thead th {\n",
       "        text-align: right;\n",
       "    }\n",
       "</style>\n",
       "<table border=\"1\" class=\"dataframe\">\n",
       "  <thead>\n",
       "    <tr style=\"text-align: right;\">\n",
       "      <th></th>\n",
       "      <th>file_id</th>\n",
       "      <th>file_identifier</th>\n",
       "      <th>label</th>\n",
       "      <th>data_category</th>\n",
       "      <th>data_type</th>\n",
       "      <th>file_format</th>\n",
       "      <th>file_associated_project</th>\n",
       "      <th>drs_uri</th>\n",
       "      <th>byte_size</th>\n",
       "      <th>checksum</th>\n",
       "      <th>data_modality</th>\n",
       "      <th>imaging_modality</th>\n",
       "      <th>dbgap_accession_number</th>\n",
       "      <th>imaging_series</th>\n",
       "      <th>specimen_id</th>\n",
       "      <th>researchsubject_id</th>\n",
       "      <th>subject_id</th>\n",
       "      <th>researchsubject_identifier</th>\n",
       "      <th>member_of_research_project</th>\n",
       "      <th>primary_diagnosis_condition</th>\n",
       "      <th>primary_diagnosis_site</th>\n",
       "      <th>subject_id_rs</th>\n",
       "      <th>subject_identifier</th>\n",
       "      <th>species</th>\n",
       "      <th>sex</th>\n",
       "      <th>race</th>\n",
       "      <th>ethnicity</th>\n",
       "      <th>days_to_birth</th>\n",
       "      <th>subject_associated_project</th>\n",
       "      <th>vital_status</th>\n",
       "      <th>days_to_death</th>\n",
       "      <th>cause_of_death</th>\n",
       "    </tr>\n",
       "  </thead>\n",
       "  <tbody>\n",
       "    <tr>\n",
       "      <th>0</th>\n",
       "      <td>60e7c43b-0fcb-44ea-9790-cba420d15ee7</td>\n",
       "      <td>[{'system': 'GDC', 'value': '60e7c43b-0fcb-44e...</td>\n",
       "      <td>nationwidechildrens.org_clinical_follow_up_v1....</td>\n",
       "      <td>Clinical</td>\n",
       "      <td>Clinical Supplement</td>\n",
       "      <td>BCR Biotab</td>\n",
       "      <td>TCGA-UCEC</td>\n",
       "      <td>drs://dg.4DFC:60e7c43b-0fcb-44ea-9790-cba420d1...</td>\n",
       "      <td>48222.0</td>\n",
       "      <td>94549a7df14021988e0b8471777ce7db</td>\n",
       "      <td>Genomic</td>\n",
       "      <td>None</td>\n",
       "      <td>None</td>\n",
       "      <td>None</td>\n",
       "      <td></td>\n",
       "      <td></td>\n",
       "      <td>TCGA-A5-A1OJ</td>\n",
       "      <td>NaN</td>\n",
       "      <td>NaN</td>\n",
       "      <td>NaN</td>\n",
       "      <td>NaN</td>\n",
       "      <td>NaN</td>\n",
       "      <td>[{'system': 'GDC', 'value': 'TCGA-A5-A1OJ'}, {...</td>\n",
       "      <td>homo sapiens</td>\n",
       "      <td>female</td>\n",
       "      <td>asian</td>\n",
       "      <td>not hispanic or latino</td>\n",
       "      <td>-11635</td>\n",
       "      <td>[tcga_ucec, TCGA-UCEC]</td>\n",
       "      <td>Alive</td>\n",
       "      <td>None</td>\n",
       "      <td>None</td>\n",
       "    </tr>\n",
       "    <tr>\n",
       "      <th>1</th>\n",
       "      <td>125414a1-6f59-4477-8aa0-2be672b037db</td>\n",
       "      <td>[{'system': 'GDC', 'value': '125414a1-6f59-447...</td>\n",
       "      <td>nationwidechildrens.org_biospecimen.TCGA-A5-A1...</td>\n",
       "      <td>Biospecimen</td>\n",
       "      <td>Biospecimen Supplement</td>\n",
       "      <td>BCR XML</td>\n",
       "      <td>TCGA-UCEC</td>\n",
       "      <td>drs://dg.4DFC:125414a1-6f59-4477-8aa0-2be672b0...</td>\n",
       "      <td>61374.0</td>\n",
       "      <td>a505b1568d8432f7c018e2ade0ae72e6</td>\n",
       "      <td>Genomic</td>\n",
       "      <td>None</td>\n",
       "      <td>None</td>\n",
       "      <td>None</td>\n",
       "      <td></td>\n",
       "      <td></td>\n",
       "      <td>TCGA-A5-A1OJ</td>\n",
       "      <td>NaN</td>\n",
       "      <td>NaN</td>\n",
       "      <td>NaN</td>\n",
       "      <td>NaN</td>\n",
       "      <td>NaN</td>\n",
       "      <td>[{'system': 'GDC', 'value': 'TCGA-A5-A1OJ'}, {...</td>\n",
       "      <td>homo sapiens</td>\n",
       "      <td>female</td>\n",
       "      <td>asian</td>\n",
       "      <td>not hispanic or latino</td>\n",
       "      <td>-11635</td>\n",
       "      <td>[tcga_ucec, TCGA-UCEC]</td>\n",
       "      <td>Alive</td>\n",
       "      <td>None</td>\n",
       "      <td>None</td>\n",
       "    </tr>\n",
       "    <tr>\n",
       "      <th>2</th>\n",
       "      <td>a17f99b3-a3d0-4e6d-8b1c-a2e50ba5cda3</td>\n",
       "      <td>[{'system': 'GDC', 'value': 'a17f99b3-a3d0-4e6...</td>\n",
       "      <td>TCGA_UCEC.0f68b6df-c5da-4398-a0bf-8c9b05a756f3...</td>\n",
       "      <td>Simple Nucleotide Variation</td>\n",
       "      <td>Annotated Somatic Mutation</td>\n",
       "      <td>VCF</td>\n",
       "      <td>TCGA-UCEC</td>\n",
       "      <td>drs://dg.4DFC:a17f99b3-a3d0-4e6d-8b1c-a2e50ba5...</td>\n",
       "      <td>58710.0</td>\n",
       "      <td>27f1afb7c0c81efc9d6a402f3255a285</td>\n",
       "      <td>Genomic</td>\n",
       "      <td>None</td>\n",
       "      <td>None</td>\n",
       "      <td>None</td>\n",
       "      <td></td>\n",
       "      <td></td>\n",
       "      <td>TCGA-A5-A1OJ</td>\n",
       "      <td>NaN</td>\n",
       "      <td>NaN</td>\n",
       "      <td>NaN</td>\n",
       "      <td>NaN</td>\n",
       "      <td>NaN</td>\n",
       "      <td>[{'system': 'GDC', 'value': 'TCGA-A5-A1OJ'}, {...</td>\n",
       "      <td>homo sapiens</td>\n",
       "      <td>female</td>\n",
       "      <td>asian</td>\n",
       "      <td>not hispanic or latino</td>\n",
       "      <td>-11635</td>\n",
       "      <td>[tcga_ucec, TCGA-UCEC]</td>\n",
       "      <td>Alive</td>\n",
       "      <td>None</td>\n",
       "      <td>None</td>\n",
       "    </tr>\n",
       "  </tbody>\n",
       "</table>\n",
       "</div>"
      ],
      "text/plain": [
       "                                file_id  \\\n",
       "0  60e7c43b-0fcb-44ea-9790-cba420d15ee7   \n",
       "1  125414a1-6f59-4477-8aa0-2be672b037db   \n",
       "2  a17f99b3-a3d0-4e6d-8b1c-a2e50ba5cda3   \n",
       "\n",
       "                                     file_identifier  \\\n",
       "0  [{'system': 'GDC', 'value': '60e7c43b-0fcb-44e...   \n",
       "1  [{'system': 'GDC', 'value': '125414a1-6f59-447...   \n",
       "2  [{'system': 'GDC', 'value': 'a17f99b3-a3d0-4e6...   \n",
       "\n",
       "                                               label  \\\n",
       "0  nationwidechildrens.org_clinical_follow_up_v1....   \n",
       "1  nationwidechildrens.org_biospecimen.TCGA-A5-A1...   \n",
       "2  TCGA_UCEC.0f68b6df-c5da-4398-a0bf-8c9b05a756f3...   \n",
       "\n",
       "                 data_category                   data_type file_format  \\\n",
       "0                     Clinical         Clinical Supplement  BCR Biotab   \n",
       "1                  Biospecimen      Biospecimen Supplement     BCR XML   \n",
       "2  Simple Nucleotide Variation  Annotated Somatic Mutation         VCF   \n",
       "\n",
       "  file_associated_project                                            drs_uri  \\\n",
       "0               TCGA-UCEC  drs://dg.4DFC:60e7c43b-0fcb-44ea-9790-cba420d1...   \n",
       "1               TCGA-UCEC  drs://dg.4DFC:125414a1-6f59-4477-8aa0-2be672b0...   \n",
       "2               TCGA-UCEC  drs://dg.4DFC:a17f99b3-a3d0-4e6d-8b1c-a2e50ba5...   \n",
       "\n",
       "   byte_size                          checksum data_modality imaging_modality  \\\n",
       "0    48222.0  94549a7df14021988e0b8471777ce7db       Genomic             None   \n",
       "1    61374.0  a505b1568d8432f7c018e2ade0ae72e6       Genomic             None   \n",
       "2    58710.0  27f1afb7c0c81efc9d6a402f3255a285       Genomic             None   \n",
       "\n",
       "  dbgap_accession_number imaging_series specimen_id researchsubject_id  \\\n",
       "0                   None           None                                  \n",
       "1                   None           None                                  \n",
       "2                   None           None                                  \n",
       "\n",
       "     subject_id researchsubject_identifier member_of_research_project  \\\n",
       "0  TCGA-A5-A1OJ                        NaN                        NaN   \n",
       "1  TCGA-A5-A1OJ                        NaN                        NaN   \n",
       "2  TCGA-A5-A1OJ                        NaN                        NaN   \n",
       "\n",
       "  primary_diagnosis_condition primary_diagnosis_site subject_id_rs  \\\n",
       "0                         NaN                    NaN           NaN   \n",
       "1                         NaN                    NaN           NaN   \n",
       "2                         NaN                    NaN           NaN   \n",
       "\n",
       "                                  subject_identifier       species     sex  \\\n",
       "0  [{'system': 'GDC', 'value': 'TCGA-A5-A1OJ'}, {...  homo sapiens  female   \n",
       "1  [{'system': 'GDC', 'value': 'TCGA-A5-A1OJ'}, {...  homo sapiens  female   \n",
       "2  [{'system': 'GDC', 'value': 'TCGA-A5-A1OJ'}, {...  homo sapiens  female   \n",
       "\n",
       "    race               ethnicity  days_to_birth subject_associated_project  \\\n",
       "0  asian  not hispanic or latino         -11635     [tcga_ucec, TCGA-UCEC]   \n",
       "1  asian  not hispanic or latino         -11635     [tcga_ucec, TCGA-UCEC]   \n",
       "2  asian  not hispanic or latino         -11635     [tcga_ucec, TCGA-UCEC]   \n",
       "\n",
       "  vital_status days_to_death cause_of_death  \n",
       "0        Alive          None           None  \n",
       "1        Alive          None           None  \n",
       "2        Alive          None           None  "
      ]
     },
     "execution_count": 15,
     "metadata": {},
     "output_type": "execute_result"
    }
   ],
   "source": [
    "if research_subject_of_interest.count:\n",
    "    combineddata = pd.merge(files_df, rs_df, on='researchsubject_id', how='outer', suffixes=(None, '_rs'))\n",
    "\n",
    "if subject_of_interest.count:\n",
    "    combineddata = pd.merge(combineddata, subject_df, on='subject_id', how='outer', suffixes=(None, '_subject'))\n",
    "\n",
    "if specimen_of_interest.count:\n",
    "    combineddata = pd.merge(combineddata, specimen_df, on='specimen_id', how='outer', suffixes=(None, '_specimen'))\n",
    "\n",
    "if treatment.count:\n",
    "    combineddata = pd.merge(combineddata, treatment_df, on='researchsubject_id', how='outer', suffixes=(None, '_treatment'))\n",
    "\n",
    "if diagnosis.count:\n",
    "    combineddata = pd.merge(combineddata, diagnosis_df, on='researchsubject_id', how='outer', suffixes=(None, '_diagnosis'))\n",
    "\n",
    "# See how the merged dataframe looks like:\n",
    "combineddata.head(3)"
   ]
  },
  {
   "cell_type": "markdown",
   "id": "710a87aa-fd58-42a0-89e3-60e0a6ac12b4",
   "metadata": {},
   "source": [
    "Finally, _combineddata_ dataframe can be used to import the files to the CGC:"
   ]
  },
  {
   "cell_type": "code",
   "execution_count": 16,
   "id": "50849722-01d1-4097-8b73-5d9cce8ca920",
   "metadata": {},
   "outputs": [
    {
     "data": {
      "text/html": [
       "<pre style=\"white-space:pre;overflow-x:auto;line-height:normal;font-family:Menlo,'DejaVu Sans Mono',consolas,'Courier New',monospace\">Submitting files in chunks of <span style=\"color: #008080; text-decoration-color: #008080; font-weight: bold\">100</span>.\n",
       "\n",
       "</pre>\n"
      ],
      "text/plain": [
       "Submitting files in chunks of \u001b[1;36m100\u001b[0m.\n",
       "\n"
      ]
     },
     "metadata": {},
     "output_type": "display_data"
    },
    {
     "data": {
      "text/html": [
       "<pre style=\"white-space:pre;overflow-x:auto;line-height:normal;font-family:Menlo,'DejaVu Sans Mono',consolas,'Courier New',monospace\">Importing chunk <span style=\"color: #008080; text-decoration-color: #008080; font-weight: bold\">1</span>/<span style=\"color: #008080; text-decoration-color: #008080; font-weight: bold\">2</span>\n",
       "</pre>\n"
      ],
      "text/plain": [
       "Importing chunk \u001b[1;36m1\u001b[0m/\u001b[1;36m2\u001b[0m\n"
      ]
     },
     "metadata": {},
     "output_type": "display_data"
    },
    {
     "data": {
      "text/html": [
       "<pre style=\"white-space:pre;overflow-x:auto;line-height:normal;font-family:Menlo,'DejaVu Sans Mono',consolas,'Courier New',monospace\">Importing chunk <span style=\"color: #008080; text-decoration-color: #008080; font-weight: bold\">2</span>/<span style=\"color: #008080; text-decoration-color: #008080; font-weight: bold\">2</span>\n",
       "</pre>\n"
      ],
      "text/plain": [
       "Importing chunk \u001b[1;36m2\u001b[0m/\u001b[1;36m2\u001b[0m\n"
      ]
     },
     "metadata": {},
     "output_type": "display_data"
    },
    {
     "data": {
      "text/html": [
       "<pre style=\"white-space:pre;overflow-x:auto;line-height:normal;font-family:Menlo,'DejaVu Sans Mono',consolas,'Courier New',monospace\">\n",
       "SUBMITTED: <span style=\"color: #008080; text-decoration-color: #008080; font-weight: bold\">0</span>\n",
       "</pre>\n"
      ],
      "text/plain": [
       "\n",
       "SUBMITTED: \u001b[1;36m0\u001b[0m\n"
      ]
     },
     "metadata": {},
     "output_type": "display_data"
    },
    {
     "data": {
      "text/html": [
       "<pre style=\"white-space:pre;overflow-x:auto;line-height:normal;font-family:Menlo,'DejaVu Sans Mono',consolas,'Courier New',monospace\">RUNNING: <span style=\"color: #008080; text-decoration-color: #008080; font-weight: bold\">0</span>\n",
       "</pre>\n"
      ],
      "text/plain": [
       "RUNNING: \u001b[1;36m0\u001b[0m\n"
      ]
     },
     "metadata": {},
     "output_type": "display_data"
    },
    {
     "data": {
      "text/html": [
       "<pre style=\"white-space:pre;overflow-x:auto;line-height:normal;font-family:Menlo,'DejaVu Sans Mono',consolas,'Courier New',monospace\">FINISHED: <span style=\"color: #008080; text-decoration-color: #008080; font-weight: bold\">0</span>/<span style=\"color: #008080; text-decoration-color: #008080; font-weight: bold\">2</span>\n",
       "</pre>\n"
      ],
      "text/plain": [
       "FINISHED: \u001b[1;36m0\u001b[0m/\u001b[1;36m2\u001b[0m\n"
      ]
     },
     "metadata": {},
     "output_type": "display_data"
    },
    {
     "data": {
      "text/html": [
       "<pre style=\"white-space:pre;overflow-x:auto;line-height:normal;font-family:Menlo,'DejaVu Sans Mono',consolas,'Courier New',monospace\">\n",
       "SUBMITTED: <span style=\"color: #008080; text-decoration-color: #008080; font-weight: bold\">0</span>\n",
       "</pre>\n"
      ],
      "text/plain": [
       "\n",
       "SUBMITTED: \u001b[1;36m0\u001b[0m\n"
      ]
     },
     "metadata": {},
     "output_type": "display_data"
    },
    {
     "data": {
      "text/html": [
       "<pre style=\"white-space:pre;overflow-x:auto;line-height:normal;font-family:Menlo,'DejaVu Sans Mono',consolas,'Courier New',monospace\">RUNNING: <span style=\"color: #008080; text-decoration-color: #008080; font-weight: bold\">0</span>\n",
       "</pre>\n"
      ],
      "text/plain": [
       "RUNNING: \u001b[1;36m0\u001b[0m\n"
      ]
     },
     "metadata": {},
     "output_type": "display_data"
    },
    {
     "data": {
      "text/html": [
       "<pre style=\"white-space:pre;overflow-x:auto;line-height:normal;font-family:Menlo,'DejaVu Sans Mono',consolas,'Courier New',monospace\">FINISHED: <span style=\"color: #008080; text-decoration-color: #008080; font-weight: bold\">2</span>/<span style=\"color: #008080; text-decoration-color: #008080; font-weight: bold\">2</span>\n",
       "</pre>\n"
      ],
      "text/plain": [
       "FINISHED: \u001b[1;36m2\u001b[0m/\u001b[1;36m2\u001b[0m\n"
      ]
     },
     "metadata": {},
     "output_type": "display_data"
    },
    {
     "data": {
      "text/html": [
       "<pre style=\"white-space:pre;overflow-x:auto;line-height:normal;font-family:Menlo,'DejaVu Sans Mono',consolas,'Courier New',monospace\">\n",
       "Import completed!\n",
       "</pre>\n"
      ],
      "text/plain": [
       "\n",
       "Import completed!\n"
      ]
     },
     "metadata": {},
     "output_type": "display_data"
    },
    {
     "data": {
      "text/plain": [
       "[<DRSBulkImport: id=190762812053721088>,\n",
       " <DRSBulkImport: id=190762814752755712>]"
      ]
     },
     "execution_count": 16,
     "metadata": {},
     "output_type": "execute_result"
    }
   ],
   "source": [
    "# Import\n",
    "from utilities import process_and_upload\n",
    "\n",
    "project = 'boris_majic/cda-test-project'\n",
    "\n",
    "# you can tag files with multiple labels\n",
    "tags = ['uterus', 'young']\n",
    "\n",
    "process_and_upload(\n",
    "    df=combineddata,\n",
    "    token=token,\n",
    "    import_project=project,\n",
    "    tags=tags\n",
    ")"
   ]
  },
  {
   "cell_type": "code",
   "execution_count": null,
   "id": "9c46b4f5-e5e7-42eb-a694-d6c5224a0964",
   "metadata": {},
   "outputs": [],
   "source": []
  }
 ],
 "metadata": {
  "kernelspec": {
   "display_name": "Python 3 (ipykernel)",
   "language": "python",
   "name": "python3"
  },
  "language_info": {
   "codemirror_mode": {
    "name": "ipython",
    "version": 3
   },
   "file_extension": ".py",
   "mimetype": "text/x-python",
   "name": "python",
   "nbconvert_exporter": "python",
   "pygments_lexer": "ipython3",
   "version": "3.9.6"
  }
 },
 "nbformat": 4,
 "nbformat_minor": 5
}
