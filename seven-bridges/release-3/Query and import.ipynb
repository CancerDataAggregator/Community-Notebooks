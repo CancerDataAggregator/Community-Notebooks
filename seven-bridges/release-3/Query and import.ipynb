{
 "cells": [
  {
   "cell_type": "markdown",
   "id": "154cf932-b26a-44aa-b6de-20e34643c224",
   "metadata": {
    "tags": []
   },
   "source": [
    "# CDA Release 3 Query and Import Notebook\n",
    "\n",
    "This notebook demonstrates usage of CDA python API and importing resulting files into a project on CGC. This notebook utilizes python functions present in the *utilities.py* file which were developed specifically for this demo. Feel free to use the same functions in your projects. For questions, suggestions and bug reporting, feel free to contact Seven Bridges support.\n",
    "\n",
    "This notebook consists of several parts. First, necessary libraries are installed. In order to install libraries, the project in which the notebook is executed needs to have internet access. To check if your project has internet access, go to project settings (top right of the project page, or directly using https://cgc.sbgenomics.com/u/username/project-name/settings) -> *Execution settings* and select *Allow internet access*.\n",
    "\n",
    "In the second part, connection to the CDA is established and a query is run on six different endpoints. \n",
    "\n",
    "Finally, dataframes obtained from multiple endpoints are merged and files are imported using Seven Bridges API.\n",
    "\n",
    "The goal of this notebook is not data exploration. There are many [online examples](https://cda.readthedocs.io/en/latest/Examples/SearchTerms/) on how to explore CDA data. This notebook focuses on importing CDA files into your CGC project. Full functionality of CDA python can be explored in the [official documentation](https://github.com/CancerDataAggregator/readthedocs)"
   ]
  },
  {
   "cell_type": "code",
   "execution_count": 2,
   "id": "0796a169-669e-43a3-8620-a49938fcac2d",
   "metadata": {},
   "outputs": [],
   "source": [
    "! pip install -r requirements.txt -qq"
   ]
  },
  {
   "cell_type": "markdown",
   "id": "c005c9f2-6cf9-4942-ac58-adac40ef050e",
   "metadata": {},
   "source": [
    "### Importing cda python\n",
    "\n",
    "CDA python comes with a tool **Q** which handles the interaction with the database. Additionaly, structure of the dataframe can be seen using the _columns_ function.\n"
   ]
  },
  {
   "cell_type": "code",
   "execution_count": 3,
   "id": "37bc9e7a-7522-4f87-9f42-f59ec38e4af9",
   "metadata": {},
   "outputs": [
    {
     "name": "stdout",
     "output_type": "stream",
     "text": [
      "/opt/conda/lib/python3.9/site-packages/cdapython/__init__.py\n",
      "2022.6.28\n"
     ]
    }
   ],
   "source": [
    "from cdapython import Q, columns\n",
    "import cdapython\n",
    "\n",
    "print(cdapython.__file__)\n",
    "print(cdapython.__version__)"
   ]
  },
  {
   "cell_type": "markdown",
   "id": "8a0c7eae-18b0-44fd-926a-62b5ec15753e",
   "metadata": {},
   "source": [
    "### Writing a query\n",
    "\n",
    "Lets get all files with sample.id = TCGA-E2-A10A"
   ]
  },
  {
   "cell_type": "code",
   "execution_count": 4,
   "id": "0ac95e57-ffc5-4b34-ad69-396460b42a6b",
   "metadata": {},
   "outputs": [],
   "source": [
    "q = Q('identifier.value = \"TCGA-E2-A10A\"')"
   ]
  },
  {
   "cell_type": "markdown",
   "id": "e0e30b9e-dbe9-48a5-acd8-a762b8f3921b",
   "metadata": {},
   "source": [
    "## Querying CDA\n",
    "\n",
    "CDA consists of multiple endpoints. By using each endpoint a certain subset of Data can be accessed. Since the goal of this notebook is to get files, first endpoint is the files endpoint.\n",
    "\n",
    "For transforming data into dataframes, _iter_pages()_ function is defined in the _utilities.py_. This function iterates over response's pages and gets all data into a single dataframe. There are approaches to transforming query results into a dataframe. For other approaches, feel free to explore the [Pagination notebook](https://github.com/CancerDataAggregator/readthedocs/blob/main/docs/Examples/Pagination.ipynb).\n",
    "\n",
    "Depending on the query, the following cell can take a couple of minutes to execute.\n",
    "\n",
    "### Querying files endpoint"
   ]
  },
  {
   "cell_type": "code",
   "execution_count": 5,
   "id": "c77b9def-9267-498c-91b8-522b9fe2371f",
   "metadata": {},
   "outputs": [
    {
     "data": {
      "text/html": [
       "<pre style=\"white-space:pre;overflow-x:auto;line-height:normal;font-family:Menlo,'DejaVu Sans Mono',consolas,'Courier New',monospace\">Getting results from database\n",
       "\n",
       "</pre>\n"
      ],
      "text/plain": [
       "Getting results from database\n",
       "\n"
      ]
     },
     "metadata": {},
     "output_type": "display_data"
    },
    {
     "name": "stdout",
     "output_type": "stream",
     "text": [
      "Total execution time: 4488 ms\n"
     ]
    }
   ],
   "source": [
    "from utilities import iter_pages\n",
    "files_of_interest = q.file.run()\n",
    "\n",
    "files_df = iter_pages(files_of_interest)"
   ]
  },
  {
   "cell_type": "markdown",
   "id": "8b9167f2-d7e7-4ebe-a20e-c2b61dcec843",
   "metadata": {},
   "source": [
    "Lets check out the format of the obtained dataframe:"
   ]
  },
  {
   "cell_type": "code",
   "execution_count": 6,
   "id": "688ad8ad-d3c1-4f76-96d2-892bc98a7e7e",
   "metadata": {},
   "outputs": [
    {
     "data": {
      "text/html": [
       "<div>\n",
       "<style scoped>\n",
       "    .dataframe tbody tr th:only-of-type {\n",
       "        vertical-align: middle;\n",
       "    }\n",
       "\n",
       "    .dataframe tbody tr th {\n",
       "        vertical-align: top;\n",
       "    }\n",
       "\n",
       "    .dataframe thead th {\n",
       "        text-align: right;\n",
       "    }\n",
       "</style>\n",
       "<table border=\"1\" class=\"dataframe\">\n",
       "  <thead>\n",
       "    <tr style=\"text-align: right;\">\n",
       "      <th></th>\n",
       "      <th>id</th>\n",
       "      <th>identifier</th>\n",
       "      <th>label</th>\n",
       "      <th>data_category</th>\n",
       "      <th>data_type</th>\n",
       "      <th>file_format</th>\n",
       "      <th>associated_project</th>\n",
       "      <th>drs_uri</th>\n",
       "      <th>byte_size</th>\n",
       "      <th>checksum</th>\n",
       "      <th>data_modality</th>\n",
       "      <th>imaging_modality</th>\n",
       "      <th>dbgap_accession_number</th>\n",
       "      <th>imaging_series</th>\n",
       "      <th>researchsubject_specimen_id</th>\n",
       "      <th>researchsubject_id</th>\n",
       "      <th>subject_id</th>\n",
       "    </tr>\n",
       "  </thead>\n",
       "  <tbody>\n",
       "    <tr>\n",
       "      <th>0</th>\n",
       "      <td>77a57466-7b65-46bd-817a-ca96b8342273</td>\n",
       "      <td>[{'system': 'GDC', 'value': '77a57466-7b65-46b...</td>\n",
       "      <td>41bd1fd2-89a4-49b2-bcbd-508ef23b471a.wxs.mutec...</td>\n",
       "      <td>Simple Nucleotide Variation</td>\n",
       "      <td>Raw Simple Somatic Mutation</td>\n",
       "      <td>VCF</td>\n",
       "      <td>TCGA-BRCA</td>\n",
       "      <td>drs://dg.4DFC:77a57466-7b65-46bd-817a-ca96b834...</td>\n",
       "      <td>1.760100e+05</td>\n",
       "      <td>5e4497b6e9451fb8eef7032b0f522a6e</td>\n",
       "      <td>Genomic</td>\n",
       "      <td>None</td>\n",
       "      <td>None</td>\n",
       "      <td>None</td>\n",
       "      <td>0c8615d8-e7a2-465a-8de3-961734941c16</td>\n",
       "      <td>4da7abaf-ac7a-41c0-8033-5780a398545c</td>\n",
       "      <td>TCGA-E2-A10A</td>\n",
       "    </tr>\n",
       "    <tr>\n",
       "      <th>1</th>\n",
       "      <td>82f51d21-b272-4aaa-96bb-27bfeaea6c7a</td>\n",
       "      <td>[{'system': 'GDC', 'value': '82f51d21-b272-4aa...</td>\n",
       "      <td>d32c4662-2b0b-4f78-b031-e6ff5286664c.rna_seq.t...</td>\n",
       "      <td>Sequencing Reads</td>\n",
       "      <td>Aligned Reads</td>\n",
       "      <td>BAM</td>\n",
       "      <td>TCGA-BRCA</td>\n",
       "      <td>drs://dg.4DFC:82f51d21-b272-4aaa-96bb-27bfeaea...</td>\n",
       "      <td>1.613710e+10</td>\n",
       "      <td>c0aebaf40110c7af46c610e6f7bc993a</td>\n",
       "      <td>Genomic</td>\n",
       "      <td>None</td>\n",
       "      <td>None</td>\n",
       "      <td>None</td>\n",
       "      <td>0c8615d8-e7a2-465a-8de3-961734941c16</td>\n",
       "      <td>4da7abaf-ac7a-41c0-8033-5780a398545c</td>\n",
       "      <td>TCGA-E2-A10A</td>\n",
       "    </tr>\n",
       "    <tr>\n",
       "      <th>2</th>\n",
       "      <td>9d44b791-95e5-42d0-8073-203980b2d23a</td>\n",
       "      <td>[{'system': 'GDC', 'value': '9d44b791-95e5-42d...</td>\n",
       "      <td>92069840-1bfb-4d89-9907-e3a352a5b339.wxs.Pinde...</td>\n",
       "      <td>Simple Nucleotide Variation</td>\n",
       "      <td>Annotated Somatic Mutation</td>\n",
       "      <td>MAF</td>\n",
       "      <td>TCGA-BRCA</td>\n",
       "      <td>drs://dg.4DFC:9d44b791-95e5-42d0-8073-203980b2...</td>\n",
       "      <td>2.741000e+04</td>\n",
       "      <td>5fd8154ab0d2d3628730668f67bec894</td>\n",
       "      <td>Genomic</td>\n",
       "      <td>None</td>\n",
       "      <td>None</td>\n",
       "      <td>None</td>\n",
       "      <td>79389df7-59f1-427f-80d4-3a959407407e</td>\n",
       "      <td>4da7abaf-ac7a-41c0-8033-5780a398545c</td>\n",
       "      <td>TCGA-E2-A10A</td>\n",
       "    </tr>\n",
       "  </tbody>\n",
       "</table>\n",
       "</div>"
      ],
      "text/plain": [
       "                                     id  \\\n",
       "0  77a57466-7b65-46bd-817a-ca96b8342273   \n",
       "1  82f51d21-b272-4aaa-96bb-27bfeaea6c7a   \n",
       "2  9d44b791-95e5-42d0-8073-203980b2d23a   \n",
       "\n",
       "                                          identifier  \\\n",
       "0  [{'system': 'GDC', 'value': '77a57466-7b65-46b...   \n",
       "1  [{'system': 'GDC', 'value': '82f51d21-b272-4aa...   \n",
       "2  [{'system': 'GDC', 'value': '9d44b791-95e5-42d...   \n",
       "\n",
       "                                               label  \\\n",
       "0  41bd1fd2-89a4-49b2-bcbd-508ef23b471a.wxs.mutec...   \n",
       "1  d32c4662-2b0b-4f78-b031-e6ff5286664c.rna_seq.t...   \n",
       "2  92069840-1bfb-4d89-9907-e3a352a5b339.wxs.Pinde...   \n",
       "\n",
       "                 data_category                    data_type file_format  \\\n",
       "0  Simple Nucleotide Variation  Raw Simple Somatic Mutation         VCF   \n",
       "1             Sequencing Reads                Aligned Reads         BAM   \n",
       "2  Simple Nucleotide Variation   Annotated Somatic Mutation         MAF   \n",
       "\n",
       "  associated_project                                            drs_uri  \\\n",
       "0          TCGA-BRCA  drs://dg.4DFC:77a57466-7b65-46bd-817a-ca96b834...   \n",
       "1          TCGA-BRCA  drs://dg.4DFC:82f51d21-b272-4aaa-96bb-27bfeaea...   \n",
       "2          TCGA-BRCA  drs://dg.4DFC:9d44b791-95e5-42d0-8073-203980b2...   \n",
       "\n",
       "      byte_size                          checksum data_modality  \\\n",
       "0  1.760100e+05  5e4497b6e9451fb8eef7032b0f522a6e       Genomic   \n",
       "1  1.613710e+10  c0aebaf40110c7af46c610e6f7bc993a       Genomic   \n",
       "2  2.741000e+04  5fd8154ab0d2d3628730668f67bec894       Genomic   \n",
       "\n",
       "  imaging_modality dbgap_accession_number imaging_series  \\\n",
       "0             None                   None           None   \n",
       "1             None                   None           None   \n",
       "2             None                   None           None   \n",
       "\n",
       "            researchsubject_specimen_id                    researchsubject_id  \\\n",
       "0  0c8615d8-e7a2-465a-8de3-961734941c16  4da7abaf-ac7a-41c0-8033-5780a398545c   \n",
       "1  0c8615d8-e7a2-465a-8de3-961734941c16  4da7abaf-ac7a-41c0-8033-5780a398545c   \n",
       "2  79389df7-59f1-427f-80d4-3a959407407e  4da7abaf-ac7a-41c0-8033-5780a398545c   \n",
       "\n",
       "     subject_id  \n",
       "0  TCGA-E2-A10A  \n",
       "1  TCGA-E2-A10A  \n",
       "2  TCGA-E2-A10A  "
      ]
     },
     "execution_count": 6,
     "metadata": {},
     "output_type": "execute_result"
    }
   ],
   "source": [
    "files_df.head(3)"
   ]
  },
  {
   "cell_type": "markdown",
   "id": "3640d51e-e7ef-4802-b409-4c103f9353e0",
   "metadata": {},
   "source": [
    "Dataframe contains all file-related information as well as ids of other endpoints it connects to. These ids will lated be useful for merging dataframes from multiple endpoints."
   ]
  },
  {
   "cell_type": "markdown",
   "id": "7789f6fe-731b-484e-b9c5-91d5cacbb65c",
   "metadata": {},
   "source": [
    "### Querying other endpoints\n",
    "\n",
    "When querying other endpoints, **id** column is renamed to properly reflect which id it is referring to. This is done so that merging dataframes can be performed using appropriate **id** columns. Depending on the query, the following cell can take a couple of minutes to execute."
   ]
  },
  {
   "cell_type": "code",
   "execution_count": 7,
   "id": "c7e5316f-6543-49a5-814f-774c5aaa765d",
   "metadata": {},
   "outputs": [
    {
     "data": {
      "text/html": [
       "<pre style=\"white-space:pre;overflow-x:auto;line-height:normal;font-family:Menlo,'DejaVu Sans Mono',consolas,'Courier New',monospace\">Getting results from database\n",
       "\n",
       "</pre>\n"
      ],
      "text/plain": [
       "Getting results from database\n",
       "\n"
      ]
     },
     "metadata": {},
     "output_type": "display_data"
    },
    {
     "name": "stdout",
     "output_type": "stream",
     "text": [
      "Total execution time: 3399 ms\n"
     ]
    },
    {
     "data": {
      "text/html": [
       "<pre style=\"white-space:pre;overflow-x:auto;line-height:normal;font-family:Menlo,'DejaVu Sans Mono',consolas,'Courier New',monospace\">Getting results from database\n",
       "\n",
       "</pre>\n"
      ],
      "text/plain": [
       "Getting results from database\n",
       "\n"
      ]
     },
     "metadata": {},
     "output_type": "display_data"
    },
    {
     "name": "stdout",
     "output_type": "stream",
     "text": [
      "Total execution time: 4132 ms\n"
     ]
    },
    {
     "data": {
      "text/html": [
       "<pre style=\"white-space:pre;overflow-x:auto;line-height:normal;font-family:Menlo,'DejaVu Sans Mono',consolas,'Courier New',monospace\">Getting results from database\n",
       "\n",
       "</pre>\n"
      ],
      "text/plain": [
       "Getting results from database\n",
       "\n"
      ]
     },
     "metadata": {},
     "output_type": "display_data"
    },
    {
     "name": "stdout",
     "output_type": "stream",
     "text": [
      "Total execution time: 3318 ms\n"
     ]
    },
    {
     "data": {
      "text/html": [
       "<pre style=\"white-space:pre;overflow-x:auto;line-height:normal;font-family:Menlo,'DejaVu Sans Mono',consolas,'Courier New',monospace\">Getting results from database\n",
       "\n",
       "</pre>\n"
      ],
      "text/plain": [
       "Getting results from database\n",
       "\n"
      ]
     },
     "metadata": {},
     "output_type": "display_data"
    },
    {
     "name": "stdout",
     "output_type": "stream",
     "text": [
      "Total execution time: 3244 ms\n"
     ]
    },
    {
     "data": {
      "text/html": [
       "<pre style=\"white-space:pre;overflow-x:auto;line-height:normal;font-family:Menlo,'DejaVu Sans Mono',consolas,'Courier New',monospace\">Getting results from database\n",
       "\n",
       "</pre>\n"
      ],
      "text/plain": [
       "Getting results from database\n",
       "\n"
      ]
     },
     "metadata": {},
     "output_type": "display_data"
    },
    {
     "name": "stdout",
     "output_type": "stream",
     "text": [
      "Total execution time: 3431 ms\n"
     ]
    }
   ],
   "source": [
    "# Diagnosis\n",
    "diagnosis = q.diagnosis.run()\n",
    "diagnosis_df = iter_pages(diagnosis).rename(columns={'id': 'diagnosis_id'})\n",
    "\n",
    "# Treatment\n",
    "treatment = q.treatment.run()\n",
    "treatment_df = iter_pages(treatment).rename(columns={'id': 'treatment_id'})\n",
    "\n",
    "# Research subject\n",
    "research_subject_of_interest = q.researchsubject.run()\n",
    "rs_df = iter_pages(research_subject_of_interest).rename(columns={'id': 'researchsubject_id'})\n",
    "\n",
    "# Subject\n",
    "subject_of_interest = q.subject.run()\n",
    "subject_df = iter_pages(subject_of_interest).rename(columns={'id': 'subject_id'})\n",
    "\n",
    "#Specimen\n",
    "specimen_of_interest = q.specimen.run()\n",
    "specimen_df = iter_pages(specimen_of_interest).rename(columns={'id': 'researchsubject_specimen_id'})"
   ]
  },
  {
   "cell_type": "markdown",
   "id": "6cf02fbb-6293-4f2c-a8ae-e1e162876a11",
   "metadata": {},
   "source": [
    "After obtaining dataframes, they can be merged into a single dataframe. Goal of querying and merging multiple dataframes is to be able to infer all metadata fields for files which are to be imported. In general, it is strongly suggested to explore the results and adjust the query before proceeding to dataframe merging and importing data to CGC.\n",
    "\n",
    "For dataframe manipulation, pandas must be imported:"
   ]
  },
  {
   "cell_type": "code",
   "execution_count": 8,
   "id": "41a47800-4d1a-4505-b123-4f71a9599bf8",
   "metadata": {},
   "outputs": [
    {
     "data": {
      "text/html": [
       "<div>\n",
       "<style scoped>\n",
       "    .dataframe tbody tr th:only-of-type {\n",
       "        vertical-align: middle;\n",
       "    }\n",
       "\n",
       "    .dataframe tbody tr th {\n",
       "        vertical-align: top;\n",
       "    }\n",
       "\n",
       "    .dataframe thead th {\n",
       "        text-align: right;\n",
       "    }\n",
       "</style>\n",
       "<table border=\"1\" class=\"dataframe\">\n",
       "  <thead>\n",
       "    <tr style=\"text-align: right;\">\n",
       "      <th></th>\n",
       "      <th>id</th>\n",
       "      <th>identifier</th>\n",
       "      <th>label</th>\n",
       "      <th>data_category</th>\n",
       "      <th>data_type</th>\n",
       "      <th>file_format</th>\n",
       "      <th>associated_project</th>\n",
       "      <th>drs_uri</th>\n",
       "      <th>byte_size</th>\n",
       "      <th>checksum</th>\n",
       "      <th>data_modality</th>\n",
       "      <th>imaging_modality</th>\n",
       "      <th>dbgap_accession_number</th>\n",
       "      <th>imaging_series</th>\n",
       "      <th>researchsubject_specimen_id</th>\n",
       "      <th>researchsubject_id</th>\n",
       "      <th>subject_id</th>\n",
       "      <th>identifier_rs</th>\n",
       "      <th>member_of_research_project</th>\n",
       "      <th>primary_diagnosis_condition</th>\n",
       "      <th>primary_diagnosis_site</th>\n",
       "      <th>subject_id_rs</th>\n",
       "      <th>identifier_subject</th>\n",
       "      <th>species</th>\n",
       "      <th>sex</th>\n",
       "      <th>race</th>\n",
       "      <th>ethnicity</th>\n",
       "      <th>days_to_birth</th>\n",
       "      <th>subject_associated_project</th>\n",
       "      <th>vital_status</th>\n",
       "      <th>days_to_death</th>\n",
       "      <th>cause_of_death</th>\n",
       "      <th>identifier_specimen</th>\n",
       "      <th>associated_project_specimen</th>\n",
       "      <th>days_to_collection</th>\n",
       "      <th>primary_disease_type</th>\n",
       "      <th>anatomical_site</th>\n",
       "      <th>source_material_type</th>\n",
       "      <th>specimen_type</th>\n",
       "      <th>derived_from_specimen</th>\n",
       "      <th>subject_id_specimen</th>\n",
       "      <th>researchsubject_id_specimen</th>\n",
       "      <th>treatment_id</th>\n",
       "      <th>identifier_treatment</th>\n",
       "      <th>treatment_type</th>\n",
       "      <th>treatment_outcome</th>\n",
       "      <th>days_to_treatment_start</th>\n",
       "      <th>days_to_treatment_end</th>\n",
       "      <th>therapeutic_agent</th>\n",
       "      <th>treatment_anatomic_site</th>\n",
       "      <th>treatment_effect</th>\n",
       "      <th>treatment_end_reason</th>\n",
       "      <th>number_of_cycles</th>\n",
       "      <th>subject_id_treatment</th>\n",
       "      <th>researchsubject_diagnosis_id</th>\n",
       "      <th>diagnosis_id</th>\n",
       "      <th>identifier_diagnosis</th>\n",
       "      <th>primary_diagnosis</th>\n",
       "      <th>age_at_diagnosis</th>\n",
       "      <th>morphology</th>\n",
       "      <th>stage</th>\n",
       "      <th>grade</th>\n",
       "      <th>method_of_diagnosis</th>\n",
       "      <th>subject_id_diagnosis</th>\n",
       "    </tr>\n",
       "  </thead>\n",
       "  <tbody>\n",
       "    <tr>\n",
       "      <th>0</th>\n",
       "      <td>77a57466-7b65-46bd-817a-ca96b8342273</td>\n",
       "      <td>[{'system': 'GDC', 'value': '77a57466-7b65-46b...</td>\n",
       "      <td>41bd1fd2-89a4-49b2-bcbd-508ef23b471a.wxs.mutec...</td>\n",
       "      <td>Simple Nucleotide Variation</td>\n",
       "      <td>Raw Simple Somatic Mutation</td>\n",
       "      <td>VCF</td>\n",
       "      <td>TCGA-BRCA</td>\n",
       "      <td>drs://dg.4DFC:77a57466-7b65-46bd-817a-ca96b834...</td>\n",
       "      <td>1.760100e+05</td>\n",
       "      <td>5e4497b6e9451fb8eef7032b0f522a6e</td>\n",
       "      <td>Genomic</td>\n",
       "      <td>None</td>\n",
       "      <td>None</td>\n",
       "      <td>None</td>\n",
       "      <td>0c8615d8-e7a2-465a-8de3-961734941c16</td>\n",
       "      <td>4da7abaf-ac7a-41c0-8033-5780a398545c</td>\n",
       "      <td>TCGA-E2-A10A</td>\n",
       "      <td>[{'system': 'GDC', 'value': '4da7abaf-ac7a-41c...</td>\n",
       "      <td>TCGA-BRCA</td>\n",
       "      <td>Ductal and Lobular Neoplasms</td>\n",
       "      <td>Breast</td>\n",
       "      <td>TCGA-E2-A10A</td>\n",
       "      <td>[{'system': 'GDC', 'value': 'TCGA-E2-A10A'}, {...</td>\n",
       "      <td>homo sapiens</td>\n",
       "      <td>female</td>\n",
       "      <td>white</td>\n",
       "      <td>not hispanic or latino</td>\n",
       "      <td>-15085.0</td>\n",
       "      <td>[TCGA-BRCA, tcga_brca, CPTAC-TCGA]</td>\n",
       "      <td>Alive</td>\n",
       "      <td>None</td>\n",
       "      <td>None</td>\n",
       "      <td>[{'system': 'GDC', 'value': '0c8615d8-e7a2-465...</td>\n",
       "      <td>TCGA-BRCA</td>\n",
       "      <td>1096.0</td>\n",
       "      <td>Ductal and Lobular Neoplasms</td>\n",
       "      <td>None</td>\n",
       "      <td>Primary Tumor</td>\n",
       "      <td>sample</td>\n",
       "      <td>initial specimen</td>\n",
       "      <td>TCGA-E2-A10A</td>\n",
       "      <td>4da7abaf-ac7a-41c0-8033-5780a398545c</td>\n",
       "      <td>de356671-f18e-5152-83cb-197f72b897d3</td>\n",
       "      <td>[{'system': 'GDC', 'value': 'de356671-f18e-515...</td>\n",
       "      <td>Pharmaceutical Therapy, NOS</td>\n",
       "      <td>None</td>\n",
       "      <td>None</td>\n",
       "      <td>None</td>\n",
       "      <td>None</td>\n",
       "      <td>None</td>\n",
       "      <td>None</td>\n",
       "      <td>None</td>\n",
       "      <td>None</td>\n",
       "      <td>TCGA-E2-A10A</td>\n",
       "      <td>a84accf0-2294-550d-9825-22625f09f989</td>\n",
       "      <td>a84accf0-2294-550d-9825-22625f09f989</td>\n",
       "      <td>[{'system': 'GDC', 'value': 'a84accf0-2294-550...</td>\n",
       "      <td>Infiltrating duct carcinoma, NOS</td>\n",
       "      <td>15085.0</td>\n",
       "      <td>8500/3</td>\n",
       "      <td>None</td>\n",
       "      <td>not reported</td>\n",
       "      <td>None</td>\n",
       "      <td>TCGA-E2-A10A</td>\n",
       "    </tr>\n",
       "    <tr>\n",
       "      <th>1</th>\n",
       "      <td>77a57466-7b65-46bd-817a-ca96b8342273</td>\n",
       "      <td>[{'system': 'GDC', 'value': '77a57466-7b65-46b...</td>\n",
       "      <td>41bd1fd2-89a4-49b2-bcbd-508ef23b471a.wxs.mutec...</td>\n",
       "      <td>Simple Nucleotide Variation</td>\n",
       "      <td>Raw Simple Somatic Mutation</td>\n",
       "      <td>VCF</td>\n",
       "      <td>TCGA-BRCA</td>\n",
       "      <td>drs://dg.4DFC:77a57466-7b65-46bd-817a-ca96b834...</td>\n",
       "      <td>1.760100e+05</td>\n",
       "      <td>5e4497b6e9451fb8eef7032b0f522a6e</td>\n",
       "      <td>Genomic</td>\n",
       "      <td>None</td>\n",
       "      <td>None</td>\n",
       "      <td>None</td>\n",
       "      <td>0c8615d8-e7a2-465a-8de3-961734941c16</td>\n",
       "      <td>4da7abaf-ac7a-41c0-8033-5780a398545c</td>\n",
       "      <td>TCGA-E2-A10A</td>\n",
       "      <td>[{'system': 'GDC', 'value': '4da7abaf-ac7a-41c...</td>\n",
       "      <td>TCGA-BRCA</td>\n",
       "      <td>Ductal and Lobular Neoplasms</td>\n",
       "      <td>Breast</td>\n",
       "      <td>TCGA-E2-A10A</td>\n",
       "      <td>[{'system': 'GDC', 'value': 'TCGA-E2-A10A'}, {...</td>\n",
       "      <td>homo sapiens</td>\n",
       "      <td>female</td>\n",
       "      <td>white</td>\n",
       "      <td>not hispanic or latino</td>\n",
       "      <td>-15085.0</td>\n",
       "      <td>[TCGA-BRCA, tcga_brca, CPTAC-TCGA]</td>\n",
       "      <td>Alive</td>\n",
       "      <td>None</td>\n",
       "      <td>None</td>\n",
       "      <td>[{'system': 'GDC', 'value': '0c8615d8-e7a2-465...</td>\n",
       "      <td>TCGA-BRCA</td>\n",
       "      <td>1096.0</td>\n",
       "      <td>Ductal and Lobular Neoplasms</td>\n",
       "      <td>None</td>\n",
       "      <td>Primary Tumor</td>\n",
       "      <td>sample</td>\n",
       "      <td>initial specimen</td>\n",
       "      <td>TCGA-E2-A10A</td>\n",
       "      <td>4da7abaf-ac7a-41c0-8033-5780a398545c</td>\n",
       "      <td>c1ec925a-387c-5a0c-9d50-655aa789c652</td>\n",
       "      <td>[{'system': 'GDC', 'value': 'c1ec925a-387c-5a0...</td>\n",
       "      <td>Radiation Therapy, NOS</td>\n",
       "      <td>None</td>\n",
       "      <td>None</td>\n",
       "      <td>None</td>\n",
       "      <td>None</td>\n",
       "      <td>None</td>\n",
       "      <td>None</td>\n",
       "      <td>None</td>\n",
       "      <td>None</td>\n",
       "      <td>TCGA-E2-A10A</td>\n",
       "      <td>a84accf0-2294-550d-9825-22625f09f989</td>\n",
       "      <td>a84accf0-2294-550d-9825-22625f09f989</td>\n",
       "      <td>[{'system': 'GDC', 'value': 'a84accf0-2294-550...</td>\n",
       "      <td>Infiltrating duct carcinoma, NOS</td>\n",
       "      <td>15085.0</td>\n",
       "      <td>8500/3</td>\n",
       "      <td>None</td>\n",
       "      <td>not reported</td>\n",
       "      <td>None</td>\n",
       "      <td>TCGA-E2-A10A</td>\n",
       "    </tr>\n",
       "    <tr>\n",
       "      <th>2</th>\n",
       "      <td>82f51d21-b272-4aaa-96bb-27bfeaea6c7a</td>\n",
       "      <td>[{'system': 'GDC', 'value': '82f51d21-b272-4aa...</td>\n",
       "      <td>d32c4662-2b0b-4f78-b031-e6ff5286664c.rna_seq.t...</td>\n",
       "      <td>Sequencing Reads</td>\n",
       "      <td>Aligned Reads</td>\n",
       "      <td>BAM</td>\n",
       "      <td>TCGA-BRCA</td>\n",
       "      <td>drs://dg.4DFC:82f51d21-b272-4aaa-96bb-27bfeaea...</td>\n",
       "      <td>1.613710e+10</td>\n",
       "      <td>c0aebaf40110c7af46c610e6f7bc993a</td>\n",
       "      <td>Genomic</td>\n",
       "      <td>None</td>\n",
       "      <td>None</td>\n",
       "      <td>None</td>\n",
       "      <td>0c8615d8-e7a2-465a-8de3-961734941c16</td>\n",
       "      <td>4da7abaf-ac7a-41c0-8033-5780a398545c</td>\n",
       "      <td>TCGA-E2-A10A</td>\n",
       "      <td>[{'system': 'GDC', 'value': '4da7abaf-ac7a-41c...</td>\n",
       "      <td>TCGA-BRCA</td>\n",
       "      <td>Ductal and Lobular Neoplasms</td>\n",
       "      <td>Breast</td>\n",
       "      <td>TCGA-E2-A10A</td>\n",
       "      <td>[{'system': 'GDC', 'value': 'TCGA-E2-A10A'}, {...</td>\n",
       "      <td>homo sapiens</td>\n",
       "      <td>female</td>\n",
       "      <td>white</td>\n",
       "      <td>not hispanic or latino</td>\n",
       "      <td>-15085.0</td>\n",
       "      <td>[TCGA-BRCA, tcga_brca, CPTAC-TCGA]</td>\n",
       "      <td>Alive</td>\n",
       "      <td>None</td>\n",
       "      <td>None</td>\n",
       "      <td>[{'system': 'GDC', 'value': '0c8615d8-e7a2-465...</td>\n",
       "      <td>TCGA-BRCA</td>\n",
       "      <td>1096.0</td>\n",
       "      <td>Ductal and Lobular Neoplasms</td>\n",
       "      <td>None</td>\n",
       "      <td>Primary Tumor</td>\n",
       "      <td>sample</td>\n",
       "      <td>initial specimen</td>\n",
       "      <td>TCGA-E2-A10A</td>\n",
       "      <td>4da7abaf-ac7a-41c0-8033-5780a398545c</td>\n",
       "      <td>de356671-f18e-5152-83cb-197f72b897d3</td>\n",
       "      <td>[{'system': 'GDC', 'value': 'de356671-f18e-515...</td>\n",
       "      <td>Pharmaceutical Therapy, NOS</td>\n",
       "      <td>None</td>\n",
       "      <td>None</td>\n",
       "      <td>None</td>\n",
       "      <td>None</td>\n",
       "      <td>None</td>\n",
       "      <td>None</td>\n",
       "      <td>None</td>\n",
       "      <td>None</td>\n",
       "      <td>TCGA-E2-A10A</td>\n",
       "      <td>a84accf0-2294-550d-9825-22625f09f989</td>\n",
       "      <td>a84accf0-2294-550d-9825-22625f09f989</td>\n",
       "      <td>[{'system': 'GDC', 'value': 'a84accf0-2294-550...</td>\n",
       "      <td>Infiltrating duct carcinoma, NOS</td>\n",
       "      <td>15085.0</td>\n",
       "      <td>8500/3</td>\n",
       "      <td>None</td>\n",
       "      <td>not reported</td>\n",
       "      <td>None</td>\n",
       "      <td>TCGA-E2-A10A</td>\n",
       "    </tr>\n",
       "    <tr>\n",
       "      <th>3</th>\n",
       "      <td>82f51d21-b272-4aaa-96bb-27bfeaea6c7a</td>\n",
       "      <td>[{'system': 'GDC', 'value': '82f51d21-b272-4aa...</td>\n",
       "      <td>d32c4662-2b0b-4f78-b031-e6ff5286664c.rna_seq.t...</td>\n",
       "      <td>Sequencing Reads</td>\n",
       "      <td>Aligned Reads</td>\n",
       "      <td>BAM</td>\n",
       "      <td>TCGA-BRCA</td>\n",
       "      <td>drs://dg.4DFC:82f51d21-b272-4aaa-96bb-27bfeaea...</td>\n",
       "      <td>1.613710e+10</td>\n",
       "      <td>c0aebaf40110c7af46c610e6f7bc993a</td>\n",
       "      <td>Genomic</td>\n",
       "      <td>None</td>\n",
       "      <td>None</td>\n",
       "      <td>None</td>\n",
       "      <td>0c8615d8-e7a2-465a-8de3-961734941c16</td>\n",
       "      <td>4da7abaf-ac7a-41c0-8033-5780a398545c</td>\n",
       "      <td>TCGA-E2-A10A</td>\n",
       "      <td>[{'system': 'GDC', 'value': '4da7abaf-ac7a-41c...</td>\n",
       "      <td>TCGA-BRCA</td>\n",
       "      <td>Ductal and Lobular Neoplasms</td>\n",
       "      <td>Breast</td>\n",
       "      <td>TCGA-E2-A10A</td>\n",
       "      <td>[{'system': 'GDC', 'value': 'TCGA-E2-A10A'}, {...</td>\n",
       "      <td>homo sapiens</td>\n",
       "      <td>female</td>\n",
       "      <td>white</td>\n",
       "      <td>not hispanic or latino</td>\n",
       "      <td>-15085.0</td>\n",
       "      <td>[TCGA-BRCA, tcga_brca, CPTAC-TCGA]</td>\n",
       "      <td>Alive</td>\n",
       "      <td>None</td>\n",
       "      <td>None</td>\n",
       "      <td>[{'system': 'GDC', 'value': '0c8615d8-e7a2-465...</td>\n",
       "      <td>TCGA-BRCA</td>\n",
       "      <td>1096.0</td>\n",
       "      <td>Ductal and Lobular Neoplasms</td>\n",
       "      <td>None</td>\n",
       "      <td>Primary Tumor</td>\n",
       "      <td>sample</td>\n",
       "      <td>initial specimen</td>\n",
       "      <td>TCGA-E2-A10A</td>\n",
       "      <td>4da7abaf-ac7a-41c0-8033-5780a398545c</td>\n",
       "      <td>c1ec925a-387c-5a0c-9d50-655aa789c652</td>\n",
       "      <td>[{'system': 'GDC', 'value': 'c1ec925a-387c-5a0...</td>\n",
       "      <td>Radiation Therapy, NOS</td>\n",
       "      <td>None</td>\n",
       "      <td>None</td>\n",
       "      <td>None</td>\n",
       "      <td>None</td>\n",
       "      <td>None</td>\n",
       "      <td>None</td>\n",
       "      <td>None</td>\n",
       "      <td>None</td>\n",
       "      <td>TCGA-E2-A10A</td>\n",
       "      <td>a84accf0-2294-550d-9825-22625f09f989</td>\n",
       "      <td>a84accf0-2294-550d-9825-22625f09f989</td>\n",
       "      <td>[{'system': 'GDC', 'value': 'a84accf0-2294-550...</td>\n",
       "      <td>Infiltrating duct carcinoma, NOS</td>\n",
       "      <td>15085.0</td>\n",
       "      <td>8500/3</td>\n",
       "      <td>None</td>\n",
       "      <td>not reported</td>\n",
       "      <td>None</td>\n",
       "      <td>TCGA-E2-A10A</td>\n",
       "    </tr>\n",
       "    <tr>\n",
       "      <th>4</th>\n",
       "      <td>ef49581e-e0e5-4eae-ae46-75573f643426</td>\n",
       "      <td>[{'system': 'GDC', 'value': 'ef49581e-e0e5-4ea...</td>\n",
       "      <td>d32c4662-2b0b-4f78-b031-e6ff5286664c.rna_seq.s...</td>\n",
       "      <td>Transcriptome Profiling</td>\n",
       "      <td>Splice Junction Quantification</td>\n",
       "      <td>TSV</td>\n",
       "      <td>TCGA-BRCA</td>\n",
       "      <td>drs://dg.4DFC:ef49581e-e0e5-4eae-ae46-75573f64...</td>\n",
       "      <td>2.653872e+06</td>\n",
       "      <td>e0cf2be15fa62968721ead15104cbaa9</td>\n",
       "      <td>Genomic</td>\n",
       "      <td>None</td>\n",
       "      <td>None</td>\n",
       "      <td>None</td>\n",
       "      <td>0c8615d8-e7a2-465a-8de3-961734941c16</td>\n",
       "      <td>4da7abaf-ac7a-41c0-8033-5780a398545c</td>\n",
       "      <td>TCGA-E2-A10A</td>\n",
       "      <td>[{'system': 'GDC', 'value': '4da7abaf-ac7a-41c...</td>\n",
       "      <td>TCGA-BRCA</td>\n",
       "      <td>Ductal and Lobular Neoplasms</td>\n",
       "      <td>Breast</td>\n",
       "      <td>TCGA-E2-A10A</td>\n",
       "      <td>[{'system': 'GDC', 'value': 'TCGA-E2-A10A'}, {...</td>\n",
       "      <td>homo sapiens</td>\n",
       "      <td>female</td>\n",
       "      <td>white</td>\n",
       "      <td>not hispanic or latino</td>\n",
       "      <td>-15085.0</td>\n",
       "      <td>[TCGA-BRCA, tcga_brca, CPTAC-TCGA]</td>\n",
       "      <td>Alive</td>\n",
       "      <td>None</td>\n",
       "      <td>None</td>\n",
       "      <td>[{'system': 'GDC', 'value': '0c8615d8-e7a2-465...</td>\n",
       "      <td>TCGA-BRCA</td>\n",
       "      <td>1096.0</td>\n",
       "      <td>Ductal and Lobular Neoplasms</td>\n",
       "      <td>None</td>\n",
       "      <td>Primary Tumor</td>\n",
       "      <td>sample</td>\n",
       "      <td>initial specimen</td>\n",
       "      <td>TCGA-E2-A10A</td>\n",
       "      <td>4da7abaf-ac7a-41c0-8033-5780a398545c</td>\n",
       "      <td>de356671-f18e-5152-83cb-197f72b897d3</td>\n",
       "      <td>[{'system': 'GDC', 'value': 'de356671-f18e-515...</td>\n",
       "      <td>Pharmaceutical Therapy, NOS</td>\n",
       "      <td>None</td>\n",
       "      <td>None</td>\n",
       "      <td>None</td>\n",
       "      <td>None</td>\n",
       "      <td>None</td>\n",
       "      <td>None</td>\n",
       "      <td>None</td>\n",
       "      <td>None</td>\n",
       "      <td>TCGA-E2-A10A</td>\n",
       "      <td>a84accf0-2294-550d-9825-22625f09f989</td>\n",
       "      <td>a84accf0-2294-550d-9825-22625f09f989</td>\n",
       "      <td>[{'system': 'GDC', 'value': 'a84accf0-2294-550...</td>\n",
       "      <td>Infiltrating duct carcinoma, NOS</td>\n",
       "      <td>15085.0</td>\n",
       "      <td>8500/3</td>\n",
       "      <td>None</td>\n",
       "      <td>not reported</td>\n",
       "      <td>None</td>\n",
       "      <td>TCGA-E2-A10A</td>\n",
       "    </tr>\n",
       "  </tbody>\n",
       "</table>\n",
       "</div>"
      ],
      "text/plain": [
       "                                     id  \\\n",
       "0  77a57466-7b65-46bd-817a-ca96b8342273   \n",
       "1  77a57466-7b65-46bd-817a-ca96b8342273   \n",
       "2  82f51d21-b272-4aaa-96bb-27bfeaea6c7a   \n",
       "3  82f51d21-b272-4aaa-96bb-27bfeaea6c7a   \n",
       "4  ef49581e-e0e5-4eae-ae46-75573f643426   \n",
       "\n",
       "                                          identifier  \\\n",
       "0  [{'system': 'GDC', 'value': '77a57466-7b65-46b...   \n",
       "1  [{'system': 'GDC', 'value': '77a57466-7b65-46b...   \n",
       "2  [{'system': 'GDC', 'value': '82f51d21-b272-4aa...   \n",
       "3  [{'system': 'GDC', 'value': '82f51d21-b272-4aa...   \n",
       "4  [{'system': 'GDC', 'value': 'ef49581e-e0e5-4ea...   \n",
       "\n",
       "                                               label  \\\n",
       "0  41bd1fd2-89a4-49b2-bcbd-508ef23b471a.wxs.mutec...   \n",
       "1  41bd1fd2-89a4-49b2-bcbd-508ef23b471a.wxs.mutec...   \n",
       "2  d32c4662-2b0b-4f78-b031-e6ff5286664c.rna_seq.t...   \n",
       "3  d32c4662-2b0b-4f78-b031-e6ff5286664c.rna_seq.t...   \n",
       "4  d32c4662-2b0b-4f78-b031-e6ff5286664c.rna_seq.s...   \n",
       "\n",
       "                 data_category                       data_type file_format  \\\n",
       "0  Simple Nucleotide Variation     Raw Simple Somatic Mutation         VCF   \n",
       "1  Simple Nucleotide Variation     Raw Simple Somatic Mutation         VCF   \n",
       "2             Sequencing Reads                   Aligned Reads         BAM   \n",
       "3             Sequencing Reads                   Aligned Reads         BAM   \n",
       "4      Transcriptome Profiling  Splice Junction Quantification         TSV   \n",
       "\n",
       "  associated_project                                            drs_uri  \\\n",
       "0          TCGA-BRCA  drs://dg.4DFC:77a57466-7b65-46bd-817a-ca96b834...   \n",
       "1          TCGA-BRCA  drs://dg.4DFC:77a57466-7b65-46bd-817a-ca96b834...   \n",
       "2          TCGA-BRCA  drs://dg.4DFC:82f51d21-b272-4aaa-96bb-27bfeaea...   \n",
       "3          TCGA-BRCA  drs://dg.4DFC:82f51d21-b272-4aaa-96bb-27bfeaea...   \n",
       "4          TCGA-BRCA  drs://dg.4DFC:ef49581e-e0e5-4eae-ae46-75573f64...   \n",
       "\n",
       "      byte_size                          checksum data_modality  \\\n",
       "0  1.760100e+05  5e4497b6e9451fb8eef7032b0f522a6e       Genomic   \n",
       "1  1.760100e+05  5e4497b6e9451fb8eef7032b0f522a6e       Genomic   \n",
       "2  1.613710e+10  c0aebaf40110c7af46c610e6f7bc993a       Genomic   \n",
       "3  1.613710e+10  c0aebaf40110c7af46c610e6f7bc993a       Genomic   \n",
       "4  2.653872e+06  e0cf2be15fa62968721ead15104cbaa9       Genomic   \n",
       "\n",
       "  imaging_modality dbgap_accession_number imaging_series  \\\n",
       "0             None                   None           None   \n",
       "1             None                   None           None   \n",
       "2             None                   None           None   \n",
       "3             None                   None           None   \n",
       "4             None                   None           None   \n",
       "\n",
       "            researchsubject_specimen_id                    researchsubject_id  \\\n",
       "0  0c8615d8-e7a2-465a-8de3-961734941c16  4da7abaf-ac7a-41c0-8033-5780a398545c   \n",
       "1  0c8615d8-e7a2-465a-8de3-961734941c16  4da7abaf-ac7a-41c0-8033-5780a398545c   \n",
       "2  0c8615d8-e7a2-465a-8de3-961734941c16  4da7abaf-ac7a-41c0-8033-5780a398545c   \n",
       "3  0c8615d8-e7a2-465a-8de3-961734941c16  4da7abaf-ac7a-41c0-8033-5780a398545c   \n",
       "4  0c8615d8-e7a2-465a-8de3-961734941c16  4da7abaf-ac7a-41c0-8033-5780a398545c   \n",
       "\n",
       "     subject_id                                      identifier_rs  \\\n",
       "0  TCGA-E2-A10A  [{'system': 'GDC', 'value': '4da7abaf-ac7a-41c...   \n",
       "1  TCGA-E2-A10A  [{'system': 'GDC', 'value': '4da7abaf-ac7a-41c...   \n",
       "2  TCGA-E2-A10A  [{'system': 'GDC', 'value': '4da7abaf-ac7a-41c...   \n",
       "3  TCGA-E2-A10A  [{'system': 'GDC', 'value': '4da7abaf-ac7a-41c...   \n",
       "4  TCGA-E2-A10A  [{'system': 'GDC', 'value': '4da7abaf-ac7a-41c...   \n",
       "\n",
       "  member_of_research_project   primary_diagnosis_condition  \\\n",
       "0                  TCGA-BRCA  Ductal and Lobular Neoplasms   \n",
       "1                  TCGA-BRCA  Ductal and Lobular Neoplasms   \n",
       "2                  TCGA-BRCA  Ductal and Lobular Neoplasms   \n",
       "3                  TCGA-BRCA  Ductal and Lobular Neoplasms   \n",
       "4                  TCGA-BRCA  Ductal and Lobular Neoplasms   \n",
       "\n",
       "  primary_diagnosis_site subject_id_rs  \\\n",
       "0                 Breast  TCGA-E2-A10A   \n",
       "1                 Breast  TCGA-E2-A10A   \n",
       "2                 Breast  TCGA-E2-A10A   \n",
       "3                 Breast  TCGA-E2-A10A   \n",
       "4                 Breast  TCGA-E2-A10A   \n",
       "\n",
       "                                  identifier_subject       species     sex  \\\n",
       "0  [{'system': 'GDC', 'value': 'TCGA-E2-A10A'}, {...  homo sapiens  female   \n",
       "1  [{'system': 'GDC', 'value': 'TCGA-E2-A10A'}, {...  homo sapiens  female   \n",
       "2  [{'system': 'GDC', 'value': 'TCGA-E2-A10A'}, {...  homo sapiens  female   \n",
       "3  [{'system': 'GDC', 'value': 'TCGA-E2-A10A'}, {...  homo sapiens  female   \n",
       "4  [{'system': 'GDC', 'value': 'TCGA-E2-A10A'}, {...  homo sapiens  female   \n",
       "\n",
       "    race               ethnicity  days_to_birth  \\\n",
       "0  white  not hispanic or latino       -15085.0   \n",
       "1  white  not hispanic or latino       -15085.0   \n",
       "2  white  not hispanic or latino       -15085.0   \n",
       "3  white  not hispanic or latino       -15085.0   \n",
       "4  white  not hispanic or latino       -15085.0   \n",
       "\n",
       "           subject_associated_project vital_status days_to_death  \\\n",
       "0  [TCGA-BRCA, tcga_brca, CPTAC-TCGA]        Alive          None   \n",
       "1  [TCGA-BRCA, tcga_brca, CPTAC-TCGA]        Alive          None   \n",
       "2  [TCGA-BRCA, tcga_brca, CPTAC-TCGA]        Alive          None   \n",
       "3  [TCGA-BRCA, tcga_brca, CPTAC-TCGA]        Alive          None   \n",
       "4  [TCGA-BRCA, tcga_brca, CPTAC-TCGA]        Alive          None   \n",
       "\n",
       "  cause_of_death                                identifier_specimen  \\\n",
       "0           None  [{'system': 'GDC', 'value': '0c8615d8-e7a2-465...   \n",
       "1           None  [{'system': 'GDC', 'value': '0c8615d8-e7a2-465...   \n",
       "2           None  [{'system': 'GDC', 'value': '0c8615d8-e7a2-465...   \n",
       "3           None  [{'system': 'GDC', 'value': '0c8615d8-e7a2-465...   \n",
       "4           None  [{'system': 'GDC', 'value': '0c8615d8-e7a2-465...   \n",
       "\n",
       "  associated_project_specimen  days_to_collection  \\\n",
       "0                   TCGA-BRCA              1096.0   \n",
       "1                   TCGA-BRCA              1096.0   \n",
       "2                   TCGA-BRCA              1096.0   \n",
       "3                   TCGA-BRCA              1096.0   \n",
       "4                   TCGA-BRCA              1096.0   \n",
       "\n",
       "           primary_disease_type anatomical_site source_material_type  \\\n",
       "0  Ductal and Lobular Neoplasms            None        Primary Tumor   \n",
       "1  Ductal and Lobular Neoplasms            None        Primary Tumor   \n",
       "2  Ductal and Lobular Neoplasms            None        Primary Tumor   \n",
       "3  Ductal and Lobular Neoplasms            None        Primary Tumor   \n",
       "4  Ductal and Lobular Neoplasms            None        Primary Tumor   \n",
       "\n",
       "  specimen_type derived_from_specimen subject_id_specimen  \\\n",
       "0        sample      initial specimen        TCGA-E2-A10A   \n",
       "1        sample      initial specimen        TCGA-E2-A10A   \n",
       "2        sample      initial specimen        TCGA-E2-A10A   \n",
       "3        sample      initial specimen        TCGA-E2-A10A   \n",
       "4        sample      initial specimen        TCGA-E2-A10A   \n",
       "\n",
       "            researchsubject_id_specimen                          treatment_id  \\\n",
       "0  4da7abaf-ac7a-41c0-8033-5780a398545c  de356671-f18e-5152-83cb-197f72b897d3   \n",
       "1  4da7abaf-ac7a-41c0-8033-5780a398545c  c1ec925a-387c-5a0c-9d50-655aa789c652   \n",
       "2  4da7abaf-ac7a-41c0-8033-5780a398545c  de356671-f18e-5152-83cb-197f72b897d3   \n",
       "3  4da7abaf-ac7a-41c0-8033-5780a398545c  c1ec925a-387c-5a0c-9d50-655aa789c652   \n",
       "4  4da7abaf-ac7a-41c0-8033-5780a398545c  de356671-f18e-5152-83cb-197f72b897d3   \n",
       "\n",
       "                                identifier_treatment  \\\n",
       "0  [{'system': 'GDC', 'value': 'de356671-f18e-515...   \n",
       "1  [{'system': 'GDC', 'value': 'c1ec925a-387c-5a0...   \n",
       "2  [{'system': 'GDC', 'value': 'de356671-f18e-515...   \n",
       "3  [{'system': 'GDC', 'value': 'c1ec925a-387c-5a0...   \n",
       "4  [{'system': 'GDC', 'value': 'de356671-f18e-515...   \n",
       "\n",
       "                treatment_type treatment_outcome days_to_treatment_start  \\\n",
       "0  Pharmaceutical Therapy, NOS              None                    None   \n",
       "1       Radiation Therapy, NOS              None                    None   \n",
       "2  Pharmaceutical Therapy, NOS              None                    None   \n",
       "3       Radiation Therapy, NOS              None                    None   \n",
       "4  Pharmaceutical Therapy, NOS              None                    None   \n",
       "\n",
       "  days_to_treatment_end therapeutic_agent treatment_anatomic_site  \\\n",
       "0                  None              None                    None   \n",
       "1                  None              None                    None   \n",
       "2                  None              None                    None   \n",
       "3                  None              None                    None   \n",
       "4                  None              None                    None   \n",
       "\n",
       "  treatment_effect treatment_end_reason number_of_cycles subject_id_treatment  \\\n",
       "0             None                 None             None         TCGA-E2-A10A   \n",
       "1             None                 None             None         TCGA-E2-A10A   \n",
       "2             None                 None             None         TCGA-E2-A10A   \n",
       "3             None                 None             None         TCGA-E2-A10A   \n",
       "4             None                 None             None         TCGA-E2-A10A   \n",
       "\n",
       "           researchsubject_diagnosis_id                          diagnosis_id  \\\n",
       "0  a84accf0-2294-550d-9825-22625f09f989  a84accf0-2294-550d-9825-22625f09f989   \n",
       "1  a84accf0-2294-550d-9825-22625f09f989  a84accf0-2294-550d-9825-22625f09f989   \n",
       "2  a84accf0-2294-550d-9825-22625f09f989  a84accf0-2294-550d-9825-22625f09f989   \n",
       "3  a84accf0-2294-550d-9825-22625f09f989  a84accf0-2294-550d-9825-22625f09f989   \n",
       "4  a84accf0-2294-550d-9825-22625f09f989  a84accf0-2294-550d-9825-22625f09f989   \n",
       "\n",
       "                                identifier_diagnosis  \\\n",
       "0  [{'system': 'GDC', 'value': 'a84accf0-2294-550...   \n",
       "1  [{'system': 'GDC', 'value': 'a84accf0-2294-550...   \n",
       "2  [{'system': 'GDC', 'value': 'a84accf0-2294-550...   \n",
       "3  [{'system': 'GDC', 'value': 'a84accf0-2294-550...   \n",
       "4  [{'system': 'GDC', 'value': 'a84accf0-2294-550...   \n",
       "\n",
       "                  primary_diagnosis  age_at_diagnosis morphology stage  \\\n",
       "0  Infiltrating duct carcinoma, NOS           15085.0     8500/3  None   \n",
       "1  Infiltrating duct carcinoma, NOS           15085.0     8500/3  None   \n",
       "2  Infiltrating duct carcinoma, NOS           15085.0     8500/3  None   \n",
       "3  Infiltrating duct carcinoma, NOS           15085.0     8500/3  None   \n",
       "4  Infiltrating duct carcinoma, NOS           15085.0     8500/3  None   \n",
       "\n",
       "          grade method_of_diagnosis subject_id_diagnosis  \n",
       "0  not reported                None         TCGA-E2-A10A  \n",
       "1  not reported                None         TCGA-E2-A10A  \n",
       "2  not reported                None         TCGA-E2-A10A  \n",
       "3  not reported                None         TCGA-E2-A10A  \n",
       "4  not reported                None         TCGA-E2-A10A  "
      ]
     },
     "execution_count": 8,
     "metadata": {},
     "output_type": "execute_result"
    }
   ],
   "source": [
    "import pandas as pd\n",
    "\n",
    "# Merge files and research_subject\n",
    "combineddata = pd.merge(files_df, rs_df, on='researchsubject_id', how='outer', suffixes=(None, '_rs'))\n",
    "\n",
    "# Merge combined and subject\n",
    "combineddata = pd.merge(combineddata, subject_df, on='subject_id', how='outer', suffixes=(None, '_subject'))\n",
    "\n",
    "# Merge combined and specimen\n",
    "combineddata = pd.merge(combineddata, specimen_df, on='researchsubject_specimen_id', how='outer', suffixes=(None, '_specimen'))\n",
    "\n",
    "# Merge combined and treatment\n",
    "combineddata = pd.merge(combineddata, treatment_df, on='researchsubject_id', how='outer', suffixes=(None, '_treatment'))\n",
    "\n",
    "# Merge combined and diagnosis\n",
    "combineddata = pd.merge(combineddata, diagnosis_df, on='researchsubject_id', how='outer', suffixes=(None, '_diagnosis'))\n",
    "\n",
    "# See how the merged dataframe looks like:\n",
    "combineddata.head()"
   ]
  },
  {
   "cell_type": "markdown",
   "id": "6eaab826-8c01-44e4-a726-87bdc0ef34c5",
   "metadata": {},
   "source": [
    "We can also check the size of combined data and compare it to *files_df*. Notice that *combineddata* is much larger in both dimensions."
   ]
  },
  {
   "cell_type": "code",
   "execution_count": 9,
   "id": "fc710643-4dc6-4663-813e-cb848486b7fc",
   "metadata": {},
   "outputs": [
    {
     "name": "stdout",
     "output_type": "stream",
     "text": [
      "Dimensions of the files dataframe: (860, 17)\n",
      "Dimensions of the combined dataframe: (1213, 64)\n"
     ]
    }
   ],
   "source": [
    "print('Dimensions of the files dataframe: {}'.format(files_df.shape))\n",
    "print('Dimensions of the combined dataframe: {}'.format(combineddata.shape))"
   ]
  },
  {
   "cell_type": "markdown",
   "id": "2c478adb-2045-446f-9fe8-46d1eb89452d",
   "metadata": {},
   "source": [
    "### Import data to CGC\n",
    "\n",
    "In order to import data to CGC, first the CGC authentication must be entered. Authentication token is available under the [**Developer->Authentication token**](https://cgc.sbgenomics.com/developer/token) menu. If you have not used an authentication token before, it will need to be generated first."
   ]
  },
  {
   "cell_type": "code",
   "execution_count": 11,
   "id": "77cecd80-ae4e-4a23-8c89-56697e5da474",
   "metadata": {},
   "outputs": [
    {
     "name": "stdin",
     "output_type": "stream",
     "text": [
      " ································\n"
     ]
    }
   ],
   "source": [
    "# Set your SBG API token\n",
    "\n",
    "import getpass\n",
    "token = getpass.getpass()"
   ]
  },
  {
   "cell_type": "markdown",
   "id": "b7b4fa65-ac2e-4446-bcc3-265ae0d8c411",
   "metadata": {},
   "source": [
    "Now, CDA files can be imported into a specified project. _process_and_upload_ function handles the bulk import. Files are imported in chunks of 100. Make sure to change the **project** variable to reflect your project. Project should be in format _username/project-name_.\n",
    "\n",
    "Note that a row in the _combineddata_ dataframe does not necessary equate to a single file as a single file might be described using multiple rows. In this example, although 200 rows are used for import, less than a 100 files will actually be imported. In general, you should import the whole dataframe (by removing _.head(200)_ from the function call). A subset is only used in order to make this demonstration faster and cheaper to execute."
   ]
  },
  {
   "cell_type": "code",
   "execution_count": 10,
   "id": "712759c9-1611-4c00-bb08-648fb0dcb40d",
   "metadata": {},
   "outputs": [
    {
     "name": "stdout",
     "output_type": "stream",
     "text": [
      "Submitting files in chunks of 100.\n",
      "\n",
      "Importing chunk 1/1\n",
      "\n",
      "SUBMITTED: 0\n",
      "RUNNING: 0\n",
      "FINISHED: 0/1\n",
      "\n",
      "SUBMITTED: 0\n",
      "RUNNING: 0\n",
      "FINISHED: 1/1\n",
      "\n",
      "Import completed!\n"
     ]
    }
   ],
   "source": [
    "project = 'boris_majic/cda-data-import'\n",
    "\n",
    "# you can tag files with multiple labels\n",
    "tags = ['all_files', 'tcga_brca']\n",
    "\n",
    "# Import\n",
    "from utilities import process_and_upload\n",
    "\n",
    "import_jobs = process_and_upload(\n",
    "    df=combineddata.head(200),\n",
    "    token=token,\n",
    "    import_project=project,\n",
    "    tags=tags\n",
    ")\n"
   ]
  },
  {
   "cell_type": "markdown",
   "id": "933d04c2-3840-4594-8836-e14eac337250",
   "metadata": {},
   "source": [
    "### Additional dataframe filtering\n",
    "\n",
    "As result of merging dataframes is a _pandas.Dataframe_ object, dataframe can be further manipulated before file importing. Lets say that out of all the prepared files, we wish to import only files of a specific format. In this case, lets import all VCF files:"
   ]
  },
  {
   "cell_type": "code",
   "execution_count": 11,
   "id": "98e375e9-a69d-4ef8-a319-406d806c62ff",
   "metadata": {},
   "outputs": [
    {
     "name": "stdout",
     "output_type": "stream",
     "text": [
      "There are 10 VCF files\n"
     ]
    }
   ],
   "source": [
    "vcf_df = combineddata[combineddata.file_format == 'VCF']\n",
    "\n",
    "print('There are {} VCF files'.format(vcf_df.id.nunique()))"
   ]
  },
  {
   "cell_type": "markdown",
   "id": "cb95bce6-0962-4796-bdf3-15d2b9e9e68d",
   "metadata": {},
   "source": [
    "As format of filtered dataframe is still a dataframe, it can be used with the _process_and_upload()_ function."
   ]
  },
  {
   "cell_type": "code",
   "execution_count": 12,
   "id": "f99953a3-365f-4e9d-aa33-cb70aebd7d09",
   "metadata": {},
   "outputs": [
    {
     "name": "stdout",
     "output_type": "stream",
     "text": [
      "Submitting files in chunks of 100.\n",
      "\n",
      "Importing chunk 1/1\n",
      "\n",
      "SUBMITTED: 0\n",
      "RUNNING: 0\n",
      "FINISHED: 0/1\n",
      "\n",
      "SUBMITTED: 0\n",
      "RUNNING: 0\n",
      "FINISHED: 1/1\n",
      "\n",
      "Import completed!\n"
     ]
    },
    {
     "data": {
      "text/plain": [
       "[<DRSBulkImport: id=183047688648986624>]"
      ]
     },
     "execution_count": 12,
     "metadata": {},
     "output_type": "execute_result"
    }
   ],
   "source": [
    "# Import\n",
    "from utilities import process_and_upload\n",
    "\n",
    "project = 'boris_majic/cda-data-import'\n",
    "\n",
    "# you can tag files with multiple labels\n",
    "tags = ['vcf files', 'tcga_brca']\n",
    "\n",
    "process_and_upload(\n",
    "    df=vcf_df,\n",
    "    token=token,\n",
    "    import_project=project,\n",
    "    tags=tags\n",
    ")\n"
   ]
  },
  {
   "cell_type": "markdown",
   "id": "37ac16f5-f7d9-4769-8d2f-8606b03eefc0",
   "metadata": {},
   "source": [
    "### Example of a more complex query\n",
    "\n",
    "CDA python supports creating a more complex query by using operators within the query language. More information on available operators and creating a more complex query can be found in the [Operators notebook](https://github.com/CancerDataAggregator/readthedocs/blob/main/docs/Examples/Operators.ipynb).\n",
    "\n",
    "Briefly, CDA python supports the following operators:\n",
    "* =\n",
    "* !=\n",
    "* AND\n",
    "* OR\n",
    "* IN and NOT IN\n",
    "* % pattern matching\n",
    "* IS and IS NOT\n",
    "* comparison operators \\>, <, >=, <=\n",
    "\n",
    "Here a query is built to obrain all data related to research subjects whose primary diagnosis site is uterus, and for patients who are younger than 40. Note that CDA uses negative numbers in days to describe age:"
   ]
  },
  {
   "cell_type": "code",
   "execution_count": 13,
   "id": "df66f35e-3571-494c-8f46-2aff2ad012a1",
   "metadata": {},
   "outputs": [],
   "source": [
    "q = Q('ResearchSubject.primary_diagnosis_site = \"uterus\" AND days_to_birth >= 40*-365')"
   ]
  },
  {
   "cell_type": "markdown",
   "id": "13def4bf-5213-4d61-a72d-3bc87f8e2b26",
   "metadata": {},
   "source": [
    "Before proceeding to querying all endpoints, lets check the results of the files enpoint:"
   ]
  },
  {
   "cell_type": "code",
   "execution_count": 14,
   "id": "2f3584ad-fb40-4255-8eb0-ec84aee80b4f",
   "metadata": {},
   "outputs": [
    {
     "data": {
      "text/html": [
       "<pre style=\"white-space:pre;overflow-x:auto;line-height:normal;font-family:Menlo,'DejaVu Sans Mono',consolas,'Courier New',monospace\">Getting results from database\n",
       "\n",
       "</pre>\n"
      ],
      "text/plain": [
       "Getting results from database\n",
       "\n"
      ]
     },
     "metadata": {},
     "output_type": "display_data"
    },
    {
     "name": "stdout",
     "output_type": "stream",
     "text": [
      "Total execution time: 10306 ms\n"
     ]
    },
    {
     "data": {
      "text/plain": [
       "\n",
       "            QueryID: bbc96ea3-cda4-4669-834b-9f34e183cab3\n",
       "            \n",
       "            Offset: 0\n",
       "            Count: 100\n",
       "            Total Row Count: 5497\n",
       "            More pages: True\n",
       "            "
      ]
     },
     "execution_count": 14,
     "metadata": {},
     "output_type": "execute_result"
    }
   ],
   "source": [
    "files_of_interest = q.file.run()\n",
    "files_of_interest"
   ]
  },
  {
   "cell_type": "markdown",
   "id": "75b8b491-7eaf-407d-818a-41249306996e",
   "metadata": {},
   "source": [
    "Note that there are almost 5500 files! In rare cases, you might actually be interested in importing as many files, but generally, this is a sign that the query is too broad and it might make sense to add aditional conditions or to make the query more stict. Lets try again, but now lets only query for patients who are younger than 34:"
   ]
  },
  {
   "cell_type": "code",
   "execution_count": 15,
   "id": "31c8f3dc-13a6-4b1b-8d8d-6c171a3f1452",
   "metadata": {},
   "outputs": [
    {
     "data": {
      "text/html": [
       "<pre style=\"white-space:pre;overflow-x:auto;line-height:normal;font-family:Menlo,'DejaVu Sans Mono',consolas,'Courier New',monospace\">Getting results from database\n",
       "\n",
       "</pre>\n"
      ],
      "text/plain": [
       "Getting results from database\n",
       "\n"
      ]
     },
     "metadata": {},
     "output_type": "display_data"
    },
    {
     "name": "stdout",
     "output_type": "stream",
     "text": [
      "Total execution time: 7401 ms\n"
     ]
    },
    {
     "data": {
      "text/plain": [
       "\n",
       "            QueryID: 799426e7-da2b-4440-af15-e75f97eff7bc\n",
       "            \n",
       "            Offset: 0\n",
       "            Count: 100\n",
       "            Total Row Count: 218\n",
       "            More pages: True\n",
       "            "
      ]
     },
     "execution_count": 15,
     "metadata": {},
     "output_type": "execute_result"
    }
   ],
   "source": [
    "q = Q('ResearchSubject.primary_diagnosis_site = \"uterus\" AND days_to_birth >= 34*-365')\n",
    "files_of_interest = q.file.run()\n",
    "files_of_interest"
   ]
  },
  {
   "cell_type": "markdown",
   "id": "0a7dbc26-e014-469d-9fe8-3821c4e6368c",
   "metadata": {},
   "source": [
    "Now, we have 218 files to work with, which is a reasonable number for this demonstration.\n",
    "Lets convert the result to a dataframe and proceed to query other endpoints."
   ]
  },
  {
   "cell_type": "code",
   "execution_count": 16,
   "id": "e4de4677-a0d8-4fbb-95d8-6fa4ca8d3280",
   "metadata": {},
   "outputs": [
    {
     "data": {
      "text/html": [
       "<pre style=\"white-space:pre;overflow-x:auto;line-height:normal;font-family:Menlo,'DejaVu Sans Mono',consolas,'Courier New',monospace\">Getting results from database\n",
       "\n",
       "</pre>\n"
      ],
      "text/plain": [
       "Getting results from database\n",
       "\n"
      ]
     },
     "metadata": {},
     "output_type": "display_data"
    },
    {
     "name": "stdout",
     "output_type": "stream",
     "text": [
      "Total execution time: 3806 ms\n"
     ]
    },
    {
     "data": {
      "text/html": [
       "<pre style=\"white-space:pre;overflow-x:auto;line-height:normal;font-family:Menlo,'DejaVu Sans Mono',consolas,'Courier New',monospace\">Getting results from database\n",
       "\n",
       "</pre>\n"
      ],
      "text/plain": [
       "Getting results from database\n",
       "\n"
      ]
     },
     "metadata": {},
     "output_type": "display_data"
    },
    {
     "name": "stdout",
     "output_type": "stream",
     "text": [
      "Total execution time: 3507 ms\n"
     ]
    },
    {
     "data": {
      "text/html": [
       "<pre style=\"white-space:pre;overflow-x:auto;line-height:normal;font-family:Menlo,'DejaVu Sans Mono',consolas,'Courier New',monospace\">Getting results from database\n",
       "\n",
       "</pre>\n"
      ],
      "text/plain": [
       "Getting results from database\n",
       "\n"
      ]
     },
     "metadata": {},
     "output_type": "display_data"
    },
    {
     "name": "stdout",
     "output_type": "stream",
     "text": [
      "Total execution time: 3726 ms\n"
     ]
    },
    {
     "data": {
      "text/html": [
       "<pre style=\"white-space:pre;overflow-x:auto;line-height:normal;font-family:Menlo,'DejaVu Sans Mono',consolas,'Courier New',monospace\">Getting results from database\n",
       "\n",
       "</pre>\n"
      ],
      "text/plain": [
       "Getting results from database\n",
       "\n"
      ]
     },
     "metadata": {},
     "output_type": "display_data"
    },
    {
     "name": "stdout",
     "output_type": "stream",
     "text": [
      "Total execution time: 3681 ms\n"
     ]
    },
    {
     "data": {
      "text/html": [
       "<pre style=\"white-space:pre;overflow-x:auto;line-height:normal;font-family:Menlo,'DejaVu Sans Mono',consolas,'Courier New',monospace\">Getting results from database\n",
       "\n",
       "</pre>\n"
      ],
      "text/plain": [
       "Getting results from database\n",
       "\n"
      ]
     },
     "metadata": {},
     "output_type": "display_data"
    },
    {
     "name": "stdout",
     "output_type": "stream",
     "text": [
      "Total execution time: 3592 ms\n"
     ]
    }
   ],
   "source": [
    "# Paginate the files query result:\n",
    "files_df = iter_pages(files_of_interest)\n",
    "\n",
    "# Query other endpoints:\n",
    "diagnosis = q.diagnosis.run()\n",
    "diagnosis_df = iter_pages(diagnosis).rename(columns={'id': 'diagnosis_id'})\n",
    "treatment = q.treatment.run()\n",
    "treatment_df = iter_pages(treatment).rename(columns={'id': 'treatment_id'})\n",
    "research_subject_of_interest = q.researchsubject.run()\n",
    "rs_df = iter_pages(research_subject_of_interest).rename(columns={'id': 'researchsubject_id'})\n",
    "subject_of_interest = q.subject.run()\n",
    "subject_df = iter_pages(subject_of_interest).rename(columns={'id': 'subject_id'})\n",
    "specimen_of_interest = q.specimen.run()\n",
    "specimen_df = iter_pages(specimen_of_interest).rename(columns={'id': 'researchsubject_specimen_id'})"
   ]
  },
  {
   "cell_type": "markdown",
   "id": "7606fc7d-9804-4000-8313-4fe7bde23780",
   "metadata": {},
   "source": [
    "It is important to note that some queries might return no results. In our query, treatment, diagnosis and specimen enpoints have returned **0 results**. This highlights the importance of checking the results before proceeding to merging dataframe and importing data:"
   ]
  },
  {
   "cell_type": "code",
   "execution_count": 17,
   "id": "1fb8570f-7918-47ed-951c-0c1d597d5f5b",
   "metadata": {},
   "outputs": [
    {
     "data": {
      "text/plain": [
       "0"
      ]
     },
     "execution_count": 17,
     "metadata": {},
     "output_type": "execute_result"
    }
   ],
   "source": [
    "diagnosis.count"
   ]
  },
  {
   "cell_type": "markdown",
   "id": "4060ba37-60c4-4388-9907-bc30889c1b8e",
   "metadata": {},
   "source": [
    "To avoid issues when merging dataframes, each result is checked before performing mergers:"
   ]
  },
  {
   "cell_type": "code",
   "execution_count": 18,
   "id": "aa020843-a375-4771-8f4e-ade5a71b9e1f",
   "metadata": {},
   "outputs": [
    {
     "data": {
      "text/html": [
       "<div>\n",
       "<style scoped>\n",
       "    .dataframe tbody tr th:only-of-type {\n",
       "        vertical-align: middle;\n",
       "    }\n",
       "\n",
       "    .dataframe tbody tr th {\n",
       "        vertical-align: top;\n",
       "    }\n",
       "\n",
       "    .dataframe thead th {\n",
       "        text-align: right;\n",
       "    }\n",
       "</style>\n",
       "<table border=\"1\" class=\"dataframe\">\n",
       "  <thead>\n",
       "    <tr style=\"text-align: right;\">\n",
       "      <th></th>\n",
       "      <th>id</th>\n",
       "      <th>identifier</th>\n",
       "      <th>label</th>\n",
       "      <th>data_category</th>\n",
       "      <th>data_type</th>\n",
       "      <th>file_format</th>\n",
       "      <th>associated_project</th>\n",
       "      <th>drs_uri</th>\n",
       "      <th>byte_size</th>\n",
       "      <th>checksum</th>\n",
       "      <th>data_modality</th>\n",
       "      <th>imaging_modality</th>\n",
       "      <th>dbgap_accession_number</th>\n",
       "      <th>imaging_series</th>\n",
       "      <th>researchsubject_specimen_id</th>\n",
       "      <th>researchsubject_id</th>\n",
       "      <th>subject_id</th>\n",
       "      <th>identifier_rs</th>\n",
       "      <th>member_of_research_project</th>\n",
       "      <th>primary_diagnosis_condition</th>\n",
       "      <th>primary_diagnosis_site</th>\n",
       "      <th>subject_id_rs</th>\n",
       "      <th>identifier_subject</th>\n",
       "      <th>species</th>\n",
       "      <th>sex</th>\n",
       "      <th>race</th>\n",
       "      <th>ethnicity</th>\n",
       "      <th>days_to_birth</th>\n",
       "      <th>subject_associated_project</th>\n",
       "      <th>vital_status</th>\n",
       "      <th>days_to_death</th>\n",
       "      <th>cause_of_death</th>\n",
       "    </tr>\n",
       "  </thead>\n",
       "  <tbody>\n",
       "    <tr>\n",
       "      <th>0</th>\n",
       "      <td>72a509a3-7e38-4e0c-ae05-3104fc1f2321</td>\n",
       "      <td>[{'system': 'GDC', 'value': '72a509a3-7e38-4e0...</td>\n",
       "      <td>TCGA-AX-A3FZ-01A-01-TS1.0BE8C3AA-52DF-40C0-802...</td>\n",
       "      <td>Biospecimen</td>\n",
       "      <td>Slide Image</td>\n",
       "      <td>SVS</td>\n",
       "      <td>TCGA-UCEC</td>\n",
       "      <td>drs://dg.4DFC:72a509a3-7e38-4e0c-ae05-3104fc1f...</td>\n",
       "      <td>354582476.0</td>\n",
       "      <td>b81a2971435f981514493c955d9f5c49</td>\n",
       "      <td>Genomic</td>\n",
       "      <td>None</td>\n",
       "      <td>None</td>\n",
       "      <td>None</td>\n",
       "      <td></td>\n",
       "      <td></td>\n",
       "      <td>TCGA-AX-A3FZ</td>\n",
       "      <td>NaN</td>\n",
       "      <td>NaN</td>\n",
       "      <td>NaN</td>\n",
       "      <td>NaN</td>\n",
       "      <td>NaN</td>\n",
       "      <td>[{'system': 'GDC', 'value': 'TCGA-AX-A3FZ'}, {...</td>\n",
       "      <td>homo sapiens</td>\n",
       "      <td>female</td>\n",
       "      <td>white</td>\n",
       "      <td>not hispanic or latino</td>\n",
       "      <td>-12331</td>\n",
       "      <td>[tcga_ucec, TCGA-UCEC]</td>\n",
       "      <td>Alive</td>\n",
       "      <td>None</td>\n",
       "      <td>None</td>\n",
       "    </tr>\n",
       "    <tr>\n",
       "      <th>1</th>\n",
       "      <td>35d2a0de-d452-4fa9-9422-25c0130145f3</td>\n",
       "      <td>[{'system': 'GDC', 'value': '35d2a0de-d452-4fa...</td>\n",
       "      <td>TCGA_UCEC.97c3b010-81c0-4075-b265-3f76d1801bf0...</td>\n",
       "      <td>Simple Nucleotide Variation</td>\n",
       "      <td>Annotated Somatic Mutation</td>\n",
       "      <td>VCF</td>\n",
       "      <td>TCGA-UCEC</td>\n",
       "      <td>drs://dg.4DFC:35d2a0de-d452-4fa9-9422-25c01301...</td>\n",
       "      <td>573829.0</td>\n",
       "      <td>8e60d0d65c8ec5dc49f04849d66fc87b</td>\n",
       "      <td>Genomic</td>\n",
       "      <td>None</td>\n",
       "      <td>None</td>\n",
       "      <td>None</td>\n",
       "      <td></td>\n",
       "      <td></td>\n",
       "      <td>TCGA-AX-A3FZ</td>\n",
       "      <td>NaN</td>\n",
       "      <td>NaN</td>\n",
       "      <td>NaN</td>\n",
       "      <td>NaN</td>\n",
       "      <td>NaN</td>\n",
       "      <td>[{'system': 'GDC', 'value': 'TCGA-AX-A3FZ'}, {...</td>\n",
       "      <td>homo sapiens</td>\n",
       "      <td>female</td>\n",
       "      <td>white</td>\n",
       "      <td>not hispanic or latino</td>\n",
       "      <td>-12331</td>\n",
       "      <td>[tcga_ucec, TCGA-UCEC]</td>\n",
       "      <td>Alive</td>\n",
       "      <td>None</td>\n",
       "      <td>None</td>\n",
       "    </tr>\n",
       "    <tr>\n",
       "      <th>2</th>\n",
       "      <td>bdde5dbb-9046-40b6-b67a-fa39303cf10d</td>\n",
       "      <td>[{'system': 'GDC', 'value': 'bdde5dbb-9046-40b...</td>\n",
       "      <td>nationwidechildrens.org_clinical_follow_up_v4....</td>\n",
       "      <td>Clinical</td>\n",
       "      <td>Clinical Supplement</td>\n",
       "      <td>BCR Biotab</td>\n",
       "      <td>TCGA-UCEC</td>\n",
       "      <td>drs://dg.4DFC:bdde5dbb-9046-40b6-b67a-fa39303c...</td>\n",
       "      <td>12678.0</td>\n",
       "      <td>6f37e92361bacd1e0c06d87d2d1bf744</td>\n",
       "      <td>Genomic</td>\n",
       "      <td>None</td>\n",
       "      <td>None</td>\n",
       "      <td>None</td>\n",
       "      <td></td>\n",
       "      <td></td>\n",
       "      <td>TCGA-AX-A3FZ</td>\n",
       "      <td>NaN</td>\n",
       "      <td>NaN</td>\n",
       "      <td>NaN</td>\n",
       "      <td>NaN</td>\n",
       "      <td>NaN</td>\n",
       "      <td>[{'system': 'GDC', 'value': 'TCGA-AX-A3FZ'}, {...</td>\n",
       "      <td>homo sapiens</td>\n",
       "      <td>female</td>\n",
       "      <td>white</td>\n",
       "      <td>not hispanic or latino</td>\n",
       "      <td>-12331</td>\n",
       "      <td>[tcga_ucec, TCGA-UCEC]</td>\n",
       "      <td>Alive</td>\n",
       "      <td>None</td>\n",
       "      <td>None</td>\n",
       "    </tr>\n",
       "  </tbody>\n",
       "</table>\n",
       "</div>"
      ],
      "text/plain": [
       "                                     id  \\\n",
       "0  72a509a3-7e38-4e0c-ae05-3104fc1f2321   \n",
       "1  35d2a0de-d452-4fa9-9422-25c0130145f3   \n",
       "2  bdde5dbb-9046-40b6-b67a-fa39303cf10d   \n",
       "\n",
       "                                          identifier  \\\n",
       "0  [{'system': 'GDC', 'value': '72a509a3-7e38-4e0...   \n",
       "1  [{'system': 'GDC', 'value': '35d2a0de-d452-4fa...   \n",
       "2  [{'system': 'GDC', 'value': 'bdde5dbb-9046-40b...   \n",
       "\n",
       "                                               label  \\\n",
       "0  TCGA-AX-A3FZ-01A-01-TS1.0BE8C3AA-52DF-40C0-802...   \n",
       "1  TCGA_UCEC.97c3b010-81c0-4075-b265-3f76d1801bf0...   \n",
       "2  nationwidechildrens.org_clinical_follow_up_v4....   \n",
       "\n",
       "                 data_category                   data_type file_format  \\\n",
       "0                  Biospecimen                 Slide Image         SVS   \n",
       "1  Simple Nucleotide Variation  Annotated Somatic Mutation         VCF   \n",
       "2                     Clinical         Clinical Supplement  BCR Biotab   \n",
       "\n",
       "  associated_project                                            drs_uri  \\\n",
       "0          TCGA-UCEC  drs://dg.4DFC:72a509a3-7e38-4e0c-ae05-3104fc1f...   \n",
       "1          TCGA-UCEC  drs://dg.4DFC:35d2a0de-d452-4fa9-9422-25c01301...   \n",
       "2          TCGA-UCEC  drs://dg.4DFC:bdde5dbb-9046-40b6-b67a-fa39303c...   \n",
       "\n",
       "     byte_size                          checksum data_modality  \\\n",
       "0  354582476.0  b81a2971435f981514493c955d9f5c49       Genomic   \n",
       "1     573829.0  8e60d0d65c8ec5dc49f04849d66fc87b       Genomic   \n",
       "2      12678.0  6f37e92361bacd1e0c06d87d2d1bf744       Genomic   \n",
       "\n",
       "  imaging_modality dbgap_accession_number imaging_series  \\\n",
       "0             None                   None           None   \n",
       "1             None                   None           None   \n",
       "2             None                   None           None   \n",
       "\n",
       "  researchsubject_specimen_id researchsubject_id    subject_id identifier_rs  \\\n",
       "0                                                 TCGA-AX-A3FZ           NaN   \n",
       "1                                                 TCGA-AX-A3FZ           NaN   \n",
       "2                                                 TCGA-AX-A3FZ           NaN   \n",
       "\n",
       "  member_of_research_project primary_diagnosis_condition  \\\n",
       "0                        NaN                         NaN   \n",
       "1                        NaN                         NaN   \n",
       "2                        NaN                         NaN   \n",
       "\n",
       "  primary_diagnosis_site subject_id_rs  \\\n",
       "0                    NaN           NaN   \n",
       "1                    NaN           NaN   \n",
       "2                    NaN           NaN   \n",
       "\n",
       "                                  identifier_subject       species     sex  \\\n",
       "0  [{'system': 'GDC', 'value': 'TCGA-AX-A3FZ'}, {...  homo sapiens  female   \n",
       "1  [{'system': 'GDC', 'value': 'TCGA-AX-A3FZ'}, {...  homo sapiens  female   \n",
       "2  [{'system': 'GDC', 'value': 'TCGA-AX-A3FZ'}, {...  homo sapiens  female   \n",
       "\n",
       "    race               ethnicity  days_to_birth subject_associated_project  \\\n",
       "0  white  not hispanic or latino         -12331     [tcga_ucec, TCGA-UCEC]   \n",
       "1  white  not hispanic or latino         -12331     [tcga_ucec, TCGA-UCEC]   \n",
       "2  white  not hispanic or latino         -12331     [tcga_ucec, TCGA-UCEC]   \n",
       "\n",
       "  vital_status days_to_death cause_of_death  \n",
       "0        Alive          None           None  \n",
       "1        Alive          None           None  \n",
       "2        Alive          None           None  "
      ]
     },
     "execution_count": 18,
     "metadata": {},
     "output_type": "execute_result"
    }
   ],
   "source": [
    "if research_subject_of_interest.count:\n",
    "    combineddata = pd.merge(files_df, rs_df, on='researchsubject_id', how='outer', suffixes=(None, '_rs'))\n",
    "\n",
    "if subject_of_interest.count:\n",
    "    combineddata = pd.merge(combineddata, subject_df, on='subject_id', how='outer', suffixes=(None, '_subject'))\n",
    "\n",
    "if specimen_of_interest.count:\n",
    "    combineddata = pd.merge(combineddata, specimen_df, on='researchsubject_specimen_id', how='outer', suffixes=(None, '_specimen'))\n",
    "\n",
    "if treatment.count:\n",
    "    combineddata = pd.merge(combineddata, treatment_df, on='researchsubject_id', how='outer', suffixes=(None, '_treatment'))\n",
    "\n",
    "if diagnosis.count:\n",
    "    combineddata = pd.merge(combineddata, diagnosis_df, on='researchsubject_id', how='outer', suffixes=(None, '_diagnosis'))\n",
    "\n",
    "# See how the merged dataframe looks like:\n",
    "combineddata.head(3)"
   ]
  },
  {
   "cell_type": "markdown",
   "id": "710a87aa-fd58-42a0-89e3-60e0a6ac12b4",
   "metadata": {},
   "source": [
    "Finally, _combineddata_ dataframe can be used to import the files to the CGC:"
   ]
  },
  {
   "cell_type": "code",
   "execution_count": 19,
   "id": "50849722-01d1-4097-8b73-5d9cce8ca920",
   "metadata": {},
   "outputs": [
    {
     "name": "stdout",
     "output_type": "stream",
     "text": [
      "Submitting files in chunks of 100.\n",
      "\n",
      "Importing chunk 1/2\n",
      "Importing chunk 2/2\n",
      "\n",
      "SUBMITTED: 0\n",
      "RUNNING: 0\n",
      "FINISHED: 1/2\n",
      "\n",
      "SUBMITTED: 0\n",
      "RUNNING: 0\n",
      "FINISHED: 2/2\n",
      "\n",
      "Import completed!\n"
     ]
    },
    {
     "data": {
      "text/plain": [
       "[<DRSBulkImport: id=183047811921678336>,\n",
       " <DRSBulkImport: id=183047814508515328>]"
      ]
     },
     "execution_count": 19,
     "metadata": {},
     "output_type": "execute_result"
    }
   ],
   "source": [
    "# Import\n",
    "from utilities import process_and_upload\n",
    "\n",
    "project = 'boris_majic/cda-data-import'\n",
    "\n",
    "# you can tag files with multiple labels\n",
    "tags = ['uterus', 'young']\n",
    "\n",
    "process_and_upload(\n",
    "    df=combineddata,\n",
    "    token=token,\n",
    "    import_project=project,\n",
    "    tags=tags\n",
    ")"
   ]
  },
  {
   "cell_type": "code",
   "execution_count": null,
   "id": "9c46b4f5-e5e7-42eb-a694-d6c5224a0964",
   "metadata": {},
   "outputs": [],
   "source": []
  }
 ],
 "metadata": {
  "kernelspec": {
   "display_name": "Python 3 (ipykernel)",
   "language": "python",
   "name": "python3"
  },
  "language_info": {
   "codemirror_mode": {
    "name": "ipython",
    "version": 3
   },
   "file_extension": ".py",
   "mimetype": "text/x-python",
   "name": "python",
   "nbconvert_exporter": "python",
   "pygments_lexer": "ipython3",
   "version": "3.9.6"
  }
 },
 "nbformat": 4,
 "nbformat_minor": 5
}
