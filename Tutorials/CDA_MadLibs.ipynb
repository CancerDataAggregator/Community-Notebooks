{
 "cells": [
  {
   "cell_type": "code",
   "execution_count": null,
   "id": "60929be1",
   "metadata": {},
   "outputs": [],
   "source": [
    "try:\n",
    "  from itables import(\n",
    "     init_notebook_mode, show \n",
    "    ) \n",
    "except:\n",
    "  !pip install -r https://raw.githubusercontent.com/CancerDataAggregator/Community-Notebooks/main/requirements.txt\n",
    "\n",
    "\n",
    "import numpy as np\n",
    "import pandas as pd\n",
    "from itables import init_notebook_mode, show\n",
    "init_notebook_mode(all_interactive=True)\n",
    "import itables.options as opt\n",
    "\n",
    "opt.classes=\"display nowrap compact\"\n",
    "opt.buttons=[\"copyHtml5\", \"csvHtml5\", \"excelHtml5\"]\n",
    "opt.maxBytes=0\n",
    "\n",
    "from cdapython import *"
   ]
  },
  {
   "cell_type": "markdown",
   "id": "839851d8",
   "metadata": {},
   "source": [
    "# CDA Madlibs\n",
    "\n",
    "A fill in the blank notebook for basic CDA functions. Good for learning syntax and finding errors in your own code. Replace any `____#____` with your search term and the code should run. Be sure to leave quotes and stars around words that look like `\"*____#____*\"` or `\"____#____\"` and to not add quotes for `____#____`. Text after a ## in a code block is a comment explaining what the blank should be filled with, just like a madlib."
   ]
  },
  {
   "cell_type": "markdown",
   "id": "0d94a85e",
   "metadata": {},
   "source": [
    "## Finding Terms to search"
   ]
  },
  {
   "cell_type": "code",
   "execution_count": null,
   "id": "9ea37120",
   "metadata": {},
   "outputs": [],
   "source": [
    "# Tells you what tables exist, not what is in them, just their names\n",
    "\n",
    "tables()"
   ]
  },
  {
   "cell_type": "code",
   "execution_count": null,
   "id": "422012e7",
   "metadata": {},
   "outputs": [],
   "source": [
    "# Tells you what columns exist, what table they are in, and lots of information about what is in each one\n",
    "\n",
    "columns()"
   ]
  },
  {
   "cell_type": "code",
   "execution_count": null,
   "id": "2b17acfd",
   "metadata": {},
   "outputs": [],
   "source": [
    "# Tells you what columns exist that have your keyword in their name, what table they are in, and lots of information about what is in each one\n",
    "\n",
    "columns(column = \"*____1____*\") \n",
    "\n",
    "## 1) word you want to search the column name for"
   ]
  },
  {
   "cell_type": "code",
   "execution_count": null,
   "id": "4ae85a5e",
   "metadata": {},
   "outputs": [],
   "source": [
    "# Tells you what columns exist that have your keyword in their description, what table they are in, and lots of information about what is in each one\n",
    "\n",
    "\n",
    "columns(description = \"*____1____*\") \n",
    "\n",
    "## 1) word you want to search the description for"
   ]
  },
  {
   "cell_type": "code",
   "execution_count": null,
   "id": "dcbd3734",
   "metadata": {},
   "outputs": [],
   "source": [
    "# Gives you a list of what values are in a column of your choice, and how many times each value appears\n",
    "\n",
    "column_values( \"____1____\" )\n",
    "\n",
    "## 1) column name you want to see the possible values for"
   ]
  },
  {
   "cell_type": "markdown",
   "id": "a35c37e7",
   "metadata": {},
   "source": [
    "## Looking at data"
   ]
  },
  {
   "cell_type": "code",
   "execution_count": null,
   "id": "7b07c665",
   "metadata": {},
   "outputs": [],
   "source": [
    "# Gives you a readout of the columns for the subject table, what values exist in each column, and how many times each value occurs AFTER filtering the data by some filter you set\n",
    "\n",
    "summarize_subjects(match_all=['____1____ = ____2____'])\n",
    "\n",
    "## 1) column name you want to filter\n",
    "## 2) column value you want to filter by"
   ]
  },
  {
   "cell_type": "code",
   "execution_count": null,
   "id": "67e0899d",
   "metadata": {},
   "outputs": [],
   "source": [
    "# Gives you a readout of the columns for the file table, what values exist in each column, and how many times each value occurs AFTER filtering the data by multiple filters you set\n",
    "# This will return only data that has BOTH the conditions of ##2/##3 and ##4/##5\n",
    "\n",
    "\n",
    "summarize_files(match_all=['____1____ = ____2____', '____3____ = ____4____'])\n",
    "\n",
    "## 1) first column name you want to filter\n",
    "## 2) first column value you want to filter by\n",
    "## 3) second column name you ALSO want to filter\n",
    "## 4) second column value you ALSO want to filter by\n",
    "\n",
    "\n",
    "#You can add as many comma seperated pairs like ##1 and ##2 as you like"
   ]
  },
  {
   "cell_type": "code",
   "execution_count": null,
   "id": "de0a4126",
   "metadata": {},
   "outputs": [],
   "source": [
    "# Gives you a readout of the columns for your chosen table, what values exist in each column, and how many times each value occurs AFTER filtering the data by multiple filters you set\n",
    "# This will return ALL data that has EITHER of the conditions of ##2/##3 and ##4/##5\n",
    "\n",
    "summarize_subjects( match_any=['____1____ = ____2____', '____3____ = ____4____'])\n",
    "\n",
    "## 1) first column name you want to filter\n",
    "## 2) first column value you want to filter by\n",
    "## 3) second column name you want to filter\n",
    "## 4) second column value you want to filter by\n",
    "\n",
    "\n",
    "#You can add as many comma seperated pairs like ##1 and ##2 as you like"
   ]
  },
  {
   "cell_type": "code",
   "execution_count": null,
   "id": "d3c31871",
   "metadata": {},
   "outputs": [],
   "source": [
    "# This works just like summarize_subjects or summarize_files, but instead of giving you a summary, it gives you a big matrix of all the data. \n",
    "# Gives you a matrix of all the columns for your table and one row per value AFTER filtering the data by multiple filters you set\n",
    "# This will return only data that has the conditions of ##1/##2\n",
    "\n",
    "get_file_data(match_all=['____1____ = ____2____'])\n",
    "\n",
    "## 1) column name you want to filter\n",
    "## 2) column value you want to filter by\n"
   ]
  },
  {
   "cell_type": "code",
   "execution_count": null,
   "id": "996d2124",
   "metadata": {},
   "outputs": [],
   "source": [
    "# This works just like summarize_subjects or summarize_files, but instead of giving you a summary, it gives you a big matrix of all the data. \n",
    "# Gives you a matrix of all the columns for your table and one row per value AFTER filtering the data by multiple filters you set\n",
    "# This will return only data that has BOTH the conditions of ##1/##2 and ##3/##4\n",
    "\n",
    "\n",
    "get_subject_data( match_all=['____1____ = ____2____', '____4____ = ____5____'])\n",
    "\n",
    "## 1) first column name you want to filter\n",
    "## 2) first column value you want to filter by\n",
    "## 3) second column name you ALSO want to filter\n",
    "## 4) second column value you ALSO want to filter by\n",
    "\n",
    "\n",
    "#You can add as many comma seperated pairs like ##1 and ##2 as you like"
   ]
  },
  {
   "cell_type": "code",
   "execution_count": null,
   "id": "5e890af5",
   "metadata": {},
   "outputs": [],
   "source": [
    "# This works just like summarize_subjects or summarize_files, but instead of giving you a summary, it gives you a big matrix of all the data. \n",
    "# Gives you a matrix of all the columns for your chosen table and one row per value AFTER filtering the data by multiple filters you set\n",
    "# This will return ALL data that has EITHER of the conditions of ##1/##2 and ##3/##4\n",
    "\n",
    "get_file_data(match_any=['____1____ = ____2____', '____3____ = ____4____'])\n",
    "\n",
    "## 1) first column name you want to filter\n",
    "## 2) first column value you want to filter by\n",
    "## 3) second column name you want to filter\n",
    "## 4) second column value you want to filter by\n",
    "\n",
    "\n",
    "#You can add as many comma seperated pairs like ##1 and ##2 as you like"
   ]
  },
  {
   "cell_type": "code",
   "execution_count": null,
   "id": "f5d61ab7",
   "metadata": {},
   "outputs": [],
   "source": [
    "# For more complicated questions, you can have both a match_all and a match_any. \n",
    "# It will return all the data that has both all the conditions in your match_all, and at least one of the condtions in your match_any\n",
    "\n",
    "get_subject_data( match_all=['____1____ = ____2____', '____3____ = ____4____'], match_any=['____5____ = ____6____', '____7____ = ____8____'])\n",
    "\n",
    "## 1) first column name you want to filter\n",
    "## 2) first column value you want to filter by\n",
    "## 3) second column name you want to filter\n",
    "## 4) second column value you want to filter by\n",
    "## 5) third column name you want to filter\n",
    "## 6) third column value you want to filter by\n",
    "## 7) fourth column name you want to filter\n",
    "## 8) fourth column value you want to filter by"
   ]
  }
 ],
 "metadata": {
  "kernelspec": {
   "display_name": "Python 3 (ipykernel)",
   "language": "python",
   "name": "python3"
  },
  "language_info": {
   "codemirror_mode": {
    "name": "ipython",
    "version": 3
   },
   "file_extension": ".py",
   "mimetype": "text/x-python",
   "name": "python",
   "nbconvert_exporter": "python",
   "pygments_lexer": "ipython3",
   "version": "3.10.6"
  }
 },
 "nbformat": 4,
 "nbformat_minor": 5
}
